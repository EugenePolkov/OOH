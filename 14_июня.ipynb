{
  "nbformat": 4,
  "nbformat_minor": 5,
  "metadata": {
    "colab": {
      "name": "14_июня.ipynb",
      "provenance": [],
      "collapsed_sections": []
    },
    "kernelspec": {
      "display_name": "Python 3",
      "language": "python",
      "name": "python3"
    },
    "language_info": {
      "codemirror_mode": {
        "name": "ipython",
        "version": 3
      },
      "file_extension": ".py",
      "mimetype": "text/x-python",
      "name": "python",
      "nbconvert_exporter": "python",
      "pygments_lexer": "ipython3",
      "version": "3.8.5"
    }
  },
  "cells": [
    {
      "cell_type": "code",
      "metadata": {
        "id": "980560da"
      },
      "source": [
        "import pandas as pd\n",
        "import math\n",
        "import numpy as np\n",
        "import matplotlib\n",
        "import seaborn as sns\n",
        "import scipy as sc\n",
        "from matplotlib import pyplot as plt\n",
        "from sklearn import model_selection, datasets, metrics, tree, ensemble, preprocessing, utils, neighbors, decomposition, linear_model, pipeline, cluster, svm\n",
        "from matplotlib.colors import ListedColormap \n",
        "import matplotlib.cm as cm\n",
        "from keras import models, layers, utils\n",
        "import xgboost as xgb\n",
        "import warnings\n",
        "warnings.filterwarnings(action='once')\n",
        "warnings.filterwarnings (category=DeprecationWarning, action='ignore')"
      ],
      "id": "980560da",
      "execution_count": null,
      "outputs": []
    },
    {
      "cell_type": "code",
      "metadata": {
        "id": "0b8e3e9c"
      },
      "source": [
        "def my_custom_loss_func(y_true, y_pred):\n",
        "    diff=list(y_true-y_pred)\n",
        "    list_d = [x for x in diff if x <-0.05 or x > 0.05]\n",
        "    return len(list_d)/len(diff)*100\n",
        "myscorer = metrics.make_scorer(my_custom_loss_func, greater_is_better=True)"
      ],
      "id": "0b8e3e9c",
      "execution_count": null,
      "outputs": []
    },
    {
      "cell_type": "code",
      "metadata": {
        "id": "Z6tfJ5e1QBJI"
      },
      "source": [
        "def prep (df):\n",
        "  cols=[ 'ConstrGroup', 'ExpoType', 'Seller_Cat', 'BrandR1']\n",
        "  return pd.get_dummies (data=df, columns=cols)"
      ],
      "id": "Z6tfJ5e1QBJI",
      "execution_count": null,
      "outputs": []
    },
    {
      "cell_type": "code",
      "metadata": {
        "id": "aec9305f",
        "scrolled": true
      },
      "source": [
        "data=pd.read_excel('/content/drive/MyDrive/Colab Notebooks/!Samples/Common_fullset_prep_for NN_3.xlsx')        "
      ],
      "id": "aec9305f",
      "execution_count": null,
      "outputs": []
    },
    {
      "cell_type": "code",
      "metadata": {
        "id": "zpjhPQ4m1Ex4"
      },
      "source": [
        "data=data.drop (['Unnamed: 0','Object_UID','Dis'], axis=1)"
      ],
      "id": "zpjhPQ4m1Ex4",
      "execution_count": null,
      "outputs": []
    },
    {
      "cell_type": "code",
      "metadata": {
        "id": "8rGc9g5FDa7r"
      },
      "source": [
        "#data1=pd.read_excel ('/content/drive/MyDrive/Colab Notebooks/!Samples/train_data_all.xlsx')"
      ],
      "id": "8rGc9g5FDa7r",
      "execution_count": null,
      "outputs": []
    },
    {
      "cell_type": "code",
      "metadata": {
        "id": "zBGwRSSkXdwO"
      },
      "source": [
        "data=prep(data)"
      ],
      "id": "zBGwRSSkXdwO",
      "execution_count": null,
      "outputs": []
    },
    {
      "cell_type": "code",
      "metadata": {
        "colab": {
          "base_uri": "https://localhost:8080/",
          "height": 439
        },
        "id": "mdi9xYh7XlYL",
        "outputId": "98dbd6bb-90ba-4b82-ec9b-0284126dac61"
      },
      "source": [
        "data"
      ],
      "id": "mdi9xYh7XlYL",
      "execution_count": null,
      "outputs": [
        {
          "output_type": "execute_result",
          "data": {
            "text/html": [
              "<div>\n",
              "<style scoped>\n",
              "    .dataframe tbody tr th:only-of-type {\n",
              "        vertical-align: middle;\n",
              "    }\n",
              "\n",
              "    .dataframe tbody tr th {\n",
              "        vertical-align: top;\n",
              "    }\n",
              "\n",
              "    .dataframe thead th {\n",
              "        text-align: right;\n",
              "    }\n",
              "</style>\n",
              "<table border=\"1\" class=\"dataframe\">\n",
              "  <thead>\n",
              "    <tr style=\"text-align: right;\">\n",
              "      <th></th>\n",
              "      <th>PriceNoTax</th>\n",
              "      <th>GRP</th>\n",
              "      <th>Latitude</th>\n",
              "      <th>Longitude</th>\n",
              "      <th>Population</th>\n",
              "      <th>Size</th>\n",
              "      <th>Discount</th>\n",
              "      <th>YearNum</th>\n",
              "      <th>Month_Id</th>\n",
              "      <th>Seazon</th>\n",
              "      <th>OperatorR1</th>\n",
              "      <th>Budget</th>\n",
              "      <th>ConstrGroup_0</th>\n",
              "      <th>ConstrGroup_1</th>\n",
              "      <th>ConstrGroup_2</th>\n",
              "      <th>ConstrGroup_3</th>\n",
              "      <th>ConstrGroup_4</th>\n",
              "      <th>ExpoType_0</th>\n",
              "      <th>ExpoType_1</th>\n",
              "      <th>ExpoType_2</th>\n",
              "      <th>ExpoType_3</th>\n",
              "      <th>Seller_Cat_1</th>\n",
              "      <th>Seller_Cat_2</th>\n",
              "      <th>Seller_Cat_3</th>\n",
              "      <th>Seller_Cat_4</th>\n",
              "      <th>Seller_Cat_8</th>\n",
              "      <th>Seller_Cat_9</th>\n",
              "      <th>Seller_Cat_13</th>\n",
              "      <th>Seller_Cat_15</th>\n",
              "      <th>Seller_Cat_16</th>\n",
              "      <th>Seller_Cat_17</th>\n",
              "      <th>Seller_Cat_18</th>\n",
              "      <th>Seller_Cat_19</th>\n",
              "      <th>Seller_Cat_20</th>\n",
              "      <th>Seller_Cat_21</th>\n",
              "      <th>Seller_Cat_22</th>\n",
              "      <th>Seller_Cat_24</th>\n",
              "      <th>Seller_Cat_27</th>\n",
              "      <th>Seller_Cat_28</th>\n",
              "      <th>Seller_Cat_29</th>\n",
              "      <th>...</th>\n",
              "      <th>Seller_Cat_230</th>\n",
              "      <th>Seller_Cat_231</th>\n",
              "      <th>Seller_Cat_233</th>\n",
              "      <th>Seller_Cat_235</th>\n",
              "      <th>Seller_Cat_236</th>\n",
              "      <th>Seller_Cat_237</th>\n",
              "      <th>Seller_Cat_238</th>\n",
              "      <th>Seller_Cat_240</th>\n",
              "      <th>Seller_Cat_241</th>\n",
              "      <th>Seller_Cat_242</th>\n",
              "      <th>Seller_Cat_245</th>\n",
              "      <th>Seller_Cat_246</th>\n",
              "      <th>Seller_Cat_247</th>\n",
              "      <th>Seller_Cat_248</th>\n",
              "      <th>Seller_Cat_249</th>\n",
              "      <th>Seller_Cat_250</th>\n",
              "      <th>Seller_Cat_251</th>\n",
              "      <th>Seller_Cat_252</th>\n",
              "      <th>Seller_Cat_254</th>\n",
              "      <th>Seller_Cat_255</th>\n",
              "      <th>Seller_Cat_256</th>\n",
              "      <th>Seller_Cat_257</th>\n",
              "      <th>Seller_Cat_258</th>\n",
              "      <th>Seller_Cat_259</th>\n",
              "      <th>Seller_Cat_261</th>\n",
              "      <th>Seller_Cat_262</th>\n",
              "      <th>Seller_Cat_263</th>\n",
              "      <th>Seller_Cat_264</th>\n",
              "      <th>Seller_Cat_265</th>\n",
              "      <th>Seller_Cat_266</th>\n",
              "      <th>Seller_Cat_267</th>\n",
              "      <th>Seller_Cat_268</th>\n",
              "      <th>Seller_Cat_270</th>\n",
              "      <th>Seller_Cat_272</th>\n",
              "      <th>Seller_Cat_274</th>\n",
              "      <th>Seller_Cat_275</th>\n",
              "      <th>BrandR1_0</th>\n",
              "      <th>BrandR1_1</th>\n",
              "      <th>BrandR1_2</th>\n",
              "      <th>BrandR1_3</th>\n",
              "    </tr>\n",
              "  </thead>\n",
              "  <tbody>\n",
              "    <tr>\n",
              "      <th>0</th>\n",
              "      <td>85000.0</td>\n",
              "      <td>1.750000</td>\n",
              "      <td>59.985716</td>\n",
              "      <td>30.362817</td>\n",
              "      <td>5383890</td>\n",
              "      <td>18.00</td>\n",
              "      <td>0.705900</td>\n",
              "      <td>2</td>\n",
              "      <td>4</td>\n",
              "      <td>1</td>\n",
              "      <td>2</td>\n",
              "      <td>5</td>\n",
              "      <td>0</td>\n",
              "      <td>0</td>\n",
              "      <td>1</td>\n",
              "      <td>0</td>\n",
              "      <td>0</td>\n",
              "      <td>0</td>\n",
              "      <td>0</td>\n",
              "      <td>0</td>\n",
              "      <td>1</td>\n",
              "      <td>0</td>\n",
              "      <td>0</td>\n",
              "      <td>0</td>\n",
              "      <td>0</td>\n",
              "      <td>0</td>\n",
              "      <td>0</td>\n",
              "      <td>0</td>\n",
              "      <td>0</td>\n",
              "      <td>0</td>\n",
              "      <td>0</td>\n",
              "      <td>1</td>\n",
              "      <td>0</td>\n",
              "      <td>0</td>\n",
              "      <td>0</td>\n",
              "      <td>0</td>\n",
              "      <td>0</td>\n",
              "      <td>0</td>\n",
              "      <td>0</td>\n",
              "      <td>0</td>\n",
              "      <td>...</td>\n",
              "      <td>0</td>\n",
              "      <td>0</td>\n",
              "      <td>0</td>\n",
              "      <td>0</td>\n",
              "      <td>0</td>\n",
              "      <td>0</td>\n",
              "      <td>0</td>\n",
              "      <td>0</td>\n",
              "      <td>0</td>\n",
              "      <td>0</td>\n",
              "      <td>0</td>\n",
              "      <td>0</td>\n",
              "      <td>0</td>\n",
              "      <td>0</td>\n",
              "      <td>0</td>\n",
              "      <td>0</td>\n",
              "      <td>0</td>\n",
              "      <td>0</td>\n",
              "      <td>0</td>\n",
              "      <td>0</td>\n",
              "      <td>0</td>\n",
              "      <td>0</td>\n",
              "      <td>0</td>\n",
              "      <td>0</td>\n",
              "      <td>0</td>\n",
              "      <td>0</td>\n",
              "      <td>0</td>\n",
              "      <td>0</td>\n",
              "      <td>0</td>\n",
              "      <td>0</td>\n",
              "      <td>0</td>\n",
              "      <td>0</td>\n",
              "      <td>0</td>\n",
              "      <td>0</td>\n",
              "      <td>0</td>\n",
              "      <td>0</td>\n",
              "      <td>0</td>\n",
              "      <td>1</td>\n",
              "      <td>0</td>\n",
              "      <td>0</td>\n",
              "    </tr>\n",
              "    <tr>\n",
              "      <th>1</th>\n",
              "      <td>120000.0</td>\n",
              "      <td>1.150000</td>\n",
              "      <td>59.957911</td>\n",
              "      <td>30.402703</td>\n",
              "      <td>5383890</td>\n",
              "      <td>18.00</td>\n",
              "      <td>0.791700</td>\n",
              "      <td>2</td>\n",
              "      <td>4</td>\n",
              "      <td>1</td>\n",
              "      <td>2</td>\n",
              "      <td>5</td>\n",
              "      <td>0</td>\n",
              "      <td>0</td>\n",
              "      <td>1</td>\n",
              "      <td>0</td>\n",
              "      <td>0</td>\n",
              "      <td>0</td>\n",
              "      <td>0</td>\n",
              "      <td>0</td>\n",
              "      <td>1</td>\n",
              "      <td>0</td>\n",
              "      <td>0</td>\n",
              "      <td>0</td>\n",
              "      <td>0</td>\n",
              "      <td>0</td>\n",
              "      <td>0</td>\n",
              "      <td>0</td>\n",
              "      <td>0</td>\n",
              "      <td>0</td>\n",
              "      <td>0</td>\n",
              "      <td>1</td>\n",
              "      <td>0</td>\n",
              "      <td>0</td>\n",
              "      <td>0</td>\n",
              "      <td>0</td>\n",
              "      <td>0</td>\n",
              "      <td>0</td>\n",
              "      <td>0</td>\n",
              "      <td>0</td>\n",
              "      <td>...</td>\n",
              "      <td>0</td>\n",
              "      <td>0</td>\n",
              "      <td>0</td>\n",
              "      <td>0</td>\n",
              "      <td>0</td>\n",
              "      <td>0</td>\n",
              "      <td>0</td>\n",
              "      <td>0</td>\n",
              "      <td>0</td>\n",
              "      <td>0</td>\n",
              "      <td>0</td>\n",
              "      <td>0</td>\n",
              "      <td>0</td>\n",
              "      <td>0</td>\n",
              "      <td>0</td>\n",
              "      <td>0</td>\n",
              "      <td>0</td>\n",
              "      <td>0</td>\n",
              "      <td>0</td>\n",
              "      <td>0</td>\n",
              "      <td>0</td>\n",
              "      <td>0</td>\n",
              "      <td>0</td>\n",
              "      <td>0</td>\n",
              "      <td>0</td>\n",
              "      <td>0</td>\n",
              "      <td>0</td>\n",
              "      <td>0</td>\n",
              "      <td>0</td>\n",
              "      <td>0</td>\n",
              "      <td>0</td>\n",
              "      <td>0</td>\n",
              "      <td>0</td>\n",
              "      <td>0</td>\n",
              "      <td>0</td>\n",
              "      <td>0</td>\n",
              "      <td>0</td>\n",
              "      <td>1</td>\n",
              "      <td>0</td>\n",
              "      <td>0</td>\n",
              "    </tr>\n",
              "    <tr>\n",
              "      <th>2</th>\n",
              "      <td>85000.0</td>\n",
              "      <td>0.510000</td>\n",
              "      <td>60.003023</td>\n",
              "      <td>30.331454</td>\n",
              "      <td>5383890</td>\n",
              "      <td>18.00</td>\n",
              "      <td>0.705900</td>\n",
              "      <td>2</td>\n",
              "      <td>4</td>\n",
              "      <td>1</td>\n",
              "      <td>2</td>\n",
              "      <td>5</td>\n",
              "      <td>0</td>\n",
              "      <td>0</td>\n",
              "      <td>1</td>\n",
              "      <td>0</td>\n",
              "      <td>0</td>\n",
              "      <td>0</td>\n",
              "      <td>0</td>\n",
              "      <td>0</td>\n",
              "      <td>1</td>\n",
              "      <td>0</td>\n",
              "      <td>0</td>\n",
              "      <td>0</td>\n",
              "      <td>0</td>\n",
              "      <td>0</td>\n",
              "      <td>0</td>\n",
              "      <td>0</td>\n",
              "      <td>0</td>\n",
              "      <td>0</td>\n",
              "      <td>0</td>\n",
              "      <td>1</td>\n",
              "      <td>0</td>\n",
              "      <td>0</td>\n",
              "      <td>0</td>\n",
              "      <td>0</td>\n",
              "      <td>0</td>\n",
              "      <td>0</td>\n",
              "      <td>0</td>\n",
              "      <td>0</td>\n",
              "      <td>...</td>\n",
              "      <td>0</td>\n",
              "      <td>0</td>\n",
              "      <td>0</td>\n",
              "      <td>0</td>\n",
              "      <td>0</td>\n",
              "      <td>0</td>\n",
              "      <td>0</td>\n",
              "      <td>0</td>\n",
              "      <td>0</td>\n",
              "      <td>0</td>\n",
              "      <td>0</td>\n",
              "      <td>0</td>\n",
              "      <td>0</td>\n",
              "      <td>0</td>\n",
              "      <td>0</td>\n",
              "      <td>0</td>\n",
              "      <td>0</td>\n",
              "      <td>0</td>\n",
              "      <td>0</td>\n",
              "      <td>0</td>\n",
              "      <td>0</td>\n",
              "      <td>0</td>\n",
              "      <td>0</td>\n",
              "      <td>0</td>\n",
              "      <td>0</td>\n",
              "      <td>0</td>\n",
              "      <td>0</td>\n",
              "      <td>0</td>\n",
              "      <td>0</td>\n",
              "      <td>0</td>\n",
              "      <td>0</td>\n",
              "      <td>0</td>\n",
              "      <td>0</td>\n",
              "      <td>0</td>\n",
              "      <td>0</td>\n",
              "      <td>0</td>\n",
              "      <td>0</td>\n",
              "      <td>1</td>\n",
              "      <td>0</td>\n",
              "      <td>0</td>\n",
              "    </tr>\n",
              "    <tr>\n",
              "      <th>3</th>\n",
              "      <td>85000.0</td>\n",
              "      <td>1.310000</td>\n",
              "      <td>59.859179</td>\n",
              "      <td>30.253073</td>\n",
              "      <td>5383890</td>\n",
              "      <td>18.00</td>\n",
              "      <td>0.705900</td>\n",
              "      <td>2</td>\n",
              "      <td>4</td>\n",
              "      <td>1</td>\n",
              "      <td>2</td>\n",
              "      <td>5</td>\n",
              "      <td>0</td>\n",
              "      <td>0</td>\n",
              "      <td>1</td>\n",
              "      <td>0</td>\n",
              "      <td>0</td>\n",
              "      <td>0</td>\n",
              "      <td>0</td>\n",
              "      <td>0</td>\n",
              "      <td>1</td>\n",
              "      <td>0</td>\n",
              "      <td>0</td>\n",
              "      <td>0</td>\n",
              "      <td>0</td>\n",
              "      <td>0</td>\n",
              "      <td>0</td>\n",
              "      <td>0</td>\n",
              "      <td>0</td>\n",
              "      <td>0</td>\n",
              "      <td>0</td>\n",
              "      <td>1</td>\n",
              "      <td>0</td>\n",
              "      <td>0</td>\n",
              "      <td>0</td>\n",
              "      <td>0</td>\n",
              "      <td>0</td>\n",
              "      <td>0</td>\n",
              "      <td>0</td>\n",
              "      <td>0</td>\n",
              "      <td>...</td>\n",
              "      <td>0</td>\n",
              "      <td>0</td>\n",
              "      <td>0</td>\n",
              "      <td>0</td>\n",
              "      <td>0</td>\n",
              "      <td>0</td>\n",
              "      <td>0</td>\n",
              "      <td>0</td>\n",
              "      <td>0</td>\n",
              "      <td>0</td>\n",
              "      <td>0</td>\n",
              "      <td>0</td>\n",
              "      <td>0</td>\n",
              "      <td>0</td>\n",
              "      <td>0</td>\n",
              "      <td>0</td>\n",
              "      <td>0</td>\n",
              "      <td>0</td>\n",
              "      <td>0</td>\n",
              "      <td>0</td>\n",
              "      <td>0</td>\n",
              "      <td>0</td>\n",
              "      <td>0</td>\n",
              "      <td>0</td>\n",
              "      <td>0</td>\n",
              "      <td>0</td>\n",
              "      <td>0</td>\n",
              "      <td>0</td>\n",
              "      <td>0</td>\n",
              "      <td>0</td>\n",
              "      <td>0</td>\n",
              "      <td>0</td>\n",
              "      <td>0</td>\n",
              "      <td>0</td>\n",
              "      <td>0</td>\n",
              "      <td>0</td>\n",
              "      <td>0</td>\n",
              "      <td>1</td>\n",
              "      <td>0</td>\n",
              "      <td>0</td>\n",
              "    </tr>\n",
              "    <tr>\n",
              "      <th>4</th>\n",
              "      <td>85000.0</td>\n",
              "      <td>1.180000</td>\n",
              "      <td>59.845297</td>\n",
              "      <td>30.211271</td>\n",
              "      <td>5383890</td>\n",
              "      <td>18.00</td>\n",
              "      <td>0.705900</td>\n",
              "      <td>2</td>\n",
              "      <td>4</td>\n",
              "      <td>1</td>\n",
              "      <td>2</td>\n",
              "      <td>5</td>\n",
              "      <td>0</td>\n",
              "      <td>0</td>\n",
              "      <td>1</td>\n",
              "      <td>0</td>\n",
              "      <td>0</td>\n",
              "      <td>0</td>\n",
              "      <td>0</td>\n",
              "      <td>0</td>\n",
              "      <td>1</td>\n",
              "      <td>0</td>\n",
              "      <td>0</td>\n",
              "      <td>0</td>\n",
              "      <td>0</td>\n",
              "      <td>0</td>\n",
              "      <td>0</td>\n",
              "      <td>0</td>\n",
              "      <td>0</td>\n",
              "      <td>0</td>\n",
              "      <td>0</td>\n",
              "      <td>1</td>\n",
              "      <td>0</td>\n",
              "      <td>0</td>\n",
              "      <td>0</td>\n",
              "      <td>0</td>\n",
              "      <td>0</td>\n",
              "      <td>0</td>\n",
              "      <td>0</td>\n",
              "      <td>0</td>\n",
              "      <td>...</td>\n",
              "      <td>0</td>\n",
              "      <td>0</td>\n",
              "      <td>0</td>\n",
              "      <td>0</td>\n",
              "      <td>0</td>\n",
              "      <td>0</td>\n",
              "      <td>0</td>\n",
              "      <td>0</td>\n",
              "      <td>0</td>\n",
              "      <td>0</td>\n",
              "      <td>0</td>\n",
              "      <td>0</td>\n",
              "      <td>0</td>\n",
              "      <td>0</td>\n",
              "      <td>0</td>\n",
              "      <td>0</td>\n",
              "      <td>0</td>\n",
              "      <td>0</td>\n",
              "      <td>0</td>\n",
              "      <td>0</td>\n",
              "      <td>0</td>\n",
              "      <td>0</td>\n",
              "      <td>0</td>\n",
              "      <td>0</td>\n",
              "      <td>0</td>\n",
              "      <td>0</td>\n",
              "      <td>0</td>\n",
              "      <td>0</td>\n",
              "      <td>0</td>\n",
              "      <td>0</td>\n",
              "      <td>0</td>\n",
              "      <td>0</td>\n",
              "      <td>0</td>\n",
              "      <td>0</td>\n",
              "      <td>0</td>\n",
              "      <td>0</td>\n",
              "      <td>0</td>\n",
              "      <td>1</td>\n",
              "      <td>0</td>\n",
              "      <td>0</td>\n",
              "    </tr>\n",
              "    <tr>\n",
              "      <th>...</th>\n",
              "      <td>...</td>\n",
              "      <td>...</td>\n",
              "      <td>...</td>\n",
              "      <td>...</td>\n",
              "      <td>...</td>\n",
              "      <td>...</td>\n",
              "      <td>...</td>\n",
              "      <td>...</td>\n",
              "      <td>...</td>\n",
              "      <td>...</td>\n",
              "      <td>...</td>\n",
              "      <td>...</td>\n",
              "      <td>...</td>\n",
              "      <td>...</td>\n",
              "      <td>...</td>\n",
              "      <td>...</td>\n",
              "      <td>...</td>\n",
              "      <td>...</td>\n",
              "      <td>...</td>\n",
              "      <td>...</td>\n",
              "      <td>...</td>\n",
              "      <td>...</td>\n",
              "      <td>...</td>\n",
              "      <td>...</td>\n",
              "      <td>...</td>\n",
              "      <td>...</td>\n",
              "      <td>...</td>\n",
              "      <td>...</td>\n",
              "      <td>...</td>\n",
              "      <td>...</td>\n",
              "      <td>...</td>\n",
              "      <td>...</td>\n",
              "      <td>...</td>\n",
              "      <td>...</td>\n",
              "      <td>...</td>\n",
              "      <td>...</td>\n",
              "      <td>...</td>\n",
              "      <td>...</td>\n",
              "      <td>...</td>\n",
              "      <td>...</td>\n",
              "      <td>...</td>\n",
              "      <td>...</td>\n",
              "      <td>...</td>\n",
              "      <td>...</td>\n",
              "      <td>...</td>\n",
              "      <td>...</td>\n",
              "      <td>...</td>\n",
              "      <td>...</td>\n",
              "      <td>...</td>\n",
              "      <td>...</td>\n",
              "      <td>...</td>\n",
              "      <td>...</td>\n",
              "      <td>...</td>\n",
              "      <td>...</td>\n",
              "      <td>...</td>\n",
              "      <td>...</td>\n",
              "      <td>...</td>\n",
              "      <td>...</td>\n",
              "      <td>...</td>\n",
              "      <td>...</td>\n",
              "      <td>...</td>\n",
              "      <td>...</td>\n",
              "      <td>...</td>\n",
              "      <td>...</td>\n",
              "      <td>...</td>\n",
              "      <td>...</td>\n",
              "      <td>...</td>\n",
              "      <td>...</td>\n",
              "      <td>...</td>\n",
              "      <td>...</td>\n",
              "      <td>...</td>\n",
              "      <td>...</td>\n",
              "      <td>...</td>\n",
              "      <td>...</td>\n",
              "      <td>...</td>\n",
              "      <td>...</td>\n",
              "      <td>...</td>\n",
              "      <td>...</td>\n",
              "      <td>...</td>\n",
              "      <td>...</td>\n",
              "      <td>...</td>\n",
              "    </tr>\n",
              "    <tr>\n",
              "      <th>42995</th>\n",
              "      <td>25000.0</td>\n",
              "      <td>4.615938</td>\n",
              "      <td>54.726294</td>\n",
              "      <td>20.513943</td>\n",
              "      <td>489359</td>\n",
              "      <td>18.00</td>\n",
              "      <td>-0.260000</td>\n",
              "      <td>3</td>\n",
              "      <td>5</td>\n",
              "      <td>0</td>\n",
              "      <td>0</td>\n",
              "      <td>3</td>\n",
              "      <td>0</td>\n",
              "      <td>0</td>\n",
              "      <td>1</td>\n",
              "      <td>0</td>\n",
              "      <td>0</td>\n",
              "      <td>0</td>\n",
              "      <td>1</td>\n",
              "      <td>0</td>\n",
              "      <td>0</td>\n",
              "      <td>0</td>\n",
              "      <td>0</td>\n",
              "      <td>0</td>\n",
              "      <td>0</td>\n",
              "      <td>0</td>\n",
              "      <td>0</td>\n",
              "      <td>0</td>\n",
              "      <td>0</td>\n",
              "      <td>0</td>\n",
              "      <td>0</td>\n",
              "      <td>0</td>\n",
              "      <td>0</td>\n",
              "      <td>0</td>\n",
              "      <td>0</td>\n",
              "      <td>0</td>\n",
              "      <td>0</td>\n",
              "      <td>0</td>\n",
              "      <td>0</td>\n",
              "      <td>0</td>\n",
              "      <td>...</td>\n",
              "      <td>0</td>\n",
              "      <td>0</td>\n",
              "      <td>0</td>\n",
              "      <td>0</td>\n",
              "      <td>0</td>\n",
              "      <td>0</td>\n",
              "      <td>0</td>\n",
              "      <td>0</td>\n",
              "      <td>0</td>\n",
              "      <td>0</td>\n",
              "      <td>0</td>\n",
              "      <td>0</td>\n",
              "      <td>0</td>\n",
              "      <td>0</td>\n",
              "      <td>0</td>\n",
              "      <td>0</td>\n",
              "      <td>0</td>\n",
              "      <td>0</td>\n",
              "      <td>0</td>\n",
              "      <td>0</td>\n",
              "      <td>0</td>\n",
              "      <td>0</td>\n",
              "      <td>0</td>\n",
              "      <td>0</td>\n",
              "      <td>0</td>\n",
              "      <td>0</td>\n",
              "      <td>0</td>\n",
              "      <td>0</td>\n",
              "      <td>0</td>\n",
              "      <td>0</td>\n",
              "      <td>0</td>\n",
              "      <td>0</td>\n",
              "      <td>0</td>\n",
              "      <td>0</td>\n",
              "      <td>0</td>\n",
              "      <td>0</td>\n",
              "      <td>0</td>\n",
              "      <td>1</td>\n",
              "      <td>0</td>\n",
              "      <td>0</td>\n",
              "    </tr>\n",
              "    <tr>\n",
              "      <th>42996</th>\n",
              "      <td>17500.0</td>\n",
              "      <td>8.313029</td>\n",
              "      <td>55.070905</td>\n",
              "      <td>57.908537</td>\n",
              "      <td>190334</td>\n",
              "      <td>18.00</td>\n",
              "      <td>0.142857</td>\n",
              "      <td>3</td>\n",
              "      <td>5</td>\n",
              "      <td>0</td>\n",
              "      <td>0</td>\n",
              "      <td>3</td>\n",
              "      <td>0</td>\n",
              "      <td>0</td>\n",
              "      <td>1</td>\n",
              "      <td>0</td>\n",
              "      <td>0</td>\n",
              "      <td>1</td>\n",
              "      <td>0</td>\n",
              "      <td>0</td>\n",
              "      <td>0</td>\n",
              "      <td>0</td>\n",
              "      <td>0</td>\n",
              "      <td>0</td>\n",
              "      <td>0</td>\n",
              "      <td>0</td>\n",
              "      <td>0</td>\n",
              "      <td>0</td>\n",
              "      <td>0</td>\n",
              "      <td>0</td>\n",
              "      <td>0</td>\n",
              "      <td>0</td>\n",
              "      <td>0</td>\n",
              "      <td>0</td>\n",
              "      <td>0</td>\n",
              "      <td>0</td>\n",
              "      <td>0</td>\n",
              "      <td>0</td>\n",
              "      <td>0</td>\n",
              "      <td>0</td>\n",
              "      <td>...</td>\n",
              "      <td>0</td>\n",
              "      <td>0</td>\n",
              "      <td>0</td>\n",
              "      <td>0</td>\n",
              "      <td>0</td>\n",
              "      <td>0</td>\n",
              "      <td>0</td>\n",
              "      <td>0</td>\n",
              "      <td>0</td>\n",
              "      <td>0</td>\n",
              "      <td>0</td>\n",
              "      <td>0</td>\n",
              "      <td>0</td>\n",
              "      <td>0</td>\n",
              "      <td>0</td>\n",
              "      <td>0</td>\n",
              "      <td>0</td>\n",
              "      <td>0</td>\n",
              "      <td>0</td>\n",
              "      <td>0</td>\n",
              "      <td>0</td>\n",
              "      <td>0</td>\n",
              "      <td>0</td>\n",
              "      <td>0</td>\n",
              "      <td>0</td>\n",
              "      <td>0</td>\n",
              "      <td>0</td>\n",
              "      <td>0</td>\n",
              "      <td>0</td>\n",
              "      <td>0</td>\n",
              "      <td>0</td>\n",
              "      <td>0</td>\n",
              "      <td>0</td>\n",
              "      <td>0</td>\n",
              "      <td>0</td>\n",
              "      <td>0</td>\n",
              "      <td>0</td>\n",
              "      <td>1</td>\n",
              "      <td>0</td>\n",
              "      <td>0</td>\n",
              "    </tr>\n",
              "    <tr>\n",
              "      <th>42997</th>\n",
              "      <td>12000.0</td>\n",
              "      <td>5.223071</td>\n",
              "      <td>50.266228</td>\n",
              "      <td>127.531964</td>\n",
              "      <td>226385</td>\n",
              "      <td>9.99</td>\n",
              "      <td>0.375000</td>\n",
              "      <td>3</td>\n",
              "      <td>5</td>\n",
              "      <td>0</td>\n",
              "      <td>0</td>\n",
              "      <td>3</td>\n",
              "      <td>0</td>\n",
              "      <td>1</td>\n",
              "      <td>0</td>\n",
              "      <td>0</td>\n",
              "      <td>0</td>\n",
              "      <td>1</td>\n",
              "      <td>0</td>\n",
              "      <td>0</td>\n",
              "      <td>0</td>\n",
              "      <td>0</td>\n",
              "      <td>0</td>\n",
              "      <td>0</td>\n",
              "      <td>0</td>\n",
              "      <td>0</td>\n",
              "      <td>0</td>\n",
              "      <td>0</td>\n",
              "      <td>0</td>\n",
              "      <td>0</td>\n",
              "      <td>0</td>\n",
              "      <td>0</td>\n",
              "      <td>0</td>\n",
              "      <td>0</td>\n",
              "      <td>0</td>\n",
              "      <td>0</td>\n",
              "      <td>0</td>\n",
              "      <td>0</td>\n",
              "      <td>0</td>\n",
              "      <td>0</td>\n",
              "      <td>...</td>\n",
              "      <td>0</td>\n",
              "      <td>0</td>\n",
              "      <td>0</td>\n",
              "      <td>0</td>\n",
              "      <td>0</td>\n",
              "      <td>0</td>\n",
              "      <td>0</td>\n",
              "      <td>0</td>\n",
              "      <td>0</td>\n",
              "      <td>0</td>\n",
              "      <td>0</td>\n",
              "      <td>0</td>\n",
              "      <td>0</td>\n",
              "      <td>0</td>\n",
              "      <td>0</td>\n",
              "      <td>0</td>\n",
              "      <td>0</td>\n",
              "      <td>0</td>\n",
              "      <td>0</td>\n",
              "      <td>0</td>\n",
              "      <td>0</td>\n",
              "      <td>0</td>\n",
              "      <td>0</td>\n",
              "      <td>0</td>\n",
              "      <td>0</td>\n",
              "      <td>0</td>\n",
              "      <td>0</td>\n",
              "      <td>0</td>\n",
              "      <td>0</td>\n",
              "      <td>0</td>\n",
              "      <td>0</td>\n",
              "      <td>0</td>\n",
              "      <td>0</td>\n",
              "      <td>0</td>\n",
              "      <td>0</td>\n",
              "      <td>1</td>\n",
              "      <td>0</td>\n",
              "      <td>1</td>\n",
              "      <td>0</td>\n",
              "      <td>0</td>\n",
              "    </tr>\n",
              "    <tr>\n",
              "      <th>42998</th>\n",
              "      <td>19000.0</td>\n",
              "      <td>3.200000</td>\n",
              "      <td>54.971461</td>\n",
              "      <td>73.399075</td>\n",
              "      <td>1154507</td>\n",
              "      <td>18.00</td>\n",
              "      <td>0.400000</td>\n",
              "      <td>3</td>\n",
              "      <td>5</td>\n",
              "      <td>0</td>\n",
              "      <td>2</td>\n",
              "      <td>3</td>\n",
              "      <td>0</td>\n",
              "      <td>0</td>\n",
              "      <td>1</td>\n",
              "      <td>0</td>\n",
              "      <td>0</td>\n",
              "      <td>1</td>\n",
              "      <td>0</td>\n",
              "      <td>0</td>\n",
              "      <td>0</td>\n",
              "      <td>0</td>\n",
              "      <td>0</td>\n",
              "      <td>0</td>\n",
              "      <td>0</td>\n",
              "      <td>0</td>\n",
              "      <td>0</td>\n",
              "      <td>0</td>\n",
              "      <td>0</td>\n",
              "      <td>0</td>\n",
              "      <td>0</td>\n",
              "      <td>0</td>\n",
              "      <td>0</td>\n",
              "      <td>0</td>\n",
              "      <td>0</td>\n",
              "      <td>0</td>\n",
              "      <td>0</td>\n",
              "      <td>0</td>\n",
              "      <td>0</td>\n",
              "      <td>0</td>\n",
              "      <td>...</td>\n",
              "      <td>0</td>\n",
              "      <td>0</td>\n",
              "      <td>0</td>\n",
              "      <td>0</td>\n",
              "      <td>0</td>\n",
              "      <td>0</td>\n",
              "      <td>0</td>\n",
              "      <td>0</td>\n",
              "      <td>0</td>\n",
              "      <td>0</td>\n",
              "      <td>0</td>\n",
              "      <td>0</td>\n",
              "      <td>0</td>\n",
              "      <td>0</td>\n",
              "      <td>0</td>\n",
              "      <td>0</td>\n",
              "      <td>0</td>\n",
              "      <td>0</td>\n",
              "      <td>0</td>\n",
              "      <td>0</td>\n",
              "      <td>0</td>\n",
              "      <td>0</td>\n",
              "      <td>0</td>\n",
              "      <td>0</td>\n",
              "      <td>0</td>\n",
              "      <td>0</td>\n",
              "      <td>0</td>\n",
              "      <td>0</td>\n",
              "      <td>0</td>\n",
              "      <td>0</td>\n",
              "      <td>0</td>\n",
              "      <td>0</td>\n",
              "      <td>0</td>\n",
              "      <td>0</td>\n",
              "      <td>0</td>\n",
              "      <td>0</td>\n",
              "      <td>0</td>\n",
              "      <td>1</td>\n",
              "      <td>0</td>\n",
              "      <td>0</td>\n",
              "    </tr>\n",
              "    <tr>\n",
              "      <th>42999</th>\n",
              "      <td>23000.0</td>\n",
              "      <td>2.760000</td>\n",
              "      <td>53.334602</td>\n",
              "      <td>83.669099</td>\n",
              "      <td>632391</td>\n",
              "      <td>18.00</td>\n",
              "      <td>0.400000</td>\n",
              "      <td>3</td>\n",
              "      <td>5</td>\n",
              "      <td>0</td>\n",
              "      <td>2</td>\n",
              "      <td>3</td>\n",
              "      <td>0</td>\n",
              "      <td>0</td>\n",
              "      <td>1</td>\n",
              "      <td>0</td>\n",
              "      <td>0</td>\n",
              "      <td>1</td>\n",
              "      <td>0</td>\n",
              "      <td>0</td>\n",
              "      <td>0</td>\n",
              "      <td>0</td>\n",
              "      <td>0</td>\n",
              "      <td>0</td>\n",
              "      <td>0</td>\n",
              "      <td>0</td>\n",
              "      <td>0</td>\n",
              "      <td>0</td>\n",
              "      <td>0</td>\n",
              "      <td>0</td>\n",
              "      <td>0</td>\n",
              "      <td>0</td>\n",
              "      <td>0</td>\n",
              "      <td>0</td>\n",
              "      <td>0</td>\n",
              "      <td>0</td>\n",
              "      <td>0</td>\n",
              "      <td>0</td>\n",
              "      <td>0</td>\n",
              "      <td>0</td>\n",
              "      <td>...</td>\n",
              "      <td>0</td>\n",
              "      <td>0</td>\n",
              "      <td>0</td>\n",
              "      <td>0</td>\n",
              "      <td>0</td>\n",
              "      <td>0</td>\n",
              "      <td>0</td>\n",
              "      <td>0</td>\n",
              "      <td>0</td>\n",
              "      <td>0</td>\n",
              "      <td>0</td>\n",
              "      <td>0</td>\n",
              "      <td>0</td>\n",
              "      <td>0</td>\n",
              "      <td>0</td>\n",
              "      <td>0</td>\n",
              "      <td>0</td>\n",
              "      <td>0</td>\n",
              "      <td>0</td>\n",
              "      <td>0</td>\n",
              "      <td>0</td>\n",
              "      <td>0</td>\n",
              "      <td>0</td>\n",
              "      <td>0</td>\n",
              "      <td>0</td>\n",
              "      <td>0</td>\n",
              "      <td>0</td>\n",
              "      <td>0</td>\n",
              "      <td>0</td>\n",
              "      <td>0</td>\n",
              "      <td>0</td>\n",
              "      <td>0</td>\n",
              "      <td>0</td>\n",
              "      <td>0</td>\n",
              "      <td>0</td>\n",
              "      <td>0</td>\n",
              "      <td>0</td>\n",
              "      <td>1</td>\n",
              "      <td>0</td>\n",
              "      <td>0</td>\n",
              "    </tr>\n",
              "  </tbody>\n",
              "</table>\n",
              "<p>43000 rows × 222 columns</p>\n",
              "</div>"
            ],
            "text/plain": [
              "       PriceNoTax       GRP   Latitude  ...  BrandR1_1  BrandR1_2  BrandR1_3\n",
              "0         85000.0  1.750000  59.985716  ...          1          0          0\n",
              "1        120000.0  1.150000  59.957911  ...          1          0          0\n",
              "2         85000.0  0.510000  60.003023  ...          1          0          0\n",
              "3         85000.0  1.310000  59.859179  ...          1          0          0\n",
              "4         85000.0  1.180000  59.845297  ...          1          0          0\n",
              "...           ...       ...        ...  ...        ...        ...        ...\n",
              "42995     25000.0  4.615938  54.726294  ...          1          0          0\n",
              "42996     17500.0  8.313029  55.070905  ...          1          0          0\n",
              "42997     12000.0  5.223071  50.266228  ...          1          0          0\n",
              "42998     19000.0  3.200000  54.971461  ...          1          0          0\n",
              "42999     23000.0  2.760000  53.334602  ...          1          0          0\n",
              "\n",
              "[43000 rows x 222 columns]"
            ]
          },
          "metadata": {
            "tags": []
          },
          "execution_count": 13
        }
      ]
    },
    {
      "cell_type": "code",
      "metadata": {
        "id": "avPM4vtKENXw"
      },
      "source": [
        "#tmp=data1[data1['YearNum']==3]\n",
        "#tmp1=tmp[tmp['Month_Id']==11]\n",
        "#len(tmp1)"
      ],
      "id": "avPM4vtKENXw",
      "execution_count": null,
      "outputs": []
    },
    {
      "cell_type": "code",
      "metadata": {
        "id": "399e5a04"
      },
      "source": [
        "hold=data.iloc[-897:,:]"
      ],
      "id": "399e5a04",
      "execution_count": null,
      "outputs": []
    },
    {
      "cell_type": "code",
      "metadata": {
        "id": "64b6b23f"
      },
      "source": [
        "train=data.iloc[:len(data)-len(hold),:]"
      ],
      "id": "64b6b23f",
      "execution_count": null,
      "outputs": []
    },
    {
      "cell_type": "code",
      "metadata": {
        "id": "JTgXAjBF8I9L"
      },
      "source": [
        "#df=train"
      ],
      "id": "JTgXAjBF8I9L",
      "execution_count": null,
      "outputs": []
    },
    {
      "cell_type": "code",
      "metadata": {
        "id": "jdvgOw7YB-02"
      },
      "source": [
        "train=train[train['Discount']!=0]"
      ],
      "id": "jdvgOw7YB-02",
      "execution_count": null,
      "outputs": []
    },
    {
      "cell_type": "code",
      "metadata": {
        "id": "0iVoe6jjeHNZ"
      },
      "source": [
        "  Q1 =  train['Discount'].quantile(0.25)\n",
        "  Q3 = train['Discount'].quantile(0.75)\n",
        "  IQR = Q3 - Q1\n",
        "  train=train[train['Discount'] > Q1-1.5*IQR] \n",
        "  train=train[train['Discount'] < Q3+1.5*IQR]"
      ],
      "id": "0iVoe6jjeHNZ",
      "execution_count": null,
      "outputs": []
    },
    {
      "cell_type": "code",
      "metadata": {
        "id": "vnp7yA4BF2JK"
      },
      "source": [
        "df4.describe()"
      ],
      "id": "vnp7yA4BF2JK",
      "execution_count": null,
      "outputs": []
    },
    {
      "cell_type": "code",
      "metadata": {
        "id": "X6Pa_1PhCYvu"
      },
      "source": [
        "df1=df[df['Discount']<=-0.15]\n",
        "df2=df[df['Discount']>-0.15]"
      ],
      "id": "X6Pa_1PhCYvu",
      "execution_count": null,
      "outputs": []
    },
    {
      "cell_type": "code",
      "metadata": {
        "id": "s5CjUXaJifMN"
      },
      "source": [
        "hold_1=hold[hold['Discount']<=-0.15]\n",
        "hold_2=hold[hold['Discount']>-0.15]"
      ],
      "id": "s5CjUXaJifMN",
      "execution_count": null,
      "outputs": []
    },
    {
      "cell_type": "code",
      "metadata": {
        "id": "QlzD-BxavRqg"
      },
      "source": [
        "df6.describe()"
      ],
      "id": "QlzD-BxavRqg",
      "execution_count": null,
      "outputs": []
    },
    {
      "cell_type": "code",
      "metadata": {
        "id": "bCL0qgoXz6jq"
      },
      "source": [
        "df3=df1[df1['Population']<800000]\n",
        "df4=df1[df1['Population']>=800000]\n",
        "#df5=df1[df1['PriceNoTax']>=45000]\n",
        "#df5=df2[df2['Population']<200000]\n",
        "df_5=df2[df2['Population']>=200000]\n",
        "df5=df2[df2['Population']<200000]\n",
        "df6=df_5[df_5['Population']<750000]\n",
        "df_7=df_5.copy( )\n",
        "df7=df_7[df_7['Population']>=750000]"
      ],
      "id": "bCL0qgoXz6jq",
      "execution_count": null,
      "outputs": []
    },
    {
      "cell_type": "code",
      "metadata": {
        "id": "Nlo8JTlT9lTp"
      },
      "source": [
        "df7.describe()"
      ],
      "id": "Nlo8JTlT9lTp",
      "execution_count": null,
      "outputs": []
    },
    {
      "cell_type": "code",
      "metadata": {
        "colab": {
          "base_uri": "https://localhost:8080/",
          "height": 602
        },
        "id": "T5ptKZiU-vpq",
        "outputId": "0f2a5bb6-de04-42d0-e450-a7194650157f"
      },
      "source": [
        "sns.displot (df7['Population'],kde=True, height=8)"
      ],
      "id": "T5ptKZiU-vpq",
      "execution_count": null,
      "outputs": [
        {
          "output_type": "execute_result",
          "data": {
            "text/plain": [
              "<seaborn.axisgrid.FacetGrid at 0x7f4a2ecf4190>"
            ]
          },
          "metadata": {
            "tags": []
          },
          "execution_count": 66
        },
        {
          "output_type": "display_data",
          "data": {
            "image/png": "[encoded data removed]",
            "text/plain": [
              "<Figure size 576x576 with 1 Axes>"
            ]
          },
          "metadata": {
            "tags": []
          }
        }
      ]
    },
    {
      "cell_type": "code",
      "metadata": {
        "id": "Gd7r18Nwo3Aj"
      },
      "source": [
        "sns.displot (data=df2['Discount'], kde=True, height=10 )"
      ],
      "id": "Gd7r18Nwo3Aj",
      "execution_count": null,
      "outputs": []
    },
    {
      "cell_type": "code",
      "metadata": {
        "id": "z1jYKdJbsy9Q"
      },
      "source": [
        "train1=df5"
      ],
      "id": "z1jYKdJbsy9Q",
      "execution_count": null,
      "outputs": []
    },
    {
      "cell_type": "code",
      "metadata": {
        "id": "ZwYKpm4SWkYg"
      },
      "source": [
        "hold_labels=hold.pop('Discount')\n",
        "labels=train.pop ('Discount')"
      ],
      "id": "ZwYKpm4SWkYg",
      "execution_count": null,
      "outputs": []
    },
    {
      "cell_type": "code",
      "metadata": {
        "id": "ZuvoZTVhdhY2"
      },
      "source": [
        "scaler=preprocessing.StandardScaler ()\n",
        "train_data=scaler.fit_transform (train)\n",
        "hold=scaler.transform (hold)"
      ],
      "id": "ZuvoZTVhdhY2",
      "execution_count": null,
      "outputs": []
    },
    {
      "cell_type": "code",
      "metadata": {
        "colab": {
          "base_uri": "https://localhost:8080/"
        },
        "id": "R_Gfg3oVr6u_",
        "outputId": "8b6610f2-265e-434e-e95b-3556770b4fa6"
      },
      "source": [
        "train_data.shape"
      ],
      "id": "R_Gfg3oVr6u_",
      "execution_count": null,
      "outputs": [
        {
          "output_type": "execute_result",
          "data": {
            "text/plain": [
              "(36411, 222)"
            ]
          },
          "metadata": {
            "tags": []
          },
          "execution_count": 21
        }
      ]
    },
    {
      "cell_type": "code",
      "metadata": {
        "colab": {
          "base_uri": "https://localhost:8080/"
        },
        "id": "FaCZuylysG_p",
        "outputId": "be37b1d4-ed7c-46c3-c9f2-b9dea54c86d1"
      },
      "source": [
        "cls=cluster.MeanShift (bandwidth=5)\n",
        "labels=cls.fit_predict (train_data)\n",
        "n_clusters=len(set(labels))\n",
        "n_clusters"
      ],
      "id": "FaCZuylysG_p",
      "execution_count": null,
      "outputs": [
        {
          "output_type": "execute_result",
          "data": {
            "text/plain": [
              "325"
            ]
          },
          "metadata": {
            "tags": []
          },
          "execution_count": 99
        }
      ]
    },
    {
      "cell_type": "code",
      "metadata": {
        "id": "p112LzuoYtSI"
      },
      "source": [
        "train_data"
      ],
      "id": "p112LzuoYtSI",
      "execution_count": null,
      "outputs": []
    },
    {
      "cell_type": "code",
      "metadata": {
        "id": "S7-n1EyOJ1fN"
      },
      "source": [
        "n_clusters=8\n",
        "cls_M=cluster.KMeans (n_clusters=n_clusters)\n",
        "labels=cls_M.fit_predict (train_data)"
      ],
      "id": "S7-n1EyOJ1fN",
      "execution_count": null,
      "outputs": []
    },
    {
      "cell_type": "code",
      "metadata": {
        "colab": {
          "base_uri": "https://localhost:8080/",
          "height": 458
        },
        "id": "3BM5XZMvHsU4",
        "outputId": "3d30b8d8-8ea6-4765-d442-672607e81d6c"
      },
      "source": [
        "fig, (ax1) = plt.subplots(1, 1)\n",
        "fig.set_size_inches(18, 7)\n",
        "ax1.set_xlim([-1, 1])\n",
        "ax1.set_ylim([0, len(train) + (n_clusters + 1) * 10])\n",
        "silhouette_avg = metrics.silhouette_score(train, labels)\n",
        "sample_silhouette_values =  metrics.silhouette_samples(train, labels)\n",
        "y_lower = 10\n",
        "for i in range(n_clusters):\n",
        "        # Aggregate the silhouette scores for samples belonging to\n",
        "        # cluster i, and sort them\n",
        "        ith_cluster_silhouette_values = sample_silhouette_values[labels == i]\n",
        "        ith_cluster_silhouette_values.sort()\n",
        "        size_cluster_i = ith_cluster_silhouette_values.shape[0]\n",
        "        y_upper = y_lower + size_cluster_i\n",
        "        color = cm.nipy_spectral(float(i) / n_clusters)\n",
        "        ax1.fill_betweenx(np.arange(y_lower, y_upper), -1, ith_cluster_silhouette_values, facecolor=color, edgecolor=color, alpha=0.7);\n",
        "\n",
        "        # Label the silhouette plots with their cluster numbers at the middle\n",
        "        #ax1.text(-0.05, y_lower + 0.5 * size_cluster_i, str(i))\n",
        "        # Compute the new y_lower for next plot\n",
        "        y_lower = y_upper + 10  # 10 for the 0 samples\n",
        "\n",
        "ax1.set_title(\"The silhouette plot for the various clusters.\")\n",
        "ax1.set_xlabel(\"The silhouette coefficient values\")\n",
        "ax1.set_ylabel(\"Cluster label\")\n",
        "\n",
        "    # The vertical line for average silhouette score of all the values\n",
        "ax1.axvline(x=silhouette_avg, color=\"red\", linestyle=\"--\")\n",
        "\n",
        "ax1.set_yticks([])  # Clear the yaxis labels / ticks\n",
        "ax1.set_xticks([-1, -0.8, -0.6, -0.4, -0.2, 0, 0.2, 0.4, 0.6, 0.8, 1]);"
      ],
      "id": "3BM5XZMvHsU4",
      "execution_count": null,
      "outputs": [
        {
          "output_type": "display_data",
          "data": {
            "image/png": "[encoded data removed]",
            "text/plain": [
              "<Figure size 1296x504 with 1 Axes>"
            ]
          },
          "metadata": {
            "tags": [],
            "needs_background": "light"
          }
        }
      ]
    },
    {
      "cell_type": "code",
      "metadata": {
        "id": "NQLSh7z0LINy"
      },
      "source": [
        "train['Cluster']=labels\n",
        "res=[]\n",
        "for i in range (0,n_clusters):\n",
        "  tmp=train[train['Cluster']==i]\n",
        "  #if len(tmp)>5:\n",
        "  r=[i, len (tmp) ,tmp['Discount'].std () ]\n",
        "  res.append(r)\n",
        "std_res=np.array(res)"
      ],
      "id": "NQLSh7z0LINy",
      "execution_count": null,
      "outputs": []
    },
    {
      "cell_type": "code",
      "metadata": {
        "colab": {
          "base_uri": "https://localhost:8080/",
          "height": 411
        },
        "id": "ERNFmBVoLgFs",
        "outputId": "1d2cd87f-73da-40fc-8073-8c8f763d1151"
      },
      "source": [
        "pd.DataFrame (std_res)"
      ],
      "id": "ERNFmBVoLgFs",
      "execution_count": null,
      "outputs": [
        {
          "output_type": "execute_result",
          "data": {
            "text/html": [
              "<div>\n",
              "<style scoped>\n",
              "    .dataframe tbody tr th:only-of-type {\n",
              "        vertical-align: middle;\n",
              "    }\n",
              "\n",
              "    .dataframe tbody tr th {\n",
              "        vertical-align: top;\n",
              "    }\n",
              "\n",
              "    .dataframe thead th {\n",
              "        text-align: right;\n",
              "    }\n",
              "</style>\n",
              "<table border=\"1\" class=\"dataframe\">\n",
              "  <thead>\n",
              "    <tr style=\"text-align: right;\">\n",
              "      <th></th>\n",
              "      <th>0</th>\n",
              "      <th>1</th>\n",
              "      <th>2</th>\n",
              "    </tr>\n",
              "  </thead>\n",
              "  <tbody>\n",
              "    <tr>\n",
              "      <th>0</th>\n",
              "      <td>0.0</td>\n",
              "      <td>8551.0</td>\n",
              "      <td>0.189341</td>\n",
              "    </tr>\n",
              "    <tr>\n",
              "      <th>1</th>\n",
              "      <td>1.0</td>\n",
              "      <td>1664.0</td>\n",
              "      <td>0.152245</td>\n",
              "    </tr>\n",
              "    <tr>\n",
              "      <th>2</th>\n",
              "      <td>2.0</td>\n",
              "      <td>1525.0</td>\n",
              "      <td>0.074012</td>\n",
              "    </tr>\n",
              "    <tr>\n",
              "      <th>3</th>\n",
              "      <td>3.0</td>\n",
              "      <td>1540.0</td>\n",
              "      <td>0.191993</td>\n",
              "    </tr>\n",
              "    <tr>\n",
              "      <th>4</th>\n",
              "      <td>4.0</td>\n",
              "      <td>838.0</td>\n",
              "      <td>0.080065</td>\n",
              "    </tr>\n",
              "    <tr>\n",
              "      <th>...</th>\n",
              "      <td>...</td>\n",
              "      <td>...</td>\n",
              "      <td>...</td>\n",
              "    </tr>\n",
              "    <tr>\n",
              "      <th>320</th>\n",
              "      <td>320.0</td>\n",
              "      <td>1.0</td>\n",
              "      <td>NaN</td>\n",
              "    </tr>\n",
              "    <tr>\n",
              "      <th>321</th>\n",
              "      <td>321.0</td>\n",
              "      <td>1.0</td>\n",
              "      <td>NaN</td>\n",
              "    </tr>\n",
              "    <tr>\n",
              "      <th>322</th>\n",
              "      <td>322.0</td>\n",
              "      <td>1.0</td>\n",
              "      <td>NaN</td>\n",
              "    </tr>\n",
              "    <tr>\n",
              "      <th>323</th>\n",
              "      <td>323.0</td>\n",
              "      <td>1.0</td>\n",
              "      <td>NaN</td>\n",
              "    </tr>\n",
              "    <tr>\n",
              "      <th>324</th>\n",
              "      <td>324.0</td>\n",
              "      <td>1.0</td>\n",
              "      <td>NaN</td>\n",
              "    </tr>\n",
              "  </tbody>\n",
              "</table>\n",
              "<p>325 rows × 3 columns</p>\n",
              "</div>"
            ],
            "text/plain": [
              "         0       1         2\n",
              "0      0.0  8551.0  0.189341\n",
              "1      1.0  1664.0  0.152245\n",
              "2      2.0  1525.0  0.074012\n",
              "3      3.0  1540.0  0.191993\n",
              "4      4.0   838.0  0.080065\n",
              "..     ...     ...       ...\n",
              "320  320.0     1.0       NaN\n",
              "321  321.0     1.0       NaN\n",
              "322  322.0     1.0       NaN\n",
              "323  323.0     1.0       NaN\n",
              "324  324.0     1.0       NaN\n",
              "\n",
              "[325 rows x 3 columns]"
            ]
          },
          "metadata": {
            "tags": []
          },
          "execution_count": 101
        }
      ]
    },
    {
      "cell_type": "code",
      "metadata": {
        "id": "KWtdWoyDJnwZ",
        "colab": {
          "base_uri": "https://localhost:8080/"
        },
        "outputId": "b78a3bee-3ed0-4b24-bde4-e93dcf9984b1"
      },
      "source": [
        "labels.shape"
      ],
      "id": "KWtdWoyDJnwZ",
      "execution_count": null,
      "outputs": [
        {
          "output_type": "execute_result",
          "data": {
            "text/plain": [
              "(36411,)"
            ]
          },
          "metadata": {
            "tags": []
          },
          "execution_count": 50
        }
      ]
    },
    {
      "cell_type": "code",
      "metadata": {
        "colab": {
          "base_uri": "https://localhost:8080/"
        },
        "id": "Jz_KIkKRVgSR",
        "outputId": "981b412d-76e1-4724-e01c-993ddb9095f7"
      },
      "source": [
        "m=[labels==4]\n",
        "labels[m]"
      ],
      "id": "Jz_KIkKRVgSR",
      "execution_count": null,
      "outputs": [
        {
          "output_type": "stream",
          "text": [
            "/usr/local/lib/python3.7/dist-packages/ipykernel_launcher.py:2: FutureWarning: Using a non-tuple sequence for multidimensional indexing is deprecated; use `arr[tuple(seq)]` instead of `arr[seq]`. In the future this will be interpreted as an array index, `arr[np.array(seq)]`, which will result either in an error or a different result.\n",
            "  \n"
          ],
          "name": "stderr"
        },
        {
          "output_type": "execute_result",
          "data": {
            "text/plain": [
              "array([4, 4, 4, 4, 4, 4, 4, 4, 4, 4, 4, 4])"
            ]
          },
          "metadata": {
            "tags": []
          },
          "execution_count": 48
        }
      ]
    },
    {
      "cell_type": "code",
      "metadata": {
        "colab": {
          "base_uri": "https://localhost:8080/",
          "height": 282
        },
        "id": "qc0m9IXXVV8B",
        "outputId": "296fe9db-24e3-4c58-f1c1-fc6011f1aa9f"
      },
      "source": [
        "sns.histplot (labels)"
      ],
      "id": "qc0m9IXXVV8B",
      "execution_count": null,
      "outputs": [
        {
          "output_type": "execute_result",
          "data": {
            "text/plain": [
              "<matplotlib.axes._subplots.AxesSubplot at 0x7f81d48c1b90>"
            ]
          },
          "metadata": {
            "tags": []
          },
          "execution_count": 43
        },
        {
          "output_type": "display_data",
          "data": {
            "image/png": "[encoded data removed]",
            "text/plain": [
              "<Figure size 432x288 with 1 Axes>"
            ]
          },
          "metadata": {
            "tags": []
          }
        }
      ]
    },
    {
      "cell_type": "code",
      "metadata": {
        "id": "h3PW5BiQWJoX"
      },
      "source": [
        "train_data, test_data, train_labels, test_labels  = model_selection.train_test_split(train, labels, train_size=0.75, shuffle=False)"
      ],
      "id": "h3PW5BiQWJoX",
      "execution_count": null,
      "outputs": []
    },
    {
      "cell_type": "code",
      "metadata": {
        "id": "fPdvOJmbWJoY"
      },
      "source": [
        "scaler=preprocessing.StandardScaler ()\n",
        "train_data=scaler.fit_transform (train_data)\n",
        "test_data=scaler.transform (test_data)\n",
        "hold=scaler.transform (hold)"
      ],
      "id": "fPdvOJmbWJoY",
      "execution_count": null,
      "outputs": []
    },
    {
      "cell_type": "code",
      "metadata": {
        "colab": {
          "base_uri": "https://localhost:8080/"
        },
        "id": "AlhO1wYSPV8v",
        "outputId": "b9815869-30ac-4ad6-8c9c-cc3098f0b308"
      },
      "source": [
        "print (train_data.shape)\n",
        "print (train_labels.shape)\n",
        "print (test_data.shape)\n",
        "print (test_labels.shape)\n",
        "print (hold.shape)\n",
        "print (hold_labels.shape)"
      ],
      "id": "AlhO1wYSPV8v",
      "execution_count": null,
      "outputs": [
        {
          "output_type": "stream",
          "text": [
            "(31577, 221)\n",
            "(31577,)\n",
            "(10526, 221)\n",
            "(10526,)\n",
            "(897, 221)\n",
            "(897,)\n"
          ],
          "name": "stdout"
        }
      ]
    },
    {
      "cell_type": "code",
      "metadata": {
        "id": "4SqY3JYlX-pT"
      },
      "source": [
        "pd.DataFrame (hold).describe()"
      ],
      "id": "4SqY3JYlX-pT",
      "execution_count": null,
      "outputs": []
    },
    {
      "cell_type": "code",
      "metadata": {
        "id": "b7c26b5e"
      },
      "source": [
        "myXGB=xgb.XGBRegressor (learning_rate=0.13, n_estimators=3000, min_child_weight=2, objective='reg:squarederror', booster='gbtree',   tree_method='hist', max_depth=8)"
      ],
      "id": "b7c26b5e",
      "execution_count": null,
      "outputs": []
    },
    {
      "cell_type": "code",
      "metadata": {
        "colab": {
          "base_uri": "https://localhost:8080/"
        },
        "id": "97883c1f",
        "scrolled": false,
        "outputId": "97e26aca-017b-4516-9797-7cc2e179eb14"
      },
      "source": [
        "myXGB.fit (train_data, train_labels, eval_set=[(train_data, train_labels),(test_data, test_labels)], eval_metric='mae', verbose=False)"
      ],
      "id": "97883c1f",
      "execution_count": null,
      "outputs": [
        {
          "output_type": "execute_result",
          "data": {
            "text/plain": [
              "XGBRegressor(base_score=0.5, booster='gbtree', colsample_bylevel=1,\n",
              "             colsample_bynode=1, colsample_bytree=1, gamma=0,\n",
              "             importance_type='gain', learning_rate=0.13, max_delta_step=0,\n",
              "             max_depth=8, min_child_weight=2, missing=None, n_estimators=3000,\n",
              "             n_jobs=1, nthread=None, objective='reg:squarederror',\n",
              "             random_state=0, reg_alpha=0, reg_lambda=1, scale_pos_weight=1,\n",
              "             seed=None, silent=None, subsample=1, tree_method='hist',\n",
              "             verbosity=1)"
            ]
          },
          "metadata": {
            "tags": []
          },
          "execution_count": 50
        }
      ]
    },
    {
      "cell_type": "code",
      "metadata": {
        "colab": {
          "base_uri": "https://localhost:8080/",
          "height": 265
        },
        "id": "NTeT_TB-dWY3",
        "outputId": "162f5020-d4f1-4fc7-8aa9-840696ac05b2"
      },
      "source": [
        "his=myXGB.evals_result()\n",
        "mae_train = his['validation_0']\n",
        "mae1=mae_train['mae']\n",
        "mae_tr=mae1[50:3000]\n",
        "mae_test = his['validation_1']\n",
        "mae2=mae_test['mae']\n",
        "mae_ts=mae2[50:3000]\n",
        "epochs = range (1, len(mae_tr)+1)\n",
        "plt.plot (epochs, mae_tr, 'b' )\n",
        "plt.plot (epochs, mae_ts, 'r')\n",
        "plt.show()"
      ],
      "id": "NTeT_TB-dWY3",
      "execution_count": null,
      "outputs": [
        {
          "output_type": "display_data",
          "data": {
            "image/png": "[encoded data removed]",
            "text/plain": [
              "<Figure size 432x288 with 1 Axes>"
            ]
          },
          "metadata": {
            "tags": []
          }
        }
      ]
    },
    {
      "cell_type": "code",
      "metadata": {
        "colab": {
          "base_uri": "https://localhost:8080/"
        },
        "id": "b0fd609a",
        "outputId": "4280b348-18d6-4f43-93f4-ada8653e5e3f"
      },
      "source": [
        "pred_XGB=myXGB.predict (test_data)\n",
        "mae=metrics.mean_absolute_error (test_labels, pred_XGB)\n",
        "mclf=my_custom_loss_func (test_labels, pred_XGB)\n",
        "print ('mae', mae,'share', mclf)"
      ],
      "id": "b0fd609a",
      "execution_count": null,
      "outputs": [
        {
          "output_type": "stream",
          "text": [
            "mae 0.023061772063897812 share 11.742352270568118\n"
          ],
          "name": "stdout"
        }
      ]
    },
    {
      "cell_type": "code",
      "metadata": {
        "colab": {
          "base_uri": "https://localhost:8080/"
        },
        "id": "08c7df62",
        "outputId": "c8dec731-192f-44d1-a676-c91c76ddadf7"
      },
      "source": [
        "pred_XGB_h=myXGB.predict (hold)\n",
        "mae=metrics.mean_absolute_error (hold_labels, pred_XGB_h)\n",
        "mclf=my_custom_loss_func (hold_labels, pred_XGB_h)\n",
        "print ('mae', mae,'share', mclf)"
      ],
      "id": "08c7df62",
      "execution_count": null,
      "outputs": [
        {
          "output_type": "stream",
          "text": [
            "mae 0.18853892440146486 share 73.35562987736901\n"
          ],
          "name": "stdout"
        }
      ]
    },
    {
      "cell_type": "code",
      "metadata": {
        "colab": {
          "base_uri": "https://localhost:8080/"
        },
        "id": "Xrf4j2uLwtLW",
        "outputId": "36ead03f-8a82-4a7e-ec7d-11a833b25e4f"
      },
      "source": [
        "fold = model_selection.KFold(n_splits=5, shuffle=True)\n",
        "cvs=model_selection.cross_val_score (myXGB, train, labels, scoring=myscorer, cv=fold)\n",
        "print (cvs, 'cross_val_score_share', cvs.mean(), 'std', cvs.std())"
      ],
      "id": "Xrf4j2uLwtLW",
      "execution_count": null,
      "outputs": [
        {
          "output_type": "stream",
          "text": [
            "[7.62379765 8.32442703 7.94442465 7.22090261 7.90973872] cross_val_score_share 7.804658131844914 std 0.367210385252952\n"
          ],
          "name": "stdout"
        }
      ]
    },
    {
      "cell_type": "code",
      "metadata": {
        "id": "Boq-jEnhsXUP"
      },
      "source": [
        "#cvs"
      ],
      "id": "Boq-jEnhsXUP",
      "execution_count": null,
      "outputs": []
    },
    {
      "cell_type": "code",
      "metadata": {
        "colab": {
          "base_uri": "https://localhost:8080/"
        },
        "id": "NrWfGhu0kGSC",
        "outputId": "6f2342a6-6110-4142-9524-0e3621d8f260"
      },
      "source": [
        "hold_labels.shape"
      ],
      "id": "NrWfGhu0kGSC",
      "execution_count": null,
      "outputs": [
        {
          "output_type": "execute_result",
          "data": {
            "text/plain": [
              "(874,)"
            ]
          },
          "metadata": {
            "tags": []
          },
          "execution_count": 26
        }
      ]
    },
    {
      "cell_type": "code",
      "metadata": {
        "colab": {
          "base_uri": "https://localhost:8080/"
        },
        "id": "Ze5hDVxijjva",
        "outputId": "f5b7a2cd-85a5-4b65-e3e1-a85c816b1561"
      },
      "source": [
        "mKN=neighbors.KNeighborsRegressor (n_neighbors=2) \n",
        "mKN.fit (train_data, train_labels)\n",
        "pred_mKN=mKN.predict(test_data)\n",
        "mae=metrics.mean_absolute_error (test_labels, pred_mKN)\n",
        "mclf=my_custom_loss_func (test_labels, pred_mKN)\n",
        "print ('mae', mae,'share', mclf)"
      ],
      "id": "Ze5hDVxijjva",
      "execution_count": null,
      "outputs": [
        {
          "output_type": "stream",
          "text": [
            "mae 0.04318476018281309 share 26.504534212695795\n"
          ],
          "name": "stdout"
        }
      ]
    },
    {
      "cell_type": "code",
      "metadata": {
        "colab": {
          "base_uri": "https://localhost:8080/"
        },
        "id": "JA9RibhQj_oZ",
        "outputId": "fcddbc9e-cb62-49ec-c3f2-c372bbdbe32c"
      },
      "source": [
        "mRF=ensemble.RandomForestRegressor (n_estimators=2000, max_depth=50)\n",
        "mRF.fit(train_data, train_labels)\n",
        "pred_RF=mRF.predict(test_data)\n",
        "mae=metrics.mean_absolute_error (test_labels, pred_RF)\n",
        "mclf=my_custom_loss_func (test_labels, pred_RF)\n",
        "print ('mae', mae,'share', mclf)"
      ],
      "id": "JA9RibhQj_oZ",
      "execution_count": null,
      "outputs": [
        {
          "output_type": "stream",
          "text": [
            "mae 0.015961434363308505 share 8.989993746091308\n"
          ],
          "name": "stdout"
        }
      ]
    },
    {
      "cell_type": "code",
      "metadata": {
        "colab": {
          "base_uri": "https://localhost:8080/"
        },
        "id": "UykTP5tZksVV",
        "outputId": "8fe056ce-7c7b-4d27-94ae-1f578f8f05f8"
      },
      "source": [
        "MyDTree=tree.DecisionTreeRegressor (  )\n",
        "MyDTree.fit (train_data, train_labels)\n",
        "pred_MyDtree= MyDTree.predict (test_data)\n",
        "mae=metrics.mean_absolute_error (test_labels, pred_MyDtree)\n",
        "mclf=my_custom_loss_func (test_labels, pred_MyDtree)\n",
        "print ('mae', mae,'share', mclf)"
      ],
      "id": "UykTP5tZksVV",
      "execution_count": null,
      "outputs": [
        {
          "output_type": "stream",
          "text": [
            "mae 0.02393198109824811 share 11.770244821092279\n"
          ],
          "name": "stdout"
        }
      ]
    },
    {
      "cell_type": "code",
      "metadata": {
        "colab": {
          "base_uri": "https://localhost:8080/"
        },
        "id": "pBfE8MF8UmFG",
        "outputId": "8c5b6b30-2653-41ac-d6db-ef4185f1ba3c"
      },
      "source": [
        "pred_MyDtree_h= MyDTree.predict (hold)\n",
        "mae=metrics.mean_absolute_error (hold_labels, pred_MyDtree_h)\n",
        "mclf=my_custom_loss_func (hold_labels, pred_MyDtree_h)\n",
        "print ('mae', mae,'share', mclf)"
      ],
      "id": "pBfE8MF8UmFG",
      "execution_count": null,
      "outputs": [
        {
          "output_type": "stream",
          "text": [
            "mae 0.2830797358209062 share 83.38907469342251\n"
          ],
          "name": "stdout"
        }
      ]
    },
    {
      "cell_type": "code",
      "metadata": {
        "id": "X2bvceJ74t2S"
      },
      "source": [
        "pca= decomposition.PCA ()\n",
        "pca.fit_transform(train)\n",
        "pca_variance = pca.explained_variance_\n",
        "plt.figure(figsize=(8, 6))\n",
        "plt.bar(range(234), pca_variance,  align='center', label='individual variance')\n",
        "plt.legend()\n",
        "plt.ylabel('Variance ratio')\n",
        "plt.xlabel('Principal components')\n",
        "plt.show()"
      ],
      "id": "X2bvceJ74t2S",
      "execution_count": null,
      "outputs": []
    },
    {
      "cell_type": "code",
      "metadata": {
        "id": "3PxIdPm653t_"
      },
      "source": [
        "#pca2 = decomposition.PCA(n_components=200)\n",
        "#train_data_m=pca2.fit_transform (train_data)\n",
        "#test_data_m=pca2.transform (test_data)"
      ],
      "id": "3PxIdPm653t_",
      "execution_count": null,
      "outputs": []
    },
    {
      "cell_type": "code",
      "metadata": {
        "id": "MamZ1BTUxQEr"
      },
      "source": [
        "#svd=decomposition.TruncatedSVD (n_components=200)\n",
        "#train_data_m=svd.fit_transform (train_data)\n",
        "#test_data_m=svd.transform (test_data)"
      ],
      "id": "MamZ1BTUxQEr",
      "execution_count": null,
      "outputs": []
    },
    {
      "cell_type": "code",
      "metadata": {
        "id": "QToGtn6ZktS1"
      },
      "source": [
        "##MySVM=svm.LinearSVR (max_iter=3000 )\n",
        "#MySVM.fit (train_data, train_labels)\n",
        "#pred_SVM=MySVM.predict (test_data)\n",
        "#mae=metrics.mean_absolute_error (test_labels, pred_SVM)\n",
        "#mclf=my_custom_loss_func (test_labels, pred_SVM)\n",
        "#print ('mae', mae,'share', mclf)"
      ],
      "id": "QToGtn6ZktS1",
      "execution_count": null,
      "outputs": []
    },
    {
      "cell_type": "code",
      "metadata": {
        "id": "jCJDFxmWKJqD"
      },
      "source": [
        "estimators = [('xgb', xgb.XGBRegressor (learning_rate=0.13, n_estimators=100, min_child_weight=1, objective='reg:squarederror', booster='gbtree',   tree_method='hist', max_depth=125)),\n",
        "              ('Kneigh', neighbors.KNeighborsRegressor (n_neighbors=1) ),\n",
        "             ('RF', ensemble.RandomForestRegressor (n_estimators=2000, max_depth=50) ),\n",
        "            \n",
        "             ('dtree', tree.DecisionTreeRegressor() )]"
      ],
      "id": "jCJDFxmWKJqD",
      "execution_count": null,
      "outputs": []
    },
    {
      "cell_type": "code",
      "metadata": {
        "id": "LzzGHmdKMM43"
      },
      "source": [
        "estimators_stuck = [('Kneigh', neighbors.KNeighborsRegressor (n_neighbors=1) ),\n",
        "                    ('RF', ensemble.RandomForestRegressor (n_estimators=1000, max_depth=50) ),\n",
        "                    \n",
        "                    ('dtree', tree.DecisionTreeRegressor() )]"
      ],
      "id": "LzzGHmdKMM43",
      "execution_count": null,
      "outputs": []
    },
    {
      "cell_type": "code",
      "metadata": {
        "colab": {
          "base_uri": "https://localhost:8080/"
        },
        "id": "rKh5kSX7MBu-",
        "outputId": "7da7581b-860d-4b4a-e106-5a90327cb3d0"
      },
      "source": [
        "vote = ensemble.VotingRegressor (estimators=estimators)\n",
        "vote.fit (train_data, train_labels)"
      ],
      "id": "rKh5kSX7MBu-",
      "execution_count": null,
      "outputs": [
        {
          "output_type": "execute_result",
          "data": {
            "text/plain": [
              "VotingRegressor(estimators=[('xgb',\n",
              "                             XGBRegressor(base_score=0.5, booster='gbtree',\n",
              "                                          colsample_bylevel=1,\n",
              "                                          colsample_bynode=1,\n",
              "                                          colsample_bytree=1, gamma=0,\n",
              "                                          importance_type='gain',\n",
              "                                          learning_rate=0.13, max_delta_step=0,\n",
              "                                          max_depth=125, min_child_weight=1,\n",
              "                                          missing=None, n_estimators=100,\n",
              "                                          n_jobs=1, nthread=None,\n",
              "                                          objective='reg:squarederror',\n",
              "                                          random_state=0, reg_alpha=0,\n",
              "                                          reg_...\n",
              "                                                   random_state=None, verbose=0,\n",
              "                                                   warm_start=False)),\n",
              "                            ('dtree',\n",
              "                             DecisionTreeRegressor(ccp_alpha=0.0,\n",
              "                                                   criterion='mse',\n",
              "                                                   max_depth=None,\n",
              "                                                   max_features=None,\n",
              "                                                   max_leaf_nodes=None,\n",
              "                                                   min_impurity_decrease=0.0,\n",
              "                                                   min_impurity_split=None,\n",
              "                                                   min_samples_leaf=1,\n",
              "                                                   min_samples_split=2,\n",
              "                                                   min_weight_fraction_leaf=0.0,\n",
              "                                                   presort='deprecated',\n",
              "                                                   random_state=None,\n",
              "                                                   splitter='best'))],\n",
              "                n_jobs=None, weights=None)"
            ]
          },
          "metadata": {
            "tags": []
          },
          "execution_count": 31
        }
      ]
    },
    {
      "cell_type": "code",
      "metadata": {
        "colab": {
          "base_uri": "https://localhost:8080/"
        },
        "id": "Ef0vV3lGMBiw",
        "outputId": "47ade202-0017-46bc-83e7-04450d3232c7"
      },
      "source": [
        "v_t=vote.predict (test_data)\n",
        "mae=metrics.mean_absolute_error (test_labels, v_t)\n",
        "mclf=my_custom_loss_func (test_labels, v_t)\n",
        "print ('mae', mae,'share', mclf)"
      ],
      "id": "Ef0vV3lGMBiw",
      "execution_count": null,
      "outputs": [
        {
          "output_type": "stream",
          "text": [
            "mae 0.018581189801454238 share 10.512279142126904\n"
          ],
          "name": "stdout"
        }
      ]
    },
    {
      "cell_type": "code",
      "metadata": {
        "id": "Aq3OaqJPhx0P"
      },
      "source": [
        "pd.DataFrame(v_t)"
      ],
      "id": "Aq3OaqJPhx0P",
      "execution_count": null,
      "outputs": []
    },
    {
      "cell_type": "code",
      "metadata": {
        "id": "e0sCsfQYOLoN"
      },
      "source": [
        "pd.DataFrame(test_labels)"
      ],
      "id": "e0sCsfQYOLoN",
      "execution_count": null,
      "outputs": []
    },
    {
      "cell_type": "code",
      "metadata": {
        "colab": {
          "base_uri": "https://localhost:8080/"
        },
        "id": "AjxnEgy_VeSN",
        "outputId": "3912b325-d617-48a4-dd95-c0ac6b43f0ec"
      },
      "source": [
        "v_h=vote.predict (hold)\n",
        "mae=metrics.mean_absolute_error (hold_labels, v_h)\n",
        "mclf=my_custom_loss_func (hold_labels, v_h)\n",
        "print ('mae', mae,'share', mclf)"
      ],
      "id": "AjxnEgy_VeSN",
      "execution_count": null,
      "outputs": [
        {
          "output_type": "stream",
          "text": [
            "mae 0.1747286980084988 share 73.91304347826086\n"
          ],
          "name": "stdout"
        }
      ]
    },
    {
      "cell_type": "code",
      "metadata": {
        "colab": {
          "base_uri": "https://localhost:8080/"
        },
        "id": "1wL_ADMDZzl1",
        "outputId": "a66b8937-6185-47c8-f182-8fc026cc4694"
      },
      "source": [
        "stack = ensemble.StackingRegressor (estimators=estimators_stuck, final_estimator=MyDTree)\n",
        "stack.fit (train_data, train_labels)"
      ],
      "id": "1wL_ADMDZzl1",
      "execution_count": null,
      "outputs": [
        {
          "output_type": "execute_result",
          "data": {
            "text/plain": [
              "StackingRegressor(cv=None,\n",
              "                  estimators=[('Kneigh',\n",
              "                               KNeighborsRegressor(algorithm='auto',\n",
              "                                                   leaf_size=30,\n",
              "                                                   metric='minkowski',\n",
              "                                                   metric_params=None,\n",
              "                                                   n_jobs=None, n_neighbors=1,\n",
              "                                                   p=2, weights='uniform')),\n",
              "                              ('RF',\n",
              "                               RandomForestRegressor(bootstrap=True,\n",
              "                                                     ccp_alpha=0.0,\n",
              "                                                     criterion='mse',\n",
              "                                                     max_depth=50,\n",
              "                                                     max_features='auto',\n",
              "                                                     max_leaf_nodes=None,\n",
              "                                                     max_samples=None,\n",
              "                                                     min_impurity_decrease...\n",
              "                                                     splitter='best'))],\n",
              "                  final_estimator=DecisionTreeRegressor(ccp_alpha=0.0,\n",
              "                                                        criterion='mse',\n",
              "                                                        max_depth=None,\n",
              "                                                        max_features=None,\n",
              "                                                        max_leaf_nodes=None,\n",
              "                                                        min_impurity_decrease=0.0,\n",
              "                                                        min_impurity_split=None,\n",
              "                                                        min_samples_leaf=1,\n",
              "                                                        min_samples_split=2,\n",
              "                                                        min_weight_fraction_leaf=0.0,\n",
              "                                                        presort='deprecated',\n",
              "                                                        random_state=None,\n",
              "                                                        splitter='best'),\n",
              "                  n_jobs=None, passthrough=False, verbose=0)"
            ]
          },
          "metadata": {
            "tags": []
          },
          "execution_count": 34
        }
      ]
    },
    {
      "cell_type": "code",
      "metadata": {
        "colab": {
          "base_uri": "https://localhost:8080/"
        },
        "id": "cObNM8hZlmJZ",
        "outputId": "7004fd5b-9c90-4e34-b5a5-e66b81770f89"
      },
      "source": [
        "s=stack.predict (test_data)\n",
        "mae=metrics.mean_absolute_error (test_labels, s)\n",
        "mclf=my_custom_loss_func (test_labels, s)\n",
        "print ('mae', mae,'share', mclf)"
      ],
      "id": "cObNM8hZlmJZ",
      "execution_count": null,
      "outputs": [
        {
          "output_type": "stream",
          "text": [
            "mae 0.046114005643006904 share 22.880320035559507\n"
          ],
          "name": "stdout"
        }
      ]
    },
    {
      "cell_type": "code",
      "metadata": {
        "colab": {
          "base_uri": "https://localhost:8080/"
        },
        "id": "KIDYdr3qgnY2",
        "outputId": "cade99b6-df6f-48b4-a94e-0b56ca63a648"
      },
      "source": [
        "h=stack.predict (hold)\n",
        "mae=metrics.mean_absolute_error (hold_labels, h)\n",
        "mclf=my_custom_loss_func (hold_labels, h)\n",
        "print ('mae', mae,'share', mclf)"
      ],
      "id": "KIDYdr3qgnY2",
      "execution_count": null,
      "outputs": [
        {
          "output_type": "stream",
          "text": [
            "mae 0.20428703922619804 share 77.8149386845039\n"
          ],
          "name": "stdout"
        }
      ]
    },
    {
      "cell_type": "code",
      "metadata": {
        "id": "8CjvgGS-Qdh1"
      },
      "source": [
        "фывф"
      ],
      "id": "8CjvgGS-Qdh1",
      "execution_count": null,
      "outputs": []
    },
    {
      "cell_type": "code",
      "metadata": {
        "id": "HOBJAWSamMNt"
      },
      "source": [
        "mm=models.Sequential () \n",
        "mm.add (layers.Dense (128, activation='elu'))\n",
        "mm.add (layers.Dense (256,  activation='elu'))\n",
        "#mm.add (layers.Dense (524,  activation='elu'))\n",
        "#mm.add (layers.Dropout(0.4))\n",
        "#mm.add (layers.Dense (256,  activation='elu'))\n",
        "#mm.add (layers.BatchNormalization ())\n",
        "#mm.add (layers.Dropout(0.5))\n",
        "#mm.add (layers.Dense (256, activation='elu'))\n",
        "#mm.add (layers.BatchNormalization ())\n",
        "mm.add (layers.Dense (1))"
      ],
      "id": "HOBJAWSamMNt",
      "execution_count": null,
      "outputs": []
    },
    {
      "cell_type": "code",
      "metadata": {
        "id": "L0z8sygOmVJR"
      },
      "source": [
        "mm.compile (optimizer='adam' , loss='mse', metrics='mae')\n",
        "hst=mm.fit (train_data, train_labels, validation_data=(test_data, test_labels), batch_size=128, epochs=500)"
      ],
      "id": "L0z8sygOmVJR",
      "execution_count": null,
      "outputs": []
    },
    {
      "cell_type": "code",
      "metadata": {
        "id": "wuRRIlsVmk2A"
      },
      "source": [
        "hd=hst.history\n",
        "loss = hd['loss']\n",
        "loss=loss[50:]\n",
        "val_loss = hd['val_loss']\n",
        "val_loss=val_loss[50:]\n",
        "epochs = range (1, len(loss)+1)\n",
        "plt.plot (epochs, loss, 'b' )\n",
        "plt.plot (epochs, val_loss, 'r')\n",
        "plt.show()"
      ],
      "id": "wuRRIlsVmk2A",
      "execution_count": null,
      "outputs": []
    },
    {
      "cell_type": "code",
      "metadata": {
        "id": "49GrTTFWqqMG"
      },
      "source": [
        "b=mm.predict(test_data)\n",
        "b.ravel()\n",
        "f=b[:,0].ravel()"
      ],
      "id": "49GrTTFWqqMG",
      "execution_count": null,
      "outputs": []
    },
    {
      "cell_type": "code",
      "metadata": {
        "id": "nhWyj5YiqvNi"
      },
      "source": [
        "print ('share', my_custom_loss_func (test_labels, f) )"
      ],
      "id": "nhWyj5YiqvNi",
      "execution_count": null,
      "outputs": []
    },
    {
      "cell_type": "code",
      "metadata": {
        "id": "U_ZRq3oVjWGQ"
      },
      "source": [
        "train=train.drop (['Population'], axis=1)\n",
        "hold=hold.drop (['Population'], axis=1)"
      ],
      "id": "U_ZRq3oVjWGQ",
      "execution_count": null,
      "outputs": []
    },
    {
      "cell_type": "code",
      "metadata": {
        "id": "rcEyxFtBrjcF"
      },
      "source": [
        "cols_c"
      ],
      "id": "rcEyxFtBrjcF",
      "execution_count": null,
      "outputs": []
    },
    {
      "cell_type": "code",
      "metadata": {
        "id": "8R7lLaa9mmqN"
      },
      "source": [
        "common"
      ],
      "id": "8R7lLaa9mmqN",
      "execution_count": null,
      "outputs": []
    },
    {
      "cell_type": "code",
      "metadata": {
        "id": "u_IP4Nfrqvye"
      },
      "source": [
        "labels"
      ],
      "id": "u_IP4Nfrqvye",
      "execution_count": null,
      "outputs": []
    },
    {
      "cell_type": "code",
      "metadata": {
        "id": "-AhQjeKzlOER"
      },
      "source": [
        "c=np.concatenate ((np.array(train), np.array(hold)), axis=0 )\n",
        "common=pd.DataFrame (c, columns=cols_c)"
      ],
      "id": "-AhQjeKzlOER",
      "execution_count": null,
      "outputs": []
    },
    {
      "cell_type": "code",
      "metadata": {
        "id": "63BlBe5inGZg"
      },
      "source": [
        "cl=np.concatenate ((np.array(labels), np.array(hold_labels)), axis=0 )\n",
        "common_labels=pd.DataFrame (cl)"
      ],
      "id": "63BlBe5inGZg",
      "execution_count": null,
      "outputs": []
    },
    {
      "cell_type": "code",
      "metadata": {
        "id": "7ABc36vGaY0d"
      },
      "source": [
        "cl_tree=cluster.AgglomerativeClustering (n_clusters=None, distance_threshold=3.0)"
      ],
      "id": "7ABc36vGaY0d",
      "execution_count": null,
      "outputs": []
    },
    {
      "cell_type": "code",
      "metadata": {
        "id": "tfgh9ARkUeN0"
      },
      "source": [
        "df=cl_tree.fit (train_data)\n",
        "cl_tree.n_clusters_"
      ],
      "id": "tfgh9ARkUeN0",
      "execution_count": null,
      "outputs": []
    },
    {
      "cell_type": "code",
      "metadata": {
        "id": "0uNwqfGAlR-L"
      },
      "source": [
        "train_data[0]"
      ],
      "id": "0uNwqfGAlR-L",
      "execution_count": null,
      "outputs": []
    },
    {
      "cell_type": "code",
      "metadata": {
        "id": "lI2xdvMGdK1h"
      },
      "source": [
        "cl_dbscan=cluster.DBSCAN (min_samples=15, eps=20)"
      ],
      "id": "lI2xdvMGdK1h",
      "execution_count": null,
      "outputs": []
    },
    {
      "cell_type": "code",
      "metadata": {
        "id": "Lco5NIs6h4Hw"
      },
      "source": [
        "df=cl_dbscan.fit_predict (train_data)"
      ],
      "id": "Lco5NIs6h4Hw",
      "execution_count": null,
      "outputs": []
    },
    {
      "cell_type": "code",
      "metadata": {
        "id": "fvp8RyRUjrgg"
      },
      "source": [
        "df.max()"
      ],
      "id": "fvp8RyRUjrgg",
      "execution_count": null,
      "outputs": []
    },
    {
      "cell_type": "code",
      "metadata": {
        "colab": {
          "base_uri": "https://localhost:8080/"
        },
        "id": "ITsUPihIkcBZ",
        "outputId": "f1c9ce9e-601a-4e64-b60b-ed92f23f8482"
      },
      "source": [
        "train['Cluster']=df"
      ],
      "id": "ITsUPihIkcBZ",
      "execution_count": null,
      "outputs": [
        {
          "output_type": "stream",
          "text": [
            "/usr/local/lib/python3.7/dist-packages/ipykernel_launcher.py:1: SettingWithCopyWarning: \n",
            "A value is trying to be set on a copy of a slice from a DataFrame.\n",
            "Try using .loc[row_indexer,col_indexer] = value instead\n",
            "\n",
            "See the caveats in the documentation: https://pandas.pydata.org/pandas-docs/stable/user_guide/indexing.html#returning-a-view-versus-a-copy\n",
            "  \"\"\"Entry point for launching an IPython kernel.\n"
          ],
          "name": "stderr"
        }
      ]
    },
    {
      "cell_type": "code",
      "metadata": {
        "colab": {
          "base_uri": "https://localhost:8080/",
          "height": 439
        },
        "id": "Dhp3aUUFk45v",
        "outputId": "12e34946-868b-4480-9725-ef1752109bb8"
      },
      "source": [
        "train"
      ],
      "id": "Dhp3aUUFk45v",
      "execution_count": null,
      "outputs": [
        {
          "output_type": "execute_result",
          "data": {
            "text/html": [
              "<div>\n",
              "<style scoped>\n",
              "    .dataframe tbody tr th:only-of-type {\n",
              "        vertical-align: middle;\n",
              "    }\n",
              "\n",
              "    .dataframe tbody tr th {\n",
              "        vertical-align: top;\n",
              "    }\n",
              "\n",
              "    .dataframe thead th {\n",
              "        text-align: right;\n",
              "    }\n",
              "</style>\n",
              "<table border=\"1\" class=\"dataframe\">\n",
              "  <thead>\n",
              "    <tr style=\"text-align: right;\">\n",
              "      <th></th>\n",
              "      <th>PriceNoTax</th>\n",
              "      <th>GRP</th>\n",
              "      <th>Latitude</th>\n",
              "      <th>Longitude</th>\n",
              "      <th>Population</th>\n",
              "      <th>Size</th>\n",
              "      <th>YearNum</th>\n",
              "      <th>Month_Id</th>\n",
              "      <th>Seazon</th>\n",
              "      <th>OperatorR1</th>\n",
              "      <th>Budget</th>\n",
              "      <th>ConstrGroup_0</th>\n",
              "      <th>ConstrGroup_1</th>\n",
              "      <th>ConstrGroup_2</th>\n",
              "      <th>ConstrGroup_3</th>\n",
              "      <th>ConstrGroup_4</th>\n",
              "      <th>ExpoType_0</th>\n",
              "      <th>ExpoType_1</th>\n",
              "      <th>ExpoType_2</th>\n",
              "      <th>ExpoType_3</th>\n",
              "      <th>Seller_Cat_1</th>\n",
              "      <th>Seller_Cat_2</th>\n",
              "      <th>Seller_Cat_3</th>\n",
              "      <th>Seller_Cat_4</th>\n",
              "      <th>Seller_Cat_8</th>\n",
              "      <th>Seller_Cat_9</th>\n",
              "      <th>Seller_Cat_13</th>\n",
              "      <th>Seller_Cat_15</th>\n",
              "      <th>Seller_Cat_16</th>\n",
              "      <th>Seller_Cat_17</th>\n",
              "      <th>Seller_Cat_18</th>\n",
              "      <th>Seller_Cat_19</th>\n",
              "      <th>Seller_Cat_20</th>\n",
              "      <th>Seller_Cat_21</th>\n",
              "      <th>Seller_Cat_22</th>\n",
              "      <th>Seller_Cat_24</th>\n",
              "      <th>Seller_Cat_27</th>\n",
              "      <th>Seller_Cat_28</th>\n",
              "      <th>Seller_Cat_29</th>\n",
              "      <th>Seller_Cat_30</th>\n",
              "      <th>...</th>\n",
              "      <th>Seller_Cat_231</th>\n",
              "      <th>Seller_Cat_233</th>\n",
              "      <th>Seller_Cat_235</th>\n",
              "      <th>Seller_Cat_236</th>\n",
              "      <th>Seller_Cat_237</th>\n",
              "      <th>Seller_Cat_238</th>\n",
              "      <th>Seller_Cat_240</th>\n",
              "      <th>Seller_Cat_241</th>\n",
              "      <th>Seller_Cat_242</th>\n",
              "      <th>Seller_Cat_245</th>\n",
              "      <th>Seller_Cat_246</th>\n",
              "      <th>Seller_Cat_247</th>\n",
              "      <th>Seller_Cat_248</th>\n",
              "      <th>Seller_Cat_249</th>\n",
              "      <th>Seller_Cat_250</th>\n",
              "      <th>Seller_Cat_251</th>\n",
              "      <th>Seller_Cat_252</th>\n",
              "      <th>Seller_Cat_254</th>\n",
              "      <th>Seller_Cat_255</th>\n",
              "      <th>Seller_Cat_256</th>\n",
              "      <th>Seller_Cat_257</th>\n",
              "      <th>Seller_Cat_258</th>\n",
              "      <th>Seller_Cat_259</th>\n",
              "      <th>Seller_Cat_261</th>\n",
              "      <th>Seller_Cat_262</th>\n",
              "      <th>Seller_Cat_263</th>\n",
              "      <th>Seller_Cat_264</th>\n",
              "      <th>Seller_Cat_265</th>\n",
              "      <th>Seller_Cat_266</th>\n",
              "      <th>Seller_Cat_267</th>\n",
              "      <th>Seller_Cat_268</th>\n",
              "      <th>Seller_Cat_270</th>\n",
              "      <th>Seller_Cat_272</th>\n",
              "      <th>Seller_Cat_274</th>\n",
              "      <th>Seller_Cat_275</th>\n",
              "      <th>BrandR1_0</th>\n",
              "      <th>BrandR1_1</th>\n",
              "      <th>BrandR1_2</th>\n",
              "      <th>BrandR1_3</th>\n",
              "      <th>Cluster</th>\n",
              "    </tr>\n",
              "  </thead>\n",
              "  <tbody>\n",
              "    <tr>\n",
              "      <th>0</th>\n",
              "      <td>85000.0</td>\n",
              "      <td>1.750000</td>\n",
              "      <td>59.985716</td>\n",
              "      <td>30.362817</td>\n",
              "      <td>5383890</td>\n",
              "      <td>18.00</td>\n",
              "      <td>2</td>\n",
              "      <td>4</td>\n",
              "      <td>1</td>\n",
              "      <td>2</td>\n",
              "      <td>5</td>\n",
              "      <td>0</td>\n",
              "      <td>0</td>\n",
              "      <td>1</td>\n",
              "      <td>0</td>\n",
              "      <td>0</td>\n",
              "      <td>0</td>\n",
              "      <td>0</td>\n",
              "      <td>0</td>\n",
              "      <td>1</td>\n",
              "      <td>0</td>\n",
              "      <td>0</td>\n",
              "      <td>0</td>\n",
              "      <td>0</td>\n",
              "      <td>0</td>\n",
              "      <td>0</td>\n",
              "      <td>0</td>\n",
              "      <td>0</td>\n",
              "      <td>0</td>\n",
              "      <td>0</td>\n",
              "      <td>1</td>\n",
              "      <td>0</td>\n",
              "      <td>0</td>\n",
              "      <td>0</td>\n",
              "      <td>0</td>\n",
              "      <td>0</td>\n",
              "      <td>0</td>\n",
              "      <td>0</td>\n",
              "      <td>0</td>\n",
              "      <td>0</td>\n",
              "      <td>...</td>\n",
              "      <td>0</td>\n",
              "      <td>0</td>\n",
              "      <td>0</td>\n",
              "      <td>0</td>\n",
              "      <td>0</td>\n",
              "      <td>0</td>\n",
              "      <td>0</td>\n",
              "      <td>0</td>\n",
              "      <td>0</td>\n",
              "      <td>0</td>\n",
              "      <td>0</td>\n",
              "      <td>0</td>\n",
              "      <td>0</td>\n",
              "      <td>0</td>\n",
              "      <td>0</td>\n",
              "      <td>0</td>\n",
              "      <td>0</td>\n",
              "      <td>0</td>\n",
              "      <td>0</td>\n",
              "      <td>0</td>\n",
              "      <td>0</td>\n",
              "      <td>0</td>\n",
              "      <td>0</td>\n",
              "      <td>0</td>\n",
              "      <td>0</td>\n",
              "      <td>0</td>\n",
              "      <td>0</td>\n",
              "      <td>0</td>\n",
              "      <td>0</td>\n",
              "      <td>0</td>\n",
              "      <td>0</td>\n",
              "      <td>0</td>\n",
              "      <td>0</td>\n",
              "      <td>0</td>\n",
              "      <td>0</td>\n",
              "      <td>0</td>\n",
              "      <td>1</td>\n",
              "      <td>0</td>\n",
              "      <td>0</td>\n",
              "      <td>-1</td>\n",
              "    </tr>\n",
              "    <tr>\n",
              "      <th>1</th>\n",
              "      <td>120000.0</td>\n",
              "      <td>1.150000</td>\n",
              "      <td>59.957911</td>\n",
              "      <td>30.402703</td>\n",
              "      <td>5383890</td>\n",
              "      <td>18.00</td>\n",
              "      <td>2</td>\n",
              "      <td>4</td>\n",
              "      <td>1</td>\n",
              "      <td>2</td>\n",
              "      <td>5</td>\n",
              "      <td>0</td>\n",
              "      <td>0</td>\n",
              "      <td>1</td>\n",
              "      <td>0</td>\n",
              "      <td>0</td>\n",
              "      <td>0</td>\n",
              "      <td>0</td>\n",
              "      <td>0</td>\n",
              "      <td>1</td>\n",
              "      <td>0</td>\n",
              "      <td>0</td>\n",
              "      <td>0</td>\n",
              "      <td>0</td>\n",
              "      <td>0</td>\n",
              "      <td>0</td>\n",
              "      <td>0</td>\n",
              "      <td>0</td>\n",
              "      <td>0</td>\n",
              "      <td>0</td>\n",
              "      <td>1</td>\n",
              "      <td>0</td>\n",
              "      <td>0</td>\n",
              "      <td>0</td>\n",
              "      <td>0</td>\n",
              "      <td>0</td>\n",
              "      <td>0</td>\n",
              "      <td>0</td>\n",
              "      <td>0</td>\n",
              "      <td>0</td>\n",
              "      <td>...</td>\n",
              "      <td>0</td>\n",
              "      <td>0</td>\n",
              "      <td>0</td>\n",
              "      <td>0</td>\n",
              "      <td>0</td>\n",
              "      <td>0</td>\n",
              "      <td>0</td>\n",
              "      <td>0</td>\n",
              "      <td>0</td>\n",
              "      <td>0</td>\n",
              "      <td>0</td>\n",
              "      <td>0</td>\n",
              "      <td>0</td>\n",
              "      <td>0</td>\n",
              "      <td>0</td>\n",
              "      <td>0</td>\n",
              "      <td>0</td>\n",
              "      <td>0</td>\n",
              "      <td>0</td>\n",
              "      <td>0</td>\n",
              "      <td>0</td>\n",
              "      <td>0</td>\n",
              "      <td>0</td>\n",
              "      <td>0</td>\n",
              "      <td>0</td>\n",
              "      <td>0</td>\n",
              "      <td>0</td>\n",
              "      <td>0</td>\n",
              "      <td>0</td>\n",
              "      <td>0</td>\n",
              "      <td>0</td>\n",
              "      <td>0</td>\n",
              "      <td>0</td>\n",
              "      <td>0</td>\n",
              "      <td>0</td>\n",
              "      <td>0</td>\n",
              "      <td>1</td>\n",
              "      <td>0</td>\n",
              "      <td>0</td>\n",
              "      <td>-1</td>\n",
              "    </tr>\n",
              "    <tr>\n",
              "      <th>2</th>\n",
              "      <td>85000.0</td>\n",
              "      <td>0.510000</td>\n",
              "      <td>60.003023</td>\n",
              "      <td>30.331454</td>\n",
              "      <td>5383890</td>\n",
              "      <td>18.00</td>\n",
              "      <td>2</td>\n",
              "      <td>4</td>\n",
              "      <td>1</td>\n",
              "      <td>2</td>\n",
              "      <td>5</td>\n",
              "      <td>0</td>\n",
              "      <td>0</td>\n",
              "      <td>1</td>\n",
              "      <td>0</td>\n",
              "      <td>0</td>\n",
              "      <td>0</td>\n",
              "      <td>0</td>\n",
              "      <td>0</td>\n",
              "      <td>1</td>\n",
              "      <td>0</td>\n",
              "      <td>0</td>\n",
              "      <td>0</td>\n",
              "      <td>0</td>\n",
              "      <td>0</td>\n",
              "      <td>0</td>\n",
              "      <td>0</td>\n",
              "      <td>0</td>\n",
              "      <td>0</td>\n",
              "      <td>0</td>\n",
              "      <td>1</td>\n",
              "      <td>0</td>\n",
              "      <td>0</td>\n",
              "      <td>0</td>\n",
              "      <td>0</td>\n",
              "      <td>0</td>\n",
              "      <td>0</td>\n",
              "      <td>0</td>\n",
              "      <td>0</td>\n",
              "      <td>0</td>\n",
              "      <td>...</td>\n",
              "      <td>0</td>\n",
              "      <td>0</td>\n",
              "      <td>0</td>\n",
              "      <td>0</td>\n",
              "      <td>0</td>\n",
              "      <td>0</td>\n",
              "      <td>0</td>\n",
              "      <td>0</td>\n",
              "      <td>0</td>\n",
              "      <td>0</td>\n",
              "      <td>0</td>\n",
              "      <td>0</td>\n",
              "      <td>0</td>\n",
              "      <td>0</td>\n",
              "      <td>0</td>\n",
              "      <td>0</td>\n",
              "      <td>0</td>\n",
              "      <td>0</td>\n",
              "      <td>0</td>\n",
              "      <td>0</td>\n",
              "      <td>0</td>\n",
              "      <td>0</td>\n",
              "      <td>0</td>\n",
              "      <td>0</td>\n",
              "      <td>0</td>\n",
              "      <td>0</td>\n",
              "      <td>0</td>\n",
              "      <td>0</td>\n",
              "      <td>0</td>\n",
              "      <td>0</td>\n",
              "      <td>0</td>\n",
              "      <td>0</td>\n",
              "      <td>0</td>\n",
              "      <td>0</td>\n",
              "      <td>0</td>\n",
              "      <td>0</td>\n",
              "      <td>1</td>\n",
              "      <td>0</td>\n",
              "      <td>0</td>\n",
              "      <td>-1</td>\n",
              "    </tr>\n",
              "    <tr>\n",
              "      <th>3</th>\n",
              "      <td>85000.0</td>\n",
              "      <td>1.310000</td>\n",
              "      <td>59.859179</td>\n",
              "      <td>30.253073</td>\n",
              "      <td>5383890</td>\n",
              "      <td>18.00</td>\n",
              "      <td>2</td>\n",
              "      <td>4</td>\n",
              "      <td>1</td>\n",
              "      <td>2</td>\n",
              "      <td>5</td>\n",
              "      <td>0</td>\n",
              "      <td>0</td>\n",
              "      <td>1</td>\n",
              "      <td>0</td>\n",
              "      <td>0</td>\n",
              "      <td>0</td>\n",
              "      <td>0</td>\n",
              "      <td>0</td>\n",
              "      <td>1</td>\n",
              "      <td>0</td>\n",
              "      <td>0</td>\n",
              "      <td>0</td>\n",
              "      <td>0</td>\n",
              "      <td>0</td>\n",
              "      <td>0</td>\n",
              "      <td>0</td>\n",
              "      <td>0</td>\n",
              "      <td>0</td>\n",
              "      <td>0</td>\n",
              "      <td>1</td>\n",
              "      <td>0</td>\n",
              "      <td>0</td>\n",
              "      <td>0</td>\n",
              "      <td>0</td>\n",
              "      <td>0</td>\n",
              "      <td>0</td>\n",
              "      <td>0</td>\n",
              "      <td>0</td>\n",
              "      <td>0</td>\n",
              "      <td>...</td>\n",
              "      <td>0</td>\n",
              "      <td>0</td>\n",
              "      <td>0</td>\n",
              "      <td>0</td>\n",
              "      <td>0</td>\n",
              "      <td>0</td>\n",
              "      <td>0</td>\n",
              "      <td>0</td>\n",
              "      <td>0</td>\n",
              "      <td>0</td>\n",
              "      <td>0</td>\n",
              "      <td>0</td>\n",
              "      <td>0</td>\n",
              "      <td>0</td>\n",
              "      <td>0</td>\n",
              "      <td>0</td>\n",
              "      <td>0</td>\n",
              "      <td>0</td>\n",
              "      <td>0</td>\n",
              "      <td>0</td>\n",
              "      <td>0</td>\n",
              "      <td>0</td>\n",
              "      <td>0</td>\n",
              "      <td>0</td>\n",
              "      <td>0</td>\n",
              "      <td>0</td>\n",
              "      <td>0</td>\n",
              "      <td>0</td>\n",
              "      <td>0</td>\n",
              "      <td>0</td>\n",
              "      <td>0</td>\n",
              "      <td>0</td>\n",
              "      <td>0</td>\n",
              "      <td>0</td>\n",
              "      <td>0</td>\n",
              "      <td>0</td>\n",
              "      <td>1</td>\n",
              "      <td>0</td>\n",
              "      <td>0</td>\n",
              "      <td>-1</td>\n",
              "    </tr>\n",
              "    <tr>\n",
              "      <th>4</th>\n",
              "      <td>85000.0</td>\n",
              "      <td>1.180000</td>\n",
              "      <td>59.845297</td>\n",
              "      <td>30.211271</td>\n",
              "      <td>5383890</td>\n",
              "      <td>18.00</td>\n",
              "      <td>2</td>\n",
              "      <td>4</td>\n",
              "      <td>1</td>\n",
              "      <td>2</td>\n",
              "      <td>5</td>\n",
              "      <td>0</td>\n",
              "      <td>0</td>\n",
              "      <td>1</td>\n",
              "      <td>0</td>\n",
              "      <td>0</td>\n",
              "      <td>0</td>\n",
              "      <td>0</td>\n",
              "      <td>0</td>\n",
              "      <td>1</td>\n",
              "      <td>0</td>\n",
              "      <td>0</td>\n",
              "      <td>0</td>\n",
              "      <td>0</td>\n",
              "      <td>0</td>\n",
              "      <td>0</td>\n",
              "      <td>0</td>\n",
              "      <td>0</td>\n",
              "      <td>0</td>\n",
              "      <td>0</td>\n",
              "      <td>1</td>\n",
              "      <td>0</td>\n",
              "      <td>0</td>\n",
              "      <td>0</td>\n",
              "      <td>0</td>\n",
              "      <td>0</td>\n",
              "      <td>0</td>\n",
              "      <td>0</td>\n",
              "      <td>0</td>\n",
              "      <td>0</td>\n",
              "      <td>...</td>\n",
              "      <td>0</td>\n",
              "      <td>0</td>\n",
              "      <td>0</td>\n",
              "      <td>0</td>\n",
              "      <td>0</td>\n",
              "      <td>0</td>\n",
              "      <td>0</td>\n",
              "      <td>0</td>\n",
              "      <td>0</td>\n",
              "      <td>0</td>\n",
              "      <td>0</td>\n",
              "      <td>0</td>\n",
              "      <td>0</td>\n",
              "      <td>0</td>\n",
              "      <td>0</td>\n",
              "      <td>0</td>\n",
              "      <td>0</td>\n",
              "      <td>0</td>\n",
              "      <td>0</td>\n",
              "      <td>0</td>\n",
              "      <td>0</td>\n",
              "      <td>0</td>\n",
              "      <td>0</td>\n",
              "      <td>0</td>\n",
              "      <td>0</td>\n",
              "      <td>0</td>\n",
              "      <td>0</td>\n",
              "      <td>0</td>\n",
              "      <td>0</td>\n",
              "      <td>0</td>\n",
              "      <td>0</td>\n",
              "      <td>0</td>\n",
              "      <td>0</td>\n",
              "      <td>0</td>\n",
              "      <td>0</td>\n",
              "      <td>0</td>\n",
              "      <td>1</td>\n",
              "      <td>0</td>\n",
              "      <td>0</td>\n",
              "      <td>-1</td>\n",
              "    </tr>\n",
              "    <tr>\n",
              "      <th>...</th>\n",
              "      <td>...</td>\n",
              "      <td>...</td>\n",
              "      <td>...</td>\n",
              "      <td>...</td>\n",
              "      <td>...</td>\n",
              "      <td>...</td>\n",
              "      <td>...</td>\n",
              "      <td>...</td>\n",
              "      <td>...</td>\n",
              "      <td>...</td>\n",
              "      <td>...</td>\n",
              "      <td>...</td>\n",
              "      <td>...</td>\n",
              "      <td>...</td>\n",
              "      <td>...</td>\n",
              "      <td>...</td>\n",
              "      <td>...</td>\n",
              "      <td>...</td>\n",
              "      <td>...</td>\n",
              "      <td>...</td>\n",
              "      <td>...</td>\n",
              "      <td>...</td>\n",
              "      <td>...</td>\n",
              "      <td>...</td>\n",
              "      <td>...</td>\n",
              "      <td>...</td>\n",
              "      <td>...</td>\n",
              "      <td>...</td>\n",
              "      <td>...</td>\n",
              "      <td>...</td>\n",
              "      <td>...</td>\n",
              "      <td>...</td>\n",
              "      <td>...</td>\n",
              "      <td>...</td>\n",
              "      <td>...</td>\n",
              "      <td>...</td>\n",
              "      <td>...</td>\n",
              "      <td>...</td>\n",
              "      <td>...</td>\n",
              "      <td>...</td>\n",
              "      <td>...</td>\n",
              "      <td>...</td>\n",
              "      <td>...</td>\n",
              "      <td>...</td>\n",
              "      <td>...</td>\n",
              "      <td>...</td>\n",
              "      <td>...</td>\n",
              "      <td>...</td>\n",
              "      <td>...</td>\n",
              "      <td>...</td>\n",
              "      <td>...</td>\n",
              "      <td>...</td>\n",
              "      <td>...</td>\n",
              "      <td>...</td>\n",
              "      <td>...</td>\n",
              "      <td>...</td>\n",
              "      <td>...</td>\n",
              "      <td>...</td>\n",
              "      <td>...</td>\n",
              "      <td>...</td>\n",
              "      <td>...</td>\n",
              "      <td>...</td>\n",
              "      <td>...</td>\n",
              "      <td>...</td>\n",
              "      <td>...</td>\n",
              "      <td>...</td>\n",
              "      <td>...</td>\n",
              "      <td>...</td>\n",
              "      <td>...</td>\n",
              "      <td>...</td>\n",
              "      <td>...</td>\n",
              "      <td>...</td>\n",
              "      <td>...</td>\n",
              "      <td>...</td>\n",
              "      <td>...</td>\n",
              "      <td>...</td>\n",
              "      <td>...</td>\n",
              "      <td>...</td>\n",
              "      <td>...</td>\n",
              "      <td>...</td>\n",
              "      <td>...</td>\n",
              "    </tr>\n",
              "    <tr>\n",
              "      <th>42098</th>\n",
              "      <td>10500.0</td>\n",
              "      <td>40.450000</td>\n",
              "      <td>52.756792</td>\n",
              "      <td>103.621072</td>\n",
              "      <td>76047</td>\n",
              "      <td>18.00</td>\n",
              "      <td>3</td>\n",
              "      <td>3</td>\n",
              "      <td>1</td>\n",
              "      <td>1</td>\n",
              "      <td>4</td>\n",
              "      <td>0</td>\n",
              "      <td>0</td>\n",
              "      <td>1</td>\n",
              "      <td>0</td>\n",
              "      <td>0</td>\n",
              "      <td>1</td>\n",
              "      <td>0</td>\n",
              "      <td>0</td>\n",
              "      <td>0</td>\n",
              "      <td>0</td>\n",
              "      <td>0</td>\n",
              "      <td>0</td>\n",
              "      <td>0</td>\n",
              "      <td>0</td>\n",
              "      <td>0</td>\n",
              "      <td>0</td>\n",
              "      <td>0</td>\n",
              "      <td>0</td>\n",
              "      <td>0</td>\n",
              "      <td>0</td>\n",
              "      <td>0</td>\n",
              "      <td>0</td>\n",
              "      <td>0</td>\n",
              "      <td>0</td>\n",
              "      <td>0</td>\n",
              "      <td>0</td>\n",
              "      <td>0</td>\n",
              "      <td>0</td>\n",
              "      <td>0</td>\n",
              "      <td>...</td>\n",
              "      <td>0</td>\n",
              "      <td>0</td>\n",
              "      <td>0</td>\n",
              "      <td>0</td>\n",
              "      <td>0</td>\n",
              "      <td>0</td>\n",
              "      <td>0</td>\n",
              "      <td>0</td>\n",
              "      <td>0</td>\n",
              "      <td>0</td>\n",
              "      <td>0</td>\n",
              "      <td>0</td>\n",
              "      <td>0</td>\n",
              "      <td>0</td>\n",
              "      <td>0</td>\n",
              "      <td>0</td>\n",
              "      <td>0</td>\n",
              "      <td>0</td>\n",
              "      <td>0</td>\n",
              "      <td>0</td>\n",
              "      <td>0</td>\n",
              "      <td>0</td>\n",
              "      <td>0</td>\n",
              "      <td>0</td>\n",
              "      <td>0</td>\n",
              "      <td>0</td>\n",
              "      <td>0</td>\n",
              "      <td>0</td>\n",
              "      <td>0</td>\n",
              "      <td>0</td>\n",
              "      <td>0</td>\n",
              "      <td>0</td>\n",
              "      <td>0</td>\n",
              "      <td>0</td>\n",
              "      <td>1</td>\n",
              "      <td>0</td>\n",
              "      <td>1</td>\n",
              "      <td>0</td>\n",
              "      <td>0</td>\n",
              "      <td>-1</td>\n",
              "    </tr>\n",
              "    <tr>\n",
              "      <th>42099</th>\n",
              "      <td>21000.0</td>\n",
              "      <td>3.969063</td>\n",
              "      <td>52.307217</td>\n",
              "      <td>104.291990</td>\n",
              "      <td>623562</td>\n",
              "      <td>18.00</td>\n",
              "      <td>3</td>\n",
              "      <td>3</td>\n",
              "      <td>1</td>\n",
              "      <td>2</td>\n",
              "      <td>4</td>\n",
              "      <td>0</td>\n",
              "      <td>0</td>\n",
              "      <td>1</td>\n",
              "      <td>0</td>\n",
              "      <td>0</td>\n",
              "      <td>1</td>\n",
              "      <td>0</td>\n",
              "      <td>0</td>\n",
              "      <td>0</td>\n",
              "      <td>0</td>\n",
              "      <td>0</td>\n",
              "      <td>0</td>\n",
              "      <td>0</td>\n",
              "      <td>0</td>\n",
              "      <td>0</td>\n",
              "      <td>0</td>\n",
              "      <td>0</td>\n",
              "      <td>0</td>\n",
              "      <td>0</td>\n",
              "      <td>0</td>\n",
              "      <td>0</td>\n",
              "      <td>0</td>\n",
              "      <td>0</td>\n",
              "      <td>0</td>\n",
              "      <td>0</td>\n",
              "      <td>0</td>\n",
              "      <td>0</td>\n",
              "      <td>0</td>\n",
              "      <td>0</td>\n",
              "      <td>...</td>\n",
              "      <td>0</td>\n",
              "      <td>0</td>\n",
              "      <td>0</td>\n",
              "      <td>0</td>\n",
              "      <td>0</td>\n",
              "      <td>0</td>\n",
              "      <td>0</td>\n",
              "      <td>0</td>\n",
              "      <td>0</td>\n",
              "      <td>0</td>\n",
              "      <td>0</td>\n",
              "      <td>0</td>\n",
              "      <td>0</td>\n",
              "      <td>0</td>\n",
              "      <td>0</td>\n",
              "      <td>0</td>\n",
              "      <td>0</td>\n",
              "      <td>0</td>\n",
              "      <td>0</td>\n",
              "      <td>0</td>\n",
              "      <td>0</td>\n",
              "      <td>0</td>\n",
              "      <td>0</td>\n",
              "      <td>0</td>\n",
              "      <td>0</td>\n",
              "      <td>0</td>\n",
              "      <td>0</td>\n",
              "      <td>0</td>\n",
              "      <td>0</td>\n",
              "      <td>0</td>\n",
              "      <td>0</td>\n",
              "      <td>0</td>\n",
              "      <td>0</td>\n",
              "      <td>0</td>\n",
              "      <td>0</td>\n",
              "      <td>0</td>\n",
              "      <td>1</td>\n",
              "      <td>0</td>\n",
              "      <td>0</td>\n",
              "      <td>-1</td>\n",
              "    </tr>\n",
              "    <tr>\n",
              "      <th>42100</th>\n",
              "      <td>22000.0</td>\n",
              "      <td>3.050000</td>\n",
              "      <td>57.146031</td>\n",
              "      <td>65.590307</td>\n",
              "      <td>807271</td>\n",
              "      <td>18.00</td>\n",
              "      <td>3</td>\n",
              "      <td>3</td>\n",
              "      <td>1</td>\n",
              "      <td>0</td>\n",
              "      <td>4</td>\n",
              "      <td>0</td>\n",
              "      <td>0</td>\n",
              "      <td>1</td>\n",
              "      <td>0</td>\n",
              "      <td>0</td>\n",
              "      <td>1</td>\n",
              "      <td>0</td>\n",
              "      <td>0</td>\n",
              "      <td>0</td>\n",
              "      <td>0</td>\n",
              "      <td>0</td>\n",
              "      <td>0</td>\n",
              "      <td>0</td>\n",
              "      <td>0</td>\n",
              "      <td>0</td>\n",
              "      <td>0</td>\n",
              "      <td>0</td>\n",
              "      <td>0</td>\n",
              "      <td>0</td>\n",
              "      <td>0</td>\n",
              "      <td>0</td>\n",
              "      <td>0</td>\n",
              "      <td>0</td>\n",
              "      <td>0</td>\n",
              "      <td>0</td>\n",
              "      <td>0</td>\n",
              "      <td>0</td>\n",
              "      <td>0</td>\n",
              "      <td>0</td>\n",
              "      <td>...</td>\n",
              "      <td>0</td>\n",
              "      <td>0</td>\n",
              "      <td>0</td>\n",
              "      <td>0</td>\n",
              "      <td>0</td>\n",
              "      <td>0</td>\n",
              "      <td>0</td>\n",
              "      <td>0</td>\n",
              "      <td>0</td>\n",
              "      <td>0</td>\n",
              "      <td>0</td>\n",
              "      <td>0</td>\n",
              "      <td>0</td>\n",
              "      <td>0</td>\n",
              "      <td>0</td>\n",
              "      <td>0</td>\n",
              "      <td>0</td>\n",
              "      <td>0</td>\n",
              "      <td>0</td>\n",
              "      <td>0</td>\n",
              "      <td>0</td>\n",
              "      <td>0</td>\n",
              "      <td>0</td>\n",
              "      <td>0</td>\n",
              "      <td>0</td>\n",
              "      <td>0</td>\n",
              "      <td>0</td>\n",
              "      <td>0</td>\n",
              "      <td>0</td>\n",
              "      <td>0</td>\n",
              "      <td>0</td>\n",
              "      <td>0</td>\n",
              "      <td>0</td>\n",
              "      <td>0</td>\n",
              "      <td>0</td>\n",
              "      <td>0</td>\n",
              "      <td>1</td>\n",
              "      <td>0</td>\n",
              "      <td>0</td>\n",
              "      <td>-1</td>\n",
              "    </tr>\n",
              "    <tr>\n",
              "      <th>42101</th>\n",
              "      <td>15000.0</td>\n",
              "      <td>11.934893</td>\n",
              "      <td>56.595650</td>\n",
              "      <td>84.911490</td>\n",
              "      <td>106516</td>\n",
              "      <td>18.00</td>\n",
              "      <td>3</td>\n",
              "      <td>3</td>\n",
              "      <td>1</td>\n",
              "      <td>0</td>\n",
              "      <td>4</td>\n",
              "      <td>0</td>\n",
              "      <td>0</td>\n",
              "      <td>1</td>\n",
              "      <td>0</td>\n",
              "      <td>0</td>\n",
              "      <td>1</td>\n",
              "      <td>0</td>\n",
              "      <td>0</td>\n",
              "      <td>0</td>\n",
              "      <td>0</td>\n",
              "      <td>0</td>\n",
              "      <td>0</td>\n",
              "      <td>0</td>\n",
              "      <td>0</td>\n",
              "      <td>0</td>\n",
              "      <td>0</td>\n",
              "      <td>0</td>\n",
              "      <td>0</td>\n",
              "      <td>0</td>\n",
              "      <td>0</td>\n",
              "      <td>0</td>\n",
              "      <td>0</td>\n",
              "      <td>0</td>\n",
              "      <td>0</td>\n",
              "      <td>0</td>\n",
              "      <td>0</td>\n",
              "      <td>0</td>\n",
              "      <td>0</td>\n",
              "      <td>0</td>\n",
              "      <td>...</td>\n",
              "      <td>0</td>\n",
              "      <td>0</td>\n",
              "      <td>0</td>\n",
              "      <td>0</td>\n",
              "      <td>0</td>\n",
              "      <td>0</td>\n",
              "      <td>0</td>\n",
              "      <td>0</td>\n",
              "      <td>0</td>\n",
              "      <td>0</td>\n",
              "      <td>0</td>\n",
              "      <td>0</td>\n",
              "      <td>0</td>\n",
              "      <td>0</td>\n",
              "      <td>0</td>\n",
              "      <td>0</td>\n",
              "      <td>0</td>\n",
              "      <td>0</td>\n",
              "      <td>0</td>\n",
              "      <td>0</td>\n",
              "      <td>0</td>\n",
              "      <td>0</td>\n",
              "      <td>0</td>\n",
              "      <td>0</td>\n",
              "      <td>0</td>\n",
              "      <td>0</td>\n",
              "      <td>0</td>\n",
              "      <td>0</td>\n",
              "      <td>0</td>\n",
              "      <td>0</td>\n",
              "      <td>0</td>\n",
              "      <td>0</td>\n",
              "      <td>0</td>\n",
              "      <td>0</td>\n",
              "      <td>0</td>\n",
              "      <td>0</td>\n",
              "      <td>1</td>\n",
              "      <td>0</td>\n",
              "      <td>0</td>\n",
              "      <td>-1</td>\n",
              "    </tr>\n",
              "    <tr>\n",
              "      <th>42102</th>\n",
              "      <td>10000.0</td>\n",
              "      <td>7.980000</td>\n",
              "      <td>57.143039</td>\n",
              "      <td>65.586761</td>\n",
              "      <td>807271</td>\n",
              "      <td>2.16</td>\n",
              "      <td>3</td>\n",
              "      <td>3</td>\n",
              "      <td>1</td>\n",
              "      <td>0</td>\n",
              "      <td>1</td>\n",
              "      <td>1</td>\n",
              "      <td>0</td>\n",
              "      <td>0</td>\n",
              "      <td>0</td>\n",
              "      <td>0</td>\n",
              "      <td>0</td>\n",
              "      <td>0</td>\n",
              "      <td>1</td>\n",
              "      <td>0</td>\n",
              "      <td>0</td>\n",
              "      <td>0</td>\n",
              "      <td>0</td>\n",
              "      <td>0</td>\n",
              "      <td>0</td>\n",
              "      <td>0</td>\n",
              "      <td>0</td>\n",
              "      <td>0</td>\n",
              "      <td>0</td>\n",
              "      <td>0</td>\n",
              "      <td>0</td>\n",
              "      <td>0</td>\n",
              "      <td>0</td>\n",
              "      <td>0</td>\n",
              "      <td>0</td>\n",
              "      <td>0</td>\n",
              "      <td>0</td>\n",
              "      <td>0</td>\n",
              "      <td>0</td>\n",
              "      <td>0</td>\n",
              "      <td>...</td>\n",
              "      <td>0</td>\n",
              "      <td>0</td>\n",
              "      <td>0</td>\n",
              "      <td>0</td>\n",
              "      <td>0</td>\n",
              "      <td>0</td>\n",
              "      <td>0</td>\n",
              "      <td>0</td>\n",
              "      <td>0</td>\n",
              "      <td>0</td>\n",
              "      <td>0</td>\n",
              "      <td>0</td>\n",
              "      <td>0</td>\n",
              "      <td>0</td>\n",
              "      <td>0</td>\n",
              "      <td>0</td>\n",
              "      <td>0</td>\n",
              "      <td>0</td>\n",
              "      <td>0</td>\n",
              "      <td>0</td>\n",
              "      <td>0</td>\n",
              "      <td>0</td>\n",
              "      <td>0</td>\n",
              "      <td>0</td>\n",
              "      <td>0</td>\n",
              "      <td>0</td>\n",
              "      <td>0</td>\n",
              "      <td>0</td>\n",
              "      <td>0</td>\n",
              "      <td>0</td>\n",
              "      <td>0</td>\n",
              "      <td>0</td>\n",
              "      <td>0</td>\n",
              "      <td>0</td>\n",
              "      <td>0</td>\n",
              "      <td>1</td>\n",
              "      <td>0</td>\n",
              "      <td>0</td>\n",
              "      <td>0</td>\n",
              "      <td>-1</td>\n",
              "    </tr>\n",
              "  </tbody>\n",
              "</table>\n",
              "<p>42103 rows × 222 columns</p>\n",
              "</div>"
            ],
            "text/plain": [
              "       PriceNoTax        GRP   Latitude  ...  BrandR1_2  BrandR1_3  Cluster\n",
              "0         85000.0   1.750000  59.985716  ...          0          0       -1\n",
              "1        120000.0   1.150000  59.957911  ...          0          0       -1\n",
              "2         85000.0   0.510000  60.003023  ...          0          0       -1\n",
              "3         85000.0   1.310000  59.859179  ...          0          0       -1\n",
              "4         85000.0   1.180000  59.845297  ...          0          0       -1\n",
              "...           ...        ...        ...  ...        ...        ...      ...\n",
              "42098     10500.0  40.450000  52.756792  ...          0          0       -1\n",
              "42099     21000.0   3.969063  52.307217  ...          0          0       -1\n",
              "42100     22000.0   3.050000  57.146031  ...          0          0       -1\n",
              "42101     15000.0  11.934893  56.595650  ...          0          0       -1\n",
              "42102     10000.0   7.980000  57.143039  ...          0          0       -1\n",
              "\n",
              "[42103 rows x 222 columns]"
            ]
          },
          "metadata": {
            "tags": []
          },
          "execution_count": 44
        }
      ]
    },
    {
      "cell_type": "code",
      "metadata": {
        "colab": {
          "base_uri": "https://localhost:8080/",
          "height": 439
        },
        "id": "eKX8Dd2tkiDw",
        "outputId": "e5dee3a5-9450-403c-eda7-48e0e6dfc7dd"
      },
      "source": [
        "train[train['Cluster']==-1]"
      ],
      "id": "eKX8Dd2tkiDw",
      "execution_count": null,
      "outputs": [
        {
          "output_type": "execute_result",
          "data": {
            "text/html": [
              "<div>\n",
              "<style scoped>\n",
              "    .dataframe tbody tr th:only-of-type {\n",
              "        vertical-align: middle;\n",
              "    }\n",
              "\n",
              "    .dataframe tbody tr th {\n",
              "        vertical-align: top;\n",
              "    }\n",
              "\n",
              "    .dataframe thead th {\n",
              "        text-align: right;\n",
              "    }\n",
              "</style>\n",
              "<table border=\"1\" class=\"dataframe\">\n",
              "  <thead>\n",
              "    <tr style=\"text-align: right;\">\n",
              "      <th></th>\n",
              "      <th>PriceNoTax</th>\n",
              "      <th>GRP</th>\n",
              "      <th>Latitude</th>\n",
              "      <th>Longitude</th>\n",
              "      <th>Population</th>\n",
              "      <th>Size</th>\n",
              "      <th>YearNum</th>\n",
              "      <th>Month_Id</th>\n",
              "      <th>Seazon</th>\n",
              "      <th>OperatorR1</th>\n",
              "      <th>Budget</th>\n",
              "      <th>ConstrGroup_0</th>\n",
              "      <th>ConstrGroup_1</th>\n",
              "      <th>ConstrGroup_2</th>\n",
              "      <th>ConstrGroup_3</th>\n",
              "      <th>ConstrGroup_4</th>\n",
              "      <th>ExpoType_0</th>\n",
              "      <th>ExpoType_1</th>\n",
              "      <th>ExpoType_2</th>\n",
              "      <th>ExpoType_3</th>\n",
              "      <th>Seller_Cat_1</th>\n",
              "      <th>Seller_Cat_2</th>\n",
              "      <th>Seller_Cat_3</th>\n",
              "      <th>Seller_Cat_4</th>\n",
              "      <th>Seller_Cat_8</th>\n",
              "      <th>Seller_Cat_9</th>\n",
              "      <th>Seller_Cat_13</th>\n",
              "      <th>Seller_Cat_15</th>\n",
              "      <th>Seller_Cat_16</th>\n",
              "      <th>Seller_Cat_17</th>\n",
              "      <th>Seller_Cat_18</th>\n",
              "      <th>Seller_Cat_19</th>\n",
              "      <th>Seller_Cat_20</th>\n",
              "      <th>Seller_Cat_21</th>\n",
              "      <th>Seller_Cat_22</th>\n",
              "      <th>Seller_Cat_24</th>\n",
              "      <th>Seller_Cat_27</th>\n",
              "      <th>Seller_Cat_28</th>\n",
              "      <th>Seller_Cat_29</th>\n",
              "      <th>Seller_Cat_30</th>\n",
              "      <th>...</th>\n",
              "      <th>Seller_Cat_231</th>\n",
              "      <th>Seller_Cat_233</th>\n",
              "      <th>Seller_Cat_235</th>\n",
              "      <th>Seller_Cat_236</th>\n",
              "      <th>Seller_Cat_237</th>\n",
              "      <th>Seller_Cat_238</th>\n",
              "      <th>Seller_Cat_240</th>\n",
              "      <th>Seller_Cat_241</th>\n",
              "      <th>Seller_Cat_242</th>\n",
              "      <th>Seller_Cat_245</th>\n",
              "      <th>Seller_Cat_246</th>\n",
              "      <th>Seller_Cat_247</th>\n",
              "      <th>Seller_Cat_248</th>\n",
              "      <th>Seller_Cat_249</th>\n",
              "      <th>Seller_Cat_250</th>\n",
              "      <th>Seller_Cat_251</th>\n",
              "      <th>Seller_Cat_252</th>\n",
              "      <th>Seller_Cat_254</th>\n",
              "      <th>Seller_Cat_255</th>\n",
              "      <th>Seller_Cat_256</th>\n",
              "      <th>Seller_Cat_257</th>\n",
              "      <th>Seller_Cat_258</th>\n",
              "      <th>Seller_Cat_259</th>\n",
              "      <th>Seller_Cat_261</th>\n",
              "      <th>Seller_Cat_262</th>\n",
              "      <th>Seller_Cat_263</th>\n",
              "      <th>Seller_Cat_264</th>\n",
              "      <th>Seller_Cat_265</th>\n",
              "      <th>Seller_Cat_266</th>\n",
              "      <th>Seller_Cat_267</th>\n",
              "      <th>Seller_Cat_268</th>\n",
              "      <th>Seller_Cat_270</th>\n",
              "      <th>Seller_Cat_272</th>\n",
              "      <th>Seller_Cat_274</th>\n",
              "      <th>Seller_Cat_275</th>\n",
              "      <th>BrandR1_0</th>\n",
              "      <th>BrandR1_1</th>\n",
              "      <th>BrandR1_2</th>\n",
              "      <th>BrandR1_3</th>\n",
              "      <th>Cluster</th>\n",
              "    </tr>\n",
              "  </thead>\n",
              "  <tbody>\n",
              "    <tr>\n",
              "      <th>0</th>\n",
              "      <td>85000.0</td>\n",
              "      <td>1.750000</td>\n",
              "      <td>59.985716</td>\n",
              "      <td>30.362817</td>\n",
              "      <td>5383890</td>\n",
              "      <td>18.00</td>\n",
              "      <td>2</td>\n",
              "      <td>4</td>\n",
              "      <td>1</td>\n",
              "      <td>2</td>\n",
              "      <td>5</td>\n",
              "      <td>0</td>\n",
              "      <td>0</td>\n",
              "      <td>1</td>\n",
              "      <td>0</td>\n",
              "      <td>0</td>\n",
              "      <td>0</td>\n",
              "      <td>0</td>\n",
              "      <td>0</td>\n",
              "      <td>1</td>\n",
              "      <td>0</td>\n",
              "      <td>0</td>\n",
              "      <td>0</td>\n",
              "      <td>0</td>\n",
              "      <td>0</td>\n",
              "      <td>0</td>\n",
              "      <td>0</td>\n",
              "      <td>0</td>\n",
              "      <td>0</td>\n",
              "      <td>0</td>\n",
              "      <td>1</td>\n",
              "      <td>0</td>\n",
              "      <td>0</td>\n",
              "      <td>0</td>\n",
              "      <td>0</td>\n",
              "      <td>0</td>\n",
              "      <td>0</td>\n",
              "      <td>0</td>\n",
              "      <td>0</td>\n",
              "      <td>0</td>\n",
              "      <td>...</td>\n",
              "      <td>0</td>\n",
              "      <td>0</td>\n",
              "      <td>0</td>\n",
              "      <td>0</td>\n",
              "      <td>0</td>\n",
              "      <td>0</td>\n",
              "      <td>0</td>\n",
              "      <td>0</td>\n",
              "      <td>0</td>\n",
              "      <td>0</td>\n",
              "      <td>0</td>\n",
              "      <td>0</td>\n",
              "      <td>0</td>\n",
              "      <td>0</td>\n",
              "      <td>0</td>\n",
              "      <td>0</td>\n",
              "      <td>0</td>\n",
              "      <td>0</td>\n",
              "      <td>0</td>\n",
              "      <td>0</td>\n",
              "      <td>0</td>\n",
              "      <td>0</td>\n",
              "      <td>0</td>\n",
              "      <td>0</td>\n",
              "      <td>0</td>\n",
              "      <td>0</td>\n",
              "      <td>0</td>\n",
              "      <td>0</td>\n",
              "      <td>0</td>\n",
              "      <td>0</td>\n",
              "      <td>0</td>\n",
              "      <td>0</td>\n",
              "      <td>0</td>\n",
              "      <td>0</td>\n",
              "      <td>0</td>\n",
              "      <td>0</td>\n",
              "      <td>1</td>\n",
              "      <td>0</td>\n",
              "      <td>0</td>\n",
              "      <td>-1</td>\n",
              "    </tr>\n",
              "    <tr>\n",
              "      <th>1</th>\n",
              "      <td>120000.0</td>\n",
              "      <td>1.150000</td>\n",
              "      <td>59.957911</td>\n",
              "      <td>30.402703</td>\n",
              "      <td>5383890</td>\n",
              "      <td>18.00</td>\n",
              "      <td>2</td>\n",
              "      <td>4</td>\n",
              "      <td>1</td>\n",
              "      <td>2</td>\n",
              "      <td>5</td>\n",
              "      <td>0</td>\n",
              "      <td>0</td>\n",
              "      <td>1</td>\n",
              "      <td>0</td>\n",
              "      <td>0</td>\n",
              "      <td>0</td>\n",
              "      <td>0</td>\n",
              "      <td>0</td>\n",
              "      <td>1</td>\n",
              "      <td>0</td>\n",
              "      <td>0</td>\n",
              "      <td>0</td>\n",
              "      <td>0</td>\n",
              "      <td>0</td>\n",
              "      <td>0</td>\n",
              "      <td>0</td>\n",
              "      <td>0</td>\n",
              "      <td>0</td>\n",
              "      <td>0</td>\n",
              "      <td>1</td>\n",
              "      <td>0</td>\n",
              "      <td>0</td>\n",
              "      <td>0</td>\n",
              "      <td>0</td>\n",
              "      <td>0</td>\n",
              "      <td>0</td>\n",
              "      <td>0</td>\n",
              "      <td>0</td>\n",
              "      <td>0</td>\n",
              "      <td>...</td>\n",
              "      <td>0</td>\n",
              "      <td>0</td>\n",
              "      <td>0</td>\n",
              "      <td>0</td>\n",
              "      <td>0</td>\n",
              "      <td>0</td>\n",
              "      <td>0</td>\n",
              "      <td>0</td>\n",
              "      <td>0</td>\n",
              "      <td>0</td>\n",
              "      <td>0</td>\n",
              "      <td>0</td>\n",
              "      <td>0</td>\n",
              "      <td>0</td>\n",
              "      <td>0</td>\n",
              "      <td>0</td>\n",
              "      <td>0</td>\n",
              "      <td>0</td>\n",
              "      <td>0</td>\n",
              "      <td>0</td>\n",
              "      <td>0</td>\n",
              "      <td>0</td>\n",
              "      <td>0</td>\n",
              "      <td>0</td>\n",
              "      <td>0</td>\n",
              "      <td>0</td>\n",
              "      <td>0</td>\n",
              "      <td>0</td>\n",
              "      <td>0</td>\n",
              "      <td>0</td>\n",
              "      <td>0</td>\n",
              "      <td>0</td>\n",
              "      <td>0</td>\n",
              "      <td>0</td>\n",
              "      <td>0</td>\n",
              "      <td>0</td>\n",
              "      <td>1</td>\n",
              "      <td>0</td>\n",
              "      <td>0</td>\n",
              "      <td>-1</td>\n",
              "    </tr>\n",
              "    <tr>\n",
              "      <th>2</th>\n",
              "      <td>85000.0</td>\n",
              "      <td>0.510000</td>\n",
              "      <td>60.003023</td>\n",
              "      <td>30.331454</td>\n",
              "      <td>5383890</td>\n",
              "      <td>18.00</td>\n",
              "      <td>2</td>\n",
              "      <td>4</td>\n",
              "      <td>1</td>\n",
              "      <td>2</td>\n",
              "      <td>5</td>\n",
              "      <td>0</td>\n",
              "      <td>0</td>\n",
              "      <td>1</td>\n",
              "      <td>0</td>\n",
              "      <td>0</td>\n",
              "      <td>0</td>\n",
              "      <td>0</td>\n",
              "      <td>0</td>\n",
              "      <td>1</td>\n",
              "      <td>0</td>\n",
              "      <td>0</td>\n",
              "      <td>0</td>\n",
              "      <td>0</td>\n",
              "      <td>0</td>\n",
              "      <td>0</td>\n",
              "      <td>0</td>\n",
              "      <td>0</td>\n",
              "      <td>0</td>\n",
              "      <td>0</td>\n",
              "      <td>1</td>\n",
              "      <td>0</td>\n",
              "      <td>0</td>\n",
              "      <td>0</td>\n",
              "      <td>0</td>\n",
              "      <td>0</td>\n",
              "      <td>0</td>\n",
              "      <td>0</td>\n",
              "      <td>0</td>\n",
              "      <td>0</td>\n",
              "      <td>...</td>\n",
              "      <td>0</td>\n",
              "      <td>0</td>\n",
              "      <td>0</td>\n",
              "      <td>0</td>\n",
              "      <td>0</td>\n",
              "      <td>0</td>\n",
              "      <td>0</td>\n",
              "      <td>0</td>\n",
              "      <td>0</td>\n",
              "      <td>0</td>\n",
              "      <td>0</td>\n",
              "      <td>0</td>\n",
              "      <td>0</td>\n",
              "      <td>0</td>\n",
              "      <td>0</td>\n",
              "      <td>0</td>\n",
              "      <td>0</td>\n",
              "      <td>0</td>\n",
              "      <td>0</td>\n",
              "      <td>0</td>\n",
              "      <td>0</td>\n",
              "      <td>0</td>\n",
              "      <td>0</td>\n",
              "      <td>0</td>\n",
              "      <td>0</td>\n",
              "      <td>0</td>\n",
              "      <td>0</td>\n",
              "      <td>0</td>\n",
              "      <td>0</td>\n",
              "      <td>0</td>\n",
              "      <td>0</td>\n",
              "      <td>0</td>\n",
              "      <td>0</td>\n",
              "      <td>0</td>\n",
              "      <td>0</td>\n",
              "      <td>0</td>\n",
              "      <td>1</td>\n",
              "      <td>0</td>\n",
              "      <td>0</td>\n",
              "      <td>-1</td>\n",
              "    </tr>\n",
              "    <tr>\n",
              "      <th>3</th>\n",
              "      <td>85000.0</td>\n",
              "      <td>1.310000</td>\n",
              "      <td>59.859179</td>\n",
              "      <td>30.253073</td>\n",
              "      <td>5383890</td>\n",
              "      <td>18.00</td>\n",
              "      <td>2</td>\n",
              "      <td>4</td>\n",
              "      <td>1</td>\n",
              "      <td>2</td>\n",
              "      <td>5</td>\n",
              "      <td>0</td>\n",
              "      <td>0</td>\n",
              "      <td>1</td>\n",
              "      <td>0</td>\n",
              "      <td>0</td>\n",
              "      <td>0</td>\n",
              "      <td>0</td>\n",
              "      <td>0</td>\n",
              "      <td>1</td>\n",
              "      <td>0</td>\n",
              "      <td>0</td>\n",
              "      <td>0</td>\n",
              "      <td>0</td>\n",
              "      <td>0</td>\n",
              "      <td>0</td>\n",
              "      <td>0</td>\n",
              "      <td>0</td>\n",
              "      <td>0</td>\n",
              "      <td>0</td>\n",
              "      <td>1</td>\n",
              "      <td>0</td>\n",
              "      <td>0</td>\n",
              "      <td>0</td>\n",
              "      <td>0</td>\n",
              "      <td>0</td>\n",
              "      <td>0</td>\n",
              "      <td>0</td>\n",
              "      <td>0</td>\n",
              "      <td>0</td>\n",
              "      <td>...</td>\n",
              "      <td>0</td>\n",
              "      <td>0</td>\n",
              "      <td>0</td>\n",
              "      <td>0</td>\n",
              "      <td>0</td>\n",
              "      <td>0</td>\n",
              "      <td>0</td>\n",
              "      <td>0</td>\n",
              "      <td>0</td>\n",
              "      <td>0</td>\n",
              "      <td>0</td>\n",
              "      <td>0</td>\n",
              "      <td>0</td>\n",
              "      <td>0</td>\n",
              "      <td>0</td>\n",
              "      <td>0</td>\n",
              "      <td>0</td>\n",
              "      <td>0</td>\n",
              "      <td>0</td>\n",
              "      <td>0</td>\n",
              "      <td>0</td>\n",
              "      <td>0</td>\n",
              "      <td>0</td>\n",
              "      <td>0</td>\n",
              "      <td>0</td>\n",
              "      <td>0</td>\n",
              "      <td>0</td>\n",
              "      <td>0</td>\n",
              "      <td>0</td>\n",
              "      <td>0</td>\n",
              "      <td>0</td>\n",
              "      <td>0</td>\n",
              "      <td>0</td>\n",
              "      <td>0</td>\n",
              "      <td>0</td>\n",
              "      <td>0</td>\n",
              "      <td>1</td>\n",
              "      <td>0</td>\n",
              "      <td>0</td>\n",
              "      <td>-1</td>\n",
              "    </tr>\n",
              "    <tr>\n",
              "      <th>4</th>\n",
              "      <td>85000.0</td>\n",
              "      <td>1.180000</td>\n",
              "      <td>59.845297</td>\n",
              "      <td>30.211271</td>\n",
              "      <td>5383890</td>\n",
              "      <td>18.00</td>\n",
              "      <td>2</td>\n",
              "      <td>4</td>\n",
              "      <td>1</td>\n",
              "      <td>2</td>\n",
              "      <td>5</td>\n",
              "      <td>0</td>\n",
              "      <td>0</td>\n",
              "      <td>1</td>\n",
              "      <td>0</td>\n",
              "      <td>0</td>\n",
              "      <td>0</td>\n",
              "      <td>0</td>\n",
              "      <td>0</td>\n",
              "      <td>1</td>\n",
              "      <td>0</td>\n",
              "      <td>0</td>\n",
              "      <td>0</td>\n",
              "      <td>0</td>\n",
              "      <td>0</td>\n",
              "      <td>0</td>\n",
              "      <td>0</td>\n",
              "      <td>0</td>\n",
              "      <td>0</td>\n",
              "      <td>0</td>\n",
              "      <td>1</td>\n",
              "      <td>0</td>\n",
              "      <td>0</td>\n",
              "      <td>0</td>\n",
              "      <td>0</td>\n",
              "      <td>0</td>\n",
              "      <td>0</td>\n",
              "      <td>0</td>\n",
              "      <td>0</td>\n",
              "      <td>0</td>\n",
              "      <td>...</td>\n",
              "      <td>0</td>\n",
              "      <td>0</td>\n",
              "      <td>0</td>\n",
              "      <td>0</td>\n",
              "      <td>0</td>\n",
              "      <td>0</td>\n",
              "      <td>0</td>\n",
              "      <td>0</td>\n",
              "      <td>0</td>\n",
              "      <td>0</td>\n",
              "      <td>0</td>\n",
              "      <td>0</td>\n",
              "      <td>0</td>\n",
              "      <td>0</td>\n",
              "      <td>0</td>\n",
              "      <td>0</td>\n",
              "      <td>0</td>\n",
              "      <td>0</td>\n",
              "      <td>0</td>\n",
              "      <td>0</td>\n",
              "      <td>0</td>\n",
              "      <td>0</td>\n",
              "      <td>0</td>\n",
              "      <td>0</td>\n",
              "      <td>0</td>\n",
              "      <td>0</td>\n",
              "      <td>0</td>\n",
              "      <td>0</td>\n",
              "      <td>0</td>\n",
              "      <td>0</td>\n",
              "      <td>0</td>\n",
              "      <td>0</td>\n",
              "      <td>0</td>\n",
              "      <td>0</td>\n",
              "      <td>0</td>\n",
              "      <td>0</td>\n",
              "      <td>1</td>\n",
              "      <td>0</td>\n",
              "      <td>0</td>\n",
              "      <td>-1</td>\n",
              "    </tr>\n",
              "    <tr>\n",
              "      <th>...</th>\n",
              "      <td>...</td>\n",
              "      <td>...</td>\n",
              "      <td>...</td>\n",
              "      <td>...</td>\n",
              "      <td>...</td>\n",
              "      <td>...</td>\n",
              "      <td>...</td>\n",
              "      <td>...</td>\n",
              "      <td>...</td>\n",
              "      <td>...</td>\n",
              "      <td>...</td>\n",
              "      <td>...</td>\n",
              "      <td>...</td>\n",
              "      <td>...</td>\n",
              "      <td>...</td>\n",
              "      <td>...</td>\n",
              "      <td>...</td>\n",
              "      <td>...</td>\n",
              "      <td>...</td>\n",
              "      <td>...</td>\n",
              "      <td>...</td>\n",
              "      <td>...</td>\n",
              "      <td>...</td>\n",
              "      <td>...</td>\n",
              "      <td>...</td>\n",
              "      <td>...</td>\n",
              "      <td>...</td>\n",
              "      <td>...</td>\n",
              "      <td>...</td>\n",
              "      <td>...</td>\n",
              "      <td>...</td>\n",
              "      <td>...</td>\n",
              "      <td>...</td>\n",
              "      <td>...</td>\n",
              "      <td>...</td>\n",
              "      <td>...</td>\n",
              "      <td>...</td>\n",
              "      <td>...</td>\n",
              "      <td>...</td>\n",
              "      <td>...</td>\n",
              "      <td>...</td>\n",
              "      <td>...</td>\n",
              "      <td>...</td>\n",
              "      <td>...</td>\n",
              "      <td>...</td>\n",
              "      <td>...</td>\n",
              "      <td>...</td>\n",
              "      <td>...</td>\n",
              "      <td>...</td>\n",
              "      <td>...</td>\n",
              "      <td>...</td>\n",
              "      <td>...</td>\n",
              "      <td>...</td>\n",
              "      <td>...</td>\n",
              "      <td>...</td>\n",
              "      <td>...</td>\n",
              "      <td>...</td>\n",
              "      <td>...</td>\n",
              "      <td>...</td>\n",
              "      <td>...</td>\n",
              "      <td>...</td>\n",
              "      <td>...</td>\n",
              "      <td>...</td>\n",
              "      <td>...</td>\n",
              "      <td>...</td>\n",
              "      <td>...</td>\n",
              "      <td>...</td>\n",
              "      <td>...</td>\n",
              "      <td>...</td>\n",
              "      <td>...</td>\n",
              "      <td>...</td>\n",
              "      <td>...</td>\n",
              "      <td>...</td>\n",
              "      <td>...</td>\n",
              "      <td>...</td>\n",
              "      <td>...</td>\n",
              "      <td>...</td>\n",
              "      <td>...</td>\n",
              "      <td>...</td>\n",
              "      <td>...</td>\n",
              "      <td>...</td>\n",
              "    </tr>\n",
              "    <tr>\n",
              "      <th>42098</th>\n",
              "      <td>10500.0</td>\n",
              "      <td>40.450000</td>\n",
              "      <td>52.756792</td>\n",
              "      <td>103.621072</td>\n",
              "      <td>76047</td>\n",
              "      <td>18.00</td>\n",
              "      <td>3</td>\n",
              "      <td>3</td>\n",
              "      <td>1</td>\n",
              "      <td>1</td>\n",
              "      <td>4</td>\n",
              "      <td>0</td>\n",
              "      <td>0</td>\n",
              "      <td>1</td>\n",
              "      <td>0</td>\n",
              "      <td>0</td>\n",
              "      <td>1</td>\n",
              "      <td>0</td>\n",
              "      <td>0</td>\n",
              "      <td>0</td>\n",
              "      <td>0</td>\n",
              "      <td>0</td>\n",
              "      <td>0</td>\n",
              "      <td>0</td>\n",
              "      <td>0</td>\n",
              "      <td>0</td>\n",
              "      <td>0</td>\n",
              "      <td>0</td>\n",
              "      <td>0</td>\n",
              "      <td>0</td>\n",
              "      <td>0</td>\n",
              "      <td>0</td>\n",
              "      <td>0</td>\n",
              "      <td>0</td>\n",
              "      <td>0</td>\n",
              "      <td>0</td>\n",
              "      <td>0</td>\n",
              "      <td>0</td>\n",
              "      <td>0</td>\n",
              "      <td>0</td>\n",
              "      <td>...</td>\n",
              "      <td>0</td>\n",
              "      <td>0</td>\n",
              "      <td>0</td>\n",
              "      <td>0</td>\n",
              "      <td>0</td>\n",
              "      <td>0</td>\n",
              "      <td>0</td>\n",
              "      <td>0</td>\n",
              "      <td>0</td>\n",
              "      <td>0</td>\n",
              "      <td>0</td>\n",
              "      <td>0</td>\n",
              "      <td>0</td>\n",
              "      <td>0</td>\n",
              "      <td>0</td>\n",
              "      <td>0</td>\n",
              "      <td>0</td>\n",
              "      <td>0</td>\n",
              "      <td>0</td>\n",
              "      <td>0</td>\n",
              "      <td>0</td>\n",
              "      <td>0</td>\n",
              "      <td>0</td>\n",
              "      <td>0</td>\n",
              "      <td>0</td>\n",
              "      <td>0</td>\n",
              "      <td>0</td>\n",
              "      <td>0</td>\n",
              "      <td>0</td>\n",
              "      <td>0</td>\n",
              "      <td>0</td>\n",
              "      <td>0</td>\n",
              "      <td>0</td>\n",
              "      <td>0</td>\n",
              "      <td>1</td>\n",
              "      <td>0</td>\n",
              "      <td>1</td>\n",
              "      <td>0</td>\n",
              "      <td>0</td>\n",
              "      <td>-1</td>\n",
              "    </tr>\n",
              "    <tr>\n",
              "      <th>42099</th>\n",
              "      <td>21000.0</td>\n",
              "      <td>3.969063</td>\n",
              "      <td>52.307217</td>\n",
              "      <td>104.291990</td>\n",
              "      <td>623562</td>\n",
              "      <td>18.00</td>\n",
              "      <td>3</td>\n",
              "      <td>3</td>\n",
              "      <td>1</td>\n",
              "      <td>2</td>\n",
              "      <td>4</td>\n",
              "      <td>0</td>\n",
              "      <td>0</td>\n",
              "      <td>1</td>\n",
              "      <td>0</td>\n",
              "      <td>0</td>\n",
              "      <td>1</td>\n",
              "      <td>0</td>\n",
              "      <td>0</td>\n",
              "      <td>0</td>\n",
              "      <td>0</td>\n",
              "      <td>0</td>\n",
              "      <td>0</td>\n",
              "      <td>0</td>\n",
              "      <td>0</td>\n",
              "      <td>0</td>\n",
              "      <td>0</td>\n",
              "      <td>0</td>\n",
              "      <td>0</td>\n",
              "      <td>0</td>\n",
              "      <td>0</td>\n",
              "      <td>0</td>\n",
              "      <td>0</td>\n",
              "      <td>0</td>\n",
              "      <td>0</td>\n",
              "      <td>0</td>\n",
              "      <td>0</td>\n",
              "      <td>0</td>\n",
              "      <td>0</td>\n",
              "      <td>0</td>\n",
              "      <td>...</td>\n",
              "      <td>0</td>\n",
              "      <td>0</td>\n",
              "      <td>0</td>\n",
              "      <td>0</td>\n",
              "      <td>0</td>\n",
              "      <td>0</td>\n",
              "      <td>0</td>\n",
              "      <td>0</td>\n",
              "      <td>0</td>\n",
              "      <td>0</td>\n",
              "      <td>0</td>\n",
              "      <td>0</td>\n",
              "      <td>0</td>\n",
              "      <td>0</td>\n",
              "      <td>0</td>\n",
              "      <td>0</td>\n",
              "      <td>0</td>\n",
              "      <td>0</td>\n",
              "      <td>0</td>\n",
              "      <td>0</td>\n",
              "      <td>0</td>\n",
              "      <td>0</td>\n",
              "      <td>0</td>\n",
              "      <td>0</td>\n",
              "      <td>0</td>\n",
              "      <td>0</td>\n",
              "      <td>0</td>\n",
              "      <td>0</td>\n",
              "      <td>0</td>\n",
              "      <td>0</td>\n",
              "      <td>0</td>\n",
              "      <td>0</td>\n",
              "      <td>0</td>\n",
              "      <td>0</td>\n",
              "      <td>0</td>\n",
              "      <td>0</td>\n",
              "      <td>1</td>\n",
              "      <td>0</td>\n",
              "      <td>0</td>\n",
              "      <td>-1</td>\n",
              "    </tr>\n",
              "    <tr>\n",
              "      <th>42100</th>\n",
              "      <td>22000.0</td>\n",
              "      <td>3.050000</td>\n",
              "      <td>57.146031</td>\n",
              "      <td>65.590307</td>\n",
              "      <td>807271</td>\n",
              "      <td>18.00</td>\n",
              "      <td>3</td>\n",
              "      <td>3</td>\n",
              "      <td>1</td>\n",
              "      <td>0</td>\n",
              "      <td>4</td>\n",
              "      <td>0</td>\n",
              "      <td>0</td>\n",
              "      <td>1</td>\n",
              "      <td>0</td>\n",
              "      <td>0</td>\n",
              "      <td>1</td>\n",
              "      <td>0</td>\n",
              "      <td>0</td>\n",
              "      <td>0</td>\n",
              "      <td>0</td>\n",
              "      <td>0</td>\n",
              "      <td>0</td>\n",
              "      <td>0</td>\n",
              "      <td>0</td>\n",
              "      <td>0</td>\n",
              "      <td>0</td>\n",
              "      <td>0</td>\n",
              "      <td>0</td>\n",
              "      <td>0</td>\n",
              "      <td>0</td>\n",
              "      <td>0</td>\n",
              "      <td>0</td>\n",
              "      <td>0</td>\n",
              "      <td>0</td>\n",
              "      <td>0</td>\n",
              "      <td>0</td>\n",
              "      <td>0</td>\n",
              "      <td>0</td>\n",
              "      <td>0</td>\n",
              "      <td>...</td>\n",
              "      <td>0</td>\n",
              "      <td>0</td>\n",
              "      <td>0</td>\n",
              "      <td>0</td>\n",
              "      <td>0</td>\n",
              "      <td>0</td>\n",
              "      <td>0</td>\n",
              "      <td>0</td>\n",
              "      <td>0</td>\n",
              "      <td>0</td>\n",
              "      <td>0</td>\n",
              "      <td>0</td>\n",
              "      <td>0</td>\n",
              "      <td>0</td>\n",
              "      <td>0</td>\n",
              "      <td>0</td>\n",
              "      <td>0</td>\n",
              "      <td>0</td>\n",
              "      <td>0</td>\n",
              "      <td>0</td>\n",
              "      <td>0</td>\n",
              "      <td>0</td>\n",
              "      <td>0</td>\n",
              "      <td>0</td>\n",
              "      <td>0</td>\n",
              "      <td>0</td>\n",
              "      <td>0</td>\n",
              "      <td>0</td>\n",
              "      <td>0</td>\n",
              "      <td>0</td>\n",
              "      <td>0</td>\n",
              "      <td>0</td>\n",
              "      <td>0</td>\n",
              "      <td>0</td>\n",
              "      <td>0</td>\n",
              "      <td>0</td>\n",
              "      <td>1</td>\n",
              "      <td>0</td>\n",
              "      <td>0</td>\n",
              "      <td>-1</td>\n",
              "    </tr>\n",
              "    <tr>\n",
              "      <th>42101</th>\n",
              "      <td>15000.0</td>\n",
              "      <td>11.934893</td>\n",
              "      <td>56.595650</td>\n",
              "      <td>84.911490</td>\n",
              "      <td>106516</td>\n",
              "      <td>18.00</td>\n",
              "      <td>3</td>\n",
              "      <td>3</td>\n",
              "      <td>1</td>\n",
              "      <td>0</td>\n",
              "      <td>4</td>\n",
              "      <td>0</td>\n",
              "      <td>0</td>\n",
              "      <td>1</td>\n",
              "      <td>0</td>\n",
              "      <td>0</td>\n",
              "      <td>1</td>\n",
              "      <td>0</td>\n",
              "      <td>0</td>\n",
              "      <td>0</td>\n",
              "      <td>0</td>\n",
              "      <td>0</td>\n",
              "      <td>0</td>\n",
              "      <td>0</td>\n",
              "      <td>0</td>\n",
              "      <td>0</td>\n",
              "      <td>0</td>\n",
              "      <td>0</td>\n",
              "      <td>0</td>\n",
              "      <td>0</td>\n",
              "      <td>0</td>\n",
              "      <td>0</td>\n",
              "      <td>0</td>\n",
              "      <td>0</td>\n",
              "      <td>0</td>\n",
              "      <td>0</td>\n",
              "      <td>0</td>\n",
              "      <td>0</td>\n",
              "      <td>0</td>\n",
              "      <td>0</td>\n",
              "      <td>...</td>\n",
              "      <td>0</td>\n",
              "      <td>0</td>\n",
              "      <td>0</td>\n",
              "      <td>0</td>\n",
              "      <td>0</td>\n",
              "      <td>0</td>\n",
              "      <td>0</td>\n",
              "      <td>0</td>\n",
              "      <td>0</td>\n",
              "      <td>0</td>\n",
              "      <td>0</td>\n",
              "      <td>0</td>\n",
              "      <td>0</td>\n",
              "      <td>0</td>\n",
              "      <td>0</td>\n",
              "      <td>0</td>\n",
              "      <td>0</td>\n",
              "      <td>0</td>\n",
              "      <td>0</td>\n",
              "      <td>0</td>\n",
              "      <td>0</td>\n",
              "      <td>0</td>\n",
              "      <td>0</td>\n",
              "      <td>0</td>\n",
              "      <td>0</td>\n",
              "      <td>0</td>\n",
              "      <td>0</td>\n",
              "      <td>0</td>\n",
              "      <td>0</td>\n",
              "      <td>0</td>\n",
              "      <td>0</td>\n",
              "      <td>0</td>\n",
              "      <td>0</td>\n",
              "      <td>0</td>\n",
              "      <td>0</td>\n",
              "      <td>0</td>\n",
              "      <td>1</td>\n",
              "      <td>0</td>\n",
              "      <td>0</td>\n",
              "      <td>-1</td>\n",
              "    </tr>\n",
              "    <tr>\n",
              "      <th>42102</th>\n",
              "      <td>10000.0</td>\n",
              "      <td>7.980000</td>\n",
              "      <td>57.143039</td>\n",
              "      <td>65.586761</td>\n",
              "      <td>807271</td>\n",
              "      <td>2.16</td>\n",
              "      <td>3</td>\n",
              "      <td>3</td>\n",
              "      <td>1</td>\n",
              "      <td>0</td>\n",
              "      <td>1</td>\n",
              "      <td>1</td>\n",
              "      <td>0</td>\n",
              "      <td>0</td>\n",
              "      <td>0</td>\n",
              "      <td>0</td>\n",
              "      <td>0</td>\n",
              "      <td>0</td>\n",
              "      <td>1</td>\n",
              "      <td>0</td>\n",
              "      <td>0</td>\n",
              "      <td>0</td>\n",
              "      <td>0</td>\n",
              "      <td>0</td>\n",
              "      <td>0</td>\n",
              "      <td>0</td>\n",
              "      <td>0</td>\n",
              "      <td>0</td>\n",
              "      <td>0</td>\n",
              "      <td>0</td>\n",
              "      <td>0</td>\n",
              "      <td>0</td>\n",
              "      <td>0</td>\n",
              "      <td>0</td>\n",
              "      <td>0</td>\n",
              "      <td>0</td>\n",
              "      <td>0</td>\n",
              "      <td>0</td>\n",
              "      <td>0</td>\n",
              "      <td>0</td>\n",
              "      <td>...</td>\n",
              "      <td>0</td>\n",
              "      <td>0</td>\n",
              "      <td>0</td>\n",
              "      <td>0</td>\n",
              "      <td>0</td>\n",
              "      <td>0</td>\n",
              "      <td>0</td>\n",
              "      <td>0</td>\n",
              "      <td>0</td>\n",
              "      <td>0</td>\n",
              "      <td>0</td>\n",
              "      <td>0</td>\n",
              "      <td>0</td>\n",
              "      <td>0</td>\n",
              "      <td>0</td>\n",
              "      <td>0</td>\n",
              "      <td>0</td>\n",
              "      <td>0</td>\n",
              "      <td>0</td>\n",
              "      <td>0</td>\n",
              "      <td>0</td>\n",
              "      <td>0</td>\n",
              "      <td>0</td>\n",
              "      <td>0</td>\n",
              "      <td>0</td>\n",
              "      <td>0</td>\n",
              "      <td>0</td>\n",
              "      <td>0</td>\n",
              "      <td>0</td>\n",
              "      <td>0</td>\n",
              "      <td>0</td>\n",
              "      <td>0</td>\n",
              "      <td>0</td>\n",
              "      <td>0</td>\n",
              "      <td>0</td>\n",
              "      <td>1</td>\n",
              "      <td>0</td>\n",
              "      <td>0</td>\n",
              "      <td>0</td>\n",
              "      <td>-1</td>\n",
              "    </tr>\n",
              "  </tbody>\n",
              "</table>\n",
              "<p>39562 rows × 222 columns</p>\n",
              "</div>"
            ],
            "text/plain": [
              "       PriceNoTax        GRP   Latitude  ...  BrandR1_2  BrandR1_3  Cluster\n",
              "0         85000.0   1.750000  59.985716  ...          0          0       -1\n",
              "1        120000.0   1.150000  59.957911  ...          0          0       -1\n",
              "2         85000.0   0.510000  60.003023  ...          0          0       -1\n",
              "3         85000.0   1.310000  59.859179  ...          0          0       -1\n",
              "4         85000.0   1.180000  59.845297  ...          0          0       -1\n",
              "...           ...        ...        ...  ...        ...        ...      ...\n",
              "42098     10500.0  40.450000  52.756792  ...          0          0       -1\n",
              "42099     21000.0   3.969063  52.307217  ...          0          0       -1\n",
              "42100     22000.0   3.050000  57.146031  ...          0          0       -1\n",
              "42101     15000.0  11.934893  56.595650  ...          0          0       -1\n",
              "42102     10000.0   7.980000  57.143039  ...          0          0       -1\n",
              "\n",
              "[39562 rows x 222 columns]"
            ]
          },
          "metadata": {
            "tags": []
          },
          "execution_count": 45
        }
      ]
    },
    {
      "cell_type": "code",
      "metadata": {
        "id": "XvYm8MzVuXII"
      },
      "source": [
        "bw=cluster.estimate_bandwidth (train)"
      ],
      "id": "XvYm8MzVuXII",
      "execution_count": null,
      "outputs": []
    },
    {
      "cell_type": "code",
      "metadata": {
        "id": "FcwsphNlkgPo"
      },
      "source": [
        "ms = cluster.MeanShift (bandwidth=bw,  min_bin_freq=1, cluster_all=False)\n",
        "ms.fit(train)\n",
        "labels_ms= ms.labels_\n",
        "cluster_centers = ms.cluster_centers_\n",
        "labels_unique = np.unique(labels_ms)\n",
        "n_clusters_ = len(labels_unique)"
      ],
      "id": "FcwsphNlkgPo",
      "execution_count": null,
      "outputs": []
    },
    {
      "cell_type": "code",
      "metadata": {
        "id": "zsEnOKYfnetg"
      },
      "source": [
        "n_clusters_"
      ],
      "id": "zsEnOKYfnetg",
      "execution_count": null,
      "outputs": []
    },
    {
      "cell_type": "code",
      "metadata": {
        "id": "LdqHeKgxochi"
      },
      "source": [
        "train['Cluster']=labels_ms"
      ],
      "id": "LdqHeKgxochi",
      "execution_count": null,
      "outputs": []
    },
    {
      "cell_type": "code",
      "metadata": {
        "id": "JgL7Fi8_j7Xp"
      },
      "source": [
        "cols_c=train.columns.to_list()"
      ],
      "id": "JgL7Fi8_j7Xp",
      "execution_count": null,
      "outputs": []
    },
    {
      "cell_type": "code",
      "metadata": {
        "id": "SNMpNTp2wDli"
      },
      "source": [
        "cols_c.append('Discount')"
      ],
      "id": "SNMpNTp2wDli",
      "execution_count": null,
      "outputs": []
    },
    {
      "cell_type": "code",
      "metadata": {
        "id": "yr1hFNJRnzh8"
      },
      "source": [
        "labels"
      ],
      "id": "yr1hFNJRnzh8",
      "execution_count": null,
      "outputs": []
    },
    {
      "cell_type": "code",
      "metadata": {
        "id": "IWOw1yP40gPa"
      },
      "source": [
        "c_fin.shape"
      ],
      "id": "IWOw1yP40gPa",
      "execution_count": null,
      "outputs": []
    },
    {
      "cell_type": "code",
      "metadata": {
        "id": "Q39U_T9wrUW5"
      },
      "source": [
        "c_fin=np.concatenate ((np.array(common), np.array(common_labels)), axis=1 )\n",
        "common_fin=pd.DataFrame (c_fin, columns=cols_c)"
      ],
      "id": "Q39U_T9wrUW5",
      "execution_count": null,
      "outputs": []
    },
    {
      "cell_type": "code",
      "metadata": {
        "id": "YBREwaktYXFM"
      },
      "source": [
        "train['Cluster']=labels"
      ],
      "id": "YBREwaktYXFM",
      "execution_count": null,
      "outputs": []
    },
    {
      "cell_type": "code",
      "metadata": {
        "colab": {
          "base_uri": "https://localhost:8080/",
          "height": 431
        },
        "id": "QThbeLh9H9OC",
        "outputId": "9bdd68f7-5179-4c52-b106-a38ef0249116"
      },
      "source": [
        "train"
      ],
      "id": "QThbeLh9H9OC",
      "execution_count": null,
      "outputs": [
        {
          "output_type": "execute_result",
          "data": {
            "text/html": [
              "<div>\n",
              "<style scoped>\n",
              "    .dataframe tbody tr th:only-of-type {\n",
              "        vertical-align: middle;\n",
              "    }\n",
              "\n",
              "    .dataframe tbody tr th {\n",
              "        vertical-align: top;\n",
              "    }\n",
              "\n",
              "    .dataframe thead th {\n",
              "        text-align: right;\n",
              "    }\n",
              "</style>\n",
              "<table border=\"1\" class=\"dataframe\">\n",
              "  <thead>\n",
              "    <tr style=\"text-align: right;\">\n",
              "      <th></th>\n",
              "      <th>PriceNoTax</th>\n",
              "      <th>GRP</th>\n",
              "      <th>Latitude</th>\n",
              "      <th>Longitude</th>\n",
              "      <th>Population</th>\n",
              "      <th>Size</th>\n",
              "      <th>Discount</th>\n",
              "      <th>YearNum</th>\n",
              "      <th>Month_Id</th>\n",
              "      <th>Seazon</th>\n",
              "      <th>OperatorR1</th>\n",
              "      <th>Budget</th>\n",
              "      <th>ConstrGroup_0</th>\n",
              "      <th>ConstrGroup_1</th>\n",
              "      <th>ConstrGroup_2</th>\n",
              "      <th>ConstrGroup_3</th>\n",
              "      <th>ConstrGroup_4</th>\n",
              "      <th>ExpoType_0</th>\n",
              "      <th>ExpoType_1</th>\n",
              "      <th>ExpoType_2</th>\n",
              "      <th>ExpoType_3</th>\n",
              "      <th>Seller_Cat_1</th>\n",
              "      <th>Seller_Cat_2</th>\n",
              "      <th>Seller_Cat_3</th>\n",
              "      <th>Seller_Cat_4</th>\n",
              "      <th>Seller_Cat_8</th>\n",
              "      <th>Seller_Cat_9</th>\n",
              "      <th>Seller_Cat_13</th>\n",
              "      <th>Seller_Cat_15</th>\n",
              "      <th>Seller_Cat_16</th>\n",
              "      <th>Seller_Cat_17</th>\n",
              "      <th>Seller_Cat_18</th>\n",
              "      <th>Seller_Cat_19</th>\n",
              "      <th>Seller_Cat_20</th>\n",
              "      <th>Seller_Cat_21</th>\n",
              "      <th>Seller_Cat_22</th>\n",
              "      <th>Seller_Cat_24</th>\n",
              "      <th>Seller_Cat_27</th>\n",
              "      <th>Seller_Cat_28</th>\n",
              "      <th>Seller_Cat_29</th>\n",
              "      <th>...</th>\n",
              "      <th>Seller_Cat_231</th>\n",
              "      <th>Seller_Cat_233</th>\n",
              "      <th>Seller_Cat_235</th>\n",
              "      <th>Seller_Cat_236</th>\n",
              "      <th>Seller_Cat_237</th>\n",
              "      <th>Seller_Cat_238</th>\n",
              "      <th>Seller_Cat_240</th>\n",
              "      <th>Seller_Cat_241</th>\n",
              "      <th>Seller_Cat_242</th>\n",
              "      <th>Seller_Cat_245</th>\n",
              "      <th>Seller_Cat_246</th>\n",
              "      <th>Seller_Cat_247</th>\n",
              "      <th>Seller_Cat_248</th>\n",
              "      <th>Seller_Cat_249</th>\n",
              "      <th>Seller_Cat_250</th>\n",
              "      <th>Seller_Cat_251</th>\n",
              "      <th>Seller_Cat_252</th>\n",
              "      <th>Seller_Cat_254</th>\n",
              "      <th>Seller_Cat_255</th>\n",
              "      <th>Seller_Cat_256</th>\n",
              "      <th>Seller_Cat_257</th>\n",
              "      <th>Seller_Cat_258</th>\n",
              "      <th>Seller_Cat_259</th>\n",
              "      <th>Seller_Cat_261</th>\n",
              "      <th>Seller_Cat_262</th>\n",
              "      <th>Seller_Cat_263</th>\n",
              "      <th>Seller_Cat_264</th>\n",
              "      <th>Seller_Cat_265</th>\n",
              "      <th>Seller_Cat_266</th>\n",
              "      <th>Seller_Cat_267</th>\n",
              "      <th>Seller_Cat_268</th>\n",
              "      <th>Seller_Cat_270</th>\n",
              "      <th>Seller_Cat_272</th>\n",
              "      <th>Seller_Cat_274</th>\n",
              "      <th>Seller_Cat_275</th>\n",
              "      <th>BrandR1_0</th>\n",
              "      <th>BrandR1_1</th>\n",
              "      <th>BrandR1_2</th>\n",
              "      <th>BrandR1_3</th>\n",
              "      <th>Cluster</th>\n",
              "    </tr>\n",
              "  </thead>\n",
              "  <tbody>\n",
              "    <tr>\n",
              "      <th>0</th>\n",
              "      <td>85000.0</td>\n",
              "      <td>1.750000</td>\n",
              "      <td>59.985716</td>\n",
              "      <td>30.362817</td>\n",
              "      <td>5383890</td>\n",
              "      <td>18.00</td>\n",
              "      <td>0.705900</td>\n",
              "      <td>2</td>\n",
              "      <td>4</td>\n",
              "      <td>1</td>\n",
              "      <td>2</td>\n",
              "      <td>5</td>\n",
              "      <td>0</td>\n",
              "      <td>0</td>\n",
              "      <td>1</td>\n",
              "      <td>0</td>\n",
              "      <td>0</td>\n",
              "      <td>0</td>\n",
              "      <td>0</td>\n",
              "      <td>0</td>\n",
              "      <td>1</td>\n",
              "      <td>0</td>\n",
              "      <td>0</td>\n",
              "      <td>0</td>\n",
              "      <td>0</td>\n",
              "      <td>0</td>\n",
              "      <td>0</td>\n",
              "      <td>0</td>\n",
              "      <td>0</td>\n",
              "      <td>0</td>\n",
              "      <td>0</td>\n",
              "      <td>1</td>\n",
              "      <td>0</td>\n",
              "      <td>0</td>\n",
              "      <td>0</td>\n",
              "      <td>0</td>\n",
              "      <td>0</td>\n",
              "      <td>0</td>\n",
              "      <td>0</td>\n",
              "      <td>0</td>\n",
              "      <td>...</td>\n",
              "      <td>0</td>\n",
              "      <td>0</td>\n",
              "      <td>0</td>\n",
              "      <td>0</td>\n",
              "      <td>0</td>\n",
              "      <td>0</td>\n",
              "      <td>0</td>\n",
              "      <td>0</td>\n",
              "      <td>0</td>\n",
              "      <td>0</td>\n",
              "      <td>0</td>\n",
              "      <td>0</td>\n",
              "      <td>0</td>\n",
              "      <td>0</td>\n",
              "      <td>0</td>\n",
              "      <td>0</td>\n",
              "      <td>0</td>\n",
              "      <td>0</td>\n",
              "      <td>0</td>\n",
              "      <td>0</td>\n",
              "      <td>0</td>\n",
              "      <td>0</td>\n",
              "      <td>0</td>\n",
              "      <td>0</td>\n",
              "      <td>0</td>\n",
              "      <td>0</td>\n",
              "      <td>0</td>\n",
              "      <td>0</td>\n",
              "      <td>0</td>\n",
              "      <td>0</td>\n",
              "      <td>0</td>\n",
              "      <td>0</td>\n",
              "      <td>0</td>\n",
              "      <td>0</td>\n",
              "      <td>0</td>\n",
              "      <td>0</td>\n",
              "      <td>1</td>\n",
              "      <td>0</td>\n",
              "      <td>0</td>\n",
              "      <td>0</td>\n",
              "    </tr>\n",
              "    <tr>\n",
              "      <th>1</th>\n",
              "      <td>120000.0</td>\n",
              "      <td>1.150000</td>\n",
              "      <td>59.957911</td>\n",
              "      <td>30.402703</td>\n",
              "      <td>5383890</td>\n",
              "      <td>18.00</td>\n",
              "      <td>0.791700</td>\n",
              "      <td>2</td>\n",
              "      <td>4</td>\n",
              "      <td>1</td>\n",
              "      <td>2</td>\n",
              "      <td>5</td>\n",
              "      <td>0</td>\n",
              "      <td>0</td>\n",
              "      <td>1</td>\n",
              "      <td>0</td>\n",
              "      <td>0</td>\n",
              "      <td>0</td>\n",
              "      <td>0</td>\n",
              "      <td>0</td>\n",
              "      <td>1</td>\n",
              "      <td>0</td>\n",
              "      <td>0</td>\n",
              "      <td>0</td>\n",
              "      <td>0</td>\n",
              "      <td>0</td>\n",
              "      <td>0</td>\n",
              "      <td>0</td>\n",
              "      <td>0</td>\n",
              "      <td>0</td>\n",
              "      <td>0</td>\n",
              "      <td>1</td>\n",
              "      <td>0</td>\n",
              "      <td>0</td>\n",
              "      <td>0</td>\n",
              "      <td>0</td>\n",
              "      <td>0</td>\n",
              "      <td>0</td>\n",
              "      <td>0</td>\n",
              "      <td>0</td>\n",
              "      <td>...</td>\n",
              "      <td>0</td>\n",
              "      <td>0</td>\n",
              "      <td>0</td>\n",
              "      <td>0</td>\n",
              "      <td>0</td>\n",
              "      <td>0</td>\n",
              "      <td>0</td>\n",
              "      <td>0</td>\n",
              "      <td>0</td>\n",
              "      <td>0</td>\n",
              "      <td>0</td>\n",
              "      <td>0</td>\n",
              "      <td>0</td>\n",
              "      <td>0</td>\n",
              "      <td>0</td>\n",
              "      <td>0</td>\n",
              "      <td>0</td>\n",
              "      <td>0</td>\n",
              "      <td>0</td>\n",
              "      <td>0</td>\n",
              "      <td>0</td>\n",
              "      <td>0</td>\n",
              "      <td>0</td>\n",
              "      <td>0</td>\n",
              "      <td>0</td>\n",
              "      <td>0</td>\n",
              "      <td>0</td>\n",
              "      <td>0</td>\n",
              "      <td>0</td>\n",
              "      <td>0</td>\n",
              "      <td>0</td>\n",
              "      <td>0</td>\n",
              "      <td>0</td>\n",
              "      <td>0</td>\n",
              "      <td>0</td>\n",
              "      <td>0</td>\n",
              "      <td>1</td>\n",
              "      <td>0</td>\n",
              "      <td>0</td>\n",
              "      <td>0</td>\n",
              "    </tr>\n",
              "    <tr>\n",
              "      <th>2</th>\n",
              "      <td>85000.0</td>\n",
              "      <td>0.510000</td>\n",
              "      <td>60.003023</td>\n",
              "      <td>30.331454</td>\n",
              "      <td>5383890</td>\n",
              "      <td>18.00</td>\n",
              "      <td>0.705900</td>\n",
              "      <td>2</td>\n",
              "      <td>4</td>\n",
              "      <td>1</td>\n",
              "      <td>2</td>\n",
              "      <td>5</td>\n",
              "      <td>0</td>\n",
              "      <td>0</td>\n",
              "      <td>1</td>\n",
              "      <td>0</td>\n",
              "      <td>0</td>\n",
              "      <td>0</td>\n",
              "      <td>0</td>\n",
              "      <td>0</td>\n",
              "      <td>1</td>\n",
              "      <td>0</td>\n",
              "      <td>0</td>\n",
              "      <td>0</td>\n",
              "      <td>0</td>\n",
              "      <td>0</td>\n",
              "      <td>0</td>\n",
              "      <td>0</td>\n",
              "      <td>0</td>\n",
              "      <td>0</td>\n",
              "      <td>0</td>\n",
              "      <td>1</td>\n",
              "      <td>0</td>\n",
              "      <td>0</td>\n",
              "      <td>0</td>\n",
              "      <td>0</td>\n",
              "      <td>0</td>\n",
              "      <td>0</td>\n",
              "      <td>0</td>\n",
              "      <td>0</td>\n",
              "      <td>...</td>\n",
              "      <td>0</td>\n",
              "      <td>0</td>\n",
              "      <td>0</td>\n",
              "      <td>0</td>\n",
              "      <td>0</td>\n",
              "      <td>0</td>\n",
              "      <td>0</td>\n",
              "      <td>0</td>\n",
              "      <td>0</td>\n",
              "      <td>0</td>\n",
              "      <td>0</td>\n",
              "      <td>0</td>\n",
              "      <td>0</td>\n",
              "      <td>0</td>\n",
              "      <td>0</td>\n",
              "      <td>0</td>\n",
              "      <td>0</td>\n",
              "      <td>0</td>\n",
              "      <td>0</td>\n",
              "      <td>0</td>\n",
              "      <td>0</td>\n",
              "      <td>0</td>\n",
              "      <td>0</td>\n",
              "      <td>0</td>\n",
              "      <td>0</td>\n",
              "      <td>0</td>\n",
              "      <td>0</td>\n",
              "      <td>0</td>\n",
              "      <td>0</td>\n",
              "      <td>0</td>\n",
              "      <td>0</td>\n",
              "      <td>0</td>\n",
              "      <td>0</td>\n",
              "      <td>0</td>\n",
              "      <td>0</td>\n",
              "      <td>0</td>\n",
              "      <td>1</td>\n",
              "      <td>0</td>\n",
              "      <td>0</td>\n",
              "      <td>0</td>\n",
              "    </tr>\n",
              "    <tr>\n",
              "      <th>3</th>\n",
              "      <td>85000.0</td>\n",
              "      <td>1.310000</td>\n",
              "      <td>59.859179</td>\n",
              "      <td>30.253073</td>\n",
              "      <td>5383890</td>\n",
              "      <td>18.00</td>\n",
              "      <td>0.705900</td>\n",
              "      <td>2</td>\n",
              "      <td>4</td>\n",
              "      <td>1</td>\n",
              "      <td>2</td>\n",
              "      <td>5</td>\n",
              "      <td>0</td>\n",
              "      <td>0</td>\n",
              "      <td>1</td>\n",
              "      <td>0</td>\n",
              "      <td>0</td>\n",
              "      <td>0</td>\n",
              "      <td>0</td>\n",
              "      <td>0</td>\n",
              "      <td>1</td>\n",
              "      <td>0</td>\n",
              "      <td>0</td>\n",
              "      <td>0</td>\n",
              "      <td>0</td>\n",
              "      <td>0</td>\n",
              "      <td>0</td>\n",
              "      <td>0</td>\n",
              "      <td>0</td>\n",
              "      <td>0</td>\n",
              "      <td>0</td>\n",
              "      <td>1</td>\n",
              "      <td>0</td>\n",
              "      <td>0</td>\n",
              "      <td>0</td>\n",
              "      <td>0</td>\n",
              "      <td>0</td>\n",
              "      <td>0</td>\n",
              "      <td>0</td>\n",
              "      <td>0</td>\n",
              "      <td>...</td>\n",
              "      <td>0</td>\n",
              "      <td>0</td>\n",
              "      <td>0</td>\n",
              "      <td>0</td>\n",
              "      <td>0</td>\n",
              "      <td>0</td>\n",
              "      <td>0</td>\n",
              "      <td>0</td>\n",
              "      <td>0</td>\n",
              "      <td>0</td>\n",
              "      <td>0</td>\n",
              "      <td>0</td>\n",
              "      <td>0</td>\n",
              "      <td>0</td>\n",
              "      <td>0</td>\n",
              "      <td>0</td>\n",
              "      <td>0</td>\n",
              "      <td>0</td>\n",
              "      <td>0</td>\n",
              "      <td>0</td>\n",
              "      <td>0</td>\n",
              "      <td>0</td>\n",
              "      <td>0</td>\n",
              "      <td>0</td>\n",
              "      <td>0</td>\n",
              "      <td>0</td>\n",
              "      <td>0</td>\n",
              "      <td>0</td>\n",
              "      <td>0</td>\n",
              "      <td>0</td>\n",
              "      <td>0</td>\n",
              "      <td>0</td>\n",
              "      <td>0</td>\n",
              "      <td>0</td>\n",
              "      <td>0</td>\n",
              "      <td>0</td>\n",
              "      <td>1</td>\n",
              "      <td>0</td>\n",
              "      <td>0</td>\n",
              "      <td>0</td>\n",
              "    </tr>\n",
              "    <tr>\n",
              "      <th>4</th>\n",
              "      <td>85000.0</td>\n",
              "      <td>1.180000</td>\n",
              "      <td>59.845297</td>\n",
              "      <td>30.211271</td>\n",
              "      <td>5383890</td>\n",
              "      <td>18.00</td>\n",
              "      <td>0.705900</td>\n",
              "      <td>2</td>\n",
              "      <td>4</td>\n",
              "      <td>1</td>\n",
              "      <td>2</td>\n",
              "      <td>5</td>\n",
              "      <td>0</td>\n",
              "      <td>0</td>\n",
              "      <td>1</td>\n",
              "      <td>0</td>\n",
              "      <td>0</td>\n",
              "      <td>0</td>\n",
              "      <td>0</td>\n",
              "      <td>0</td>\n",
              "      <td>1</td>\n",
              "      <td>0</td>\n",
              "      <td>0</td>\n",
              "      <td>0</td>\n",
              "      <td>0</td>\n",
              "      <td>0</td>\n",
              "      <td>0</td>\n",
              "      <td>0</td>\n",
              "      <td>0</td>\n",
              "      <td>0</td>\n",
              "      <td>0</td>\n",
              "      <td>1</td>\n",
              "      <td>0</td>\n",
              "      <td>0</td>\n",
              "      <td>0</td>\n",
              "      <td>0</td>\n",
              "      <td>0</td>\n",
              "      <td>0</td>\n",
              "      <td>0</td>\n",
              "      <td>0</td>\n",
              "      <td>...</td>\n",
              "      <td>0</td>\n",
              "      <td>0</td>\n",
              "      <td>0</td>\n",
              "      <td>0</td>\n",
              "      <td>0</td>\n",
              "      <td>0</td>\n",
              "      <td>0</td>\n",
              "      <td>0</td>\n",
              "      <td>0</td>\n",
              "      <td>0</td>\n",
              "      <td>0</td>\n",
              "      <td>0</td>\n",
              "      <td>0</td>\n",
              "      <td>0</td>\n",
              "      <td>0</td>\n",
              "      <td>0</td>\n",
              "      <td>0</td>\n",
              "      <td>0</td>\n",
              "      <td>0</td>\n",
              "      <td>0</td>\n",
              "      <td>0</td>\n",
              "      <td>0</td>\n",
              "      <td>0</td>\n",
              "      <td>0</td>\n",
              "      <td>0</td>\n",
              "      <td>0</td>\n",
              "      <td>0</td>\n",
              "      <td>0</td>\n",
              "      <td>0</td>\n",
              "      <td>0</td>\n",
              "      <td>0</td>\n",
              "      <td>0</td>\n",
              "      <td>0</td>\n",
              "      <td>0</td>\n",
              "      <td>0</td>\n",
              "      <td>0</td>\n",
              "      <td>1</td>\n",
              "      <td>0</td>\n",
              "      <td>0</td>\n",
              "      <td>0</td>\n",
              "    </tr>\n",
              "    <tr>\n",
              "      <th>...</th>\n",
              "      <td>...</td>\n",
              "      <td>...</td>\n",
              "      <td>...</td>\n",
              "      <td>...</td>\n",
              "      <td>...</td>\n",
              "      <td>...</td>\n",
              "      <td>...</td>\n",
              "      <td>...</td>\n",
              "      <td>...</td>\n",
              "      <td>...</td>\n",
              "      <td>...</td>\n",
              "      <td>...</td>\n",
              "      <td>...</td>\n",
              "      <td>...</td>\n",
              "      <td>...</td>\n",
              "      <td>...</td>\n",
              "      <td>...</td>\n",
              "      <td>...</td>\n",
              "      <td>...</td>\n",
              "      <td>...</td>\n",
              "      <td>...</td>\n",
              "      <td>...</td>\n",
              "      <td>...</td>\n",
              "      <td>...</td>\n",
              "      <td>...</td>\n",
              "      <td>...</td>\n",
              "      <td>...</td>\n",
              "      <td>...</td>\n",
              "      <td>...</td>\n",
              "      <td>...</td>\n",
              "      <td>...</td>\n",
              "      <td>...</td>\n",
              "      <td>...</td>\n",
              "      <td>...</td>\n",
              "      <td>...</td>\n",
              "      <td>...</td>\n",
              "      <td>...</td>\n",
              "      <td>...</td>\n",
              "      <td>...</td>\n",
              "      <td>...</td>\n",
              "      <td>...</td>\n",
              "      <td>...</td>\n",
              "      <td>...</td>\n",
              "      <td>...</td>\n",
              "      <td>...</td>\n",
              "      <td>...</td>\n",
              "      <td>...</td>\n",
              "      <td>...</td>\n",
              "      <td>...</td>\n",
              "      <td>...</td>\n",
              "      <td>...</td>\n",
              "      <td>...</td>\n",
              "      <td>...</td>\n",
              "      <td>...</td>\n",
              "      <td>...</td>\n",
              "      <td>...</td>\n",
              "      <td>...</td>\n",
              "      <td>...</td>\n",
              "      <td>...</td>\n",
              "      <td>...</td>\n",
              "      <td>...</td>\n",
              "      <td>...</td>\n",
              "      <td>...</td>\n",
              "      <td>...</td>\n",
              "      <td>...</td>\n",
              "      <td>...</td>\n",
              "      <td>...</td>\n",
              "      <td>...</td>\n",
              "      <td>...</td>\n",
              "      <td>...</td>\n",
              "      <td>...</td>\n",
              "      <td>...</td>\n",
              "      <td>...</td>\n",
              "      <td>...</td>\n",
              "      <td>...</td>\n",
              "      <td>...</td>\n",
              "      <td>...</td>\n",
              "      <td>...</td>\n",
              "      <td>...</td>\n",
              "      <td>...</td>\n",
              "      <td>...</td>\n",
              "    </tr>\n",
              "    <tr>\n",
              "      <th>42098</th>\n",
              "      <td>10500.0</td>\n",
              "      <td>40.450000</td>\n",
              "      <td>52.756792</td>\n",
              "      <td>103.621072</td>\n",
              "      <td>76047</td>\n",
              "      <td>18.00</td>\n",
              "      <td>0.161905</td>\n",
              "      <td>3</td>\n",
              "      <td>3</td>\n",
              "      <td>1</td>\n",
              "      <td>1</td>\n",
              "      <td>4</td>\n",
              "      <td>0</td>\n",
              "      <td>0</td>\n",
              "      <td>1</td>\n",
              "      <td>0</td>\n",
              "      <td>0</td>\n",
              "      <td>1</td>\n",
              "      <td>0</td>\n",
              "      <td>0</td>\n",
              "      <td>0</td>\n",
              "      <td>0</td>\n",
              "      <td>0</td>\n",
              "      <td>0</td>\n",
              "      <td>0</td>\n",
              "      <td>0</td>\n",
              "      <td>0</td>\n",
              "      <td>0</td>\n",
              "      <td>0</td>\n",
              "      <td>0</td>\n",
              "      <td>0</td>\n",
              "      <td>0</td>\n",
              "      <td>0</td>\n",
              "      <td>0</td>\n",
              "      <td>0</td>\n",
              "      <td>0</td>\n",
              "      <td>0</td>\n",
              "      <td>0</td>\n",
              "      <td>0</td>\n",
              "      <td>0</td>\n",
              "      <td>...</td>\n",
              "      <td>0</td>\n",
              "      <td>0</td>\n",
              "      <td>0</td>\n",
              "      <td>0</td>\n",
              "      <td>0</td>\n",
              "      <td>0</td>\n",
              "      <td>0</td>\n",
              "      <td>0</td>\n",
              "      <td>0</td>\n",
              "      <td>0</td>\n",
              "      <td>0</td>\n",
              "      <td>0</td>\n",
              "      <td>0</td>\n",
              "      <td>0</td>\n",
              "      <td>0</td>\n",
              "      <td>0</td>\n",
              "      <td>0</td>\n",
              "      <td>0</td>\n",
              "      <td>0</td>\n",
              "      <td>0</td>\n",
              "      <td>0</td>\n",
              "      <td>0</td>\n",
              "      <td>0</td>\n",
              "      <td>0</td>\n",
              "      <td>0</td>\n",
              "      <td>0</td>\n",
              "      <td>0</td>\n",
              "      <td>0</td>\n",
              "      <td>0</td>\n",
              "      <td>0</td>\n",
              "      <td>0</td>\n",
              "      <td>0</td>\n",
              "      <td>0</td>\n",
              "      <td>0</td>\n",
              "      <td>1</td>\n",
              "      <td>0</td>\n",
              "      <td>1</td>\n",
              "      <td>0</td>\n",
              "      <td>0</td>\n",
              "      <td>2</td>\n",
              "    </tr>\n",
              "    <tr>\n",
              "      <th>42099</th>\n",
              "      <td>21000.0</td>\n",
              "      <td>3.969063</td>\n",
              "      <td>52.307217</td>\n",
              "      <td>104.291990</td>\n",
              "      <td>623562</td>\n",
              "      <td>18.00</td>\n",
              "      <td>0.571429</td>\n",
              "      <td>3</td>\n",
              "      <td>3</td>\n",
              "      <td>1</td>\n",
              "      <td>2</td>\n",
              "      <td>4</td>\n",
              "      <td>0</td>\n",
              "      <td>0</td>\n",
              "      <td>1</td>\n",
              "      <td>0</td>\n",
              "      <td>0</td>\n",
              "      <td>1</td>\n",
              "      <td>0</td>\n",
              "      <td>0</td>\n",
              "      <td>0</td>\n",
              "      <td>0</td>\n",
              "      <td>0</td>\n",
              "      <td>0</td>\n",
              "      <td>0</td>\n",
              "      <td>0</td>\n",
              "      <td>0</td>\n",
              "      <td>0</td>\n",
              "      <td>0</td>\n",
              "      <td>0</td>\n",
              "      <td>0</td>\n",
              "      <td>0</td>\n",
              "      <td>0</td>\n",
              "      <td>0</td>\n",
              "      <td>0</td>\n",
              "      <td>0</td>\n",
              "      <td>0</td>\n",
              "      <td>0</td>\n",
              "      <td>0</td>\n",
              "      <td>0</td>\n",
              "      <td>...</td>\n",
              "      <td>0</td>\n",
              "      <td>0</td>\n",
              "      <td>0</td>\n",
              "      <td>0</td>\n",
              "      <td>0</td>\n",
              "      <td>0</td>\n",
              "      <td>0</td>\n",
              "      <td>0</td>\n",
              "      <td>0</td>\n",
              "      <td>0</td>\n",
              "      <td>0</td>\n",
              "      <td>0</td>\n",
              "      <td>0</td>\n",
              "      <td>0</td>\n",
              "      <td>0</td>\n",
              "      <td>0</td>\n",
              "      <td>0</td>\n",
              "      <td>0</td>\n",
              "      <td>0</td>\n",
              "      <td>0</td>\n",
              "      <td>0</td>\n",
              "      <td>0</td>\n",
              "      <td>0</td>\n",
              "      <td>0</td>\n",
              "      <td>0</td>\n",
              "      <td>0</td>\n",
              "      <td>0</td>\n",
              "      <td>0</td>\n",
              "      <td>0</td>\n",
              "      <td>0</td>\n",
              "      <td>0</td>\n",
              "      <td>0</td>\n",
              "      <td>0</td>\n",
              "      <td>0</td>\n",
              "      <td>0</td>\n",
              "      <td>0</td>\n",
              "      <td>1</td>\n",
              "      <td>0</td>\n",
              "      <td>0</td>\n",
              "      <td>1</td>\n",
              "    </tr>\n",
              "    <tr>\n",
              "      <th>42100</th>\n",
              "      <td>22000.0</td>\n",
              "      <td>3.050000</td>\n",
              "      <td>57.146031</td>\n",
              "      <td>65.590307</td>\n",
              "      <td>807271</td>\n",
              "      <td>18.00</td>\n",
              "      <td>0.590909</td>\n",
              "      <td>3</td>\n",
              "      <td>3</td>\n",
              "      <td>1</td>\n",
              "      <td>0</td>\n",
              "      <td>4</td>\n",
              "      <td>0</td>\n",
              "      <td>0</td>\n",
              "      <td>1</td>\n",
              "      <td>0</td>\n",
              "      <td>0</td>\n",
              "      <td>1</td>\n",
              "      <td>0</td>\n",
              "      <td>0</td>\n",
              "      <td>0</td>\n",
              "      <td>0</td>\n",
              "      <td>0</td>\n",
              "      <td>0</td>\n",
              "      <td>0</td>\n",
              "      <td>0</td>\n",
              "      <td>0</td>\n",
              "      <td>0</td>\n",
              "      <td>0</td>\n",
              "      <td>0</td>\n",
              "      <td>0</td>\n",
              "      <td>0</td>\n",
              "      <td>0</td>\n",
              "      <td>0</td>\n",
              "      <td>0</td>\n",
              "      <td>0</td>\n",
              "      <td>0</td>\n",
              "      <td>0</td>\n",
              "      <td>0</td>\n",
              "      <td>0</td>\n",
              "      <td>...</td>\n",
              "      <td>0</td>\n",
              "      <td>0</td>\n",
              "      <td>0</td>\n",
              "      <td>0</td>\n",
              "      <td>0</td>\n",
              "      <td>0</td>\n",
              "      <td>0</td>\n",
              "      <td>0</td>\n",
              "      <td>0</td>\n",
              "      <td>0</td>\n",
              "      <td>0</td>\n",
              "      <td>0</td>\n",
              "      <td>0</td>\n",
              "      <td>0</td>\n",
              "      <td>0</td>\n",
              "      <td>0</td>\n",
              "      <td>0</td>\n",
              "      <td>0</td>\n",
              "      <td>0</td>\n",
              "      <td>0</td>\n",
              "      <td>0</td>\n",
              "      <td>0</td>\n",
              "      <td>0</td>\n",
              "      <td>0</td>\n",
              "      <td>0</td>\n",
              "      <td>0</td>\n",
              "      <td>0</td>\n",
              "      <td>0</td>\n",
              "      <td>0</td>\n",
              "      <td>0</td>\n",
              "      <td>0</td>\n",
              "      <td>0</td>\n",
              "      <td>0</td>\n",
              "      <td>0</td>\n",
              "      <td>0</td>\n",
              "      <td>0</td>\n",
              "      <td>1</td>\n",
              "      <td>0</td>\n",
              "      <td>0</td>\n",
              "      <td>2</td>\n",
              "    </tr>\n",
              "    <tr>\n",
              "      <th>42101</th>\n",
              "      <td>15000.0</td>\n",
              "      <td>11.934893</td>\n",
              "      <td>56.595650</td>\n",
              "      <td>84.911490</td>\n",
              "      <td>106516</td>\n",
              "      <td>18.00</td>\n",
              "      <td>0.333333</td>\n",
              "      <td>3</td>\n",
              "      <td>3</td>\n",
              "      <td>1</td>\n",
              "      <td>0</td>\n",
              "      <td>4</td>\n",
              "      <td>0</td>\n",
              "      <td>0</td>\n",
              "      <td>1</td>\n",
              "      <td>0</td>\n",
              "      <td>0</td>\n",
              "      <td>1</td>\n",
              "      <td>0</td>\n",
              "      <td>0</td>\n",
              "      <td>0</td>\n",
              "      <td>0</td>\n",
              "      <td>0</td>\n",
              "      <td>0</td>\n",
              "      <td>0</td>\n",
              "      <td>0</td>\n",
              "      <td>0</td>\n",
              "      <td>0</td>\n",
              "      <td>0</td>\n",
              "      <td>0</td>\n",
              "      <td>0</td>\n",
              "      <td>0</td>\n",
              "      <td>0</td>\n",
              "      <td>0</td>\n",
              "      <td>0</td>\n",
              "      <td>0</td>\n",
              "      <td>0</td>\n",
              "      <td>0</td>\n",
              "      <td>0</td>\n",
              "      <td>0</td>\n",
              "      <td>...</td>\n",
              "      <td>0</td>\n",
              "      <td>0</td>\n",
              "      <td>0</td>\n",
              "      <td>0</td>\n",
              "      <td>0</td>\n",
              "      <td>0</td>\n",
              "      <td>0</td>\n",
              "      <td>0</td>\n",
              "      <td>0</td>\n",
              "      <td>0</td>\n",
              "      <td>0</td>\n",
              "      <td>0</td>\n",
              "      <td>0</td>\n",
              "      <td>0</td>\n",
              "      <td>0</td>\n",
              "      <td>0</td>\n",
              "      <td>0</td>\n",
              "      <td>0</td>\n",
              "      <td>0</td>\n",
              "      <td>0</td>\n",
              "      <td>0</td>\n",
              "      <td>0</td>\n",
              "      <td>0</td>\n",
              "      <td>0</td>\n",
              "      <td>0</td>\n",
              "      <td>0</td>\n",
              "      <td>0</td>\n",
              "      <td>0</td>\n",
              "      <td>0</td>\n",
              "      <td>0</td>\n",
              "      <td>0</td>\n",
              "      <td>0</td>\n",
              "      <td>0</td>\n",
              "      <td>0</td>\n",
              "      <td>0</td>\n",
              "      <td>0</td>\n",
              "      <td>1</td>\n",
              "      <td>0</td>\n",
              "      <td>0</td>\n",
              "      <td>2</td>\n",
              "    </tr>\n",
              "    <tr>\n",
              "      <th>42102</th>\n",
              "      <td>10000.0</td>\n",
              "      <td>7.980000</td>\n",
              "      <td>57.143039</td>\n",
              "      <td>65.586761</td>\n",
              "      <td>807271</td>\n",
              "      <td>2.16</td>\n",
              "      <td>0.550000</td>\n",
              "      <td>3</td>\n",
              "      <td>3</td>\n",
              "      <td>1</td>\n",
              "      <td>0</td>\n",
              "      <td>1</td>\n",
              "      <td>1</td>\n",
              "      <td>0</td>\n",
              "      <td>0</td>\n",
              "      <td>0</td>\n",
              "      <td>0</td>\n",
              "      <td>0</td>\n",
              "      <td>0</td>\n",
              "      <td>1</td>\n",
              "      <td>0</td>\n",
              "      <td>0</td>\n",
              "      <td>0</td>\n",
              "      <td>0</td>\n",
              "      <td>0</td>\n",
              "      <td>0</td>\n",
              "      <td>0</td>\n",
              "      <td>0</td>\n",
              "      <td>0</td>\n",
              "      <td>0</td>\n",
              "      <td>0</td>\n",
              "      <td>0</td>\n",
              "      <td>0</td>\n",
              "      <td>0</td>\n",
              "      <td>0</td>\n",
              "      <td>0</td>\n",
              "      <td>0</td>\n",
              "      <td>0</td>\n",
              "      <td>0</td>\n",
              "      <td>0</td>\n",
              "      <td>...</td>\n",
              "      <td>0</td>\n",
              "      <td>0</td>\n",
              "      <td>0</td>\n",
              "      <td>0</td>\n",
              "      <td>0</td>\n",
              "      <td>0</td>\n",
              "      <td>0</td>\n",
              "      <td>0</td>\n",
              "      <td>0</td>\n",
              "      <td>0</td>\n",
              "      <td>0</td>\n",
              "      <td>0</td>\n",
              "      <td>0</td>\n",
              "      <td>0</td>\n",
              "      <td>0</td>\n",
              "      <td>0</td>\n",
              "      <td>0</td>\n",
              "      <td>0</td>\n",
              "      <td>0</td>\n",
              "      <td>0</td>\n",
              "      <td>0</td>\n",
              "      <td>0</td>\n",
              "      <td>0</td>\n",
              "      <td>0</td>\n",
              "      <td>0</td>\n",
              "      <td>0</td>\n",
              "      <td>0</td>\n",
              "      <td>0</td>\n",
              "      <td>0</td>\n",
              "      <td>0</td>\n",
              "      <td>0</td>\n",
              "      <td>0</td>\n",
              "      <td>0</td>\n",
              "      <td>0</td>\n",
              "      <td>0</td>\n",
              "      <td>1</td>\n",
              "      <td>0</td>\n",
              "      <td>0</td>\n",
              "      <td>0</td>\n",
              "      <td>2</td>\n",
              "    </tr>\n",
              "  </tbody>\n",
              "</table>\n",
              "<p>36411 rows × 223 columns</p>\n",
              "</div>"
            ],
            "text/plain": [
              "       PriceNoTax        GRP   Latitude  ...  BrandR1_2  BrandR1_3  Cluster\n",
              "0         85000.0   1.750000  59.985716  ...          0          0        0\n",
              "1        120000.0   1.150000  59.957911  ...          0          0        0\n",
              "2         85000.0   0.510000  60.003023  ...          0          0        0\n",
              "3         85000.0   1.310000  59.859179  ...          0          0        0\n",
              "4         85000.0   1.180000  59.845297  ...          0          0        0\n",
              "...           ...        ...        ...  ...        ...        ...      ...\n",
              "42098     10500.0  40.450000  52.756792  ...          0          0        2\n",
              "42099     21000.0   3.969063  52.307217  ...          0          0        1\n",
              "42100     22000.0   3.050000  57.146031  ...          0          0        2\n",
              "42101     15000.0  11.934893  56.595650  ...          0          0        2\n",
              "42102     10000.0   7.980000  57.143039  ...          0          0        2\n",
              "\n",
              "[36411 rows x 223 columns]"
            ]
          },
          "metadata": {
            "tags": []
          },
          "execution_count": 74
        }
      ]
    },
    {
      "cell_type": "code",
      "metadata": {
        "id": "LfucHD8cIe_9"
      },
      "source": [
        "res=[]\n",
        "for i in range (0,n_clusters):\n",
        "  tmp=train[train['Cluster']==i]\n",
        "  if len(tmp)>5:\n",
        "      r=[i, len (tmp) ,tmp['Discount'].std () ]\n",
        "      res.append(r)\n",
        "std_res=np.array(res)"
      ],
      "id": "LfucHD8cIe_9",
      "execution_count": null,
      "outputs": []
    },
    {
      "cell_type": "code",
      "metadata": {
        "colab": {
          "base_uri": "https://localhost:8080/",
          "height": 139
        },
        "id": "uoXxIVmiIobt",
        "outputId": "d5acafc3-c4d2-42ef-c9d8-7ca8eb2f0c98"
      },
      "source": [
        "pd.DataFrame (std_res)"
      ],
      "id": "uoXxIVmiIobt",
      "execution_count": null,
      "outputs": [
        {
          "output_type": "execute_result",
          "data": {
            "text/html": [
              "<div>\n",
              "<style scoped>\n",
              "    .dataframe tbody tr th:only-of-type {\n",
              "        vertical-align: middle;\n",
              "    }\n",
              "\n",
              "    .dataframe tbody tr th {\n",
              "        vertical-align: top;\n",
              "    }\n",
              "\n",
              "    .dataframe thead th {\n",
              "        text-align: right;\n",
              "    }\n",
              "</style>\n",
              "<table border=\"1\" class=\"dataframe\">\n",
              "  <thead>\n",
              "    <tr style=\"text-align: right;\">\n",
              "      <th></th>\n",
              "      <th>0</th>\n",
              "      <th>1</th>\n",
              "      <th>2</th>\n",
              "    </tr>\n",
              "  </thead>\n",
              "  <tbody>\n",
              "    <tr>\n",
              "      <th>0</th>\n",
              "      <td>0.0</td>\n",
              "      <td>11083.0</td>\n",
              "      <td>0.193360</td>\n",
              "    </tr>\n",
              "    <tr>\n",
              "      <th>1</th>\n",
              "      <td>1.0</td>\n",
              "      <td>2017.0</td>\n",
              "      <td>0.155036</td>\n",
              "    </tr>\n",
              "    <tr>\n",
              "      <th>2</th>\n",
              "      <td>2.0</td>\n",
              "      <td>23311.0</td>\n",
              "      <td>0.187797</td>\n",
              "    </tr>\n",
              "  </tbody>\n",
              "</table>\n",
              "</div>"
            ],
            "text/plain": [
              "     0        1         2\n",
              "0  0.0  11083.0  0.193360\n",
              "1  1.0   2017.0  0.155036\n",
              "2  2.0  23311.0  0.187797"
            ]
          },
          "metadata": {
            "tags": []
          },
          "execution_count": 77
        }
      ]
    },
    {
      "cell_type": "code",
      "metadata": {
        "id": "MWKAXeOx6cLK"
      },
      "source": [
        "c_fin=np.concatenate ((np.array(train), np.array(labels)), axis=1 )\n",
        "common_fin=pd.DataFrame (c_fin, columns=cols_c)"
      ],
      "id": "MWKAXeOx6cLK",
      "execution_count": null,
      "outputs": []
    },
    {
      "cell_type": "code",
      "metadata": {
        "id": "ENYvFyW5Y1hC"
      },
      "source": [
        "c_fin=np.column_stack((np.array(train), np.array(labels)))\n",
        "common_fin=pd.DataFrame (c_fin, columns=cols_c)"
      ],
      "id": "ENYvFyW5Y1hC",
      "execution_count": null,
      "outputs": []
    },
    {
      "cell_type": "code",
      "metadata": {
        "id": "K64g0NghsTDa"
      },
      "source": [
        "common_fin"
      ],
      "id": "K64g0NghsTDa",
      "execution_count": null,
      "outputs": []
    },
    {
      "cell_type": "code",
      "metadata": {
        "colab": {
          "base_uri": "https://localhost:8080/"
        },
        "id": "fEBvudM6ICxU",
        "outputId": "11ca83cf-bb89-4798-94d2-ea188065a221"
      },
      "source": [
        "n_clusters"
      ],
      "id": "fEBvudM6ICxU",
      "execution_count": null,
      "outputs": [
        {
          "output_type": "execute_result",
          "data": {
            "text/plain": [
              "3"
            ]
          },
          "metadata": {
            "tags": []
          },
          "execution_count": 75
        }
      ]
    },
    {
      "cell_type": "code",
      "metadata": {
        "id": "kutSY4fftfzK"
      },
      "source": [
        "res=[]\n",
        "for i in range (0,n_clusters_):\n",
        "  tmp=common_fin[common_fin['Cluster']==i]\n",
        "  if len(tmp)>5:\n",
        "      r=[i, len (tmp) ,tmp['Discount'].std () ]\n",
        "      res.append(r)\n",
        "std_res=np.array(res)\n"
      ],
      "id": "kutSY4fftfzK",
      "execution_count": null,
      "outputs": []
    },
    {
      "cell_type": "code",
      "metadata": {
        "id": "yjyfsxgtxCPq"
      },
      "source": [
        "pd.DataFrame (std_res)"
      ],
      "id": "yjyfsxgtxCPq",
      "execution_count": null,
      "outputs": []
    },
    {
      "cell_type": "code",
      "metadata": {
        "id": "3RgXGo7X02r2"
      },
      "source": [
        "cols_c"
      ],
      "id": "3RgXGo7X02r2",
      "execution_count": null,
      "outputs": []
    },
    {
      "cell_type": "code",
      "metadata": {
        "id": "XVLAgH8M0UFn"
      },
      "source": [
        "  res=[]\n",
        "  clust=cluster.KMeans (n_clusters=7, n_init=500, max_iter=5000)\n",
        "  labels_m=clust.fit_predict(train)\n",
        "  cluster_centers = clust.cluster_centers_\n",
        "  labels_unique = np.unique(labels_m)\n",
        "  n_clusters_ = len(labels_unique)\n",
        "  train['Cluster']=labels_m\n",
        "  cols_c=train.columns.to_list()\n",
        "  cols_c.append('Discount')\n",
        "  c_fin=np.column_stack((np.array(train), np.array(labels)))\n",
        "  common_fin=pd.DataFrame (c_fin, columns=cols_c)\n"
      ],
      "id": "XVLAgH8M0UFn",
      "execution_count": null,
      "outputs": []
    },
    {
      "cell_type": "code",
      "metadata": {
        "id": "TOnJc-FD7qcG"
      },
      "source": [
        "  hold['Cluster']=clust.predict(hold)\n",
        "  hold_fin=np.column_stack((np.array(hold), np.array(hold_labels)))\n",
        "  hold_fin=pd.DataFrame (hold_fin, columns=cols_c)"
      ],
      "id": "TOnJc-FD7qcG",
      "execution_count": null,
      "outputs": []
    },
    {
      "cell_type": "code",
      "metadata": {
        "id": "1uZaeWjt27Rk"
      },
      "source": [
        "fin_res=[]\n",
        "res=[]\n",
        "for i in range (0, n_clusters_):\n",
        "      #locals() ['data_cl_' + str(i)] =common_fin[common_fin['Cluster']==i].drop (['Cluster'], axis=1)\n",
        "      #locals() ['hold_cl' + str(i)] =hold_fin[hold_fin['Cluster']==i].drop (['Cluster'], axis=1)\n",
        "      tmp_train=common_fin[common_fin['Cluster']==i].drop (['Cluster'], axis=1)\n",
        "      tmp_hold=hold_fin[hold_fin['Cluster']==i].drop (['Cluster'], axis=1)\n",
        "      tmp_train_labels=tmp_train.pop ('Discount')\n",
        "      tmp_hold_labels=tmp_hold.pop ('Discount')\n",
        "      \n",
        "      train_data, test_data, train_labels, test_labels  = model_selection.train_test_split(tmp_train, tmp_train_labels, train_size=0.8, shuffle=True)\n",
        "      MyDTree=tree.DecisionTreeRegressor ( criterion='mse')\n",
        "      MyDTree.fit (train_data, train_labels)\n",
        "      pred_MyDtree= MyDTree.predict (test_data)\n",
        "      sh_t=my_custom_loss_func (test_labels, pred_MyDtree)\n",
        "      mae=metrics.mean_absolute_error(test_labels, pred_MyDtree)\n",
        "      lt=len (tmp_train_labels)\n",
        "      lh=len (tmp_hold_labels)\n",
        "      if lh!=0  : \n",
        "        pred_MyDtree_h= MyDTree.predict (tmp_hold)\n",
        "        sh_h=my_custom_loss_func (tmp_hold_labels, pred_MyDtree_h)\n",
        "        mae_h=metrics.mean_absolute_error(tmp_hold_labels, pred_MyDtree_h)\n",
        "      else : \n",
        "        sh_h=-1\n",
        "        mae_h=-1\n",
        "      fin_res.append([i,lt, sh_t, sh_h, mae, mae_h])\n",
        "      res.append([i, lt, sh_t, sh_h, mae, mae_h])\n",
        "      print ('cluster', i, 'size', lh, 'share_test', round (sh_t,4), 'share_hold', round (sh_h,4))\n",
        "df=pd.DataFrame (res, columns=['cluster', 'size', 'share_test', 'share_hold', 'mae', 'mae_h'])"
      ],
      "id": "1uZaeWjt27Rk",
      "execution_count": null,
      "outputs": []
    },
    {
      "cell_type": "code",
      "metadata": {
        "id": "a2tKkQflyP2C"
      },
      "source": [
        "#common_fin=common_fin.drop(['Discount'], axis=1)"
      ],
      "id": "a2tKkQflyP2C",
      "execution_count": null,
      "outputs": []
    },
    {
      "cell_type": "code",
      "metadata": {
        "id": "MJwslcXTwfCV"
      },
      "source": [
        "data_cl_0=common_fin[common_fin['Cluster']==0]\n",
        "data_cl_1=common_fin[common_fin['Cluster']==1]\n",
        "data_cl_2=common_fin[common_fin['Cluster']==2]"
      ],
      "id": "MJwslcXTwfCV",
      "execution_count": null,
      "outputs": []
    },
    {
      "cell_type": "code",
      "metadata": {
        "id": "U2Y6q-ViJp51"
      },
      "source": [
        "train, labels=datasets.load_boston(return_X_y=True)"
      ],
      "id": "U2Y6q-ViJp51",
      "execution_count": null,
      "outputs": []
    },
    {
      "cell_type": "code",
      "metadata": {
        "id": "TLt3o0IEILyP"
      },
      "source": [
        "labels"
      ],
      "id": "TLt3o0IEILyP",
      "execution_count": null,
      "outputs": []
    },
    {
      "cell_type": "code",
      "metadata": {
        "id": "HMwHwvqnPin5"
      },
      "source": [
        "sns.heatmap(data.corr()[['Discount']].sort_values(by='Discount', ascending=False), vmin=-1, vmax=1, annot=True, cmap='BrBG')"
      ],
      "id": "HMwHwvqnPin5",
      "execution_count": null,
      "outputs": []
    },
    {
      "cell_type": "code",
      "metadata": {
        "id": "e2aW9yl9oW08"
      },
      "source": [
        "cls=data.columns.to_list()"
      ],
      "id": "e2aW9yl9oW08",
      "execution_count": null,
      "outputs": []
    },
    {
      "cell_type": "code",
      "metadata": {
        "id": "n27Q9Gl5ohRU"
      },
      "source": [
        "tmp_data=data.iloc[:-1457,:]\n",
        "temp_hold=data.iloc[-1457:,:]\n",
        "tmp_data_2=temp_hold.iloc[-897:,:]\n",
        "hold=temp_hold.iloc[:560,:]\n"
      ],
      "id": "n27Q9Gl5ohRU",
      "execution_count": null,
      "outputs": []
    },
    {
      "cell_type": "code",
      "metadata": {
        "id": "E8rlCKv5p4tb"
      },
      "source": [
        "dt=np.concatenate ((np.array(tmp_data), np.array(tmp_data_2)), axis=0 )\n",
        "train=pd.DataFrame (dt, columns=cls)"
      ],
      "id": "E8rlCKv5p4tb",
      "execution_count": null,
      "outputs": []
    },
    {
      "cell_type": "code",
      "metadata": {
        "id": "4p5iTqxgo5BG"
      },
      "source": [
        "hold"
      ],
      "id": "4p5iTqxgo5BG",
      "execution_count": null,
      "outputs": []
    },
    {
      "cell_type": "code",
      "metadata": {
        "id": "0ROLXbv7nZs4"
      },
      "source": [
        "tmp=data[data['YearNum']==3]\n",
        "tmp1=tmp[tmp['Month_Id']==4]\n",
        "len (tmp1)"
      ],
      "id": "0ROLXbv7nZs4",
      "execution_count": null,
      "outputs": []
    },
    {
      "cell_type": "code",
      "metadata": {
        "id": "p6jftYbwoRm7"
      },
      "source": [
        "750+147"
      ],
      "id": "p6jftYbwoRm7",
      "execution_count": null,
      "outputs": []
    },
    {
      "cell_type": "code",
      "metadata": {
        "id": "_M57zWdIIeZn"
      },
      "source": [
        "#sns.boxplot (data['Discount'])"
      ],
      "id": "_M57zWdIIeZn",
      "execution_count": null,
      "outputs": []
    },
    {
      "cell_type": "code",
      "metadata": {
        "id": "i858jB3R7nDq"
      },
      "source": [
        "#data['BrandR1']=data['BrandR1'].fillna(1)\n",
        "#data['Latitude']=data['Latitude'].fillna(data['Latitude'].mean())\n",
        "#data['Longitude']=data['Longitude'].fillna(data['Longitude'].mean())\n",
        "#data['Size']=data['Size'].fillna(data['Size'].median())\n",
        "#data=data.dropna()"
      ],
      "id": "i858jB3R7nDq",
      "execution_count": null,
      "outputs": []
    },
    {
      "cell_type": "code",
      "metadata": {
        "id": "28479525"
      },
      "source": [
        "#data=data.drop (['Object_UID', 'Summ2PayOperNoTax', 'CityType','AgentName', 'OperatorR2'], axis=1)"
      ],
      "id": "28479525",
      "execution_count": null,
      "outputs": []
    },
    {
      "cell_type": "code",
      "metadata": {
        "id": "4vKc4QMU2Ji2"
      },
      "source": [
        "data=data_cl_2.drop (['Cluster'], axis=1)"
      ],
      "id": "4vKc4QMU2Ji2",
      "execution_count": null,
      "outputs": []
    },
    {
      "cell_type": "code",
      "metadata": {
        "id": "14b676ec"
      },
      "source": [
        "data"
      ],
      "id": "14b676ec",
      "execution_count": null,
      "outputs": []
    },
    {
      "cell_type": "code",
      "metadata": {
        "id": "6ad75d07"
      },
      "source": [
        "col_cat= ['YearNum',\n",
        "  'Month_Id',\n",
        " 'BrandR1',\n",
        " 'Seazon',\n",
        " 'ConstrGroup',\n",
        " 'ExpoType',\n",
        " 'OperatorR1',\n",
        " 'Budget',\n",
        " 'GRP',\n",
        " 'Latitude',\n",
        " 'Longitude',\n",
        " 'Population',\n",
        " 'Size',\n",
        " 'Seller_Cat']"
      ],
      "id": "6ad75d07",
      "execution_count": null,
      "outputs": []
    },
    {
      "cell_type": "code",
      "metadata": {
        "id": "8a9a73d6"
      },
      "source": [
        "data=pd.get_dummies (data, columns=['Seller_Cat'])"
      ],
      "id": "8a9a73d6",
      "execution_count": null,
      "outputs": []
    },
    {
      "cell_type": "code",
      "metadata": {
        "id": "Q5nN54g42eAG"
      },
      "source": [
        "train=data"
      ],
      "id": "Q5nN54g42eAG",
      "execution_count": null,
      "outputs": []
    },
    {
      "cell_type": "code",
      "metadata": {
        "id": "Il3xG20oiWMB"
      },
      "source": [
        "hold"
      ],
      "id": "Il3xG20oiWMB",
      "execution_count": null,
      "outputs": []
    },
    {
      "cell_type": "code",
      "metadata": {
        "id": "JN5MYKLKhhDp"
      },
      "source": [
        "hold_labels=hold.pop('Discount')"
      ],
      "id": "JN5MYKLKhhDp",
      "execution_count": null,
      "outputs": []
    },
    {
      "cell_type": "code",
      "metadata": {
        "id": "0lY4iHZaeRGo"
      },
      "source": [
        "hold['Cluster']=ms.predict(hold)"
      ],
      "id": "0lY4iHZaeRGo",
      "execution_count": null,
      "outputs": []
    },
    {
      "cell_type": "code",
      "metadata": {
        "id": "hncuN16ohwaU"
      },
      "source": [
        "h_fin=np.column_stack((np.array(hold), np.array(hold_labels)))\n",
        "h_fin=pd.DataFrame (h_fin, columns=cols_c)"
      ],
      "id": "hncuN16ohwaU",
      "execution_count": null,
      "outputs": []
    },
    {
      "cell_type": "code",
      "metadata": {
        "id": "gADjAun5x8vt"
      },
      "source": [
        "cols_c"
      ],
      "id": "gADjAun5x8vt",
      "execution_count": null,
      "outputs": []
    },
    {
      "cell_type": "code",
      "metadata": {
        "id": "_lZQVzGmi7um"
      },
      "source": [
        "h_fin"
      ],
      "id": "_lZQVzGmi7um",
      "execution_count": null,
      "outputs": []
    },
    {
      "cell_type": "code",
      "metadata": {
        "id": "m3triE7ieuwr"
      },
      "source": [
        "hold_0=h_fin[h_fin['Cluster']==0]\n",
        "hold_1=h_fin[h_fin['Cluster']==1]\n",
        "hold_2=h_fin[h_fin['Cluster']==2]"
      ],
      "id": "m3triE7ieuwr",
      "execution_count": null,
      "outputs": []
    },
    {
      "cell_type": "code",
      "metadata": {
        "id": "nDjHHVwYgLjt"
      },
      "source": [
        "hold_0=hold_0.drop (['Cluster'], axis=1)\n",
        "hold_1=hold_1.drop (['Cluster'], axis=1)\n",
        "hold_2=hold_2.drop (['Cluster'], axis=1)"
      ],
      "id": "nDjHHVwYgLjt",
      "execution_count": null,
      "outputs": []
    },
    {
      "cell_type": "code",
      "metadata": {
        "id": "JmYjG5UMg6Xn"
      },
      "source": [
        "hold_labels_0=hold_0.pop('Discount')\n",
        "hold_labels_1=hold_1.pop('Discount')\n",
        "hold_labels_2=hold_2.pop('Discount')"
      ],
      "id": "JmYjG5UMg6Xn",
      "execution_count": null,
      "outputs": []
    },
    {
      "cell_type": "code",
      "metadata": {
        "id": "_z1kpqoFfHDG"
      },
      "source": [
        "hold_labels_2"
      ],
      "id": "_z1kpqoFfHDG",
      "execution_count": null,
      "outputs": []
    },
    {
      "cell_type": "code",
      "metadata": {
        "id": "IKYnxA8QfLyV"
      },
      "source": [
        ""
      ],
      "id": "IKYnxA8QfLyV",
      "execution_count": null,
      "outputs": []
    },
    {
      "cell_type": "code",
      "metadata": {
        "id": "gbIyJovl535_"
      },
      "source": [
        "train=train[train['Budget']==5]\n",
        "hold=hold[hold['Budget']==5]"
      ],
      "id": "gbIyJovl535_",
      "execution_count": null,
      "outputs": []
    },
    {
      "cell_type": "code",
      "metadata": {
        "id": "tqGIqWdXWJH_"
      },
      "source": [
        "sns.boxplot (train['Discount'])"
      ],
      "id": "tqGIqWdXWJH_",
      "execution_count": null,
      "outputs": []
    },
    {
      "cell_type": "code",
      "metadata": {
        "id": "J6z2wYecRltl"
      },
      "source": [
        "Q1 =  train['Discount'].quantile(0.25)\n",
        "Q3 = train['Discount'].quantile(0.75)\n",
        "IQR = Q3 - Q1"
      ],
      "id": "J6z2wYecRltl",
      "execution_count": null,
      "outputs": []
    },
    {
      "cell_type": "code",
      "metadata": {
        "id": "cUUMEaf5S9Bx"
      },
      "source": [
        "train=train[train['Discount'] > Q1-1.5*IQR] \n",
        "train=train[train['Discount'] < Q3+1.5*IQR]"
      ],
      "id": "cUUMEaf5S9Bx",
      "execution_count": null,
      "outputs": []
    },
    {
      "cell_type": "code",
      "metadata": {
        "id": "e20eba23",
        "scrolled": false
      },
      "source": [
        "train"
      ],
      "id": "e20eba23",
      "execution_count": null,
      "outputs": []
    },
    {
      "cell_type": "code",
      "metadata": {
        "id": "gVmzgJK_8sTN"
      },
      "source": [
        "hold['Cat']=0"
      ],
      "id": "gVmzgJK_8sTN",
      "execution_count": null,
      "outputs": []
    },
    {
      "cell_type": "code",
      "metadata": {
        "id": "ZowfbPDY8e3y"
      },
      "source": [
        "for i in range(0, len(hold)):\n",
        "  if hold.iat[i,0] in train['Object_UID'].values: \n",
        "    hold.iat[i,17]=1\n"
      ],
      "id": "ZowfbPDY8e3y",
      "execution_count": null,
      "outputs": []
    },
    {
      "cell_type": "code",
      "metadata": {
        "id": "0NtqLYfkAGbW"
      },
      "source": [
        "hold_new=hold[hold['Cat']==0]\n",
        "hold_uses=hold[hold['Cat']==1]\n",
        "\n"
      ],
      "id": "0NtqLYfkAGbW",
      "execution_count": null,
      "outputs": []
    },
    {
      "cell_type": "code",
      "metadata": {
        "id": "EHjfx9whBok7"
      },
      "source": [
        "hold=hold.drop (['Object_UID'], axis=1)\n",
        "#hold_uses=hold_uses.drop (['Object_UID', 'Cat'], axis=1)\n",
        "train=train.drop (['Object_UID'], axis=1)"
      ],
      "id": "EHjfx9whBok7",
      "execution_count": null,
      "outputs": []
    },
    {
      "cell_type": "code",
      "metadata": {
        "id": "UO8WLUVFW1nx"
      },
      "source": [
        "hold_new=hold_new.drop (['Object_UID', 'Cat'], axis=1)\n",
        "hold_uses=hold_uses.drop (['Object_UID', 'Cat'], axis=1)\n",
        "train=train.drop (['Object_UID'], axis=1)"
      ],
      "id": "UO8WLUVFW1nx",
      "execution_count": null,
      "outputs": []
    },
    {
      "cell_type": "code",
      "metadata": {
        "id": "rBIXCcCuhBMA"
      },
      "source": [
        "#train=train[train['YearNum']!=1]"
      ],
      "id": "rBIXCcCuhBMA",
      "execution_count": null,
      "outputs": []
    },
    {
      "cell_type": "code",
      "metadata": {
        "id": "CKNRpUx9kE-n"
      },
      "source": [
        "hold_uses= hold_uses[hold_uses['Population']==1493749]\n",
        "hold_new= hold_new[hold_new['Population']==1493749]"
      ],
      "id": "CKNRpUx9kE-n",
      "execution_count": null,
      "outputs": []
    },
    {
      "cell_type": "code",
      "metadata": {
        "id": "d0c362ef"
      },
      "source": [
        "hold_new_labels=hold_new.pop('Discount')\n",
        "hold_uses_labels=hold_uses.pop('Discount')"
      ],
      "id": "d0c362ef",
      "execution_count": null,
      "outputs": []
    },
    {
      "cell_type": "code",
      "metadata": {
        "id": "jrB6dv-Xkbni"
      },
      "source": [
        "train=train[train['Population']==1493749]\n",
        "hold=hold[hold['Population']==1493749]"
      ],
      "id": "jrB6dv-Xkbni",
      "execution_count": null,
      "outputs": []
    },
    {
      "cell_type": "code",
      "metadata": {
        "id": "fTOTtxt826n2"
      },
      "source": [
        "labels=train.pop ('y')"
      ],
      "id": "fTOTtxt826n2",
      "execution_count": null,
      "outputs": []
    },
    {
      "cell_type": "code",
      "metadata": {
        "id": "SCdVFEdSsDCs"
      },
      "source": [
        "sns.violinplot (data=train, x='PriceNoTax')"
      ],
      "id": "SCdVFEdSsDCs",
      "execution_count": null,
      "outputs": []
    },
    {
      "cell_type": "code",
      "metadata": {
        "id": "tGQN3FrSvdnW"
      },
      "source": [
        "Q1 =  train['PriceNoTax'].quantile(0.25)\n",
        "Q3 = train['PriceNoTax'].quantile(0.75)\n",
        "IQR = Q3 - Q1\n",
        "train=train[train['PriceNoTax'] > Q1-1.0*IQR] \n",
        "train=train[train['PriceNoTax'] < Q3+1.0*IQR]"
      ],
      "id": "tGQN3FrSvdnW",
      "execution_count": null,
      "outputs": []
    },
    {
      "cell_type": "code",
      "metadata": {
        "id": "6NMe9CBZs6-7"
      },
      "source": [
        "train=train.drop (['Population'], axis=1)\n",
        "hold=hold.drop (['Population'], axis=1)"
      ],
      "id": "6NMe9CBZs6-7",
      "execution_count": null,
      "outputs": []
    },
    {
      "cell_type": "code",
      "metadata": {
        "id": "14491fcb"
      },
      "source": [
        "hold_labels=hold.pop('Discount')\n",
        "labels=train.pop ('Discount')\n",
        "train_data, test_data, train_labels, test_labels  = model_selection.train_test_split(train, labels, train_size=0.8, shuffle=True)"
      ],
      "id": "14491fcb",
      "execution_count": null,
      "outputs": []
    },
    {
      "cell_type": "code",
      "metadata": {
        "id": "d2d4b995"
      },
      "source": [
        "print (train_data.shape)\n",
        "print (test_data.shape)\n",
        "print (train_labels.shape)\n",
        "print (test_labels.shape)\n",
        "print (hold.shape)\n",
        "print (hold_labels.shape)"
      ],
      "id": "d2d4b995",
      "execution_count": null,
      "outputs": []
    },
    {
      "cell_type": "code",
      "metadata": {
        "id": "6QjU4lM823c3"
      },
      "source": [
        "scaler=preprocessing.StandardScaler ()\n",
        "X=scaler.fit_transform (train)\n",
        "Ht=scaler.transform (hold)"
      ],
      "id": "6QjU4lM823c3",
      "execution_count": null,
      "outputs": []
    },
    {
      "cell_type": "code",
      "metadata": {
        "id": "IBn4XIQB-axP"
      },
      "source": [
        "#X=train.values \n",
        "y=labels.values\n",
        "#Ht=hold.values\n",
        "Hl=hold_labels.values "
      ],
      "id": "IBn4XIQB-axP",
      "execution_count": null,
      "outputs": []
    },
    {
      "cell_type": "code",
      "metadata": {
        "id": "Ss6ZB3eBLjcJ"
      },
      "source": [
        "y=labels"
      ],
      "id": "Ss6ZB3eBLjcJ",
      "execution_count": null,
      "outputs": []
    },
    {
      "cell_type": "code",
      "metadata": {
        "id": "GaewXjnqNJIX"
      },
      "source": [
        "X[505]"
      ],
      "id": "GaewXjnqNJIX",
      "execution_count": null,
      "outputs": []
    },
    {
      "cell_type": "code",
      "metadata": {
        "id": "E1lijP_KOkqW"
      },
      "source": [
        "train"
      ],
      "id": "E1lijP_KOkqW",
      "execution_count": null,
      "outputs": []
    },
    {
      "cell_type": "code",
      "metadata": {
        "id": "FuDjznL0LrIb"
      },
      "source": [
        "Ht[0]"
      ],
      "id": "FuDjznL0LrIb",
      "execution_count": null,
      "outputs": []
    },
    {
      "cell_type": "code",
      "metadata": {
        "id": "H70mAXQIbNJh"
      },
      "source": [
        "X = np.hstack ((X, np.ones_like (y).reshape (X.shape[0],1)))\n",
        "Ht = np.hstack ((Ht, np.ones_like (Hl).reshape (Ht.shape[0],1)))"
      ],
      "id": "H70mAXQIbNJh",
      "execution_count": null,
      "outputs": []
    },
    {
      "cell_type": "code",
      "metadata": {
        "id": "4OGi2vY198fb"
      },
      "source": [
        "y=y*100\n",
        "Hl=Hl*100"
      ],
      "id": "4OGi2vY198fb",
      "execution_count": null,
      "outputs": []
    },
    {
      "cell_type": "code",
      "metadata": {
        "id": "9loP18SEN-ah"
      },
      "source": [
        "X.shape"
      ],
      "id": "9loP18SEN-ah",
      "execution_count": null,
      "outputs": []
    },
    {
      "cell_type": "code",
      "metadata": {
        "id": "mP04o8Qiy_2r"
      },
      "source": [
        "def mserror(y, y_pred):\n",
        "    return sum (list(map (lambda y, y_pred : (y-y_pred)**2, y, y_pred)))/y.size"
      ],
      "id": "mP04o8Qiy_2r",
      "execution_count": null,
      "outputs": []
    },
    {
      "cell_type": "code",
      "metadata": {
        "id": "Jslpr_LZ-iyV"
      },
      "source": [
        "def stochastic_gradient_step(X, y, w, train_ind, eta):\n",
        "    #gr = sc.misc.derivative (loss_func, X[train_ind].dot(w), args=[y[train_ind]], dx=1e-1, n=1) \n",
        "    #gr = sc.misc.derivative (mse, X[train_ind].dot(w), args=[y[train_ind]], dx=1e-4, n=1) /y.size\n",
        "    #gr = (X[train_ind].dot(w) - y[train_ind])/y.size\n",
        "    w_res=[]\n",
        "    for k in range (0, len(X[0])):\n",
        "      res=[]\n",
        "      \n",
        "      for i in range (train_ind, train_ind+8):\n",
        "         gr = sc.misc.derivative (mse, X[i].dot(w), args=[y[i]], dx=0.001, n=1)\n",
        "         res.append (X[i,k]*gr)\n",
        "      w_res.append(sum(res)/y.size)\n",
        "      \n",
        "      #globals() ['grad' + str(k)]=sum(res)/y.size  \n",
        "    return  w - eta * np.array(w_res)\n",
        "    #return  w - eta * np.array([grad0, grad1, grad2, grad3,grad4,grad5,grad6,grad7,grad8,grad9,grad10,grad11,grad12,grad13])"
      ],
      "id": "Jslpr_LZ-iyV",
      "execution_count": null,
      "outputs": []
    },
    {
      "cell_type": "code",
      "metadata": {
        "id": "xvqzyoLJ-lvL"
      },
      "source": [
        "def stochastic_gradient_descent(X, y, w_init, eta=0.01,max_iter=1e10,min_weight_dist=1e-6,verbose=False):\n",
        "    # Инициализируем расстояние между векторами весов на соседних\n",
        "    # итерациях большим числом. \n",
        "    weight_dist = np.inf\n",
        "    # Инициализируем вектор весов\n",
        "    w = w_init\n",
        "    nu=eta\n",
        "    errors = []\n",
        "    w_fin=[]\n",
        "    mse_errors=[]\n",
        "    #past_velo=0\n",
        "    #moment=0.05\n",
        "    iter_num = 0\n",
        "    # Будем порождать псевдослучайные числа \n",
        "    # (номер объекта, который будет менять веса), а для воспроизводимости\n",
        "    # этой последовательности псевдослучайных чисел используем seed.\n",
        "    np.random.seed()\n",
        "            # Основной цикл\n",
        "    while  iter_num < max_iter:\n",
        "      #weight_dist > min_weight_dist and \n",
        "        # порождаем псевдослучайный \n",
        "        # индекс объекта обучающей выборки\n",
        "        random_ind = np.random.randint(X.shape[0]-8)\n",
        "        w_calc=stochastic_gradient_step (X,y,w,random_ind, nu)\n",
        "        weight_dist = np.linalg.norm(w-w_calc)\n",
        "        errors.append (my_custom_loss_func (y, np.dot(X,w_calc)))\n",
        "        w_fin.append(w)\n",
        "        mse=metrics.mean_squared_error (y, np.dot(X,w_calc) )\n",
        "        mae=metrics.median_absolute_error (y, np.dot(X,w_calc) )\n",
        "        mse_errors.append (mse)\n",
        "        #velo=past_velo* moment+eta*gr\n",
        "        w=w_calc\n",
        "        #past_velo=velo\n",
        "        iter_num=iter_num+1\n",
        "        #nu=0.9/(1.0+iter_num/1000)\n",
        "        print (w[13],'X ', round (np.dot(X[random_ind],w_calc),2), ' y_', round (y[random_ind], 2),'Step ' ,iter_num, 'idx',random_ind, '__mse_', round (mse, 2), '__mae_', round (mae, 2)) \n",
        "    return w, errors,w_fin, mse_errors"
      ],
      "id": "xvqzyoLJ-lvL",
      "execution_count": null,
      "outputs": []
    },
    {
      "cell_type": "code",
      "metadata": {
        "id": "jNcwm0CcxePa"
      },
      "source": [
        "stochastic_gradient_step (X, y, w_init, 2, 0.1 )"
      ],
      "id": "jNcwm0CcxePa",
      "execution_count": null,
      "outputs": []
    },
    {
      "cell_type": "code",
      "metadata": {
        "id": "riRV_1JlFPyY"
      },
      "source": [
        "sc.misc.derivative (mse, X[1].dot(w_init), args=[y[1]], dx=0.001, n=1)"
      ],
      "id": "riRV_1JlFPyY",
      "execution_count": null,
      "outputs": []
    },
    {
      "cell_type": "code",
      "metadata": {
        "id": "YmqMZKRa-vhw"
      },
      "source": [
        "w_init=[0,0,0,0,0,0,0,0,0,0,0,0,0,0,0,0]"
      ],
      "id": "YmqMZKRa-vhw",
      "execution_count": null,
      "outputs": []
    },
    {
      "cell_type": "code",
      "metadata": {
        "id": "PZIZJh7lIugx"
      },
      "source": [
        "metrics.mean_squared_error (y, y_res )"
      ],
      "id": "PZIZJh7lIugx",
      "execution_count": null,
      "outputs": []
    },
    {
      "cell_type": "code",
      "metadata": {
        "id": "sAXx47JgoGGN"
      },
      "source": [
        "diff=list(y-y_res)\n",
        "list_d = [x for x in diff if x <-0.05*100 or x > 0.05*100]"
      ],
      "id": "sAXx47JgoGGN",
      "execution_count": null,
      "outputs": []
    },
    {
      "cell_type": "code",
      "metadata": {
        "id": "7ruHCP5YoQeo"
      },
      "source": [
        "len(list_d)"
      ],
      "id": "7ruHCP5YoQeo",
      "execution_count": null,
      "outputs": []
    },
    {
      "cell_type": "code",
      "metadata": {
        "id": "rUssy8TNoa5s"
      },
      "source": [
        "sns.violinplot (diff)"
      ],
      "id": "rUssy8TNoa5s",
      "execution_count": null,
      "outputs": []
    },
    {
      "cell_type": "code",
      "metadata": {
        "id": "7hqpdvh9-16R"
      },
      "source": [
        "def f (y):\n",
        "   return  (y*0.0001)**3+0.5"
      ],
      "id": "7hqpdvh9-16R",
      "execution_count": null,
      "outputs": []
    },
    {
      "cell_type": "code",
      "metadata": {
        "id": "omXFdOHT-7dU"
      },
      "source": [
        "def loss_func(y, x):\n",
        "    l=math.floor ((np.abs(x-y)*20))\n",
        "    return math.pow(l, 0.05)"
      ],
      "id": "omXFdOHT-7dU",
      "execution_count": null,
      "outputs": []
    },
    {
      "cell_type": "code",
      "metadata": {
        "id": "NRUD-AZuRxeW"
      },
      "source": [
        "def mse(y, x):\n",
        "     return (y-x)**2"
      ],
      "id": "NRUD-AZuRxeW",
      "execution_count": null,
      "outputs": []
    },
    {
      "cell_type": "code",
      "metadata": {
        "id": "5x212AOO-ou0"
      },
      "source": [
        "stoch_grad_desc_weights, stoch_errors_by_iter, fin_wts, mse_errors = stochastic_gradient_descent (X, y, w_init=QW, max_iter=60000)"
      ],
      "id": "5x212AOO-ou0",
      "execution_count": null,
      "outputs": []
    },
    {
      "cell_type": "code",
      "metadata": {
        "id": "pqyyQMwE9_h5"
      },
      "source": [
        "X.shape"
      ],
      "id": "pqyyQMwE9_h5",
      "execution_count": null,
      "outputs": []
    },
    {
      "cell_type": "code",
      "metadata": {
        "id": "7g3QVomtWrXh"
      },
      "source": [
        "round (np.dot(X[2],QW),4)7"
      ],
      "id": "7g3QVomtWrXh",
      "execution_count": null,
      "outputs": []
    },
    {
      "cell_type": "code",
      "metadata": {
        "id": "58gYZPFQKP25"
      },
      "source": [
        "y[2]"
      ],
      "id": "58gYZPFQKP25",
      "execution_count": null,
      "outputs": []
    },
    {
      "cell_type": "code",
      "metadata": {
        "id": "glJdIiUSKe9y"
      },
      "source": [
        "y_res=np.dot(X,QW)"
      ],
      "id": "glJdIiUSKe9y",
      "execution_count": null,
      "outputs": []
    },
    {
      "cell_type": "code",
      "metadata": {
        "id": "3eX3Afl5KqcV"
      },
      "source": [
        "my_custom_loss_func(y_res, y)"
      ],
      "id": "3eX3Afl5KqcV",
      "execution_count": null,
      "outputs": []
    },
    {
      "cell_type": "code",
      "metadata": {
        "id": "oPPvH0gAn2xB"
      },
      "source": [
        ""
      ],
      "id": "oPPvH0gAn2xB",
      "execution_count": null,
      "outputs": []
    },
    {
      "cell_type": "code",
      "metadata": {
        "id": "MoYGwAb3LOPW"
      },
      "source": [
        ""
      ],
      "id": "MoYGwAb3LOPW",
      "execution_count": null,
      "outputs": []
    },
    {
      "cell_type": "code",
      "metadata": {
        "id": "sK5thQor0n-R"
      },
      "source": [
        "stoch_grad_desc_weights"
      ],
      "id": "sK5thQor0n-R",
      "execution_count": null,
      "outputs": []
    },
    {
      "cell_type": "code",
      "metadata": {
        "id": "sgXASAfY1By5"
      },
      "source": [
        "fin_wts[-1]"
      ],
      "id": "sgXASAfY1By5",
      "execution_count": null,
      "outputs": []
    },
    {
      "cell_type": "code",
      "metadata": {
        "id": "KIJegnVknwYQ"
      },
      "source": [
        "QW=fin_wts[-1]"
      ],
      "id": "KIJegnVknwYQ",
      "execution_count": null,
      "outputs": []
    },
    {
      "cell_type": "code",
      "metadata": {
        "id": "BpJmVzFzIQDF"
      },
      "source": [
        "QW=np.array([ 6.31475466, -1.34333134,  0.95260193,  0.76207203, -2.56487635,\n",
        "       -2.60061439,  0.42789848, -0.75977096,  0.39278589, -0.76071839,\n",
        "        0.27577702, -1.49753141,  2.11887571, -1.24013815, -0.29867952,\n",
        "       39.36831252])"
      ],
      "id": "BpJmVzFzIQDF",
      "execution_count": null,
      "outputs": []
    },
    {
      "cell_type": "code",
      "metadata": {
        "id": "aACUY07S9xR-"
      },
      "source": [
        "QW.shape"
      ],
      "id": "aACUY07S9xR-",
      "execution_count": null,
      "outputs": []
    },
    {
      "cell_type": "code",
      "metadata": {
        "id": "cGsDP-t3MENG"
      },
      "source": [
        ""
      ],
      "id": "cGsDP-t3MENG",
      "execution_count": null,
      "outputs": []
    },
    {
      "cell_type": "code",
      "metadata": {
        "id": "7j2hWd1g-_j4"
      },
      "source": [
        "sns.lineplot (x=range(0,40000), y=stoch_errors_by_iter[0:40000])"
      ],
      "id": "7j2hWd1g-_j4",
      "execution_count": null,
      "outputs": []
    },
    {
      "cell_type": "code",
      "metadata": {
        "id": "kwVH8i2wYxB_"
      },
      "source": [
        "sns.lineplot (x=range(0,40000), y=mse_errors[0:40000])"
      ],
      "id": "kwVH8i2wYxB_",
      "execution_count": null,
      "outputs": []
    },
    {
      "cell_type": "code",
      "metadata": {
        "id": "tSdpTztlXuFN"
      },
      "source": [
        "mse_errors[702]"
      ],
      "id": "tSdpTztlXuFN",
      "execution_count": null,
      "outputs": []
    },
    {
      "cell_type": "code",
      "metadata": {
        "id": "xyqLa8hB_FX1"
      },
      "source": [
        "stoch_errors_by_iter[702]"
      ],
      "id": "xyqLa8hB_FX1",
      "execution_count": null,
      "outputs": []
    },
    {
      "cell_type": "code",
      "metadata": {
        "id": "1yj2N6qnZbDX"
      },
      "source": [
        "np.argmin(stoch_errors_by_iter)"
      ],
      "id": "1yj2N6qnZbDX",
      "execution_count": null,
      "outputs": []
    },
    {
      "cell_type": "code",
      "metadata": {
        "id": "5G1TPxiE_HSK"
      },
      "source": [
        "w_f=w_fin[1231]"
      ],
      "id": "5G1TPxiE_HSK",
      "execution_count": null,
      "outputs": []
    },
    {
      "cell_type": "code",
      "metadata": {
        "id": "TOp3_9oxHSyD"
      },
      "source": [
        "hold_0"
      ],
      "id": "TOp3_9oxHSyD",
      "execution_count": null,
      "outputs": []
    },
    {
      "cell_type": "code",
      "metadata": {
        "id": "6b884a6c"
      },
      "source": [
        "#hold_new=pd.read_excel ('~/samples/hold_new.xlsx')\n",
        "#hold_uses=pd.read_excel ('~/samples/hold_uses.xlsx')"
      ],
      "id": "6b884a6c",
      "execution_count": null,
      "outputs": []
    },
    {
      "cell_type": "code",
      "metadata": {
        "id": "5941d30d"
      },
      "source": [
        "#hold_new=hold_new.drop (['ML_Object_UID', 'DateStart','AgentName', 'Summ2PayOperNoTax'], axis=1)\n",
        "#hold_uses=hold_uses.drop (['ML_Object_UID', 'DateStart','AgentName', 'Summ2PayOperNoTax'], axis=1)"
      ],
      "id": "5941d30d",
      "execution_count": null,
      "outputs": []
    },
    {
      "cell_type": "code",
      "metadata": {
        "id": "585d8ba3"
      },
      "source": [
        "#hold_new=pd.get_dummies (hold_new, columns=col_cat)\n",
        "#hold_uses=pd.get_dummies (hold_uses, columns=col_cat)"
      ],
      "id": "585d8ba3",
      "execution_count": null,
      "outputs": []
    },
    {
      "cell_type": "code",
      "metadata": {
        "id": "f0ecaa39"
      },
      "source": [
        "print (hold_new.shape)\n",
        "#print (hold_new_labels.shape)\n",
        "print (hold_uses.shape)\n",
        "#print (hold_uses_labels.shape)"
      ],
      "id": "f0ecaa39",
      "execution_count": null,
      "outputs": []
    },
    {
      "cell_type": "code",
      "metadata": {
        "id": "ZvXYHwO8kO-7"
      },
      "source": [
        "pop=pd.read_excel('/content/drive/MyDrive/Colab Notebooks/!Samples/Pop.xlsx')"
      ],
      "id": "ZvXYHwO8kO-7",
      "execution_count": null,
      "outputs": []
    },
    {
      "cell_type": "code",
      "metadata": {
        "id": "qtn3zsGxkQJ0"
      },
      "source": [
        "pop"
      ],
      "id": "qtn3zsGxkQJ0",
      "execution_count": null,
      "outputs": []
    },
    {
      "cell_type": "code",
      "metadata": {
        "id": "5wVaaVdJkmxS"
      },
      "source": [
        "hold_new_labels"
      ],
      "id": "5wVaaVdJkmxS",
      "execution_count": null,
      "outputs": []
    },
    {
      "cell_type": "code",
      "metadata": {
        "id": "L0d932og0O3o"
      },
      "source": [
        "MyDTree=tree.DecisionTreeRegressor ( criterion='mse')\n",
        "MyDTree.fit (train_data, train_labels)\n",
        "pred_MyDtree= MyDTree.predict (test_data)\n",
        "mae=metrics.mean_absolute_error(test_labels, pred_MyDtree)\n",
        "mse=metrics.mean_squared_error (test_labels, pred_MyDtree)\n",
        "print ('mae', mae, 'mse', mse, 'share', my_custom_loss_func (test_labels, pred_MyDtree))"
      ],
      "id": "L0d932og0O3o",
      "execution_count": null,
      "outputs": []
    },
    {
      "cell_type": "code",
      "metadata": {
        "id": "fQTVl_BEXecR"
      },
      "source": [
        "pred_MyDtree_h= MyDTree.predict (hold)\n",
        "mae=metrics.mean_absolute_error (hold_labels, pred_MyDtree_h)\n",
        "print ('mae', mae, 'share', my_custom_loss_func (hold_labels, pred_MyDtree_h))"
      ],
      "id": "fQTVl_BEXecR",
      "execution_count": null,
      "outputs": []
    },
    {
      "cell_type": "code",
      "metadata": {
        "id": "Tj-QgysVgrUH"
      },
      "source": [
        "pred_MyDtree_h_0= MyDTree.predict (hold_0)\n",
        "mae=metrics.mean_absolute_error (hold_labels_0, pred_MyDtree_h_0)\n",
        "print ('mae', mae, 'share', my_custom_loss_func (hold_labels_0, pred_MyDtree_h_0))"
      ],
      "id": "Tj-QgysVgrUH",
      "execution_count": null,
      "outputs": []
    },
    {
      "cell_type": "code",
      "metadata": {
        "id": "FgyMDyBNj_IZ"
      },
      "source": [
        "pred_MyDtree_h_1= MyDTree.predict (hold_1)\n",
        "mae=metrics.mean_absolute_error (hold_labels_1, pred_MyDtree_h_1)\n",
        "print ('mae', mae, 'share', my_custom_loss_func (hold_labels_1, pred_MyDtree_h_1))"
      ],
      "id": "FgyMDyBNj_IZ",
      "execution_count": null,
      "outputs": []
    },
    {
      "cell_type": "code",
      "metadata": {
        "id": "AzqoC7GZkm67"
      },
      "source": [
        "pred_MyDtree_h_2= MyDTree.predict (hold_2)\n",
        "mae=metrics.mean_absolute_error (hold_labels_2, pred_MyDtree_h_2)\n",
        "print ('mae', mae, 'share', my_custom_loss_func (hold_labels_2, pred_MyDtree_h_2))"
      ],
      "id": "AzqoC7GZkm67",
      "execution_count": null,
      "outputs": []
    },
    {
      "cell_type": "code",
      "metadata": {
        "id": "YxO2cDhekG6c"
      },
      "source": [
        "diff=list(hold_labels_0-pred_MyDtree_h_0)\n",
        "list_d = [x for x in diff if x <-0.05 or x > 0.05]"
      ],
      "id": "YxO2cDhekG6c",
      "execution_count": null,
      "outputs": []
    },
    {
      "cell_type": "code",
      "metadata": {
        "id": "-teERrZ3kP3t"
      },
      "source": [
        "len(list_d)"
      ],
      "id": "-teERrZ3kP3t",
      "execution_count": null,
      "outputs": []
    },
    {
      "cell_type": "code",
      "metadata": {
        "id": "fbijx05UqwVX"
      },
      "source": [
        "im=MyDTree.feature_importances_"
      ],
      "id": "fbijx05UqwVX",
      "execution_count": null,
      "outputs": []
    },
    {
      "cell_type": "code",
      "metadata": {
        "id": "bvec0tiIV6b2"
      },
      "source": [
        "data=pd.DataFrame({'feature':train.columns.values,\"importance\":im})\n",
        "data=data.sort_values (['importance'], axis=0, ascending=False)\n",
        "sns.barplot(data=data.iloc[:25,:],y='feature',x='importance')"
      ],
      "id": "bvec0tiIV6b2",
      "execution_count": null,
      "outputs": []
    },
    {
      "cell_type": "code",
      "metadata": {
        "id": "mGpasVstqy_O"
      },
      "source": [
        "pred_MyDtree_h"
      ],
      "id": "mGpasVstqy_O",
      "execution_count": null,
      "outputs": []
    },
    {
      "cell_type": "code",
      "metadata": {
        "id": "2rsEmmZcHL-B"
      },
      "source": [
        "diff=list(hold_labels-pred_MyDtree_h)\n",
        "list_d = [x for x in diff if x <-0.05 or x > 0.05]\n",
        "list_d1 = [x for x in list_d if x <0.6 and x > -0.6]"
      ],
      "id": "2rsEmmZcHL-B",
      "execution_count": null,
      "outputs": []
    },
    {
      "cell_type": "code",
      "metadata": {
        "id": "4EeZiWbfkZ4x"
      },
      "source": [
        "q1=pd.DataFrame(diff).mean()\n",
        "q3 = pd.DataFrame(list_d).quantile(0.75)\n",
        "iqr = q3 - q1\n",
        "q1"
      ],
      "id": "4EeZiWbfkZ4x",
      "execution_count": null,
      "outputs": []
    },
    {
      "cell_type": "code",
      "metadata": {
        "id": "MnTW0Rb6oOZT"
      },
      "source": [
        "len(list_d)"
      ],
      "id": "MnTW0Rb6oOZT",
      "execution_count": null,
      "outputs": []
    },
    {
      "cell_type": "code",
      "metadata": {
        "id": "_C0K0hnIlmsM"
      },
      "source": [
        "len(list_d1)/len(diff)*100"
      ],
      "id": "_C0K0hnIlmsM",
      "execution_count": null,
      "outputs": []
    },
    {
      "cell_type": "code",
      "metadata": {
        "id": "Gqt2HJGej0ct"
      },
      "source": [
        "sns.boxplot (list_d)"
      ],
      "id": "Gqt2HJGej0ct",
      "execution_count": null,
      "outputs": []
    },
    {
      "cell_type": "code",
      "metadata": {
        "id": "DwboJBVX2X-Q"
      },
      "source": [
        "pred_MyDtree_n= MyDTree.predict (hold_new)\n",
        "mae=metrics.mean_absolute_error (hold_new_labels, pred_MyDtree_n)\n",
        "print ('mae', mae, 'share', my_custom_loss_func (hold_new_labels, pred_MyDtree_n))"
      ],
      "id": "DwboJBVX2X-Q",
      "execution_count": null,
      "outputs": []
    },
    {
      "cell_type": "code",
      "metadata": {
        "id": "b9U8N-7n2aEi"
      },
      "source": [
        "pred_MyDtree_u= MyDTree.predict (hold_uses)\n",
        "mae=metrics.mean_absolute_error (hold_uses_labels, pred_MyDtree_u)\n",
        "print ('mae', mae, 'share', my_custom_loss_func (hold_uses_labels, pred_MyDtree_u))"
      ],
      "id": "b9U8N-7n2aEi",
      "execution_count": null,
      "outputs": []
    },
    {
      "cell_type": "code",
      "metadata": {
        "id": "pAqGlWDRzxY0"
      },
      "source": [
        "#fold = model_selection.KFold(n_splits=3, shuffle=True)\n",
        "#cvs=model_selection.cross_val_score (myXGB, hold, hold_labels, scoring=myscorer, cv=fold)\n",
        "#print ('cross_val_score_share', cvs, 'std', cvs.std())"
      ],
      "id": "pAqGlWDRzxY0",
      "execution_count": null,
      "outputs": []
    },
    {
      "cell_type": "code",
      "metadata": {
        "id": "0f3e50f7"
      },
      "source": [
        "pred_XGB_n=myXGB.predict (hold_new)\n",
        "mae=metrics.mean_absolute_error (hold_new_labels, pred_XGB_n)\n",
        "print ('mae', mae*100, 'share', my_custom_loss_func (hold_new_labels, pred_XGB_n) )"
      ],
      "id": "0f3e50f7",
      "execution_count": null,
      "outputs": []
    },
    {
      "cell_type": "code",
      "metadata": {
        "id": "5df82f6c"
      },
      "source": [
        "pred_XGB_u=myXGB.predict (hold_uses)\n",
        "mae=metrics.mean_absolute_error (hold_uses_labels, pred_XGB_u)\n",
        "print ('mae', mae*100, 'share', my_custom_loss_func (hold_uses_labels, pred_XGB_u) )"
      ],
      "id": "5df82f6c",
      "execution_count": null,
      "outputs": []
    },
    {
      "cell_type": "code",
      "metadata": {
        "id": "jBCb7-mQmXkh"
      },
      "source": [
        "len(list_d)"
      ],
      "id": "jBCb7-mQmXkh",
      "execution_count": null,
      "outputs": []
    },
    {
      "cell_type": "code",
      "metadata": {
        "id": "LzgsdbCZHXjt"
      },
      "source": [
        "train=np.array(train)"
      ],
      "id": "LzgsdbCZHXjt",
      "execution_count": null,
      "outputs": []
    },
    {
      "cell_type": "code",
      "metadata": {
        "id": "mrmFMwaQEp0p"
      },
      "source": [
        "KF=model_selection.KFold (n_splits=3, shuffle=True )\n",
        "for train_index, test_index in KF.split (train):\n",
        "    train_data=train[train_index]\n",
        "    test_data=train[test_index]\n",
        "    train_labels=train_data[:, 1] \n",
        "    test_labels=test_data[:, 1]\n",
        "    train_data = np.delete(train_data, 1, 1)\n",
        "    test_data = np.delete(test_data, 1, 1)\n",
        "    myXGB=xgb.XGBRegressor (learning_rate=0.45,n_estimators=2000,  objective='reg:squarederror', booster='gbtree', tree_method='hist', max_depth=125)\n",
        "    myXGB.fit (train_data, train_labels)\n",
        "    a=myXGB.predict (np.array(hold_uses))\n",
        "    print ('share', my_custom_loss_func (hold_uses_labels, a) )"
      ],
      "id": "mrmFMwaQEp0p",
      "execution_count": null,
      "outputs": []
    },
    {
      "cell_type": "code",
      "metadata": {
        "id": "CcyKr4RPIx7y"
      },
      "source": [
        "for column in col_cat:\n",
        " \n",
        "  temp_data=train.drop (column, axis=1)\n",
        "  tmp_u=hold_uses.drop (column, axis=1)\n",
        "  train_data, test_data = model_selection.train_test_split(temp_data, train_size=0.8)\n",
        "  test_labels=test_data.pop ('Discount').values\n",
        "  train_labels=train_data.pop ('Discount').values\n",
        "  tmp_u_labels=tmp_u.pop ('Discount').values\n",
        "  myXGB=xgb.XGBRegressor (learning_rate=0.43, n_estimators=1500, objective='reg:squarederror', booster='gbtree', tree_method='hist', max_depth=50)\n",
        "  myXGB.fit (train_data, train_labels)\n",
        "  a=myXGB.predict (tmp_u)\n",
        "  mae=metrics.mean_absolute_error (tmp_u_labels, a)\n",
        "  loss=my_custom_loss_func (tmp_u_labels, a)\n",
        "  cvs=model_selection.cross_val_score (myXGB, tmp_u, tmp_u_labels, scoring=myscorer, cv=3)\n",
        "  print (column, 'mae', round (mae*100, 2), 'cvs', round(cvs.mean(),2), 'std', round(cvs.std(),2) ,'share', round(loss,2) )"
      ],
      "id": "CcyKr4RPIx7y",
      "execution_count": null,
      "outputs": []
    },
    {
      "cell_type": "code",
      "metadata": {
        "id": "T33c-F8CesMM"
      },
      "source": [
        "finres=[]\n",
        "for i in range (1, 9):\n",
        "  res=[]\n",
        "  train=data[data['City_Cat']==i]\n",
        "  train=np.array(train)\n",
        "  for train_index, test_index in KF.split (train):\n",
        "    train_data=train[train_index]\n",
        "    test_data=train[test_index]\n",
        "    train_labels=train_data[:, 1] \n",
        "    test_labels=test_data[:, 1]\n",
        "    train_data = np.delete(train_data, 1, 1)\n",
        "    test_data = np.delete(test_data, 1, 1)\n",
        "    myXGB=xgb.XGBRegressor (learning_rate=0.45, n_estimators=2000,  objective='reg:squarederror', booster='gbtree', tree_method='hist', max_depth=125)\n",
        "    myXGB.fit (train_data, train_labels)\n",
        "    a=myXGB.predict (hold_uses)\n",
        "    res.append(my_custom_loss_func (hold_uses_labels, a))\n",
        "  finres.append(np.array(res).mean())\n",
        "  print ('town', i, 'count', len (train), np.array(res).mean())  "
      ],
      "id": "T33c-F8CesMM",
      "execution_count": null,
      "outputs": []
    },
    {
      "cell_type": "code",
      "metadata": {
        "id": "V9FovLTAfRMl"
      },
      "source": [
        "cols=['YearNum', 'Budget']"
      ],
      "id": "V9FovLTAfRMl",
      "execution_count": null,
      "outputs": []
    },
    {
      "cell_type": "code",
      "metadata": {
        "id": "5-U5o5Hysfwy"
      },
      "source": [
        "pop.iat[6,1]"
      ],
      "id": "5-U5o5Hysfwy",
      "execution_count": null,
      "outputs": []
    },
    {
      "cell_type": "code",
      "metadata": {
        "id": "TFcWb1jK-P8H"
      },
      "source": [
        "train"
      ],
      "id": "TFcWb1jK-P8H",
      "execution_count": null,
      "outputs": []
    },
    {
      "cell_type": "code",
      "metadata": {
        "id": "5oCw2PORGTdF"
      },
      "source": [
        "hold_uses[hold_uses['Budget']==5]"
      ],
      "id": "5oCw2PORGTdF",
      "execution_count": null,
      "outputs": []
    },
    {
      "cell_type": "code",
      "metadata": {
        "id": "m8aCIt135_j9"
      },
      "source": [
        "for i in range (0,6):\n",
        "  temp_data=train[train['Budget']==i]\n",
        "  temp_u=hold_uses[hold_uses['Budget']==i]\n",
        "  train_data=temp_data\n",
        "  #train_data, test_data = model_selection.train_test_split(temp_data, train_size=0.8)\n",
        "  #test_labels=test_data.pop ('Discount').values\n",
        "  train_labels=train_data.pop ('Discount').values\n",
        "  temp_u_labels=temp_u.pop ('Discount').values\n",
        "  myXGB=xgb.XGBRegressor (learning_rate=0.43, n_estimators=1500, objective='reg:squarederror', booster='gbtree', tree_method='hist', max_depth=50)\n",
        "  myXGB.fit (train_data, train_labels)\n",
        "  a=myXGB.predict (temp_u)\n",
        "  mae=metrics.mean_absolute_error (temp_u_labels, a)\n",
        "  loss=my_custom_loss_func (temp_u_labels, a)\n",
        "  cvs=model_selection.cross_val_score (myXGB, temp_u, temp_u_labels, scoring=myscorer, cv=3)\n",
        "  print (len (train_data), 'mae', round (mae*100, 2), 'cvs', round(cvs.mean(),2), 'std', round(cvs.std(),2) ,'share', round(loss,2) )"
      ],
      "id": "m8aCIt135_j9",
      "execution_count": null,
      "outputs": []
    },
    {
      "cell_type": "code",
      "metadata": {
        "id": "QIzr6J_Rrz-f"
      },
      "source": [
        "pop=pd.read_excel('/content/drive/MyDrive/Colab Notebooks/!Samples/Pop.xlsx')"
      ],
      "id": "QIzr6J_Rrz-f",
      "execution_count": null,
      "outputs": []
    },
    {
      "cell_type": "code",
      "metadata": {
        "id": "bYxN-CsBA3Wi"
      },
      "source": [
        "pop"
      ],
      "id": "bYxN-CsBA3Wi",
      "execution_count": null,
      "outputs": []
    },
    {
      "cell_type": "code",
      "metadata": {
        "id": "AzTtcCcugIPY"
      },
      "source": [
        "train.describe()"
      ],
      "id": "AzTtcCcugIPY",
      "execution_count": null,
      "outputs": []
    },
    {
      "cell_type": "code",
      "metadata": {
        "id": "IfDOspKEfMlH"
      },
      "source": [
        "for i in range (0,7):\n",
        "  temp_data=train[train['Population']==pop.iat[i,1]]\n",
        "  temp_n=hold_new[hold_new['Population']==pop.iat[i,1]]\n",
        "  train_data=temp_data\n",
        "  #train_data, test_data = model_selection.train_test_split(temp_data, train_size=0.8)\n",
        "  #test_labels=test_data.pop ('Discount').values\n",
        "  train_labels=train_data.pop ('Discount').values\n",
        "  temp_n_labels=temp_n.pop ('Discount').values\n",
        "  myXGB=xgb.XGBRegressor (learning_rate=0.43, n_estimators=1500, objective='reg:squarederror', booster='gbtree', tree_method='hist', max_depth=50)\n",
        "  myXGB.fit (train_data, train_labels)\n",
        "  a=myXGB.predict (temp_n)\n",
        "  mae=metrics.mean_absolute_error (temp_n_labels, a)\n",
        "  loss=my_custom_loss_func (temp_n_labels, a)\n",
        "  cvs=model_selection.cross_val_score (myXGB, temp_n, temp_n_labels, scoring=myscorer, cv=3)\n",
        "  print (len (temp_n), 'mae', round (mae*100, 2), 'cvs', round(cvs.mean(),2), 'std', round(cvs.std(),2) ,'share', round(loss,2) )"
      ],
      "id": "IfDOspKEfMlH",
      "execution_count": null,
      "outputs": []
    },
    {
      "cell_type": "code",
      "metadata": {
        "id": "6f050b41"
      },
      "source": [
        "pop"
      ],
      "id": "6f050b41",
      "execution_count": null,
      "outputs": []
    },
    {
      "cell_type": "code",
      "metadata": {
        "id": "2869d6f1"
      },
      "source": [
        "with pd.ExcelWriter('/content/drive/MyDrive/Colab Notebooks/!Samples/cluster_2.xlsx') as writer:\n",
        "    pd.DataFrame (data_cl_2).to_excel(writer, index=False)"
      ],
      "id": "2869d6f1",
      "execution_count": null,
      "outputs": []
    }
  ]
}