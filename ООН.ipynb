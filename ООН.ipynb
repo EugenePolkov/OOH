{
 "cells": [
  {
   "cell_type": "code",
   "execution_count": 96,
   "metadata": {
    "pycharm": {
     "is_executing": true,
     "name": "#%%\n"
    }
   },
   "outputs": [],
   "source": [
    "# импорт основных библиотек\n",
    "import pandas as pd\n",
    "import numpy as np\n",
    "import matplotlib\n",
    "from matplotlib import pyplot as plt\n",
    "from sklearn import model_selection, metrics, compose, ensemble, preprocessing,  linear_model, svm, neighbors\n",
    "import xgboost as xgb\n",
    "import seaborn as sns\n",
    "import scipy as sc\n",
    "plt.style.use('ggplot')  # стиль для графиков"
   ]
  },
  {
   "cell_type": "markdown",
   "metadata": {
    "heading_collapsed": true,
    "pycharm": {
     "name": "#%% md\n"
    }
   },
   "source": [
    "# Обзор датасета"
   ]
  },
  {
   "cell_type": "code",
   "execution_count": 2,
   "metadata": {
    "hidden": true,
    "pycharm": {
     "name": "#%%\n"
    }
   },
   "outputs": [
    {
     "data": {
      "text/html": [
       "<div>\n",
       "<style scoped>\n",
       "    .dataframe tbody tr th:only-of-type {\n",
       "        vertical-align: middle;\n",
       "    }\n",
       "\n",
       "    .dataframe tbody tr th {\n",
       "        vertical-align: top;\n",
       "    }\n",
       "\n",
       "    .dataframe thead th {\n",
       "        text-align: right;\n",
       "    }\n",
       "</style>\n",
       "<table border=\"1\" class=\"dataframe\">\n",
       "  <thead>\n",
       "    <tr style=\"text-align: right;\">\n",
       "      <th></th>\n",
       "      <th>PriceNoTax</th>\n",
       "      <th>YearNum</th>\n",
       "      <th>Month_ID</th>\n",
       "      <th>BrandR1</th>\n",
       "      <th>SeazonClass</th>\n",
       "      <th>ConstrGroup</th>\n",
       "      <th>ExpositionType</th>\n",
       "      <th>CityType</th>\n",
       "      <th>OperatorR1</th>\n",
       "      <th>OperatorR2</th>\n",
       "      <th>BudgetClass</th>\n",
       "      <th>GRP</th>\n",
       "      <th>Latitude</th>\n",
       "      <th>Longitude</th>\n",
       "      <th>Population</th>\n",
       "      <th>Seller_Cat</th>\n",
       "      <th>Dis</th>\n",
       "    </tr>\n",
       "  </thead>\n",
       "  <tbody>\n",
       "    <tr>\n",
       "      <th>0</th>\n",
       "      <td>17000.0</td>\n",
       "      <td>3</td>\n",
       "      <td>2</td>\n",
       "      <td>1.0</td>\n",
       "      <td>1</td>\n",
       "      <td>2</td>\n",
       "      <td>0</td>\n",
       "      <td>2</td>\n",
       "      <td>0</td>\n",
       "      <td>1</td>\n",
       "      <td>3</td>\n",
       "      <td>6.105542</td>\n",
       "      <td>55.457919</td>\n",
       "      <td>65.335799</td>\n",
       "      <td>312364.0</td>\n",
       "      <td>224</td>\n",
       "      <td>0.973449</td>\n",
       "    </tr>\n",
       "    <tr>\n",
       "      <th>1</th>\n",
       "      <td>17000.0</td>\n",
       "      <td>3</td>\n",
       "      <td>4</td>\n",
       "      <td>1.0</td>\n",
       "      <td>1</td>\n",
       "      <td>2</td>\n",
       "      <td>0</td>\n",
       "      <td>2</td>\n",
       "      <td>0</td>\n",
       "      <td>1</td>\n",
       "      <td>2</td>\n",
       "      <td>6.105542</td>\n",
       "      <td>55.457919</td>\n",
       "      <td>65.335799</td>\n",
       "      <td>312364.0</td>\n",
       "      <td>224</td>\n",
       "      <td>1.006239</td>\n",
       "    </tr>\n",
       "    <tr>\n",
       "      <th>2</th>\n",
       "      <td>21000.0</td>\n",
       "      <td>1</td>\n",
       "      <td>1</td>\n",
       "      <td>3.0</td>\n",
       "      <td>0</td>\n",
       "      <td>1</td>\n",
       "      <td>1</td>\n",
       "      <td>4</td>\n",
       "      <td>0</td>\n",
       "      <td>2</td>\n",
       "      <td>3</td>\n",
       "      <td>8.170000</td>\n",
       "      <td>55.159627</td>\n",
       "      <td>61.381623</td>\n",
       "      <td>1196680.0</td>\n",
       "      <td>268</td>\n",
       "      <td>1.136000</td>\n",
       "    </tr>\n",
       "    <tr>\n",
       "      <th>3</th>\n",
       "      <td>27000.0</td>\n",
       "      <td>3</td>\n",
       "      <td>4</td>\n",
       "      <td>1.0</td>\n",
       "      <td>1</td>\n",
       "      <td>2</td>\n",
       "      <td>0</td>\n",
       "      <td>2</td>\n",
       "      <td>0</td>\n",
       "      <td>1</td>\n",
       "      <td>2</td>\n",
       "      <td>3.750000</td>\n",
       "      <td>54.563482</td>\n",
       "      <td>36.298974</td>\n",
       "      <td>332039.0</td>\n",
       "      <td>209</td>\n",
       "      <td>1.131999</td>\n",
       "    </tr>\n",
       "    <tr>\n",
       "      <th>4</th>\n",
       "      <td>25000.0</td>\n",
       "      <td>2</td>\n",
       "      <td>8</td>\n",
       "      <td>1.0</td>\n",
       "      <td>1</td>\n",
       "      <td>2</td>\n",
       "      <td>1</td>\n",
       "      <td>4</td>\n",
       "      <td>2</td>\n",
       "      <td>4</td>\n",
       "      <td>3</td>\n",
       "      <td>2.303154</td>\n",
       "      <td>56.791160</td>\n",
       "      <td>60.572966</td>\n",
       "      <td>1493749.0</td>\n",
       "      <td>115</td>\n",
       "      <td>0.999160</td>\n",
       "    </tr>\n",
       "    <tr>\n",
       "      <th>...</th>\n",
       "      <td>...</td>\n",
       "      <td>...</td>\n",
       "      <td>...</td>\n",
       "      <td>...</td>\n",
       "      <td>...</td>\n",
       "      <td>...</td>\n",
       "      <td>...</td>\n",
       "      <td>...</td>\n",
       "      <td>...</td>\n",
       "      <td>...</td>\n",
       "      <td>...</td>\n",
       "      <td>...</td>\n",
       "      <td>...</td>\n",
       "      <td>...</td>\n",
       "      <td>...</td>\n",
       "      <td>...</td>\n",
       "      <td>...</td>\n",
       "    </tr>\n",
       "    <tr>\n",
       "      <th>13761</th>\n",
       "      <td>24000.0</td>\n",
       "      <td>1</td>\n",
       "      <td>9</td>\n",
       "      <td>1.0</td>\n",
       "      <td>2</td>\n",
       "      <td>2</td>\n",
       "      <td>0</td>\n",
       "      <td>3</td>\n",
       "      <td>2</td>\n",
       "      <td>3</td>\n",
       "      <td>1</td>\n",
       "      <td>3.290000</td>\n",
       "      <td>57.152781</td>\n",
       "      <td>65.620878</td>\n",
       "      <td>807271.0</td>\n",
       "      <td>120</td>\n",
       "      <td>1.098612</td>\n",
       "    </tr>\n",
       "    <tr>\n",
       "      <th>13762</th>\n",
       "      <td>18250.0</td>\n",
       "      <td>2</td>\n",
       "      <td>8</td>\n",
       "      <td>1.0</td>\n",
       "      <td>1</td>\n",
       "      <td>2</td>\n",
       "      <td>0</td>\n",
       "      <td>4</td>\n",
       "      <td>2</td>\n",
       "      <td>2</td>\n",
       "      <td>3</td>\n",
       "      <td>2.037000</td>\n",
       "      <td>57.992740</td>\n",
       "      <td>56.180762</td>\n",
       "      <td>1055397.0</td>\n",
       "      <td>222</td>\n",
       "      <td>0.996210</td>\n",
       "    </tr>\n",
       "    <tr>\n",
       "      <th>13763</th>\n",
       "      <td>10000.0</td>\n",
       "      <td>3</td>\n",
       "      <td>3</td>\n",
       "      <td>0.0</td>\n",
       "      <td>1</td>\n",
       "      <td>0</td>\n",
       "      <td>2</td>\n",
       "      <td>3</td>\n",
       "      <td>0</td>\n",
       "      <td>2</td>\n",
       "      <td>1</td>\n",
       "      <td>7.980000</td>\n",
       "      <td>57.143039</td>\n",
       "      <td>65.586761</td>\n",
       "      <td>807271.0</td>\n",
       "      <td>112</td>\n",
       "      <td>1.115142</td>\n",
       "    </tr>\n",
       "    <tr>\n",
       "      <th>13764</th>\n",
       "      <td>28000.0</td>\n",
       "      <td>2</td>\n",
       "      <td>8</td>\n",
       "      <td>1.0</td>\n",
       "      <td>1</td>\n",
       "      <td>2</td>\n",
       "      <td>0</td>\n",
       "      <td>4</td>\n",
       "      <td>0</td>\n",
       "      <td>1</td>\n",
       "      <td>3</td>\n",
       "      <td>2.434286</td>\n",
       "      <td>56.804553</td>\n",
       "      <td>60.650616</td>\n",
       "      <td>1493749.0</td>\n",
       "      <td>208</td>\n",
       "      <td>1.029619</td>\n",
       "    </tr>\n",
       "    <tr>\n",
       "      <th>13765</th>\n",
       "      <td>25000.0</td>\n",
       "      <td>3</td>\n",
       "      <td>4</td>\n",
       "      <td>1.0</td>\n",
       "      <td>1</td>\n",
       "      <td>2</td>\n",
       "      <td>1</td>\n",
       "      <td>3</td>\n",
       "      <td>0</td>\n",
       "      <td>2</td>\n",
       "      <td>4</td>\n",
       "      <td>2.680000</td>\n",
       "      <td>57.171879</td>\n",
       "      <td>65.554454</td>\n",
       "      <td>807271.0</td>\n",
       "      <td>141</td>\n",
       "      <td>1.144223</td>\n",
       "    </tr>\n",
       "  </tbody>\n",
       "</table>\n",
       "<p>13766 rows × 17 columns</p>\n",
       "</div>"
      ],
      "text/plain": [
       "       PriceNoTax  YearNum  Month_ID  BrandR1  SeazonClass  ConstrGroup  \\\n",
       "0         17000.0        3         2      1.0            1            2   \n",
       "1         17000.0        3         4      1.0            1            2   \n",
       "2         21000.0        1         1      3.0            0            1   \n",
       "3         27000.0        3         4      1.0            1            2   \n",
       "4         25000.0        2         8      1.0            1            2   \n",
       "...           ...      ...       ...      ...          ...          ...   \n",
       "13761     24000.0        1         9      1.0            2            2   \n",
       "13762     18250.0        2         8      1.0            1            2   \n",
       "13763     10000.0        3         3      0.0            1            0   \n",
       "13764     28000.0        2         8      1.0            1            2   \n",
       "13765     25000.0        3         4      1.0            1            2   \n",
       "\n",
       "       ExpositionType  CityType  OperatorR1  OperatorR2  BudgetClass  \\\n",
       "0                   0         2           0           1            3   \n",
       "1                   0         2           0           1            2   \n",
       "2                   1         4           0           2            3   \n",
       "3                   0         2           0           1            2   \n",
       "4                   1         4           2           4            3   \n",
       "...               ...       ...         ...         ...          ...   \n",
       "13761               0         3           2           3            1   \n",
       "13762               0         4           2           2            3   \n",
       "13763               2         3           0           2            1   \n",
       "13764               0         4           0           1            3   \n",
       "13765               1         3           0           2            4   \n",
       "\n",
       "            GRP   Latitude  Longitude  Population  Seller_Cat       Dis  \n",
       "0      6.105542  55.457919  65.335799    312364.0         224  0.973449  \n",
       "1      6.105542  55.457919  65.335799    312364.0         224  1.006239  \n",
       "2      8.170000  55.159627  61.381623   1196680.0         268  1.136000  \n",
       "3      3.750000  54.563482  36.298974    332039.0         209  1.131999  \n",
       "4      2.303154  56.791160  60.572966   1493749.0         115  0.999160  \n",
       "...         ...        ...        ...         ...         ...       ...  \n",
       "13761  3.290000  57.152781  65.620878    807271.0         120  1.098612  \n",
       "13762  2.037000  57.992740  56.180762   1055397.0         222  0.996210  \n",
       "13763  7.980000  57.143039  65.586761    807271.0         112  1.115142  \n",
       "13764  2.434286  56.804553  60.650616   1493749.0         208  1.029619  \n",
       "13765  2.680000  57.171879  65.554454    807271.0         141  1.144223  \n",
       "\n",
       "[13766 rows x 17 columns]"
      ]
     },
     "execution_count": 2,
     "metadata": {},
     "output_type": "execute_result"
    }
   ],
   "source": [
    "# подгружаем данные\n",
    "data=pd.read_csv('./src/data.csv')\n",
    "data"
   ]
  },
  {
   "cell_type": "markdown",
   "metadata": {
    "hidden": true,
    "pycharm": {
     "name": "#%% md\n"
    }
   },
   "source": [
    "**Описание полей**\n",
    "- **PriceNoTax**: прайсовая цена конструкции\n",
    "- **YearNum**: код года размещения\n",
    "- **Month_ID**: код месяца размещения\n",
    "- **BrandR1**: Категория бренда клиента:\n",
    " * 0: Глобальный\n",
    " * 1: Федеральный\n",
    " * 2: Региональный\n",
    " * 3: Локальный\n",
    "- **SeazonClass**: \n",
    " * 0: Низкий (январь, февраль, июнь, июль)\n",
    " * 1: Средний (март, апрель, май, август, сентябрь)\n",
    " * 2: Высокий (октябрь, ноябрь, декабрь)\n",
    "- **ConstrGroup**: площадь конструкции:\n",
    " * 0: до 5 кв.м\n",
    " * 1: 5-15 кв.м\n",
    " * 2: 15-20 кв.м\n",
    " * 3: 20-100 кв.м\n",
    " * 4:более 100 кв.м\n",
    "- **ExpositionType**: Тип конструкции\n",
    " * 0: Статика\n",
    " * 1: Тривижн\n",
    " * 2: Скроллер\n",
    " * 3: Диджитал\n",
    "- **CityType**: Категория города размещения, в зависимости от населения\n",
    " * 0: более 4млн\n",
    " * 1: от 990 тыс\n",
    " * 2: от 440 тыс\n",
    " * 3: от 90 тыс\n",
    " * 4: от 45 тыс\n",
    " * 5: менее 45 тыс\n",
    "- **OperatorR1**: география присутствия селлера\n",
    " * 0: Локальный\n",
    " * 1: Региональный\n",
    " * 2: Федеральный\n",
    "- **OperatorR2**: масштаб селлера - количество конструкции в собственности\n",
    " * 0: до 100 конструкций\n",
    " * 1: 100-900 констр\n",
    " * 2: 900-4900 констр\n",
    " * 3: 4900 - 9900 констр\n",
    " * 4: более 9900 констр\n",
    "- **Budget**: категория клиента в зависимости от  размеру рекламного бюджета\n",
    "- **Latitude**: координаты конструкции (широта)\n",
    "- **Longitude**: координаты конструкции (долгота)\n",
    "- **Population**: население города размещения \n",
    "- **Seller_Cat**: закодированный селлер конструкции (мелкие селлеры объединены в одну группу 275) \n",
    "- **Dis**: целевая переменная: размер дисконта/надбавки к прайсовой цене"
   ]
  },
  {
   "cell_type": "markdown",
   "metadata": {
    "hidden": true,
    "pycharm": {
     "name": "#%% md\n"
    }
   },
   "source": [
    "**Пару слов о препроцессинге**\n",
    "\n",
    "Перед выгрузкой датасет был предварительно обработан, препроцесинг включал в себя:\n",
    "- удаление дубликатов\n",
    "- сброс NaN\n",
    "- удаление выбросов: убрано порядка 1% записей, лежащих вне интервала [квантиль 0.25 - 1.5$*$IQR ; квантиль 0.75 + 1.5$*$IQR]\n",
    "- обработка конфиденциальных данных: бюджеты клиентов и селлеры были закодированы, целевая переменная прошла трансформацию: сдвиг + мат. функция\n"
   ]
  },
  {
   "cell_type": "markdown",
   "metadata": {
    "heading_collapsed": true,
    "pycharm": {
     "name": "#%% md\n"
    }
   },
   "source": [
    "# EDA"
   ]
  },
  {
   "cell_type": "markdown",
   "metadata": {
    "hidden": true,
    "pycharm": {
     "name": "#%% md\n"
    }
   },
   "source": [
    "для предварительного анализа данных воспользуется таким прекрасным инструментом как pandas-profiling "
   ]
  },
  {
   "cell_type": "code",
   "execution_count": 3,
   "metadata": {
    "hidden": true,
    "pycharm": {
     "name": "#%%\n"
    }
   },
   "outputs": [],
   "source": [
    "# установка последней версии\n",
    "#!pip install pandas-profiling==3.3.0"
   ]
  },
  {
   "cell_type": "code",
   "execution_count": 4,
   "metadata": {
    "hidden": true,
    "pycharm": {
     "name": "#%%\n"
    }
   },
   "outputs": [],
   "source": [
    "import pandas_profiling\n",
    "# формируем отчет\n",
    "#pandas_profiling.ProfileReport(data)"
   ]
  },
  {
   "cell_type": "markdown",
   "metadata": {
    "hidden": true,
    "pycharm": {
     "name": "#%% md\n"
    }
   },
   "source": [
    "Главное, что можно отметить в отчете:\n",
    "- большинство переменных категориальные, понадобится кодировка\n",
    "- если смотреть на корреляцию признаков, то кроме очевидных корреляций, вроде сезонности с номером месяца или прайсовой цены с размером конструкции, с которыми особо ничего не сделать, есть сильная корреляция между признаками **OperatorR1** и **OperatorR2**, а также между признаками **CityType** и **Population**. Для первого запуска модели оставим все как есть, но отбор признаков начнем с этой четверки.\n",
    "- распределения признаков GRP и PriceNoTax, являются степенными, имеют длинные хвосты, распределение признака Population также имеет тяжелый хвосты с небольшим пиком в самом конце хвоста, целесообразно прологарифмирвать эти признаки, чтобы сгладить распределение"
   ]
  },
  {
   "cell_type": "markdown",
   "metadata": {
    "hidden": true,
    "pycharm": {
     "name": "#%% md\n"
    }
   },
   "source": [
    "Категориальные признаки разбиваются на 3 группы:\n",
    "- номинальные (Month_ID, YearNum, ExpositionType) их кодируем с помощью OneHotEncoding\n",
    "- high-cardinality - с большим количеством уников (Seller_Cat), его закодируем с помощью LeaveOneOut\n",
    "- ordinal (порядковые) все остальные (столбцы с 4 по 11 включительно за минусом ExpositionType), их оставим как есть, они уже закодированы порядковыми номерам"
   ]
  },
  {
   "cell_type": "markdown",
   "metadata": {
    "heading_collapsed": true,
    "pycharm": {
     "name": "#%% md\n"
    }
   },
   "source": [
    "# Подготовка данных"
   ]
  },
  {
   "cell_type": "code",
   "execution_count": 5,
   "metadata": {
    "hidden": true,
    "pycharm": {
     "name": "#%%\n"
    }
   },
   "outputs": [],
   "source": [
    "# перемешиваем датасет\n",
    "data =data.sample (frac=1 )"
   ]
  },
  {
   "cell_type": "code",
   "execution_count": 6,
   "metadata": {
    "hidden": true,
    "pycharm": {
     "name": "#%%\n"
    }
   },
   "outputs": [],
   "source": [
    "# разделим датасет на признаки и target\n",
    "y= data.loc[:,'Dis']\n",
    "X= data.drop ('Dis' , axis=1)"
   ]
  },
  {
   "cell_type": "code",
   "execution_count": 7,
   "metadata": {
    "hidden": true,
    "pycharm": {
     "name": "#%%\n"
    }
   },
   "outputs": [],
   "source": [
    "# для кодирования используем библиотеку category_encoders\n",
    "#!pip install category_encoders\n",
    "from category_encoders.one_hot import OneHotEncoder\n",
    "from category_encoders.count import CountEncoder\n",
    "\n",
    "ohe = OneHotEncoder (cols=['YearNum' , 'Month_ID' , 'ExpositionType'], use_cat_names=True)\n",
    "X = ohe.fit_transform(X)\n",
    "\n",
    "# используем частотное кодирование для категории Seller_Cat\n",
    "coe = CountEncoder (cols=['Seller_Cat'] )\n",
    "X = coe.fit_transform(X ,y)"
   ]
  },
  {
   "cell_type": "code",
   "execution_count": 8,
   "metadata": {
    "hidden": true,
    "pycharm": {
     "name": "#%%\n"
    }
   },
   "outputs": [],
   "source": [
    "# Определяем функцию трансформации - log(1+x) - и перезаписываем соответствующие столбцы датафрейма\n",
    "tr = preprocessing.FunctionTransformer(np.log1p, validate=True)\n",
    "col_tr = compose.make_column_transformer ((tr , ['PriceNoTax' , 'GRP' , 'Population']) )\n",
    "X[['PriceNoTax' , 'GRP' , 'Population']] = col_tr.fit_transform(X)"
   ]
  },
  {
   "cell_type": "markdown",
   "metadata": {
    "pycharm": {
     "name": "#%% md\n"
    }
   },
   "source": [
    "# Тестирование моделей"
   ]
  },
  {
   "cell_type": "code",
   "execution_count": 9,
   "metadata": {
    "pycharm": {
     "name": "#%%\n"
    }
   },
   "outputs": [
    {
     "name": "stdout",
     "output_type": "stream",
     "text": [
      "RandomForest, R2 по фолдам  [0.8643028  0.88977103 0.8852352  0.87574931 0.8949753 ]\n",
      "RandomForest, R2 среднее 0.88\n"
     ]
    }
   ],
   "source": [
    "# используем RandomForest в качестве baseline, получаем оценку R2 на кросс-валидации \n",
    "cvs = model_selection.cross_val_score (ensemble.RandomForestRegressor (), X, y,  cv=5, scoring='r2')\n",
    "print ('RandomForest, R2 по фолдам ', cvs)\n",
    "print ('RandomForest, R2 среднее' , round (cvs.mean() , 2))"
   ]
  },
  {
   "cell_type": "code",
   "execution_count": 10,
   "metadata": {
    "pycharm": {
     "name": "#%%\n"
    }
   },
   "outputs": [],
   "source": [
    "# определим функцию, которая будет оценивать пользовательскую метрику (доля предсказаний превышающих допустимый\n",
    "# интервал отклонения в 5 %)\n",
    "def custom_loss (y_true, y_pred):\n",
    "    diff=list(y_true-y_pred)\n",
    "    list_d = [x for x in diff if x <-0.05 or x > 0.05]\n",
    "    return len(list_d)/len(diff)*100\n",
    "# и скорер, который можно использовать в кросс-валидации и оптимизации\n",
    "custom_scorer = metrics.make_scorer(custom_loss, greater_is_better=False)"
   ]
  },
  {
   "cell_type": "code",
   "execution_count": 11,
   "metadata": {
    "pycharm": {
     "name": "#%%\n"
    }
   },
   "outputs": [
    {
     "name": "stdout",
     "output_type": "stream",
     "text": [
      "RandomForest, Custom_scor по фолдам  [5.6281772  4.97638939 5.15800944 5.3396295  5.23065746]\n",
      "RandomForest, Custom_scor 5.27\n"
     ]
    }
   ],
   "source": [
    "# получим оценку custom-loss на кросс-валидации \n",
    "cvs = model_selection.cross_val_score (ensemble.RandomForestRegressor (), X, y,  cv=5, scoring=custom_scorer)\n",
    "print ('RandomForest, Custom_scor по фолдам ', np.negative (cvs) )\n",
    "print ('RandomForest, Custom_scor' , round (np.negative (cvs.mean()) , 2))"
   ]
  },
  {
   "cell_type": "markdown",
   "metadata": {
    "pycharm": {
     "name": "#%% md\n"
    }
   },
   "source": [
    "Чуть-чуть не дотягивает до нужного порога, посмотрим в сторону других моделей"
   ]
  },
  {
   "cell_type": "code",
   "execution_count": 12,
   "metadata": {
    "pycharm": {
     "name": "#%%\n"
    }
   },
   "outputs": [
    {
     "name": "stdout",
     "output_type": "stream",
     "text": [
      "Xgboost, R2 по фолдам  [0.83114955 0.85270267 0.84056867 0.82703476 0.84690712]\n",
      "Xgboost, R2 среднее 0.84\n"
     ]
    }
   ],
   "source": [
    "# посмотрим насколько лучше отработает текущий стандарт ML обучения xgboost\n",
    "cvs = model_selection.cross_val_score (xgb.XGBRegressor ( ), X, y,  cv=5, scoring='r2')\n",
    "print ('Xgboost, R2 по фолдам ', cvs)\n",
    "print ('Xgboost, R2 среднее' , round (cvs.mean() , 2))"
   ]
  },
  {
   "cell_type": "markdown",
   "metadata": {
    "pycharm": {
     "name": "#%% md\n"
    }
   },
   "source": [
    "R2 похуже, но это с дефолтными гиперпараметрами, пробуем подобрать параметры получше"
   ]
  },
  {
   "cell_type": "code",
   "execution_count": 13,
   "metadata": {
    "pycharm": {
     "name": "#%%\n"
    }
   },
   "outputs": [],
   "source": [
    "# фиксируем learning rate, перебираем количество итераций и глубину деревьев \n",
    "params = {'n_estimators' : [500, 750, 1000, 1250] ,    'max_depth' :[5, 8, 11, 14, 17] }\n",
    "gs= model_selection.GridSearchCV (xgb.XGBRegressor (learning_rate=0.03 ) , param_grid=params, scoring = 'r2' )"
   ]
  },
  {
   "cell_type": "code",
   "execution_count": 16,
   "metadata": {
    "pycharm": {
     "name": "#%%\n"
    }
   },
   "outputs": [
    {
     "data": {
      "text/plain": [
       "GridSearchCV(estimator=XGBRegressor(base_score=None, booster=None,\n",
       "                                    callbacks=None, colsample_bylevel=None,\n",
       "                                    colsample_bynode=None,\n",
       "                                    colsample_bytree=None,\n",
       "                                    early_stopping_rounds=None,\n",
       "                                    enable_categorical=False, eval_metric=None,\n",
       "                                    gamma=None, gpu_id=None, grow_policy=None,\n",
       "                                    importance_type=None,\n",
       "                                    interaction_constraints=None,\n",
       "                                    learning_rate=0.03, max_bin=None,\n",
       "                                    max_cat_to_onehot=None, max_delta_step=None,\n",
       "                                    max_depth=None, max_leaves=None,\n",
       "                                    min_child_weight=None, missing=nan,\n",
       "                                    monotone_constraints=None, n_estimators=100,\n",
       "                                    n_jobs=None, num_parallel_tree=None,\n",
       "                                    predictor=None, random_state=None,\n",
       "                                    reg_alpha=None, reg_lambda=None, ...),\n",
       "             param_grid={'max_depth': [5, 8, 11, 14, 17],\n",
       "                         'n_estimators': [500, 750, 1000, 1250]},\n",
       "             scoring='r2')"
      ]
     },
     "execution_count": 16,
     "metadata": {},
     "output_type": "execute_result"
    }
   ],
   "source": [
    "#gs.fit (X, y)"
   ]
  },
  {
   "cell_type": "code",
   "execution_count": 17,
   "metadata": {
    "pycharm": {
     "name": "#%%\n"
    }
   },
   "outputs": [
    {
     "data": {
      "text/plain": [
       "{'max_depth': 11, 'n_estimators': 1250}"
      ]
     },
     "execution_count": 17,
     "metadata": {},
     "output_type": "execute_result"
    }
   ],
   "source": [
    "gs.best_params_"
   ]
  },
  {
   "cell_type": "code",
   "execution_count": 18,
   "metadata": {
    "pycharm": {
     "name": "#%%\n"
    }
   },
   "outputs": [
    {
     "name": "stdout",
     "output_type": "stream",
     "text": [
      "Xgboost, R2 по фолдам  [0.88602807 0.89828983 0.89504963 0.88600443 0.90314099]\n",
      "Xgboost, R2 среднее 0.89\n"
     ]
    }
   ],
   "source": [
    "# используем найденные параметры\n",
    "cvs = model_selection.cross_val_score (xgb.XGBRegressor ( learning_rate=0.03, max_depth=11, n_estimators=1250 ),\n",
    "                                       X, y,  cv=5, scoring='r2')\n",
    "print ('Xgboost, R2 по фолдам ', cvs)\n",
    "print ('Xgboost, R2 среднее' , round (cvs.mean() , 2))"
   ]
  },
  {
   "cell_type": "code",
   "execution_count": 19,
   "metadata": {
    "pycharm": {
     "name": "#%%\n"
    }
   },
   "outputs": [
    {
     "name": "stdout",
     "output_type": "stream",
     "text": [
      "Xgboost, Custom_scor по фолдам  [4.50254176 4.54050127 4.54050127 5.23065746 4.43152924]\n",
      "Xgboost, Custom_scor 4.65\n"
     ]
    }
   ],
   "source": [
    "# теперь custom-loss на кросс-валидации \n",
    "cvs = model_selection.cross_val_score (xgb.XGBRegressor ( learning_rate=0.03, max_depth=11, n_estimators=1250 ),\n",
    "                                       X, y,  cv=5, scoring=custom_scorer)\n",
    "print ('Xgboost, Custom_scor по фолдам ', np.negative (cvs) )\n",
    "print ('Xgboost, Custom_scor' , round (np.negative (cvs.mean()) , 2))"
   ]
  },
  {
   "cell_type": "markdown",
   "metadata": {
    "pycharm": {
     "name": "#%% md\n"
    }
   },
   "source": [
    "Результаты немного лучше, чем у RandomForest, даже удалось попасть в требуемый порог \n",
    "Также по смыслу задачи должны хорошо сработать метрические модели, если поверхности расположены рядом, имеют похожий рейтинг и принадлежат одному и тому же селлеру, размер дисконта на них на них должен быть сопоставим"
   ]
  },
  {
   "cell_type": "code",
   "execution_count": 20,
   "metadata": {
    "pycharm": {
     "name": "#%%\n"
    }
   },
   "outputs": [
    {
     "name": "stdout",
     "output_type": "stream",
     "text": [
      "KNN, R2 по фолдам  [0.76100947 0.76821839 0.77204582 0.76422184 0.76986948]\n",
      "KNN, R2 среднее 0.77\n"
     ]
    }
   ],
   "source": [
    "# тестим KNN с дефолтными параметрами \n",
    "cvs =model_selection.cross_val_score (neighbors.KNeighborsRegressor(), X, y,  cv=5, scoring='r2')\n",
    "print ('KNN, R2 по фолдам ', cvs)\n",
    "print ('KNN, R2 среднее' , round (cvs.mean() , 2))"
   ]
  },
  {
   "cell_type": "code",
   "execution_count": 21,
   "metadata": {
    "pycharm": {
     "name": "#%%\n"
    }
   },
   "outputs": [
    {
     "name": "stdout",
     "output_type": "stream",
     "text": [
      "KNN, R2 по фолдам  [0.80526321 0.79671804 0.81929986 0.80398216 0.82152193]\n",
      "KNN, R2 среднее 0.81\n"
     ]
    }
   ],
   "source": [
    "# снова используя GridSearch получаем оптимальные гиперпараметры \n",
    "cvs =model_selection.cross_val_score (neighbors.KNeighborsRegressor(6, p=1, weights='distance'), X, y,  cv=5, scoring='r2')\n",
    "print ('KNN, R2 по фолдам ', cvs)\n",
    "print ('KNN, R2 среднее' , round (cvs.mean() , 2))"
   ]
  },
  {
   "cell_type": "code",
   "execution_count": 22,
   "metadata": {
    "pycharm": {
     "name": "#%%\n"
    }
   },
   "outputs": [
    {
     "name": "stdout",
     "output_type": "stream",
     "text": [
      "KNN, R2 по фолдам  [8.20624546 9.55321467 8.75408645 8.49981838 8.71776244]\n",
      "KNN, R2 среднее 8.75\n"
     ]
    }
   ],
   "source": [
    "cvs =model_selection.cross_val_score (neighbors.KNeighborsRegressor(6, p=1, weights='distance'), X, y,  cv=5, scoring=custom_scorer)\n",
    "print ('KNN, R2 по фолдам ', np.negative (cvs))\n",
    "print ('KNN, R2 среднее' , round ( np.negative (cvs.mean()), 2))"
   ]
  },
  {
   "cell_type": "markdown",
   "metadata": {
    "pycharm": {
     "name": "#%% md\n"
    }
   },
   "source": [
    "Результат не дотягивает до RandomForest и Xgboost, но в дальнейшем эту модель можно попробовать использовать при стекинге.  \n",
    "Примечание: вообще данные для метрических алгоритмов рекомендуется нормировать, но в данном случае оценка **R2** ухудшается при нормировании, на мой взгляд, это происходит по двум причинам:\n",
    "- некоторые числовые признаки были предварительно прологарифмированы, соответственно, масштабировались до небольших значений \n",
    "- все признаки находятся примерно в одном масштабе, зак исключением признаков Seller_Cat и геокоординат, но они, по видимому, являются ключевыми для расчета прогноза, и немасштабированные данные содержат более точную информацию о расстониях между признаками, поэтому масштабирование и ухудшает качество прогноза\n"
   ]
  },
  {
   "cell_type": "markdown",
   "metadata": {
    "pycharm": {
     "name": "#%% md\n"
    }
   },
   "source": [
    "# Отбор признаков"
   ]
  },
  {
   "cell_type": "markdown",
   "metadata": {
    "pycharm": {
     "name": "#%% md\n"
    }
   },
   "source": [
    "Взглянем на то, какие признаки дают больший вклад в прогноз, а какие, возможно, вносят только шум.  \n",
    "Вообще, изначально признаков в датасете очень немного и очень маловероятно, что потребуется какие-либо признаки исключать или проводить сокращения размерности признаков, но убедиться стоит"
   ]
  },
  {
   "cell_type": "code",
   "execution_count": 128,
   "metadata": {
    "pycharm": {
     "name": "#%%\n"
    }
   },
   "outputs": [
    {
     "data": {
      "text/plain": [
       "Text(0.5, 1.0, 'Feature_importance, Xgboost ')"
      ]
     },
     "execution_count": 128,
     "metadata": {},
     "output_type": "execute_result"
    },
    {
     "data": {
      "image/png": "[encoded data removed]",
      "text/plain": [
       "<Figure size 1600x1000 with 1 Axes>"
      ]
     },
     "metadata": {},
     "output_type": "display_data"
    }
   ],
   "source": [
    "# воспользуемся атрибутом feature_importances_ эстиматора у ранне обученного объекта GridSearch\n",
    "fi = pd.DataFrame (gs.best_estimator_.feature_importances_, columns=['Feature_importance'], index= X.columns.to_list()).sort_values('Feature_importance')\n",
    "fi.plot.barh(figsize=(16,10))\n",
    "plt.title ('Feature_importance, Xgboost ' );"
   ]
  },
  {
   "cell_type": "markdown",
   "metadata": {
    "pycharm": {
     "name": "#%% md\n"
    }
   },
   "source": [
    "<img src='./src/images/fi.png'>"
   ]
  },
  {
   "cell_type": "markdown",
   "metadata": {
    "pycharm": {
     "name": "#%% md\n"
    }
   },
   "source": [
    "Откровенно лишних признаков нет, более того, признаки с сильной корреляцией, которые были отмечены в разделе EDA оказались в топе признаков. Тем не менее, оценим как изменяется дисперсия остатков регресии, при исключении того или иного признака."
   ]
  },
  {
   "cell_type": "code",
   "execution_count": 67,
   "metadata": {
    "pycharm": {
     "name": "#%%\n"
    }
   },
   "outputs": [],
   "source": [
    "# делим на трейн / тест\n",
    "X_train, X_test, y_train, y_test = model_selection.train_test_split ( X, y, train_size = 0.75 )"
   ]
  },
  {
   "cell_type": "code",
   "execution_count": 130,
   "metadata": {
    "pycharm": {
     "name": "#%%\n"
    }
   },
   "outputs": [
    {
     "data": {
      "text/plain": [
       "XGBRegressor(base_score=0.5, booster='gbtree', callbacks=None,\n",
       "             colsample_bylevel=1, colsample_bynode=1, colsample_bytree=1,\n",
       "             early_stopping_rounds=None, enable_categorical=False,\n",
       "             eval_metric=None, gamma=0, gpu_id=-1, grow_policy='depthwise',\n",
       "             importance_type=None, interaction_constraints='',\n",
       "             learning_rate=0.03, max_bin=256, max_cat_to_onehot=4,\n",
       "             max_delta_step=0, max_depth=11, max_leaves=0, min_child_weight=1,\n",
       "             missing=nan, monotone_constraints='()', n_estimators=1250,\n",
       "             n_jobs=0, num_parallel_tree=1, predictor='auto', random_state=0,\n",
       "             reg_alpha=0, reg_lambda=1, ...)"
      ]
     },
     "execution_count": 130,
     "metadata": {},
     "output_type": "execute_result"
    }
   ],
   "source": [
    "xbr=xgb.XGBRegressor (learning_rate=0.03, max_depth=11, n_estimators=1250)\n",
    "xbr.fit ( X_train, y_train)"
   ]
  },
  {
   "cell_type": "code",
   "execution_count": 131,
   "metadata": {
    "pycharm": {
     "name": "#%%\n"
    }
   },
   "outputs": [
    {
     "data": {
      "text/plain": [
       "Text(0.5, 1.0, 'Распределение остатков регрессии')"
      ]
     },
     "execution_count": 131,
     "metadata": {},
     "output_type": "execute_result"
    },
    {
     "data": {
      "image/png": "[encoded data removed]",
      "text/plain": [
       "<Figure size 1200x800 with 1 Axes>"
      ]
     },
     "metadata": {},
     "output_type": "display_data"
    }
   ],
   "source": [
    "# посмотрим на остатки регресcии, нарисуем границы интервала, в которое укладывается 95% отклонений\n",
    "residuals = y_test - xbr.predict (X_test )\n",
    "fig = plt.figure (figsize=(12,8) )\n",
    "plt.hist (residuals, bins=100);\n",
    "left_int = residuals.quantile (0.025)\n",
    "right_int = residuals.quantile (1- 0.025)\n",
    "for i in [left_int, right_int]: \n",
    "        y_max = plt.ylim()[1]\n",
    "        plt.axvline(i, color=\"blue\", linestyle='dashed', lw=2)\n",
    "plt.title ('Распределение остатков регрессии' );"
   ]
  },
  {
   "cell_type": "code",
   "execution_count": 105,
   "metadata": {
    "pycharm": {
     "name": "#%%\n"
    }
   },
   "outputs": [
    {
     "name": "stdout",
     "output_type": "stream",
     "text": [
      "Std -  0.0231\n"
     ]
    }
   ],
   "source": [
    "# посчитаем среднеквадратичное отклонение (Std), которое станет бенчмарком\n",
    "print ('Std - ' , round (residuals.std() , 4))"
   ]
  },
  {
   "cell_type": "code",
   "execution_count": 108,
   "metadata": {
    "pycharm": {
     "name": "#%%\n"
    }
   },
   "outputs": [
    {
     "name": "stdout",
     "output_type": "stream",
     "text": [
      "PriceNoTax\n",
      "YearNum_1.0\n",
      "YearNum_2.0\n",
      "YearNum_3.0\n",
      "Month_ID_2.0\n",
      "Month_ID_3.0\n",
      "Month_ID_8.0\n",
      "Month_ID_7.0\n",
      "Month_ID_6.0\n",
      "Month_ID_1.0\n",
      "Month_ID_9.0\n",
      "Month_ID_11.0\n",
      "Month_ID_0.0\n",
      "Month_ID_5.0\n",
      "Month_ID_10.0\n",
      "Month_ID_4.0\n",
      "BrandR1\n",
      "SeazonClass\n",
      "ConstrGroup\n",
      "ExpositionType_1.0\n",
      "ExpositionType_0.0\n",
      "ExpositionType_2.0\n",
      "ExpositionType_3.0\n",
      "CityType\n",
      "OperatorR1\n",
      "OperatorR2\n",
      "BudgetClass\n",
      "GRP\n",
      "Latitude\n",
      "Longitude\n",
      "Population\n",
      "Seller_Cat\n",
      "CPU times: total: 1h 26min 40s\n",
      "Wall time: 21min 52s\n"
     ]
    }
   ],
   "source": [
    "# Попробуем поочередно убирать один признак и измерять Std остатков регресcии и записывать его в словарь\n",
    "# Процесс занимает значительное количество времени, поэтому итоговый график вынесен отдельной картинкой"
   ]
  },
  {
   "cell_type": "code",
   "execution_count": 109,
   "metadata": {
    "pycharm": {
     "name": "#%%time\n"
    }
   },
   "outputs": [
    {
     "data": {
      "text/plain": [
       "{'bench': 0.02313492314639931,\n",
       " 'PriceNoTax': 0.026424422505590645,\n",
       " 'YearNum_1.0': 0.022657504332367472,\n",
       " 'YearNum_2.0': 0.023250544376692356,\n",
       " 'YearNum_3.0': 0.023195568169320592,\n",
       " 'Month_ID_2.0': 0.023190687819386702,\n",
       " 'Month_ID_3.0': 0.02301175625464923,\n",
       " 'Month_ID_8.0': 0.022931476185112827,\n",
       " 'Month_ID_7.0': 0.02278701420849759,\n",
       " 'Month_ID_6.0': 0.023361950935819158,\n",
       " 'Month_ID_1.0': 0.023152558796562195,\n",
       " 'Month_ID_9.0': 0.02306741085641449,\n",
       " 'Month_ID_11.0': 0.02303572798262646,\n",
       " 'Month_ID_0.0': 0.023111877991865384,\n",
       " 'Month_ID_5.0': 0.02301305406564679,\n",
       " 'Month_ID_10.0': 0.02286380316730308,\n",
       " 'Month_ID_4.0': 0.0232324250692154,\n",
       " 'BrandR1': 0.023992443655000716,\n",
       " 'SeazonClass': 0.023217944583721367,\n",
       " 'ConstrGroup': 0.02348308741251936,\n",
       " 'ExpositionType_1.0': 0.023060568528932818,\n",
       " 'ExpositionType_0.0': 0.023093811783076432,\n",
       " 'ExpositionType_2.0': 0.022848192812887257,\n",
       " 'ExpositionType_3.0': 0.02310826011629764,\n",
       " 'CityType': 0.023123977516042473,\n",
       " 'OperatorR1': 0.022927429511844104,\n",
       " 'OperatorR2': 0.023470602621106153,\n",
       " 'BudgetClass': 0.024413863524921496,\n",
       " 'GRP': 0.022721539254596197,\n",
       " 'Latitude': 0.023081138382021023,\n",
       " 'Longitude': 0.02336983620586691,\n",
       " 'Population': 0.02323518552455029,\n",
       " 'Seller_Cat': 0.023228951692632983}"
      ]
     },
     "execution_count": 109,
     "metadata": {},
     "output_type": "execute_result"
    }
   ],
   "source": [
    "#res={}\n",
    "#res['bench'] = residuals.std()\n",
    "#xbr1=xgb.XGBRegressor (learning_rate=0.03, max_depth=11, n_estimators=1250)\n",
    "#for c in X.columns.to_list():\n",
    "#  cl= X.columns.to_list()\n",
    "#  cl.remove(c)\n",
    "#  xbr1.fit (X_train.loc[:, cl], y_train)  \n",
    "#  diff = y_test - xbr1.predict (X_test.loc[:, cl])\n",
    "#  y_pred = xbr1.predict (X_test.loc[:, cl])\n",
    "#  res[c] = diff.std()"
   ]
  },
  {
   "cell_type": "code",
   "execution_count": 127,
   "metadata": {
    "pycharm": {
     "name": "#%%\n"
    }
   },
   "outputs": [
    {
     "data": {
      "text/plain": [
       "Text(0.5, 1.0, 'Std остатков регрессии, в зависимости от убранного признака ')"
      ]
     },
     "execution_count": 127,
     "metadata": {},
     "output_type": "execute_result"
    },
    {
     "data": {
      "image/png": "[encoded data removed]",
      "text/plain": [
       "<Figure size 1200x800 with 1 Axes>"
      ]
     },
     "metadata": {},
     "output_type": "display_data"
    }
   ],
   "source": [
    "fe = pd.DataFrame.from_dict (res, orient='index' , columns=['Std']).sort_values ('Std')"
   ]
  },
  {
   "cell_type": "code",
   "execution_count": null,
   "outputs": [],
   "source": [
    "fig = plt.figure (figsize=(12,8) )\n",
    "barviz = plt.barh ( fe.index , fe['Std'])\n",
    "barviz[17].set_color('b')\n",
    "plt.title ('Std остатков регрессии, в зависимости от убранного признака ' );"
   ],
   "metadata": {
    "collapsed": false,
    "pycharm": {
     "name": "#%%\n"
    }
   }
  },
  {
   "cell_type": "markdown",
   "metadata": {
    "pycharm": {
     "name": "#%% md\n"
    }
   },
   "source": [
    "<img src='./src/images/fe.png'>"
   ]
  },
  {
   "cell_type": "markdown",
   "metadata": {
    "collapsed": false,
    "pycharm": {
     "name": "#%% md\n"
    }
   },
   "source": [
    "Попробуем убрать 3 признака, лежащих ниже бенчмарка: **OperatorR1** и **CityType**, которые мы отметили в разделе EDA и **GRP**, который находится внизу списка"
   ]
  },
  {
   "cell_type": "markdown",
   "source": [
    "Попробуем убрать 3 признака, лежащих ниже бенчмарка: **OperatorR1** и **CityType**, которые мы отметили в разделе EDA и **GRP**, который находится внизу списка"
   ],
   "metadata": {
    "collapsed": false,
    "pycharm": {
     "name": "#%% md\n"
    }
   }
  },
  {
   "cell_type": "code",
   "execution_count": null,
   "metadata": {
    "collapsed": false,
    "pycharm": {
     "name": "#%%\n"
    }
   },
   "outputs": [],
   "source": [
    "X_trunc = X.drop (['GRP', 'OperatorR1' , 'CityType' ] , axis=1)"
   ]
  },
  {
   "cell_type": "code",
   "execution_count": null,
   "metadata": {
    "collapsed": false,
    "pycharm": {
     "name": "#%%\n"
    }
   },
   "outputs": [],
   "source": [
    "cvs = model_selection.cross_val_score (xgb.XGBRegressor ( learning_rate=0.03, max_depth=11, n_estimators=1250 ),\n",
    "                                       X_trunc, y,  cv=5, scoring='r2')\n",
    "print ('Xgboost, R2 по фолдам ', cvs)\n",
    "print (f'Xgboost, R2 среднее = {cvs.mean():.4f}')"
   ]
  },
  {
   "cell_type": "code",
   "execution_count": null,
   "outputs": [],
   "source": [
    "cvs = model_selection.cross_val_score (xgb.XGBRegressor ( learning_rate=0.03, max_depth=11, n_estimators=1250 ),\n",
    "                                       X_tranc, y,  cv=5, scoring=custom_scorer)\n",
    "print ('Xgboost, R2 по фолдам ', np.negative (cvs) )\n",
    "print (f'Xgboost, R2 среднее =  {np.negative (cvs.mean()):.4f}')"
   ],
   "metadata": {
    "collapsed": false,
    "pycharm": {
     "name": "#%%\n"
    }
   }
  },
  {
   "cell_type": "markdown",
   "metadata": {
    "collapsed": false,
    "pycharm": {
     "name": "#%% md\n"
    }
   },
   "source": [
    "Изменение к лучшему очень незначительные "
   ]
  },
  {
   "cell_type": "markdown",
   "metadata": {
    "collapsed": false,
    "pycharm": {
     "name": "#%% md\n"
    }
   },
   "source": [
    "# Стекинг, блендинг"
   ]
  },
  {
   "cell_type": "markdown",
   "source": [
    "В заключение попробуем использовать стекинг, объединив предсказания Xgboost и KNN, возможно они дополнят друг друга"
   ],
   "metadata": {
    "collapsed": false,
    "pycharm": {
     "name": "#%% md\n"
    }
   }
  },
  {
   "cell_type": "code",
   "execution_count": null,
   "metadata": {
    "collapsed": false,
    "pycharm": {
     "name": "#%%\n"
    }
   },
   "outputs": [],
   "source": [
    "X_train_1, X_test_1, y_train, y_test = model_selection.train_test_split ( X_trunc, y, train_size = 0.75 )"
   ]
  },
  {
   "cell_type": "code",
   "execution_count": null,
   "metadata": {
    "collapsed": false,
    "pycharm": {
     "name": "#%%\n"
    }
   },
   "outputs": [],
   "source": [
    "est_list =  [ ('xgb', xgb.XGBRegressor ( learning_rate=0.03, max_depth=11, n_estimators=1250 )),\n",
    "             ('knn', neighbors.KNeighborsRegressor(6, p=1, weights='distance')) ]"
   ]
  },
  {
   "cell_type": "code",
   "execution_count": null,
   "outputs": [],
   "source": [
    "stc = ensemble.StackingRegressor(est_list, final_estimator=ensemble.RandomForestRegressor ( ) , cv=5)\n",
    "stc.fit (X_train_1, y_train)\n",
    "print (f'Stacking, R2  =  {metrics.r2_score (y_test, stc.predict (X_test_1)):.4f}') "
   ],
   "metadata": {
    "collapsed": false,
    "pycharm": {
     "name": "#%%\n"
    }
   }
  },
  {
   "cell_type": "markdown",
   "source": [
    "Объединение прогнозов двух моделей не смогло превзойти Xgboost"
   ],
   "metadata": {
    "collapsed": false,
    "pycharm": {
     "name": "#%% md\n"
    }
   }
  },
  {
   "cell_type": "code",
   "execution_count": null,
   "metadata": {
    "collapsed": false,
    "pycharm": {
     "name": "#%%\n"
    }
   },
   "outputs": [],
   "source": [
    "xbr  = xgb.XGBRegressor (learning_rate=0.03, max_depth=11, n_estimators=1250)\n",
    "xbr.fit ( X_train_1, y_train)"
   ]
  },
  {
   "cell_type": "code",
   "execution_count": null,
   "outputs": [],
   "source": [
    "metrics.r2_score (y_test, xbr.predict (X_test_1))"
   ],
   "metadata": {
    "collapsed": false,
    "pycharm": {
     "name": "#%%\n"
    }
   }
  },
  {
   "cell_type": "code",
   "execution_count": null,
   "outputs": [],
   "source": [
    "# Итоги"
   ],
   "metadata": {
    "collapsed": false,
    "pycharm": {
     "name": "#%%\n"
    }
   }
  }
 ],
 "metadata": {
  "colab": {
   "collapsed_sections": [],
   "name": "ООН_тесты _extrapol.ipynb",
   "provenance": []
  },
  "kernelspec": {
   "display_name": "Python 3 (ipykernel)",
   "language": "python",
   "name": "python3"
  },
  "language_info": {
   "codemirror_mode": {
    "name": "ipython",
    "version": 3
   },
   "file_extension": ".py",
   "mimetype": "text/x-python",
   "name": "python",
   "nbconvert_exporter": "python",
   "pygments_lexer": "ipython3",
   "version": "3.8.10"
  },
  "latex_envs": {
   "LaTeX_envs_menu_present": true,
   "autoclose": false,
   "autocomplete": true,
   "bibliofile": "biblio.bib",
   "cite_by": "apalike",
   "current_citInitial": 1,
   "eqLabelWithNumbers": true,
   "eqNumInitial": 1,
   "hotkeys": {
    "equation": "Ctrl-E",
    "itemize": "Ctrl-I"
   },
   "labels_anchors": false,
   "latex_user_defs": false,
   "report_style_numbering": false,
   "user_envs_cfg": false
  },
  "varInspector": {
   "cols": {
    "lenName": 16,
    "lenType": 16,
    "lenVar": 40
   },
   "kernels_config": {
    "python": {
     "delete_cmd_postfix": "",
     "delete_cmd_prefix": "del ",
     "library": "var_list.py",
     "varRefreshCmd": "print(var_dic_list())"
    },
    "r": {
     "delete_cmd_postfix": ") ",
     "delete_cmd_prefix": "rm(",
     "library": "var_list.r",
     "varRefreshCmd": "cat(var_dic_list()) "
    }
   },
   "types_to_exclude": [
    "module",
    "function",
    "builtin_function_or_method",
    "instance",
    "_Feature"
   ],
   "window_display": false
  }
 },
 "nbformat": 4,
 "nbformat_minor": 1
}