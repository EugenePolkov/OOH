{
 "cells": [
  {
   "cell_type": "code",
   "execution_count": 1,
   "metadata": {},
   "outputs": [],
   "source": [
    "# импорт основных библиотек\n",
    "import pandas as pd\n",
    "import numpy as np\n",
    "import matplotlib\n",
    "from matplotlib import pyplot as plt\n",
    "from sklearn import model_selection, metrics, compose, ensemble, preprocessing,  linear_model, svm, neighbors\n",
    "import xgboost as xgb\n",
    "import seaborn as sns\n",
    "import scipy as sc\n",
    "plt.style.use('ggplot')  # стиль для графиков"
   ]
  },
  {
   "cell_type": "markdown",
   "metadata": {},
   "source": [
    "# Обзор датасета"
   ]
  },
  {
   "cell_type": "code",
   "execution_count": 4,
   "metadata": {
    "pycharm": {
     "is_executing": true
    }
   },
   "outputs": [
    {
     "data": {
      "text/html": [
       "<div>\n",
       "<style scoped>\n",
       "    .dataframe tbody tr th:only-of-type {\n",
       "        vertical-align: middle;\n",
       "    }\n",
       "\n",
       "    .dataframe tbody tr th {\n",
       "        vertical-align: top;\n",
       "    }\n",
       "\n",
       "    .dataframe thead th {\n",
       "        text-align: right;\n",
       "    }\n",
       "</style>\n",
       "<table border=\"1\" class=\"dataframe\">\n",
       "  <thead>\n",
       "    <tr style=\"text-align: right;\">\n",
       "      <th></th>\n",
       "      <th>PriceNoTax</th>\n",
       "      <th>YearNum</th>\n",
       "      <th>Month_ID</th>\n",
       "      <th>BrandR1</th>\n",
       "      <th>SeazonClass</th>\n",
       "      <th>ConstrGroup</th>\n",
       "      <th>ExpositionType</th>\n",
       "      <th>CityType</th>\n",
       "      <th>OperatorR1</th>\n",
       "      <th>OperatorR2</th>\n",
       "      <th>BudgetClass</th>\n",
       "      <th>GRP</th>\n",
       "      <th>Latitude</th>\n",
       "      <th>Longitude</th>\n",
       "      <th>Population</th>\n",
       "      <th>Seller_Cat</th>\n",
       "      <th>Dis</th>\n",
       "    </tr>\n",
       "  </thead>\n",
       "  <tbody>\n",
       "    <tr>\n",
       "      <th>0</th>\n",
       "      <td>17000.0</td>\n",
       "      <td>3</td>\n",
       "      <td>2</td>\n",
       "      <td>1.0</td>\n",
       "      <td>1</td>\n",
       "      <td>2</td>\n",
       "      <td>0</td>\n",
       "      <td>2</td>\n",
       "      <td>0</td>\n",
       "      <td>1</td>\n",
       "      <td>3</td>\n",
       "      <td>6.105542</td>\n",
       "      <td>55.457919</td>\n",
       "      <td>65.335799</td>\n",
       "      <td>312364.0</td>\n",
       "      <td>224</td>\n",
       "      <td>0.973449</td>\n",
       "    </tr>\n",
       "    <tr>\n",
       "      <th>1</th>\n",
       "      <td>17000.0</td>\n",
       "      <td>3</td>\n",
       "      <td>4</td>\n",
       "      <td>1.0</td>\n",
       "      <td>1</td>\n",
       "      <td>2</td>\n",
       "      <td>0</td>\n",
       "      <td>2</td>\n",
       "      <td>0</td>\n",
       "      <td>1</td>\n",
       "      <td>2</td>\n",
       "      <td>6.105542</td>\n",
       "      <td>55.457919</td>\n",
       "      <td>65.335799</td>\n",
       "      <td>312364.0</td>\n",
       "      <td>224</td>\n",
       "      <td>1.006239</td>\n",
       "    </tr>\n",
       "    <tr>\n",
       "      <th>2</th>\n",
       "      <td>21000.0</td>\n",
       "      <td>1</td>\n",
       "      <td>1</td>\n",
       "      <td>3.0</td>\n",
       "      <td>0</td>\n",
       "      <td>1</td>\n",
       "      <td>1</td>\n",
       "      <td>4</td>\n",
       "      <td>0</td>\n",
       "      <td>2</td>\n",
       "      <td>3</td>\n",
       "      <td>8.170000</td>\n",
       "      <td>55.159627</td>\n",
       "      <td>61.381623</td>\n",
       "      <td>1196680.0</td>\n",
       "      <td>268</td>\n",
       "      <td>1.136000</td>\n",
       "    </tr>\n",
       "    <tr>\n",
       "      <th>3</th>\n",
       "      <td>27000.0</td>\n",
       "      <td>3</td>\n",
       "      <td>4</td>\n",
       "      <td>1.0</td>\n",
       "      <td>1</td>\n",
       "      <td>2</td>\n",
       "      <td>0</td>\n",
       "      <td>2</td>\n",
       "      <td>0</td>\n",
       "      <td>1</td>\n",
       "      <td>2</td>\n",
       "      <td>3.750000</td>\n",
       "      <td>54.563482</td>\n",
       "      <td>36.298974</td>\n",
       "      <td>332039.0</td>\n",
       "      <td>209</td>\n",
       "      <td>1.131999</td>\n",
       "    </tr>\n",
       "    <tr>\n",
       "      <th>4</th>\n",
       "      <td>25000.0</td>\n",
       "      <td>2</td>\n",
       "      <td>8</td>\n",
       "      <td>1.0</td>\n",
       "      <td>1</td>\n",
       "      <td>2</td>\n",
       "      <td>1</td>\n",
       "      <td>4</td>\n",
       "      <td>2</td>\n",
       "      <td>4</td>\n",
       "      <td>3</td>\n",
       "      <td>2.303154</td>\n",
       "      <td>56.791160</td>\n",
       "      <td>60.572966</td>\n",
       "      <td>1493749.0</td>\n",
       "      <td>115</td>\n",
       "      <td>0.999160</td>\n",
       "    </tr>\n",
       "    <tr>\n",
       "      <th>...</th>\n",
       "      <td>...</td>\n",
       "      <td>...</td>\n",
       "      <td>...</td>\n",
       "      <td>...</td>\n",
       "      <td>...</td>\n",
       "      <td>...</td>\n",
       "      <td>...</td>\n",
       "      <td>...</td>\n",
       "      <td>...</td>\n",
       "      <td>...</td>\n",
       "      <td>...</td>\n",
       "      <td>...</td>\n",
       "      <td>...</td>\n",
       "      <td>...</td>\n",
       "      <td>...</td>\n",
       "      <td>...</td>\n",
       "      <td>...</td>\n",
       "    </tr>\n",
       "    <tr>\n",
       "      <th>13761</th>\n",
       "      <td>24000.0</td>\n",
       "      <td>1</td>\n",
       "      <td>9</td>\n",
       "      <td>1.0</td>\n",
       "      <td>2</td>\n",
       "      <td>2</td>\n",
       "      <td>0</td>\n",
       "      <td>3</td>\n",
       "      <td>2</td>\n",
       "      <td>3</td>\n",
       "      <td>1</td>\n",
       "      <td>3.290000</td>\n",
       "      <td>57.152781</td>\n",
       "      <td>65.620878</td>\n",
       "      <td>807271.0</td>\n",
       "      <td>120</td>\n",
       "      <td>1.098612</td>\n",
       "    </tr>\n",
       "    <tr>\n",
       "      <th>13762</th>\n",
       "      <td>18250.0</td>\n",
       "      <td>2</td>\n",
       "      <td>8</td>\n",
       "      <td>1.0</td>\n",
       "      <td>1</td>\n",
       "      <td>2</td>\n",
       "      <td>0</td>\n",
       "      <td>4</td>\n",
       "      <td>2</td>\n",
       "      <td>2</td>\n",
       "      <td>3</td>\n",
       "      <td>2.037000</td>\n",
       "      <td>57.992740</td>\n",
       "      <td>56.180762</td>\n",
       "      <td>1055397.0</td>\n",
       "      <td>222</td>\n",
       "      <td>0.996210</td>\n",
       "    </tr>\n",
       "    <tr>\n",
       "      <th>13763</th>\n",
       "      <td>10000.0</td>\n",
       "      <td>3</td>\n",
       "      <td>3</td>\n",
       "      <td>0.0</td>\n",
       "      <td>1</td>\n",
       "      <td>0</td>\n",
       "      <td>2</td>\n",
       "      <td>3</td>\n",
       "      <td>0</td>\n",
       "      <td>2</td>\n",
       "      <td>1</td>\n",
       "      <td>7.980000</td>\n",
       "      <td>57.143039</td>\n",
       "      <td>65.586761</td>\n",
       "      <td>807271.0</td>\n",
       "      <td>112</td>\n",
       "      <td>1.115142</td>\n",
       "    </tr>\n",
       "    <tr>\n",
       "      <th>13764</th>\n",
       "      <td>28000.0</td>\n",
       "      <td>2</td>\n",
       "      <td>8</td>\n",
       "      <td>1.0</td>\n",
       "      <td>1</td>\n",
       "      <td>2</td>\n",
       "      <td>0</td>\n",
       "      <td>4</td>\n",
       "      <td>0</td>\n",
       "      <td>1</td>\n",
       "      <td>3</td>\n",
       "      <td>2.434286</td>\n",
       "      <td>56.804553</td>\n",
       "      <td>60.650616</td>\n",
       "      <td>1493749.0</td>\n",
       "      <td>208</td>\n",
       "      <td>1.029619</td>\n",
       "    </tr>\n",
       "    <tr>\n",
       "      <th>13765</th>\n",
       "      <td>25000.0</td>\n",
       "      <td>3</td>\n",
       "      <td>4</td>\n",
       "      <td>1.0</td>\n",
       "      <td>1</td>\n",
       "      <td>2</td>\n",
       "      <td>1</td>\n",
       "      <td>3</td>\n",
       "      <td>0</td>\n",
       "      <td>2</td>\n",
       "      <td>4</td>\n",
       "      <td>2.680000</td>\n",
       "      <td>57.171879</td>\n",
       "      <td>65.554454</td>\n",
       "      <td>807271.0</td>\n",
       "      <td>141</td>\n",
       "      <td>1.144223</td>\n",
       "    </tr>\n",
       "  </tbody>\n",
       "</table>\n",
       "<p>13766 rows × 17 columns</p>\n",
       "</div>"
      ],
      "text/plain": [
       "       PriceNoTax  YearNum  Month_ID  BrandR1  SeazonClass  ConstrGroup  \\\n",
       "0         17000.0        3         2      1.0            1            2   \n",
       "1         17000.0        3         4      1.0            1            2   \n",
       "2         21000.0        1         1      3.0            0            1   \n",
       "3         27000.0        3         4      1.0            1            2   \n",
       "4         25000.0        2         8      1.0            1            2   \n",
       "...           ...      ...       ...      ...          ...          ...   \n",
       "13761     24000.0        1         9      1.0            2            2   \n",
       "13762     18250.0        2         8      1.0            1            2   \n",
       "13763     10000.0        3         3      0.0            1            0   \n",
       "13764     28000.0        2         8      1.0            1            2   \n",
       "13765     25000.0        3         4      1.0            1            2   \n",
       "\n",
       "       ExpositionType  CityType  OperatorR1  OperatorR2  BudgetClass  \\\n",
       "0                   0         2           0           1            3   \n",
       "1                   0         2           0           1            2   \n",
       "2                   1         4           0           2            3   \n",
       "3                   0         2           0           1            2   \n",
       "4                   1         4           2           4            3   \n",
       "...               ...       ...         ...         ...          ...   \n",
       "13761               0         3           2           3            1   \n",
       "13762               0         4           2           2            3   \n",
       "13763               2         3           0           2            1   \n",
       "13764               0         4           0           1            3   \n",
       "13765               1         3           0           2            4   \n",
       "\n",
       "            GRP   Latitude  Longitude  Population  Seller_Cat       Dis  \n",
       "0      6.105542  55.457919  65.335799    312364.0         224  0.973449  \n",
       "1      6.105542  55.457919  65.335799    312364.0         224  1.006239  \n",
       "2      8.170000  55.159627  61.381623   1196680.0         268  1.136000  \n",
       "3      3.750000  54.563482  36.298974    332039.0         209  1.131999  \n",
       "4      2.303154  56.791160  60.572966   1493749.0         115  0.999160  \n",
       "...         ...        ...        ...         ...         ...       ...  \n",
       "13761  3.290000  57.152781  65.620878    807271.0         120  1.098612  \n",
       "13762  2.037000  57.992740  56.180762   1055397.0         222  0.996210  \n",
       "13763  7.980000  57.143039  65.586761    807271.0         112  1.115142  \n",
       "13764  2.434286  56.804553  60.650616   1493749.0         208  1.029619  \n",
       "13765  2.680000  57.171879  65.554454    807271.0         141  1.144223  \n",
       "\n",
       "[13766 rows x 17 columns]"
      ]
     },
     "execution_count": 4,
     "metadata": {},
     "output_type": "execute_result"
    }
   ],
   "source": [
    "# подгружаем данные\n",
    "data=pd.read_csv('./src/data.csv')\n",
    "data"
   ]
  },
  {
   "cell_type": "markdown",
   "metadata": {},
   "source": [
    "**Описание полей**\n",
    "- **PriceNoTax**: прайсовая цена конструкции\n",
    "- **YearNum**: код года размещения\n",
    "- **Month_ID**: код месяца размещения\n",
    "- **BrandR1**: Категория бренда клиента:\n",
    " * 0: Глобальный\n",
    " * 1: Федеральный\n",
    " * 2: Региональный\n",
    " * 3: Локальный\n",
    "- **SeazonClass**: \n",
    " * 0: Низкий (январь, февраль, июнь, июль)\n",
    " * 1: Средний (март, апрель, май, август, сентябрь)\n",
    " * 2: Высокий (октябрь, ноябрь, декабрь)\n",
    "- **ConstrGroup**: площадь конструкции:\n",
    " * 0: до 5 кв.м\n",
    " * 1: 5-15 кв.м\n",
    " * 2: 15-20 кв.м\n",
    " * 3: 20-100 кв.м\n",
    " * 4:более 100 кв.м\n",
    "- **ExpositionType**: Тип конструкции\n",
    " * 0: Статика\n",
    " * 1: Тривижн\n",
    " * 2: Скроллер\n",
    " * 3: Диджитал\n",
    "- **CityType**: Категория города размещения, в зависимости от населения\n",
    " * 0: более 4млн\n",
    " * 1: от 990 тыс\n",
    " * 2: от 440 тыс\n",
    " * 3: от 90 тыс\n",
    " * 4: от 45 тыс\n",
    " * 5: менее 45 тыс\n",
    "- **OperatorR1**: география присутствия селлера\n",
    " * 0: Локальный\n",
    " * 1: Региональный\n",
    " * 2: Федеральный\n",
    "- **OperatorR2**: масштаб селлера - количество конструкции в собственности\n",
    " * 0: до 100 конструкций\n",
    " * 1: 100-900 констр\n",
    " * 2: 900-4900 констр\n",
    " * 3: 4900 - 9900 констр\n",
    " * 4: более 9900 констр\n",
    "- **Budget**: категория клиента в зависимости от  размеру рекламного бюджета\n",
    "- **Latitude**: координаты конструкции (широта)\n",
    "- **Longitude**: координаты конструкции (долгота)\n",
    "- **Population**: население города размещения \n",
    "- **Seller_Cat**: закодированный селлер конструкции (мелкие селлеры объединены в одну группу 275) \n",
    "- **Dis**: целевая переменная: размер дисконта/надбавки к прайсовой цене"
   ]
  },
  {
   "cell_type": "markdown",
   "metadata": {},
   "source": [
    "**Пару слов о препроцессинге**\n",
    "\n",
    "Перед выгрузкой датасет был предварительно обработан, препроцесинг включал в себя:\n",
    "- удаление дубликатов\n",
    "- сброс NaN\n",
    "- удаление выбросов: убрано порядка 1% записей, лежащих вне интервала [квантиль 0.25 - 1.5$*$IQR ; квантиль 0.75 + 1.5$*$IQR]\n",
    "- обработка конфиденциальных данных: бюджеты клиентов и селлеры были закодированы, целевая переменная прошла трансформацию: сдвиг + мат. функция\n"
   ]
  },
  {
   "cell_type": "markdown",
   "metadata": {},
   "source": [
    "# EDA"
   ]
  },
  {
   "cell_type": "markdown",
   "metadata": {},
   "source": [
    "для предварительного анализа данных воспользуется таким прекрасным инструментом как pandas-profiling "
   ]
  },
  {
   "cell_type": "code",
   "execution_count": null,
   "metadata": {},
   "outputs": [],
   "source": [
    "# установка версии 3.5.0 (последняя на момент написания)\n",
    "#!pip install pandas-profiling==3.5.0"
   ]
  },
  {
   "cell_type": "code",
   "execution_count": 8,
   "metadata": {},
   "outputs": [],
   "source": [
    "import pandas_profiling"
   ]
  },
  {
   "cell_type": "code",
   "execution_count": null,
   "metadata": {},
   "outputs": [
    {
     "data": {
      "application/json": {
       "ascii": false,
       "bar_format": null,
       "colour": null,
       "elapsed": 0.034002065658569336,
       "initial": 0,
       "n": 0,
       "ncols": null,
       "nrows": null,
       "postfix": null,
       "prefix": "Summarize dataset",
       "rate": null,
       "total": 5,
       "unit": "it",
       "unit_divisor": 1000,
       "unit_scale": false
      },
      "application/vnd.jupyter.widget-view+json": {
       "model_id": "",
       "version_major": 2,
       "version_minor": 0
      },
      "text/plain": [
       "Summarize dataset:   0%|          | 0/5 [00:00<?, ?it/s]"
      ]
     },
     "metadata": {},
     "output_type": "display_data"
    }
   ],
   "source": [
    "import pandas_profiling\n",
    "# формируем отчет (требователен к ресурсам, может выбросить ошибку, тогда можно сразу перейти к выводам)\n",
    "profile = pandas_profiling.ProfileReport(data)\n",
    "profile.to_notebook_iframe()"
   ]
  },
  {
   "cell_type": "markdown",
   "metadata": {},
   "source": [
    "Главное, что можно отметить в отчете:\n",
    "- большинство переменных категориальные, понадобится кодировка\n",
    "- если смотреть на корреляцию признаков, то кроме очевидных корреляций, вроде сезонности с номером месяца или прайсовой цены с размером конструкции, с которыми особо ничего не сделать, есть сильная корреляция между признаками **OperatorR1** и **OperatorR2**, а также между признаками **CityType** и **Population**. Для первого запуска модели оставим все как есть, но отбор признаков начнем с этой четверки.\n",
    "- распределения признаков GRP и PriceNoTax, являются степенными, имеют длинные хвосты, распределение признака Population также имеет тяжелый хвост с небольшим пиком в самом конце, целесообразно прологарифмирвать эти признаки, чтобы сгладить распределение"
   ]
  },
  {
   "cell_type": "markdown",
   "metadata": {},
   "source": [
    "Категориальные признаки разбиваются на 3 группы:\n",
    "- номинальные (**Month_ID**, **YearNum**, **ExpositionType**) их кодируем с помощью OneHotEncoding\n",
    "- high-cardinality - с большим количеством уников (**Seller_Cat**), его закодируем с помощью LeaveOneOut\n",
    "- ordinal (порядковые) все остальные (столбцы с 4 по 11 включительно за минусом **ExpositionType**), их оставим как есть, они уже закодированы порядковыми номерам"
   ]
  },
  {
   "cell_type": "markdown",
   "metadata": {},
   "source": [
    "# Подготовка данных"
   ]
  },
  {
   "cell_type": "code",
   "execution_count": 13,
   "metadata": {},
   "outputs": [],
   "source": [
    "# перемешиваем датасет\n",
    "data =data.sample (frac=1 )"
   ]
  },
  {
   "cell_type": "code",
   "execution_count": 14,
   "metadata": {},
   "outputs": [],
   "source": [
    "# разделим датасет на признаки и target\n",
    "y= data.loc[:,'Dis']\n",
    "X= data.drop ('Dis' , axis=1)"
   ]
  },
  {
   "cell_type": "code",
   "execution_count": 15,
   "metadata": {},
   "outputs": [],
   "source": [
    "# для кодирования используем библиотеку category_encoders\n",
    "#!pip install category_encoders\n",
    "from category_encoders.one_hot import OneHotEncoder\n",
    "from category_encoders.count import CountEncoder\n",
    "\n",
    "ohe = OneHotEncoder (cols=['YearNum' , 'Month_ID' , 'ExpositionType'], use_cat_names=True)\n",
    "X = ohe.fit_transform(X)\n",
    "\n",
    "# используем частотное кодирование для категории Seller_Cat\n",
    "coe = CountEncoder (cols=['Seller_Cat'] )\n",
    "X = coe.fit_transform(X ,y)"
   ]
  },
  {
   "cell_type": "code",
   "execution_count": 16,
   "metadata": {},
   "outputs": [],
   "source": [
    "# Логарифмирование: определяем функцию трансформации - log(1+x) - и перезаписываем соответствующие столбцы датафрейма\n",
    "tr = preprocessing.FunctionTransformer(np.log1p, validate=True)\n",
    "col_tr = compose.make_column_transformer ((tr , ['PriceNoTax' , 'GRP' , 'Population']) )\n",
    "X[['PriceNoTax' , 'GRP' , 'Population']] = col_tr.fit_transform(X)"
   ]
  },
  {
   "cell_type": "code",
   "execution_count": 22,
   "metadata": {},
   "outputs": [
    {
     "data": {
      "text/html": [
       "<div>\n",
       "<style scoped>\n",
       "    .dataframe tbody tr th:only-of-type {\n",
       "        vertical-align: middle;\n",
       "    }\n",
       "\n",
       "    .dataframe tbody tr th {\n",
       "        vertical-align: top;\n",
       "    }\n",
       "\n",
       "    .dataframe thead th {\n",
       "        text-align: right;\n",
       "    }\n",
       "</style>\n",
       "<table border=\"1\" class=\"dataframe\">\n",
       "  <thead>\n",
       "    <tr style=\"text-align: right;\">\n",
       "      <th></th>\n",
       "      <th>PriceNoTax</th>\n",
       "      <th>YearNum_1.0</th>\n",
       "      <th>YearNum_2.0</th>\n",
       "      <th>YearNum_3.0</th>\n",
       "      <th>Month_ID_9.0</th>\n",
       "      <th>Month_ID_6.0</th>\n",
       "      <th>Month_ID_1.0</th>\n",
       "      <th>Month_ID_11.0</th>\n",
       "      <th>Month_ID_5.0</th>\n",
       "      <th>Month_ID_3.0</th>\n",
       "      <th>...</th>\n",
       "      <th>ExpositionType_3.0</th>\n",
       "      <th>CityType</th>\n",
       "      <th>OperatorR1</th>\n",
       "      <th>OperatorR2</th>\n",
       "      <th>BudgetClass</th>\n",
       "      <th>GRP</th>\n",
       "      <th>Latitude</th>\n",
       "      <th>Longitude</th>\n",
       "      <th>Population</th>\n",
       "      <th>Seller_Cat</th>\n",
       "    </tr>\n",
       "  </thead>\n",
       "  <tbody>\n",
       "    <tr>\n",
       "      <th>count</th>\n",
       "      <td>13766.000000</td>\n",
       "      <td>13766.000000</td>\n",
       "      <td>13766.000000</td>\n",
       "      <td>13766.000000</td>\n",
       "      <td>13766.000000</td>\n",
       "      <td>13766.000000</td>\n",
       "      <td>13766.000000</td>\n",
       "      <td>13766.000000</td>\n",
       "      <td>13766.000000</td>\n",
       "      <td>13766.000000</td>\n",
       "      <td>...</td>\n",
       "      <td>13766.000000</td>\n",
       "      <td>13766.000000</td>\n",
       "      <td>13766.000000</td>\n",
       "      <td>13766.000000</td>\n",
       "      <td>13766.000000</td>\n",
       "      <td>13766.000000</td>\n",
       "      <td>13766.000000</td>\n",
       "      <td>13766.000000</td>\n",
       "      <td>13766.000000</td>\n",
       "      <td>13766.000000</td>\n",
       "    </tr>\n",
       "    <tr>\n",
       "      <th>mean</th>\n",
       "      <td>9.896364</td>\n",
       "      <td>0.572715</td>\n",
       "      <td>0.271466</td>\n",
       "      <td>0.155819</td>\n",
       "      <td>0.086154</td>\n",
       "      <td>0.076493</td>\n",
       "      <td>0.107148</td>\n",
       "      <td>0.091748</td>\n",
       "      <td>0.063853</td>\n",
       "      <td>0.084120</td>\n",
       "      <td>...</td>\n",
       "      <td>0.002325</td>\n",
       "      <td>3.042133</td>\n",
       "      <td>0.464550</td>\n",
       "      <td>1.829217</td>\n",
       "      <td>3.371713</td>\n",
       "      <td>1.613245</td>\n",
       "      <td>55.287535</td>\n",
       "      <td>60.811144</td>\n",
       "      <td>13.296133</td>\n",
       "      <td>513.143978</td>\n",
       "    </tr>\n",
       "    <tr>\n",
       "      <th>std</th>\n",
       "      <td>0.630720</td>\n",
       "      <td>0.494702</td>\n",
       "      <td>0.444732</td>\n",
       "      <td>0.362697</td>\n",
       "      <td>0.280602</td>\n",
       "      <td>0.265795</td>\n",
       "      <td>0.309313</td>\n",
       "      <td>0.288680</td>\n",
       "      <td>0.244500</td>\n",
       "      <td>0.277578</td>\n",
       "      <td>...</td>\n",
       "      <td>0.048159</td>\n",
       "      <td>1.068370</td>\n",
       "      <td>0.831377</td>\n",
       "      <td>1.087775</td>\n",
       "      <td>1.575211</td>\n",
       "      <td>0.660219</td>\n",
       "      <td>3.744605</td>\n",
       "      <td>18.236020</td>\n",
       "      <td>1.079244</td>\n",
       "      <td>551.178932</td>\n",
       "    </tr>\n",
       "    <tr>\n",
       "      <th>min</th>\n",
       "      <td>6.216606</td>\n",
       "      <td>0.000000</td>\n",
       "      <td>0.000000</td>\n",
       "      <td>0.000000</td>\n",
       "      <td>0.000000</td>\n",
       "      <td>0.000000</td>\n",
       "      <td>0.000000</td>\n",
       "      <td>0.000000</td>\n",
       "      <td>0.000000</td>\n",
       "      <td>0.000000</td>\n",
       "      <td>...</td>\n",
       "      <td>0.000000</td>\n",
       "      <td>0.000000</td>\n",
       "      <td>0.000000</td>\n",
       "      <td>0.000000</td>\n",
       "      <td>0.000000</td>\n",
       "      <td>0.000000</td>\n",
       "      <td>42.778389</td>\n",
       "      <td>19.961108</td>\n",
       "      <td>8.989070</td>\n",
       "      <td>1.000000</td>\n",
       "    </tr>\n",
       "    <tr>\n",
       "      <th>25%</th>\n",
       "      <td>9.510519</td>\n",
       "      <td>0.000000</td>\n",
       "      <td>0.000000</td>\n",
       "      <td>0.000000</td>\n",
       "      <td>0.000000</td>\n",
       "      <td>0.000000</td>\n",
       "      <td>0.000000</td>\n",
       "      <td>0.000000</td>\n",
       "      <td>0.000000</td>\n",
       "      <td>0.000000</td>\n",
       "      <td>...</td>\n",
       "      <td>0.000000</td>\n",
       "      <td>2.000000</td>\n",
       "      <td>0.000000</td>\n",
       "      <td>1.000000</td>\n",
       "      <td>2.000000</td>\n",
       "      <td>1.147402</td>\n",
       "      <td>54.728158</td>\n",
       "      <td>50.210082</td>\n",
       "      <td>12.849591</td>\n",
       "      <td>106.000000</td>\n",
       "    </tr>\n",
       "    <tr>\n",
       "      <th>50%</th>\n",
       "      <td>9.947552</td>\n",
       "      <td>1.000000</td>\n",
       "      <td>0.000000</td>\n",
       "      <td>0.000000</td>\n",
       "      <td>0.000000</td>\n",
       "      <td>0.000000</td>\n",
       "      <td>0.000000</td>\n",
       "      <td>0.000000</td>\n",
       "      <td>0.000000</td>\n",
       "      <td>0.000000</td>\n",
       "      <td>...</td>\n",
       "      <td>0.000000</td>\n",
       "      <td>3.000000</td>\n",
       "      <td>0.000000</td>\n",
       "      <td>2.000000</td>\n",
       "      <td>3.000000</td>\n",
       "      <td>1.646245</td>\n",
       "      <td>55.726300</td>\n",
       "      <td>60.576386</td>\n",
       "      <td>13.357265</td>\n",
       "      <td>284.000000</td>\n",
       "    </tr>\n",
       "    <tr>\n",
       "      <th>75%</th>\n",
       "      <td>10.275086</td>\n",
       "      <td>1.000000</td>\n",
       "      <td>1.000000</td>\n",
       "      <td>0.000000</td>\n",
       "      <td>0.000000</td>\n",
       "      <td>0.000000</td>\n",
       "      <td>0.000000</td>\n",
       "      <td>0.000000</td>\n",
       "      <td>0.000000</td>\n",
       "      <td>0.000000</td>\n",
       "      <td>...</td>\n",
       "      <td>0.000000</td>\n",
       "      <td>4.000000</td>\n",
       "      <td>0.000000</td>\n",
       "      <td>2.000000</td>\n",
       "      <td>5.000000</td>\n",
       "      <td>1.950187</td>\n",
       "      <td>56.852554</td>\n",
       "      <td>65.578962</td>\n",
       "      <td>13.995062</td>\n",
       "      <td>764.000000</td>\n",
       "    </tr>\n",
       "    <tr>\n",
       "      <th>max</th>\n",
       "      <td>13.910822</td>\n",
       "      <td>1.000000</td>\n",
       "      <td>1.000000</td>\n",
       "      <td>1.000000</td>\n",
       "      <td>1.000000</td>\n",
       "      <td>1.000000</td>\n",
       "      <td>1.000000</td>\n",
       "      <td>1.000000</td>\n",
       "      <td>1.000000</td>\n",
       "      <td>1.000000</td>\n",
       "      <td>...</td>\n",
       "      <td>1.000000</td>\n",
       "      <td>5.000000</td>\n",
       "      <td>2.000000</td>\n",
       "      <td>4.000000</td>\n",
       "      <td>5.000000</td>\n",
       "      <td>4.779208</td>\n",
       "      <td>69.359311</td>\n",
       "      <td>158.654575</td>\n",
       "      <td>16.350419</td>\n",
       "      <td>1782.000000</td>\n",
       "    </tr>\n",
       "  </tbody>\n",
       "</table>\n",
       "<p>8 rows × 32 columns</p>\n",
       "</div>"
      ],
      "text/plain": [
       "         PriceNoTax   YearNum_1.0   YearNum_2.0   YearNum_3.0  Month_ID_9.0  \\\n",
       "count  13766.000000  13766.000000  13766.000000  13766.000000  13766.000000   \n",
       "mean       9.896364      0.572715      0.271466      0.155819      0.086154   \n",
       "std        0.630720      0.494702      0.444732      0.362697      0.280602   \n",
       "min        6.216606      0.000000      0.000000      0.000000      0.000000   \n",
       "25%        9.510519      0.000000      0.000000      0.000000      0.000000   \n",
       "50%        9.947552      1.000000      0.000000      0.000000      0.000000   \n",
       "75%       10.275086      1.000000      1.000000      0.000000      0.000000   \n",
       "max       13.910822      1.000000      1.000000      1.000000      1.000000   \n",
       "\n",
       "       Month_ID_6.0  Month_ID_1.0  Month_ID_11.0  Month_ID_5.0  Month_ID_3.0  \\\n",
       "count  13766.000000  13766.000000   13766.000000  13766.000000  13766.000000   \n",
       "mean       0.076493      0.107148       0.091748      0.063853      0.084120   \n",
       "std        0.265795      0.309313       0.288680      0.244500      0.277578   \n",
       "min        0.000000      0.000000       0.000000      0.000000      0.000000   \n",
       "25%        0.000000      0.000000       0.000000      0.000000      0.000000   \n",
       "50%        0.000000      0.000000       0.000000      0.000000      0.000000   \n",
       "75%        0.000000      0.000000       0.000000      0.000000      0.000000   \n",
       "max        1.000000      1.000000       1.000000      1.000000      1.000000   \n",
       "\n",
       "       ...  ExpositionType_3.0      CityType    OperatorR1    OperatorR2  \\\n",
       "count  ...        13766.000000  13766.000000  13766.000000  13766.000000   \n",
       "mean   ...            0.002325      3.042133      0.464550      1.829217   \n",
       "std    ...            0.048159      1.068370      0.831377      1.087775   \n",
       "min    ...            0.000000      0.000000      0.000000      0.000000   \n",
       "25%    ...            0.000000      2.000000      0.000000      1.000000   \n",
       "50%    ...            0.000000      3.000000      0.000000      2.000000   \n",
       "75%    ...            0.000000      4.000000      0.000000      2.000000   \n",
       "max    ...            1.000000      5.000000      2.000000      4.000000   \n",
       "\n",
       "        BudgetClass           GRP      Latitude     Longitude    Population  \\\n",
       "count  13766.000000  13766.000000  13766.000000  13766.000000  13766.000000   \n",
       "mean       3.371713      1.613245     55.287535     60.811144     13.296133   \n",
       "std        1.575211      0.660219      3.744605     18.236020      1.079244   \n",
       "min        0.000000      0.000000     42.778389     19.961108      8.989070   \n",
       "25%        2.000000      1.147402     54.728158     50.210082     12.849591   \n",
       "50%        3.000000      1.646245     55.726300     60.576386     13.357265   \n",
       "75%        5.000000      1.950187     56.852554     65.578962     13.995062   \n",
       "max        5.000000      4.779208     69.359311    158.654575     16.350419   \n",
       "\n",
       "         Seller_Cat  \n",
       "count  13766.000000  \n",
       "mean     513.143978  \n",
       "std      551.178932  \n",
       "min        1.000000  \n",
       "25%      106.000000  \n",
       "50%      284.000000  \n",
       "75%      764.000000  \n",
       "max     1782.000000  \n",
       "\n",
       "[8 rows x 32 columns]"
      ]
     },
     "execution_count": 22,
     "metadata": {},
     "output_type": "execute_result"
    }
   ],
   "source": [
    "#проверяем как прошло кодирование и трансформация\n",
    "X.describe()"
   ]
  },
  {
   "cell_type": "markdown",
   "metadata": {},
   "source": [
    "# Тестирование моделей"
   ]
  },
  {
   "cell_type": "code",
   "execution_count": 23,
   "metadata": {},
   "outputs": [
    {
     "name": "stdout",
     "output_type": "stream",
     "text": [
      "RandomForest, R2 по фолдам  [0.89001917 0.8752196  0.87177171 0.87806893 0.89261617]\n",
      "RandomForest, R2 среднее = 0.882\n"
     ]
    }
   ],
   "source": [
    "# используем RandomForest в качестве baseline, получаем оценку R2 на кросс-валидации \n",
    "cvs_RF = model_selection.cross_val_score (ensemble.RandomForestRegressor (), X, y,  cv=5, scoring='r2')\n",
    "print ('RandomForest, R2 по фолдам ', cvs_RF)\n",
    "print (f'RandomForest, R2 среднее = {cvs_RF.mean():.3}')"
   ]
  },
  {
   "cell_type": "code",
   "execution_count": 24,
   "metadata": {},
   "outputs": [],
   "source": [
    "# определим функцию, которая будет оценивать пользовательскую метрику (доля предсказаний превышающих допустимый\n",
    "# интервал отклонения в 5 %)\n",
    "def custom_loss (y_true, y_pred):\n",
    "    diff=list(y_true-y_pred)\n",
    "    list_d = [x for x in diff if x <-0.05 or x > 0.05]\n",
    "    return len(list_d)/len(diff)*100\n",
    "# и скорер, который можно использовать в кросс-валидации и оптимизации\n",
    "custom_scorer = metrics.make_scorer(custom_loss, greater_is_better=False)"
   ]
  },
  {
   "cell_type": "code",
   "execution_count": 25,
   "metadata": {},
   "outputs": [
    {
     "name": "stdout",
     "output_type": "stream",
     "text": [
      "RandomForest, Custom_scor по фолдам  [5.33769063 5.44860153 5.15800944 5.37595351 4.79476934]\n",
      "RandomForest, Custom_scor, среднее =  5.22\n"
     ]
    }
   ],
   "source": [
    "# получим оценку custom-loss на кросс-валидации \n",
    "cvs_RFC = model_selection.cross_val_score (ensemble.RandomForestRegressor (), X, y,  cv=5, scoring=custom_scorer)\n",
    "print ('RandomForest, Custom_scor по фолдам ', np.negative (cvs_RFC) )\n",
    "print (f'RandomForest, Custom_scor, среднее =  {np.negative (cvs_RFC.mean()):.3}')"
   ]
  },
  {
   "cell_type": "markdown",
   "metadata": {},
   "source": [
    "Чуть-чуть не дотягивает до нужного порога, посмотрим в сторону других моделей"
   ]
  },
  {
   "cell_type": "code",
   "execution_count": 26,
   "metadata": {},
   "outputs": [
    {
     "name": "stdout",
     "output_type": "stream",
     "text": [
      "Xgboost, R2 по фолдам  [0.84528461 0.83736369 0.83491356 0.83819833 0.851123  ]\n",
      "Xgboost, R2 среднее = 0.841\n"
     ]
    }
   ],
   "source": [
    "# посмотрим насколько лучше отработает текущий стандарт ML обучения - xgboost\n",
    "cvs = model_selection.cross_val_score (xgb.XGBRegressor ( ), X, y,  cv=5, scoring='r2')\n",
    "print ('Xgboost, R2 по фолдам ', cvs)\n",
    "print (f'Xgboost, R2 среднее = {cvs.mean():.3}')"
   ]
  },
  {
   "cell_type": "markdown",
   "metadata": {},
   "source": [
    "R2 похуже, но это с дефолтными гиперпараметрами, пробуем подобрать параметры получше"
   ]
  },
  {
   "cell_type": "code",
   "execution_count": 27,
   "metadata": {},
   "outputs": [],
   "source": [
    "# фиксируем learning rate, перебираем количество итераций и глубину деревьев \n",
    "params = {'n_estimators' : [500, 750, 1000, 1250] ,    'max_depth' :[5, 8, 11, 14, 17] }\n",
    "gs= model_selection.GridSearchCV (xgb.XGBRegressor (learning_rate=0.03 ) , param_grid=params, scoring = 'r2' )"
   ]
  },
  {
   "cell_type": "code",
   "execution_count": 53,
   "metadata": {},
   "outputs": [],
   "source": [
    "#gs.fit (X, y)"
   ]
  },
  {
   "cell_type": "code",
   "execution_count": 54,
   "metadata": {},
   "outputs": [],
   "source": [
    "#gs.best_params_"
   ]
  },
  {
   "cell_type": "code",
   "execution_count": 28,
   "metadata": {},
   "outputs": [
    {
     "name": "stdout",
     "output_type": "stream",
     "text": [
      "Xgboost, R2 по фолдам  [0.9025651  0.88594433 0.88213574 0.88061359 0.90365231]\n",
      "Xgboost, R2 среднее = 0.891\n"
     ]
    }
   ],
   "source": [
    "# используем найденные параметры\n",
    "cvs_XB = model_selection.cross_val_score (xgb.XGBRegressor ( learning_rate=0.03, max_depth=11, n_estimators=1250, objective='reg:squarederror' ),\n",
    "                                       X, y,  cv=5, scoring='r2')\n",
    "print ('Xgboost, R2 по фолдам ', cvs_XB)\n",
    "print (f'Xgboost, R2 среднее = {cvs_XB.mean():.3}')"
   ]
  },
  {
   "cell_type": "code",
   "execution_count": 29,
   "metadata": {},
   "outputs": [
    {
     "name": "stdout",
     "output_type": "stream",
     "text": [
      "Xgboost, Custom_scor по фолдам  [4.46623094 4.79476934 4.68579731 5.41227752 4.24990919]\n",
      "Xgboost, Custom_scor, среднее =  4.72\n"
     ]
    }
   ],
   "source": [
    "# теперь custom-loss на кросс-валидации \n",
    "cvs_XBC = model_selection.cross_val_score (xgb.XGBRegressor ( learning_rate=0.03, max_depth=11, n_estimators=1250 , objective='reg:squarederror'),\n",
    "                                       X, y,  cv=5, scoring=custom_scorer)\n",
    "print ('Xgboost, Custom_scor по фолдам ', np.negative (cvs_XBC) )\n",
    "print (f'Xgboost, Custom_scor, среднее =  {np.negative (cvs_XBC.mean()):.3}')"
   ]
  },
  {
   "cell_type": "markdown",
   "metadata": {},
   "source": [
    "Результаты немного лучше, чем у RandomForest, даже удалось попасть в требуемый порог. Но это на первый взгляд, так как у нас есть результаты кросс-валидации модели RandomForest мы можем более строго оценить разницу, с точки зрения статистики\n"
   ]
  },
  {
   "cell_type": "code",
   "execution_count": 30,
   "metadata": {},
   "outputs": [
    {
     "data": {
      "text/plain": [
       "(-0.0033180304412768254, 0.022204232011159127)"
      ]
     },
     "execution_count": 30,
     "metadata": {},
     "output_type": "execute_result"
    }
   ],
   "source": [
    "# используем асимптотические доверительные интервалы для разницы средних, для оценки дисперсии используем несмещенную выборочную дисперсию\n",
    "# получим параметры нормального распредления разницы средних R2\n",
    "mu_hat = cvs_XB.mean() - cvs_RF.mean()\n",
    "sigma_hat = np.sqrt ((cvs_XB.var(ddof=1) + cvs_RF.var(ddof=1)) / cvs_XB.shape[0])\n",
    "#получим границы доверительного интервала для 95% вероятностной массы распределения среднего\n",
    "sc.stats.norm.interval (0.95, mu_hat, sigma_hat)"
   ]
  },
  {
   "cell_type": "code",
   "execution_count": 31,
   "metadata": {},
   "outputs": [
    {
     "data": {
      "text/plain": [
       "(0.052888721872029865, 0.9495273391966227)"
      ]
     },
     "execution_count": 31,
     "metadata": {},
     "output_type": "execute_result"
    }
   ],
   "source": [
    "# получим параметры нормального распредления разницы средних по Custom Loss\n",
    "mu_hat_с = cvs_XBC.mean() - cvs_RFC.mean()\n",
    "sigma_hat_с = np.sqrt ((cvs_XBC.var(ddof=1) + cvs_RFC.var(ddof=1)) /  cvs_XBC.shape[0])\n",
    "#получим границы доверительного интервала для 95% вероятностной массы распределения среднего\n",
    "sc.stats.norm.interval (0.95, mu_hat_с, sigma_hat_с)\n",
    "# разница между показателями R2 лежит на границе 95% уровня значимости, но с учетом результатов сравнения Custom loss метрики\n",
    "# с высокой долей вероятности можно утверждать, что разница между результатами XGBoost и RandomForest статистически значима"
   ]
  },
  {
   "cell_type": "markdown",
   "metadata": {},
   "source": [
    "Также по смыслу задачи должны хорошо сработать метрические модели, если поверхности расположены рядом, имеют похожий рейтинг и принадлежат одному и тому же селлеру, размер дисконта на них на них должен быть сопоставим"
   ]
  },
  {
   "cell_type": "code",
   "execution_count": 32,
   "metadata": {},
   "outputs": [
    {
     "name": "stdout",
     "output_type": "stream",
     "text": [
      "KNN, R2 по фолдам  [0.77844872 0.75259339 0.75011912 0.76303139 0.76084145]\n",
      "KNN, R2 среднее = 0.761\n"
     ]
    }
   ],
   "source": [
    "# тестим KNN с дефолтными параметрами \n",
    "cvs =model_selection.cross_val_score (neighbors.KNeighborsRegressor(), X, y,  cv=5, scoring='r2')\n",
    "print ('KNN, R2 по фолдам ', cvs)\n",
    "print (f'KNN, R2 среднее = {cvs.mean():.3}')"
   ]
  },
  {
   "cell_type": "code",
   "execution_count": 45,
   "metadata": {},
   "outputs": [
    {
     "name": "stdout",
     "output_type": "stream",
     "text": [
      "KNN, R2 по фолдам  [0.80747658 0.80096662 0.80243617 0.80741329 0.8150226 ]\n",
      "KNN, R2 среднее = 0.807\n"
     ]
    }
   ],
   "source": [
    "# снова используя GridSearch (за кадром) получаем оптимальные гиперпараметры\n",
    "kn =  neighbors.KNeighborsRegressor(6, p=1, weights='distance')\n",
    "cvs =model_selection.cross_val_score (kn, X, y,  cv=5, scoring='r2')\n",
    "print ('KNN, R2 по фолдам ', cvs)\n",
    "print (f'KNN, R2 среднее = {cvs.mean():.3}')"
   ]
  },
  {
   "cell_type": "markdown",
   "metadata": {},
   "source": [
    "Результат не дотягивает до RandomForest и Xgboost (строгую оценку можно не проводить, результат очевиден), но в дальнейшем эту модель можно попробовать использовать при стекинге.  \n",
    "Примечание: вообще данные для метрических алгоритмов рекомендуется нормировать, но в данном случае оценка **R2** ухудшается при нормировании, на мой взгляд, это происходит по двум причинам:\n",
    "- некоторые числовые признаки были предварительно прологарифмированы, соответственно, масштабировались до небольших значений \n",
    "- все признаки находятся примерно в одном масштабе, зак исключением признаков Seller_Cat и геокоординат, но они, по видимому, являются ключевыми для расчета прогноза, и немасштабированные данные содержат более точную информацию о расстоянии между объектами, поэтому масштабирование и ухудшает качество прогноза\n"
   ]
  },
  {
   "cell_type": "markdown",
   "metadata": {},
   "source": [
    "# Отбор признаков"
   ]
  },
  {
   "cell_type": "markdown",
   "metadata": {},
   "source": [
    "Взглянем на то, какие признаки дают больший вклад в прогноз, а какие, возможно, вносят только шум.  \n",
    "Вообще, изначально признаков в датасете очень немного и очень маловероятно, что потребуется какие-либо признаки исключать или проводить сокращения размерности признаков, но убедиться стоит"
   ]
  },
  {
   "cell_type": "code",
   "execution_count": null,
   "metadata": {},
   "outputs": [],
   "source": [
    "# воспользуемся атрибутом feature_importances_ эстиматора у ранее обученного объекта GridSearch\n",
    "#fi = pd.DataFrame (gs.best_estimator_.feature_importances_, columns=['Feature_importance'], index= X.columns.to_list()).sort_values('Feature_importance')\n",
    "#fi.plot.barh(figsize=(16,10))\n",
    "#plt.title ('Feature_importance, Xgboost ' );"
   ]
  },
  {
   "cell_type": "code",
   "execution_count": null,
   "metadata": {},
   "outputs": [],
   "source": [
    "# скрин результата"
   ]
  },
  {
   "cell_type": "markdown",
   "metadata": {},
   "source": [
    "<img src='./src/images/fi.png'>"
   ]
  },
  {
   "cell_type": "markdown",
   "metadata": {},
   "source": [
    "Откровенно лишних признаков нет, более того, признаки с сильной корреляцией, которые были отмечены в разделе EDA оказались в топе признаков. Тем не менее, оценим как изменяется дисперсия остатков регресии, при исключении того или иного признака."
   ]
  },
  {
   "cell_type": "code",
   "execution_count": 36,
   "metadata": {},
   "outputs": [],
   "source": [
    "# делим на трейн / тест\n",
    "X_train, X_test, y_train, y_test = model_selection.train_test_split ( X, y, train_size = 0.75 )"
   ]
  },
  {
   "cell_type": "code",
   "execution_count": 37,
   "metadata": {},
   "outputs": [
    {
     "data": {
      "text/plain": [
       "XGBRegressor(base_score=0.5, booster='gbtree', callbacks=None,\n",
       "             colsample_bylevel=1, colsample_bynode=1, colsample_bytree=1,\n",
       "             early_stopping_rounds=None, enable_categorical=False,\n",
       "             eval_metric=None, gamma=0, gpu_id=-1, grow_policy='depthwise',\n",
       "             importance_type=None, interaction_constraints='',\n",
       "             learning_rate=0.03, max_bin=256, max_cat_to_onehot=4,\n",
       "             max_delta_step=0, max_depth=11, max_leaves=0, min_child_weight=1,\n",
       "             missing=nan, monotone_constraints='()', n_estimators=1250,\n",
       "             n_jobs=0, num_parallel_tree=1, predictor='auto', random_state=0,\n",
       "             reg_alpha=0, reg_lambda=1, ...)"
      ]
     },
     "execution_count": 37,
     "metadata": {},
     "output_type": "execute_result"
    }
   ],
   "source": [
    "xbr=xgb.XGBRegressor (learning_rate=0.03, max_depth=11, n_estimators=1250, objective='reg:squarederror')\n",
    "xbr.fit ( X_train, y_train)"
   ]
  },
  {
   "cell_type": "code",
   "execution_count": 38,
   "metadata": {},
   "outputs": [],
   "source": [
    "# посмотрим на остатки регресcии, нарисуем границы интервала, в которое укладывается 95% отклонений\n",
    "residuals = y_test - xbr.predict (X_test )\n",
    "fig = plt.figure (figsize=(12,8) )\n",
    "plt.hist (residuals, bins=100);\n",
    "left_int = residuals.quantile (0.025)\n",
    "right_int = residuals.quantile (1- 0.025)\n",
    "for i in [left_int, right_int]: \n",
    "        y_max = plt.ylim()[1]\n",
    "        plt.axvline(i, color=\"blue\", linestyle='dashed', lw=2)\n",
    "plt.title ('Распределение остатков регрессии' );"
   ]
  },
  {
   "cell_type": "code",
   "execution_count": 39,
   "metadata": {},
   "outputs": [
    {
     "name": "stdout",
     "output_type": "stream",
     "text": [
      "Std -  0.0255\n"
     ]
    }
   ],
   "source": [
    "# посчитаем среднеквадратичное отклонение (Std), которое станет бенчмарком\n",
    "print ('Std - ' , round (residuals.std() , 4))"
   ]
  },
  {
   "cell_type": "code",
   "execution_count": null,
   "metadata": {},
   "outputs": [],
   "source": [
    "# Попробуем поочередно убирать один признак и измерять Std остатков регресcии и записывать его в словарь\n",
    "# Процесс занимает значительное количество времени, поэтому итоговый график вынесен отдельной картинкой"
   ]
  },
  {
   "cell_type": "code",
   "execution_count": null,
   "metadata": {
    "pycharm": {
     "name": "#%%time\n"
    }
   },
   "outputs": [],
   "source": [
    "#res={}\n",
    "#res['bench'] = residuals.std()\n",
    "#xbr1=xgb.XGBRegressor (learning_rate=0.03, max_depth=11, n_estimators=1250)\n",
    "#for c in X.columns.to_list():\n",
    "#  cl= X.columns.to_list()\n",
    "#  cl.remove(c)\n",
    "#  xbr1.fit (X_train.loc[:, cl], y_train)  \n",
    "#  diff = y_test - xbr1.predict (X_test.loc[:, cl])\n",
    "#  y_pred = xbr1.predict (X_test.loc[:, cl])\n",
    "#  res[c] = diff.std()\n",
    "#fe = pd.DataFrame.from_dict (res, orient='index' , columns=['Std']).sort_values ('Std')"
   ]
  },
  {
   "cell_type": "code",
   "execution_count": null,
   "metadata": {},
   "outputs": [],
   "source": [
    "#fig = plt.figure (figsize=(12,8) )\n",
    "#barviz = plt.barh ( fe.index , fe['Std'])\n",
    "#barviz[17].set_color('b')\n",
    "#plt.title ('Std остатков регрессии, в зависимости от убранного признака ' );"
   ]
  },
  {
   "cell_type": "markdown",
   "metadata": {},
   "source": [
    "<img src='./src/images/fe.png'>"
   ]
  },
  {
   "cell_type": "markdown",
   "metadata": {},
   "source": [
    "Попробуем убрать 3 признака, лежащих ниже бенчмарка: **OperatorR1** и **CityType**, которые мы отметили в разделе EDA и **GRP**, который находится внизу списка"
   ]
  },
  {
   "cell_type": "code",
   "execution_count": 40,
   "metadata": {},
   "outputs": [],
   "source": [
    "X_trunc = X.drop (['GRP', 'OperatorR1' , 'CityType' ] , axis=1)"
   ]
  },
  {
   "cell_type": "code",
   "execution_count": 41,
   "metadata": {},
   "outputs": [
    {
     "name": "stdout",
     "output_type": "stream",
     "text": [
      "Xgboost, R2 по фолдам  [0.90302196 0.88455736 0.8824536  0.88376288 0.9057206 ]\n",
      "Xgboost, R2 среднее = 0.8919\n"
     ]
    }
   ],
   "source": [
    "cvs = model_selection.cross_val_score (xgb.XGBRegressor ( learning_rate=0.03, max_depth=11, n_estimators=1250, objective='reg:squarederror' ),\n",
    "                                       X_trunc, y,  cv=5, scoring='r2')\n",
    "print ('Xgboost_trunc, R2 по фолдам ', cvs)\n",
    "print (f'Xgboost_trunc, R2 среднее = {cvs.mean():.4}')"
   ]
  },
  {
   "cell_type": "code",
   "execution_count": 42,
   "metadata": {},
   "outputs": [
    {
     "name": "stdout",
     "output_type": "stream",
     "text": [
      "Xgboost, Custom_scor, по фолдам  [4.3936093  4.90374137 4.61314929 5.0127134  4.06828914]\n",
      "Xgboost, Custom_scor, среднее =  4.598\n"
     ]
    }
   ],
   "source": [
    "cvs = model_selection.cross_val_score (xgb.XGBRegressor ( learning_rate=0.03, max_depth=11, n_estimators=1250 , objective='reg:squarederror'),\n",
    "                                       X_trunc, y,  cv=5, scoring=custom_scorer)\n",
    "print ('Xgboost_trunc, Custom_scor, по фолдам ', np.negative (cvs) )\n",
    "print (f'Xgboost_trunc, Custom_scor, среднее =  {np.negative (cvs.mean()):.4}')"
   ]
  },
  {
   "cell_type": "markdown",
   "metadata": {},
   "source": [
    "Есть небольшое улучшение работы модели, интересно, что признак **GRP** (рейтинг конструкции), который по смыслу должен был быть одним из основных влияющих на дисконт, в итоге оказался бесполезным для прогноза"
   ]
  },
  {
   "cell_type": "markdown",
   "metadata": {},
   "source": [
    "В заключение попробуем использовать стекинг, объединив предсказания Xgboost и KNN, возможно они дополнят друг друга"
   ]
  },
  {
   "cell_type": "code",
   "execution_count": null,
   "outputs": [],
   "source": [
    "est_list = [('xbr' , xbr), ('KNN',kn) ]\n",
    "stc = ensemble.StackingRegressor(est_list, final_estimator=ensemble.RandomForestRegressor ( ) , cv=5)\n",
    "stc.fit (X_train, y_train)\n",
    "print (f'Stacking, R2  =  {metrics.r2_score (y_test, stc.predict (X_test)):.4}')\n",
    "print (f'Stacking, custom score  =  {custom_loss (y_test, stc.predict (X_test)):.4}')"
   ],
   "metadata": {
    "collapsed": false
   }
  },
  {
   "cell_type": "markdown",
   "source": [
    "Улучшения не произошло, получилось обычное усреднение результатов прогнозов двух моделей"
   ],
   "metadata": {
    "collapsed": false
   }
  },
  {
   "cell_type": "markdown",
   "metadata": {},
   "source": [
    "# Итоги"
   ]
  },
  {
   "cell_type": "markdown",
   "metadata": {},
   "source": [
    "С помощью модели XGBoost удалось попасть в нужный интервал, но не очень далеко от правой границы интервала, и на новых данных можно легко выпасть за его пределы, необходимо более подробное изучение признаков"
   ]
  }
 ],
 "metadata": {
  "colab": {
   "collapsed_sections": [],
   "name": "ООН_тесты _extrapol.ipynb",
   "provenance": []
  },
  "kernelspec": {
   "display_name": "Python 3 (ipykernel)",
   "language": "python",
   "name": "python3"
  },
  "language_info": {
   "codemirror_mode": {
    "name": "ipython",
    "version": 3
   },
   "file_extension": ".py",
   "mimetype": "text/x-python",
   "name": "python",
   "nbconvert_exporter": "python",
   "pygments_lexer": "ipython3",
   "version": "3.8.10"
  },
  "latex_envs": {
   "LaTeX_envs_menu_present": true,
   "autoclose": false,
   "autocomplete": true,
   "bibliofile": "biblio.bib",
   "cite_by": "apalike",
   "current_citInitial": 1,
   "eqLabelWithNumbers": true,
   "eqNumInitial": 1,
   "hotkeys": {
    "equation": "Ctrl-E",
    "itemize": "Ctrl-I"
   },
   "labels_anchors": false,
   "latex_user_defs": false,
   "report_style_numbering": false,
   "user_envs_cfg": false
  },
  "varInspector": {
   "cols": {
    "lenName": 16,
    "lenType": 16,
    "lenVar": 40
   },
   "kernels_config": {
    "python": {
     "delete_cmd_postfix": "",
     "delete_cmd_prefix": "del ",
     "library": "var_list.py",
     "varRefreshCmd": "print(var_dic_list())"
    },
    "r": {
     "delete_cmd_postfix": ") ",
     "delete_cmd_prefix": "rm(",
     "library": "var_list.r",
     "varRefreshCmd": "cat(var_dic_list()) "
    }
   },
   "types_to_exclude": [
    "module",
    "function",
    "builtin_function_or_method",
    "instance",
    "_Feature"
   ],
   "window_display": false
  }
 },
 "nbformat": 4,
 "nbformat_minor": 1
}
