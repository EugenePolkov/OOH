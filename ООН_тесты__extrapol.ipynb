{
 "cells": [
  {
   "cell_type": "code",
   "execution_count": 1,
   "metadata": {
    "id": "9tf7f2ZUncoK",
    "pycharm": {
     "name": "#%%\n"
    }
   },
   "outputs": [],
   "source": [
    "import pandas as pd\n",
    "import numpy as np\n",
    "import matplotlib\n",
    "from matplotlib import pyplot as plt\n",
    "from sklearn import model_selection, datasets, metrics, tree, ensemble, preprocessing, utils, neighbors, decomposition\n",
    "import xgboost as xgb\n",
    "import seaborn as sns\n",
    "import scipy as sc"
   ]
  },
  {
   "cell_type": "code",
   "execution_count": null,
   "metadata": {
    "pycharm": {
     "name": "#%%\n"
    }
   },
   "outputs": [],
   "source": [
    "!pip install openpyxl"
   ]
  },
  {
   "cell_type": "markdown",
   "metadata": {
    "pycharm": {
     "name": "#%% md\n"
    }
   },
   "source": [
    "# dfg"
   ]
  },
  {
   "cell_type": "code",
   "execution_count": null,
   "metadata": {
    "pycharm": {
     "name": "#%%\n"
    }
   },
   "outputs": [],
   "source": [
    "!pip install jupyter_contrib_nbextensions"
   ]
  },
  {
   "cell_type": "code",
   "execution_count": 3,
   "metadata": {
    "collapsed": true,
    "pycharm": {
     "name": "#%%\n"
    }
   },
   "outputs": [
    {
     "name": "stdout",
     "output_type": "stream",
     "text": [
      "Requirement already satisfied: jupyter_contrib_nbextensions in c:\\users\\79588\\venv\\lib\\site-packages (0.5.1)\n",
      "Requirement already satisfied: jupyter-latex-envs>=1.3.8 in c:\\users\\79588\\venv\\lib\\site-packages (from jupyter_contrib_nbextensions) (1.4.6)\n",
      "Requirement already satisfied: jupyter-contrib-core>=0.3.3 in c:\\users\\79588\\venv\\lib\\site-packages (from jupyter_contrib_nbextensions) (0.4.0)\n",
      "Requirement already satisfied: jupyter-core in c:\\users\\79588\\venv\\lib\\site-packages (from jupyter_contrib_nbextensions) (4.11.1)\n",
      "Requirement already satisfied: ipython-genutils in c:\\users\\79588\\venv\\lib\\site-packages (from jupyter_contrib_nbextensions) (0.2.0)\n",
      "Requirement already satisfied: notebook>=4.0 in c:\\users\\79588\\venv\\lib\\site-packages (from jupyter_contrib_nbextensions) (6.4.12)\n",
      "Requirement already satisfied: pyyaml in c:\\users\\79588\\venv\\lib\\site-packages (from jupyter_contrib_nbextensions) (5.4.1)\n",
      "Requirement already satisfied: lxml in c:\\users\\79588\\venv\\lib\\site-packages (from jupyter_contrib_nbextensions) (4.9.1)\n",
      "Requirement already satisfied: traitlets>=4.1 in c:\\users\\79588\\venv\\lib\\site-packages (from jupyter_contrib_nbextensions) (5.3.0)\n",
      "Requirement already satisfied: jupyter-highlight-selected-word>=0.1.1 in c:\\users\\79588\\venv\\lib\\site-packages (from jupyter_contrib_nbextensions) (0.2.0)\n",
      "Requirement already satisfied: tornado in c:\\users\\79588\\venv\\lib\\site-packages (from jupyter_contrib_nbextensions) (6.2)\n",
      "Requirement already satisfied: jupyter-nbextensions-configurator>=0.4.0 in c:\\users\\79588\\venv\\lib\\site-packages (from jupyter_contrib_nbextensions) (0.5.0)\n",
      "Requirement already satisfied: nbconvert>=4.2 in c:\\users\\79588\\venv\\lib\\site-packages (from jupyter_contrib_nbextensions) (7.0.0)\n",
      "Requirement already satisfied: setuptools in c:\\users\\79588\\venv\\lib\\site-packages (from jupyter-contrib-core>=0.3.3->jupyter_contrib_nbextensions) (60.2.0)\n",
      "Requirement already satisfied: ipython in c:\\users\\79588\\venv\\lib\\site-packages (from jupyter-latex-envs>=1.3.8->jupyter_contrib_nbextensions) (8.4.0)\n",
      "Requirement already satisfied: importlib-metadata>=3.6 in c:\\users\\79588\\venv\\lib\\site-packages (from nbconvert>=4.2->jupyter_contrib_nbextensions) (4.12.0)\n",
      "Requirement already satisfied: tinycss2 in c:\\users\\79588\\venv\\lib\\site-packages (from nbconvert>=4.2->jupyter_contrib_nbextensions) (1.1.1)\n",
      "Requirement already satisfied: mistune<3,>=2.0.3 in c:\\users\\79588\\venv\\lib\\site-packages (from nbconvert>=4.2->jupyter_contrib_nbextensions) (2.0.4)\n",
      "Requirement already satisfied: nbformat>=5.1 in c:\\users\\79588\\venv\\lib\\site-packages (from nbconvert>=4.2->jupyter_contrib_nbextensions) (5.4.0)\n",
      "Requirement already satisfied: nbclient>=0.5.0 in c:\\users\\79588\\venv\\lib\\site-packages (from nbconvert>=4.2->jupyter_contrib_nbextensions) (0.6.6)\n",
      "Requirement already satisfied: packaging in c:\\users\\79588\\venv\\lib\\site-packages (from nbconvert>=4.2->jupyter_contrib_nbextensions) (21.3)\n",
      "Requirement already satisfied: bleach in c:\\users\\79588\\venv\\lib\\site-packages (from nbconvert>=4.2->jupyter_contrib_nbextensions) (5.0.1)\n",
      "Requirement already satisfied: pandocfilters>=1.4.1 in c:\\users\\79588\\venv\\lib\\site-packages (from nbconvert>=4.2->jupyter_contrib_nbextensions) (1.5.0)\n",
      "Requirement already satisfied: beautifulsoup4 in c:\\users\\79588\\venv\\lib\\site-packages (from nbconvert>=4.2->jupyter_contrib_nbextensions) (4.11.1)\n",
      "Requirement already satisfied: pygments>=2.4.1 in c:\\users\\79588\\venv\\lib\\site-packages (from nbconvert>=4.2->jupyter_contrib_nbextensions) (2.13.0)\n",
      "Requirement already satisfied: defusedxml in c:\\users\\79588\\venv\\lib\\site-packages (from nbconvert>=4.2->jupyter_contrib_nbextensions) (0.7.1)\n",
      "Requirement already satisfied: markupsafe>=2.0 in c:\\users\\79588\\venv\\lib\\site-packages (from nbconvert>=4.2->jupyter_contrib_nbextensions) (2.1.1)\n",
      "Requirement already satisfied: jupyterlab-pygments in c:\\users\\79588\\venv\\lib\\site-packages (from nbconvert>=4.2->jupyter_contrib_nbextensions) (0.2.2)\n",
      "Requirement already satisfied: jinja2>=3.0 in c:\\users\\79588\\venv\\lib\\site-packages (from nbconvert>=4.2->jupyter_contrib_nbextensions) (3.1.2)\n",
      "Requirement already satisfied: pywin32>=1.0 in c:\\users\\79588\\venv\\lib\\site-packages (from jupyter-core->jupyter_contrib_nbextensions) (227)\n",
      "Requirement already satisfied: pyzmq>=17 in c:\\users\\79588\\venv\\lib\\site-packages (from notebook>=4.0->jupyter_contrib_nbextensions) (23.2.1)\n",
      "Requirement already satisfied: nest-asyncio>=1.5 in c:\\users\\79588\\venv\\lib\\site-packages (from notebook>=4.0->jupyter_contrib_nbextensions) (1.5.5)\n",
      "Requirement already satisfied: ipykernel in c:\\users\\79588\\venv\\lib\\site-packages (from notebook>=4.0->jupyter_contrib_nbextensions) (6.15.1)\n",
      "Requirement already satisfied: terminado>=0.8.3 in c:\\users\\79588\\venv\\lib\\site-packages (from notebook>=4.0->jupyter_contrib_nbextensions) (0.15.0)\n",
      "Requirement already satisfied: prometheus-client in c:\\users\\79588\\venv\\lib\\site-packages (from notebook>=4.0->jupyter_contrib_nbextensions) (0.14.1)\n",
      "Requirement already satisfied: jupyter-client>=5.3.4 in c:\\users\\79588\\venv\\lib\\site-packages (from notebook>=4.0->jupyter_contrib_nbextensions) (7.3.4)\n",
      "Requirement already satisfied: argon2-cffi in c:\\users\\79588\\venv\\lib\\site-packages (from notebook>=4.0->jupyter_contrib_nbextensions) (21.3.0)\n",
      "Requirement already satisfied: Send2Trash>=1.8.0 in c:\\users\\79588\\venv\\lib\\site-packages (from notebook>=4.0->jupyter_contrib_nbextensions) (1.8.0)\n",
      "Requirement already satisfied: zipp>=0.5 in c:\\users\\79588\\venv\\lib\\site-packages (from importlib-metadata>=3.6->nbconvert>=4.2->jupyter_contrib_nbextensions) (3.8.1)\n",
      "Requirement already satisfied: python-dateutil>=2.8.2 in c:\\users\\79588\\venv\\lib\\site-packages (from jupyter-client>=5.3.4->notebook>=4.0->jupyter_contrib_nbextensions) (2.8.2)\n",
      "Requirement already satisfied: entrypoints in c:\\users\\79588\\venv\\lib\\site-packages (from jupyter-client>=5.3.4->notebook>=4.0->jupyter_contrib_nbextensions) (0.4)\n",
      "Requirement already satisfied: fastjsonschema in c:\\users\\79588\\venv\\lib\\site-packages (from nbformat>=5.1->nbconvert>=4.2->jupyter_contrib_nbextensions) (2.16.1)\n",
      "Requirement already satisfied: jsonschema>=2.6 in c:\\users\\79588\\venv\\lib\\site-packages (from nbformat>=5.1->nbconvert>=4.2->jupyter_contrib_nbextensions) (4.14.0)\n",
      "Requirement already satisfied: pywinpty>=1.1.0 in c:\\users\\79588\\venv\\lib\\site-packages (from terminado>=0.8.3->notebook>=4.0->jupyter_contrib_nbextensions) (2.0.7)\n",
      "Requirement already satisfied: argon2-cffi-bindings in c:\\users\\79588\\venv\\lib\\site-packages (from argon2-cffi->notebook>=4.0->jupyter_contrib_nbextensions) (21.2.0)\n",
      "Requirement already satisfied: soupsieve>1.2 in c:\\users\\79588\\venv\\lib\\site-packages (from beautifulsoup4->nbconvert>=4.2->jupyter_contrib_nbextensions) (2.3.2.post1)\n",
      "Requirement already satisfied: six>=1.9.0 in c:\\users\\79588\\venv\\lib\\site-packages (from bleach->nbconvert>=4.2->jupyter_contrib_nbextensions) (1.16.0)\n",
      "Requirement already satisfied: webencodings in c:\\users\\79588\\venv\\lib\\site-packages (from bleach->nbconvert>=4.2->jupyter_contrib_nbextensions) (0.5.1)\n",
      "Requirement already satisfied: matplotlib-inline>=0.1 in c:\\users\\79588\\venv\\lib\\site-packages (from ipykernel->notebook>=4.0->jupyter_contrib_nbextensions) (0.1.6)\n",
      "Requirement already satisfied: debugpy>=1.0 in c:\\users\\79588\\venv\\lib\\site-packages (from ipykernel->notebook>=4.0->jupyter_contrib_nbextensions) (1.6.3)\n",
      "Requirement already satisfied: psutil in c:\\users\\79588\\venv\\lib\\site-packages (from ipykernel->notebook>=4.0->jupyter_contrib_nbextensions) (5.9.1)\n",
      "Requirement already satisfied: pickleshare in c:\\users\\79588\\venv\\lib\\site-packages (from ipython->jupyter-latex-envs>=1.3.8->jupyter_contrib_nbextensions) (0.7.5)\n",
      "Requirement already satisfied: decorator in c:\\users\\79588\\venv\\lib\\site-packages (from ipython->jupyter-latex-envs>=1.3.8->jupyter_contrib_nbextensions) (5.1.1)\n",
      "Requirement already satisfied: prompt-toolkit!=3.0.0,!=3.0.1,<3.1.0,>=2.0.0 in c:\\users\\79588\\venv\\lib\\site-packages (from ipython->jupyter-latex-envs>=1.3.8->jupyter_contrib_nbextensions) (3.0.30)\n",
      "Requirement already satisfied: jedi>=0.16 in c:\\users\\79588\\venv\\lib\\site-packages (from ipython->jupyter-latex-envs>=1.3.8->jupyter_contrib_nbextensions) (0.18.1)\n",
      "Requirement already satisfied: stack-data in c:\\users\\79588\\venv\\lib\\site-packages (from ipython->jupyter-latex-envs>=1.3.8->jupyter_contrib_nbextensions) (0.4.0)\n",
      "Requirement already satisfied: colorama in c:\\users\\79588\\venv\\lib\\site-packages (from ipython->jupyter-latex-envs>=1.3.8->jupyter_contrib_nbextensions) (0.4.5)\n",
      "Requirement already satisfied: backcall in c:\\users\\79588\\venv\\lib\\site-packages (from ipython->jupyter-latex-envs>=1.3.8->jupyter_contrib_nbextensions) (0.2.0)\n",
      "Requirement already satisfied: pyparsing!=3.0.5,>=2.0.2 in c:\\users\\79588\\venv\\lib\\site-packages (from packaging->nbconvert>=4.2->jupyter_contrib_nbextensions) (3.0.9)\n",
      "Requirement already satisfied: parso<0.9.0,>=0.8.0 in c:\\users\\79588\\venv\\lib\\site-packages (from jedi>=0.16->ipython->jupyter-latex-envs>=1.3.8->jupyter_contrib_nbextensions) (0.8.3)\n",
      "Requirement already satisfied: pyrsistent!=0.17.0,!=0.17.1,!=0.17.2,>=0.14.0 in c:\\users\\79588\\venv\\lib\\site-packages (from jsonschema>=2.6->nbformat>=5.1->nbconvert>=4.2->jupyter_contrib_nbextensions) (0.18.1)\n",
      "Requirement already satisfied: pkgutil-resolve-name>=1.3.10 in c:\\users\\79588\\venv\\lib\\site-packages (from jsonschema>=2.6->nbformat>=5.1->nbconvert>=4.2->jupyter_contrib_nbextensions) (1.3.10)\n",
      "Requirement already satisfied: importlib-resources>=1.4.0 in c:\\users\\79588\\venv\\lib\\site-packages (from jsonschema>=2.6->nbformat>=5.1->nbconvert>=4.2->jupyter_contrib_nbextensions) (5.9.0)\n",
      "Requirement already satisfied: attrs>=17.4.0 in c:\\users\\79588\\venv\\lib\\site-packages (from jsonschema>=2.6->nbformat>=5.1->nbconvert>=4.2->jupyter_contrib_nbextensions) (22.1.0)\n",
      "Requirement already satisfied: wcwidth in c:\\users\\79588\\venv\\lib\\site-packages (from prompt-toolkit!=3.0.0,!=3.0.1,<3.1.0,>=2.0.0->ipython->jupyter-latex-envs>=1.3.8->jupyter_contrib_nbextensions) (0.2.5)\n",
      "Requirement already satisfied: cffi>=1.0.1 in c:\\users\\79588\\venv\\lib\\site-packages (from argon2-cffi-bindings->argon2-cffi->notebook>=4.0->jupyter_contrib_nbextensions) (1.15.1)\n",
      "Requirement already satisfied: asttokens in c:\\users\\79588\\venv\\lib\\site-packages (from stack-data->ipython->jupyter-latex-envs>=1.3.8->jupyter_contrib_nbextensions) (2.0.8)\n",
      "Requirement already satisfied: pure-eval in c:\\users\\79588\\venv\\lib\\site-packages (from stack-data->ipython->jupyter-latex-envs>=1.3.8->jupyter_contrib_nbextensions) (0.2.2)\n",
      "Requirement already satisfied: executing in c:\\users\\79588\\venv\\lib\\site-packages (from stack-data->ipython->jupyter-latex-envs>=1.3.8->jupyter_contrib_nbextensions) (0.10.0)\n",
      "Requirement already satisfied: pycparser in c:\\users\\79588\\venv\\lib\\site-packages (from cffi>=1.0.1->argon2-cffi-bindings->argon2-cffi->notebook>=4.0->jupyter_contrib_nbextensions) (2.21)\n"
     ]
    },
    {
     "name": "stderr",
     "output_type": "stream",
     "text": [
      "WARNING: You are using pip version 21.3.1; however, version 22.2.2 is available.\n",
      "You should consider upgrading via the 'C:\\Users\\79588\\venv\\Scripts\\python.exe -m pip install --upgrade pip' command.\n"
     ]
    }
   ],
   "source": [
    "!pip install jupyter_contrib_nbextensions"
   ]
  },
  {
   "cell_type": "code",
   "execution_count": 2,
   "metadata": {
    "id": "3Xe_lWodJ84e",
    "pycharm": {
     "name": "#%%\n"
    }
   },
   "outputs": [],
   "source": [
    "def index(self, value):\n",
    "    return np.where(self == value)"
   ]
  },
  {
   "cell_type": "code",
   "execution_count": 3,
   "metadata": {
    "id": "eDTecbNUJ9cM",
    "pycharm": {
     "name": "#%%\n"
    }
   },
   "outputs": [],
   "source": [
    "def my_custom_loss_func(y_true, y_pred):\n",
    "    diff=list(y_true-y_pred)\n",
    "    list_d = [x for x in diff if x <-0.05 or x > 0.05]\n",
    "    return len(list_d)/len(diff)*100"
   ]
  },
  {
   "cell_type": "code",
   "execution_count": 2,
   "metadata": {
    "id": "g4qC_IlTuAYV",
    "pycharm": {
     "name": "#%%\n"
    }
   },
   "outputs": [],
   "source": [
    "data=pd.read_excel('New_set_0906_with_SC.xlsx')"
   ]
  },
  {
   "cell_type": "code",
   "execution_count": 3,
   "metadata": {
    "collapsed": true,
    "pycharm": {
     "name": "#%%\n"
    }
   },
   "outputs": [
    {
     "data": {
      "text/plain": "       Unnamed: 0       ID  sdelka_id                     ML_Object_UID  \\\n0               0  2007430     245498  0000D54A0FB44C81947E16CDD3085059   \n1               1  2022135     247306  0000D54A0FB44C81947E16CDD3085059   \n2               2  1822886     213928  00041850CC894BCD8B876B7C2D74D381   \n3               3  1822886     213928  00041850CC894BCD8B876B7C2D74D381   \n4               4  1822886     213928  00041850CC894BCD8B876B7C2D74D381   \n...           ...      ...        ...                               ...   \n42793       42793  1966938     238885  FFF076E0EBC94111B7CC8011687EDDDA   \n42794       42794  1966938     238885  FFF076E0EBC94111B7CC8011687EDDDA   \n42795       42795  2004824     245155  FFFE5E93F534439FB1CAF649E3D5B7D1   \n42796       42796  1963748     238490  FFFE9D29095F4B57B70033A71247C6F4   \n42797       42797  2010579     246041  FFFFC289DA9048A2953A0086439E3AA8   \n\n                     DateStart  Summ_Plan_SMI  Summ2PayOperNoTax  \\\n0      2021-03-01 00:00:00.000        14500.0            14500.0   \n1      2021-05-01 00:00:00.000        13000.0            13000.0   \n2      2019-02-01 00:00:00.000         8100.0             8100.0   \n3      2019-02-01 00:00:00.000         8100.0             8100.0   \n4      2019-02-01 00:00:00.000         8100.0             8100.0   \n...                        ...            ...                ...   \n42793  2020-09-01 00:00:00.000        14454.0            14454.0   \n42794  2020-09-01 00:00:00.000        14454.0            14454.0   \n42795  2021-04-01 00:00:00.000         4500.0             4500.0   \n42796  2020-09-01 00:00:00.000        19600.0            19600.0   \n42797  2021-05-01 00:00:00.000         9000.0             9000.0   \n\n       Summ_Fact_SMI  PriceNoTax  Discount  ...  BudgetClass       GRP  \\\n0            14500.0     17000.0  0.147059  ...            3  6.105542   \n1            13000.0     17000.0  0.235294  ...            2  6.105542   \n2             8100.0     21000.0  0.614286  ...            3  8.170000   \n3             8100.0     21000.0  0.614286  ...            3  8.170000   \n4             8100.0     21000.0  0.614286  ...            3  8.170000   \n...              ...         ...       ...  ...          ...       ...   \n42793        14454.0     18250.0  0.208000  ...            3  2.037000   \n42794        14454.0     18250.0  0.208000  ...            3  2.037000   \n42795         4500.0     10000.0  0.550000  ...            1  7.980000   \n42796        19600.0     28000.0  0.300000  ...            3  2.434286   \n42797         9000.0     25000.0  0.640000  ...            4  2.680000   \n\n        City_Lat   City_Lng   Latitude  Longitude  Population       AgentName  \\\n0            NaN        NaN  55.457919  65.335799    312364.0  росбизнесцентр   \n1            NaN        NaN  55.457919  65.335799    312364.0  росбизнесцентр   \n2            NaN        NaN  55.159627  61.381623   1196680.0            элис   \n3      55.075986  61.383371  55.159627  61.381623   1196680.0            элис   \n4      55.120796  61.481804  55.159627  61.381623   1196680.0            элис   \n...          ...        ...        ...        ...         ...             ...   \n42793  58.046859  56.123127  57.992740  56.180762   1055397.0             рим   \n42794  58.048149  56.223592  57.992740  56.180762   1055397.0             рим   \n42795  57.371330  65.823933  57.143039  65.586761    807271.0     деловой мир   \n42796  56.839104  60.608250  56.804553  60.650616   1493749.0  реклама сервис   \n42797  57.371330  65.823933  57.171879  65.554454    807271.0            лайф   \n\n       City_Cat  Seller_Cat  \n0             8         224  \n1             8         224  \n2             8         268  \n3             8         268  \n4             8         268  \n...         ...         ...  \n42793         8         222  \n42794         8         222  \n42795         8         112  \n42796         8         208  \n42797         8         141  \n\n[42798 rows x 30 columns]",
      "text/html": "<div>\n<style scoped>\n    .dataframe tbody tr th:only-of-type {\n        vertical-align: middle;\n    }\n\n    .dataframe tbody tr th {\n        vertical-align: top;\n    }\n\n    .dataframe thead th {\n        text-align: right;\n    }\n</style>\n<table border=\"1\" class=\"dataframe\">\n  <thead>\n    <tr style=\"text-align: right;\">\n      <th></th>\n      <th>Unnamed: 0</th>\n      <th>ID</th>\n      <th>sdelka_id</th>\n      <th>ML_Object_UID</th>\n      <th>DateStart</th>\n      <th>Summ_Plan_SMI</th>\n      <th>Summ2PayOperNoTax</th>\n      <th>Summ_Fact_SMI</th>\n      <th>PriceNoTax</th>\n      <th>Discount</th>\n      <th>...</th>\n      <th>BudgetClass</th>\n      <th>GRP</th>\n      <th>City_Lat</th>\n      <th>City_Lng</th>\n      <th>Latitude</th>\n      <th>Longitude</th>\n      <th>Population</th>\n      <th>AgentName</th>\n      <th>City_Cat</th>\n      <th>Seller_Cat</th>\n    </tr>\n  </thead>\n  <tbody>\n    <tr>\n      <th>0</th>\n      <td>0</td>\n      <td>2007430</td>\n      <td>245498</td>\n      <td>0000D54A0FB44C81947E16CDD3085059</td>\n      <td>2021-03-01 00:00:00.000</td>\n      <td>14500.0</td>\n      <td>14500.0</td>\n      <td>14500.0</td>\n      <td>17000.0</td>\n      <td>0.147059</td>\n      <td>...</td>\n      <td>3</td>\n      <td>6.105542</td>\n      <td>NaN</td>\n      <td>NaN</td>\n      <td>55.457919</td>\n      <td>65.335799</td>\n      <td>312364.0</td>\n      <td>росбизнесцентр</td>\n      <td>8</td>\n      <td>224</td>\n    </tr>\n    <tr>\n      <th>1</th>\n      <td>1</td>\n      <td>2022135</td>\n      <td>247306</td>\n      <td>0000D54A0FB44C81947E16CDD3085059</td>\n      <td>2021-05-01 00:00:00.000</td>\n      <td>13000.0</td>\n      <td>13000.0</td>\n      <td>13000.0</td>\n      <td>17000.0</td>\n      <td>0.235294</td>\n      <td>...</td>\n      <td>2</td>\n      <td>6.105542</td>\n      <td>NaN</td>\n      <td>NaN</td>\n      <td>55.457919</td>\n      <td>65.335799</td>\n      <td>312364.0</td>\n      <td>росбизнесцентр</td>\n      <td>8</td>\n      <td>224</td>\n    </tr>\n    <tr>\n      <th>2</th>\n      <td>2</td>\n      <td>1822886</td>\n      <td>213928</td>\n      <td>00041850CC894BCD8B876B7C2D74D381</td>\n      <td>2019-02-01 00:00:00.000</td>\n      <td>8100.0</td>\n      <td>8100.0</td>\n      <td>8100.0</td>\n      <td>21000.0</td>\n      <td>0.614286</td>\n      <td>...</td>\n      <td>3</td>\n      <td>8.170000</td>\n      <td>NaN</td>\n      <td>NaN</td>\n      <td>55.159627</td>\n      <td>61.381623</td>\n      <td>1196680.0</td>\n      <td>элис</td>\n      <td>8</td>\n      <td>268</td>\n    </tr>\n    <tr>\n      <th>3</th>\n      <td>3</td>\n      <td>1822886</td>\n      <td>213928</td>\n      <td>00041850CC894BCD8B876B7C2D74D381</td>\n      <td>2019-02-01 00:00:00.000</td>\n      <td>8100.0</td>\n      <td>8100.0</td>\n      <td>8100.0</td>\n      <td>21000.0</td>\n      <td>0.614286</td>\n      <td>...</td>\n      <td>3</td>\n      <td>8.170000</td>\n      <td>55.075986</td>\n      <td>61.383371</td>\n      <td>55.159627</td>\n      <td>61.381623</td>\n      <td>1196680.0</td>\n      <td>элис</td>\n      <td>8</td>\n      <td>268</td>\n    </tr>\n    <tr>\n      <th>4</th>\n      <td>4</td>\n      <td>1822886</td>\n      <td>213928</td>\n      <td>00041850CC894BCD8B876B7C2D74D381</td>\n      <td>2019-02-01 00:00:00.000</td>\n      <td>8100.0</td>\n      <td>8100.0</td>\n      <td>8100.0</td>\n      <td>21000.0</td>\n      <td>0.614286</td>\n      <td>...</td>\n      <td>3</td>\n      <td>8.170000</td>\n      <td>55.120796</td>\n      <td>61.481804</td>\n      <td>55.159627</td>\n      <td>61.381623</td>\n      <td>1196680.0</td>\n      <td>элис</td>\n      <td>8</td>\n      <td>268</td>\n    </tr>\n    <tr>\n      <th>...</th>\n      <td>...</td>\n      <td>...</td>\n      <td>...</td>\n      <td>...</td>\n      <td>...</td>\n      <td>...</td>\n      <td>...</td>\n      <td>...</td>\n      <td>...</td>\n      <td>...</td>\n      <td>...</td>\n      <td>...</td>\n      <td>...</td>\n      <td>...</td>\n      <td>...</td>\n      <td>...</td>\n      <td>...</td>\n      <td>...</td>\n      <td>...</td>\n      <td>...</td>\n      <td>...</td>\n    </tr>\n    <tr>\n      <th>42793</th>\n      <td>42793</td>\n      <td>1966938</td>\n      <td>238885</td>\n      <td>FFF076E0EBC94111B7CC8011687EDDDA</td>\n      <td>2020-09-01 00:00:00.000</td>\n      <td>14454.0</td>\n      <td>14454.0</td>\n      <td>14454.0</td>\n      <td>18250.0</td>\n      <td>0.208000</td>\n      <td>...</td>\n      <td>3</td>\n      <td>2.037000</td>\n      <td>58.046859</td>\n      <td>56.123127</td>\n      <td>57.992740</td>\n      <td>56.180762</td>\n      <td>1055397.0</td>\n      <td>рим</td>\n      <td>8</td>\n      <td>222</td>\n    </tr>\n    <tr>\n      <th>42794</th>\n      <td>42794</td>\n      <td>1966938</td>\n      <td>238885</td>\n      <td>FFF076E0EBC94111B7CC8011687EDDDA</td>\n      <td>2020-09-01 00:00:00.000</td>\n      <td>14454.0</td>\n      <td>14454.0</td>\n      <td>14454.0</td>\n      <td>18250.0</td>\n      <td>0.208000</td>\n      <td>...</td>\n      <td>3</td>\n      <td>2.037000</td>\n      <td>58.048149</td>\n      <td>56.223592</td>\n      <td>57.992740</td>\n      <td>56.180762</td>\n      <td>1055397.0</td>\n      <td>рим</td>\n      <td>8</td>\n      <td>222</td>\n    </tr>\n    <tr>\n      <th>42795</th>\n      <td>42795</td>\n      <td>2004824</td>\n      <td>245155</td>\n      <td>FFFE5E93F534439FB1CAF649E3D5B7D1</td>\n      <td>2021-04-01 00:00:00.000</td>\n      <td>4500.0</td>\n      <td>4500.0</td>\n      <td>4500.0</td>\n      <td>10000.0</td>\n      <td>0.550000</td>\n      <td>...</td>\n      <td>1</td>\n      <td>7.980000</td>\n      <td>57.371330</td>\n      <td>65.823933</td>\n      <td>57.143039</td>\n      <td>65.586761</td>\n      <td>807271.0</td>\n      <td>деловой мир</td>\n      <td>8</td>\n      <td>112</td>\n    </tr>\n    <tr>\n      <th>42796</th>\n      <td>42796</td>\n      <td>1963748</td>\n      <td>238490</td>\n      <td>FFFE9D29095F4B57B70033A71247C6F4</td>\n      <td>2020-09-01 00:00:00.000</td>\n      <td>19600.0</td>\n      <td>19600.0</td>\n      <td>19600.0</td>\n      <td>28000.0</td>\n      <td>0.300000</td>\n      <td>...</td>\n      <td>3</td>\n      <td>2.434286</td>\n      <td>56.839104</td>\n      <td>60.608250</td>\n      <td>56.804553</td>\n      <td>60.650616</td>\n      <td>1493749.0</td>\n      <td>реклама сервис</td>\n      <td>8</td>\n      <td>208</td>\n    </tr>\n    <tr>\n      <th>42797</th>\n      <td>42797</td>\n      <td>2010579</td>\n      <td>246041</td>\n      <td>FFFFC289DA9048A2953A0086439E3AA8</td>\n      <td>2021-05-01 00:00:00.000</td>\n      <td>9000.0</td>\n      <td>9000.0</td>\n      <td>9000.0</td>\n      <td>25000.0</td>\n      <td>0.640000</td>\n      <td>...</td>\n      <td>4</td>\n      <td>2.680000</td>\n      <td>57.371330</td>\n      <td>65.823933</td>\n      <td>57.171879</td>\n      <td>65.554454</td>\n      <td>807271.0</td>\n      <td>лайф</td>\n      <td>8</td>\n      <td>141</td>\n    </tr>\n  </tbody>\n</table>\n<p>42798 rows × 30 columns</p>\n</div>"
     },
     "execution_count": 3,
     "metadata": {},
     "output_type": "execute_result"
    }
   ],
   "source": [
    "data"
   ]
  },
  {
   "cell_type": "code",
   "execution_count": 4,
   "metadata": {
    "pycharm": {
     "name": "#%%\n"
    }
   },
   "outputs": [],
   "source": [
    "df= data.drop (['Unnamed: 0' , 'ID' , 'sdelka_id' ,'ML_Object_UID' , 'DateStart', \"Summ_Plan_SMI\"\t, \"Summ2PayOperNoTax\"\t, \"Summ_Fact_SMI\", 'LN'  ], axis= 1   )"
   ]
  },
  {
   "cell_type": "code",
   "execution_count": 5,
   "outputs": [
    {
     "data": {
      "text/plain": "       PriceNoTax  Discount  YeraNum  Month_ID  BrandR1  SeazonClass  \\\n0         17000.0  0.147059        3         2      1.0            1   \n1         17000.0  0.235294        3         4      1.0            1   \n2         21000.0  0.614286        1         1      3.0            0   \n3         21000.0  0.614286        1         1      3.0            0   \n4         21000.0  0.614286        1         1      3.0            0   \n...           ...       ...      ...       ...      ...          ...   \n42793     18250.0  0.208000        2         8      1.0            1   \n42794     18250.0  0.208000        2         8      1.0            1   \n42795     10000.0  0.550000        3         3      0.0            1   \n42796     28000.0  0.300000        2         8      1.0            1   \n42797     25000.0  0.640000        3         4      1.0            1   \n\n       ConstrGroup  ExpositionType  CityType  OperatorR1  ...  BudgetClass  \\\n0                2               0         2           0  ...            3   \n1                2               0         2           0  ...            2   \n2                1               1         4           0  ...            3   \n3                1               1         4           0  ...            3   \n4                1               1         4           0  ...            3   \n...            ...             ...       ...         ...  ...          ...   \n42793            2               0         4           2  ...            3   \n42794            2               0         4           2  ...            3   \n42795            0               2         3           0  ...            1   \n42796            2               0         4           0  ...            3   \n42797            2               1         3           0  ...            4   \n\n            GRP   City_Lat   City_Lng   Latitude  Longitude  Population  \\\n0      6.105542        NaN        NaN  55.457919  65.335799    312364.0   \n1      6.105542        NaN        NaN  55.457919  65.335799    312364.0   \n2      8.170000        NaN        NaN  55.159627  61.381623   1196680.0   \n3      8.170000  55.075986  61.383371  55.159627  61.381623   1196680.0   \n4      8.170000  55.120796  61.481804  55.159627  61.381623   1196680.0   \n...         ...        ...        ...        ...        ...         ...   \n42793  2.037000  58.046859  56.123127  57.992740  56.180762   1055397.0   \n42794  2.037000  58.048149  56.223592  57.992740  56.180762   1055397.0   \n42795  7.980000  57.371330  65.823933  57.143039  65.586761    807271.0   \n42796  2.434286  56.839104  60.608250  56.804553  60.650616   1493749.0   \n42797  2.680000  57.371330  65.823933  57.171879  65.554454    807271.0   \n\n            AgentName City_Cat  Seller_Cat  \n0      росбизнесцентр        8         224  \n1      росбизнесцентр        8         224  \n2                элис        8         268  \n3                элис        8         268  \n4                элис        8         268  \n...               ...      ...         ...  \n42793             рим        8         222  \n42794             рим        8         222  \n42795     деловой мир        8         112  \n42796  реклама сервис        8         208  \n42797            лайф        8         141  \n\n[42798 rows x 21 columns]",
      "text/html": "<div>\n<style scoped>\n    .dataframe tbody tr th:only-of-type {\n        vertical-align: middle;\n    }\n\n    .dataframe tbody tr th {\n        vertical-align: top;\n    }\n\n    .dataframe thead th {\n        text-align: right;\n    }\n</style>\n<table border=\"1\" class=\"dataframe\">\n  <thead>\n    <tr style=\"text-align: right;\">\n      <th></th>\n      <th>PriceNoTax</th>\n      <th>Discount</th>\n      <th>YeraNum</th>\n      <th>Month_ID</th>\n      <th>BrandR1</th>\n      <th>SeazonClass</th>\n      <th>ConstrGroup</th>\n      <th>ExpositionType</th>\n      <th>CityType</th>\n      <th>OperatorR1</th>\n      <th>...</th>\n      <th>BudgetClass</th>\n      <th>GRP</th>\n      <th>City_Lat</th>\n      <th>City_Lng</th>\n      <th>Latitude</th>\n      <th>Longitude</th>\n      <th>Population</th>\n      <th>AgentName</th>\n      <th>City_Cat</th>\n      <th>Seller_Cat</th>\n    </tr>\n  </thead>\n  <tbody>\n    <tr>\n      <th>0</th>\n      <td>17000.0</td>\n      <td>0.147059</td>\n      <td>3</td>\n      <td>2</td>\n      <td>1.0</td>\n      <td>1</td>\n      <td>2</td>\n      <td>0</td>\n      <td>2</td>\n      <td>0</td>\n      <td>...</td>\n      <td>3</td>\n      <td>6.105542</td>\n      <td>NaN</td>\n      <td>NaN</td>\n      <td>55.457919</td>\n      <td>65.335799</td>\n      <td>312364.0</td>\n      <td>росбизнесцентр</td>\n      <td>8</td>\n      <td>224</td>\n    </tr>\n    <tr>\n      <th>1</th>\n      <td>17000.0</td>\n      <td>0.235294</td>\n      <td>3</td>\n      <td>4</td>\n      <td>1.0</td>\n      <td>1</td>\n      <td>2</td>\n      <td>0</td>\n      <td>2</td>\n      <td>0</td>\n      <td>...</td>\n      <td>2</td>\n      <td>6.105542</td>\n      <td>NaN</td>\n      <td>NaN</td>\n      <td>55.457919</td>\n      <td>65.335799</td>\n      <td>312364.0</td>\n      <td>росбизнесцентр</td>\n      <td>8</td>\n      <td>224</td>\n    </tr>\n    <tr>\n      <th>2</th>\n      <td>21000.0</td>\n      <td>0.614286</td>\n      <td>1</td>\n      <td>1</td>\n      <td>3.0</td>\n      <td>0</td>\n      <td>1</td>\n      <td>1</td>\n      <td>4</td>\n      <td>0</td>\n      <td>...</td>\n      <td>3</td>\n      <td>8.170000</td>\n      <td>NaN</td>\n      <td>NaN</td>\n      <td>55.159627</td>\n      <td>61.381623</td>\n      <td>1196680.0</td>\n      <td>элис</td>\n      <td>8</td>\n      <td>268</td>\n    </tr>\n    <tr>\n      <th>3</th>\n      <td>21000.0</td>\n      <td>0.614286</td>\n      <td>1</td>\n      <td>1</td>\n      <td>3.0</td>\n      <td>0</td>\n      <td>1</td>\n      <td>1</td>\n      <td>4</td>\n      <td>0</td>\n      <td>...</td>\n      <td>3</td>\n      <td>8.170000</td>\n      <td>55.075986</td>\n      <td>61.383371</td>\n      <td>55.159627</td>\n      <td>61.381623</td>\n      <td>1196680.0</td>\n      <td>элис</td>\n      <td>8</td>\n      <td>268</td>\n    </tr>\n    <tr>\n      <th>4</th>\n      <td>21000.0</td>\n      <td>0.614286</td>\n      <td>1</td>\n      <td>1</td>\n      <td>3.0</td>\n      <td>0</td>\n      <td>1</td>\n      <td>1</td>\n      <td>4</td>\n      <td>0</td>\n      <td>...</td>\n      <td>3</td>\n      <td>8.170000</td>\n      <td>55.120796</td>\n      <td>61.481804</td>\n      <td>55.159627</td>\n      <td>61.381623</td>\n      <td>1196680.0</td>\n      <td>элис</td>\n      <td>8</td>\n      <td>268</td>\n    </tr>\n    <tr>\n      <th>...</th>\n      <td>...</td>\n      <td>...</td>\n      <td>...</td>\n      <td>...</td>\n      <td>...</td>\n      <td>...</td>\n      <td>...</td>\n      <td>...</td>\n      <td>...</td>\n      <td>...</td>\n      <td>...</td>\n      <td>...</td>\n      <td>...</td>\n      <td>...</td>\n      <td>...</td>\n      <td>...</td>\n      <td>...</td>\n      <td>...</td>\n      <td>...</td>\n      <td>...</td>\n      <td>...</td>\n    </tr>\n    <tr>\n      <th>42793</th>\n      <td>18250.0</td>\n      <td>0.208000</td>\n      <td>2</td>\n      <td>8</td>\n      <td>1.0</td>\n      <td>1</td>\n      <td>2</td>\n      <td>0</td>\n      <td>4</td>\n      <td>2</td>\n      <td>...</td>\n      <td>3</td>\n      <td>2.037000</td>\n      <td>58.046859</td>\n      <td>56.123127</td>\n      <td>57.992740</td>\n      <td>56.180762</td>\n      <td>1055397.0</td>\n      <td>рим</td>\n      <td>8</td>\n      <td>222</td>\n    </tr>\n    <tr>\n      <th>42794</th>\n      <td>18250.0</td>\n      <td>0.208000</td>\n      <td>2</td>\n      <td>8</td>\n      <td>1.0</td>\n      <td>1</td>\n      <td>2</td>\n      <td>0</td>\n      <td>4</td>\n      <td>2</td>\n      <td>...</td>\n      <td>3</td>\n      <td>2.037000</td>\n      <td>58.048149</td>\n      <td>56.223592</td>\n      <td>57.992740</td>\n      <td>56.180762</td>\n      <td>1055397.0</td>\n      <td>рим</td>\n      <td>8</td>\n      <td>222</td>\n    </tr>\n    <tr>\n      <th>42795</th>\n      <td>10000.0</td>\n      <td>0.550000</td>\n      <td>3</td>\n      <td>3</td>\n      <td>0.0</td>\n      <td>1</td>\n      <td>0</td>\n      <td>2</td>\n      <td>3</td>\n      <td>0</td>\n      <td>...</td>\n      <td>1</td>\n      <td>7.980000</td>\n      <td>57.371330</td>\n      <td>65.823933</td>\n      <td>57.143039</td>\n      <td>65.586761</td>\n      <td>807271.0</td>\n      <td>деловой мир</td>\n      <td>8</td>\n      <td>112</td>\n    </tr>\n    <tr>\n      <th>42796</th>\n      <td>28000.0</td>\n      <td>0.300000</td>\n      <td>2</td>\n      <td>8</td>\n      <td>1.0</td>\n      <td>1</td>\n      <td>2</td>\n      <td>0</td>\n      <td>4</td>\n      <td>0</td>\n      <td>...</td>\n      <td>3</td>\n      <td>2.434286</td>\n      <td>56.839104</td>\n      <td>60.608250</td>\n      <td>56.804553</td>\n      <td>60.650616</td>\n      <td>1493749.0</td>\n      <td>реклама сервис</td>\n      <td>8</td>\n      <td>208</td>\n    </tr>\n    <tr>\n      <th>42797</th>\n      <td>25000.0</td>\n      <td>0.640000</td>\n      <td>3</td>\n      <td>4</td>\n      <td>1.0</td>\n      <td>1</td>\n      <td>2</td>\n      <td>1</td>\n      <td>3</td>\n      <td>0</td>\n      <td>...</td>\n      <td>4</td>\n      <td>2.680000</td>\n      <td>57.371330</td>\n      <td>65.823933</td>\n      <td>57.171879</td>\n      <td>65.554454</td>\n      <td>807271.0</td>\n      <td>лайф</td>\n      <td>8</td>\n      <td>141</td>\n    </tr>\n  </tbody>\n</table>\n<p>42798 rows × 21 columns</p>\n</div>"
     },
     "execution_count": 5,
     "metadata": {},
     "output_type": "execute_result"
    }
   ],
   "source": [
    "df"
   ],
   "metadata": {
    "collapsed": false,
    "pycharm": {
     "name": "#%%\n"
    }
   }
  },
  {
   "cell_type": "code",
   "execution_count": 20,
   "outputs": [
    {
     "data": {
      "text/plain": "<AxesSubplot:ylabel='Count'>"
     },
     "execution_count": 20,
     "metadata": {},
     "output_type": "execute_result"
    },
    {
     "data": {
      "text/plain": "<Figure size 640x480 with 1 Axes>",
      "image/png": "[encoded data removed]"
     },
     "metadata": {},
     "output_type": "display_data"
    }
   ],
   "source": [
    "sns.histplot  (preprocessing.PowerTransformer (standardize=False ).fit_transform( np.array(df['Discount']).reshape(-1,1)), kde=True )"
   ],
   "metadata": {
    "collapsed": false,
    "pycharm": {
     "name": "#%%\n"
    }
   }
  },
  {
   "cell_type": "code",
   "execution_count": 11,
   "outputs": [
    {
     "data": {
      "text/plain": "(array([1.000e+01, 1.000e+00, 2.000e+00, 1.000e+00, 0.000e+00, 0.000e+00,\n        0.000e+00, 1.000e+00, 0.000e+00, 0.000e+00, 1.000e+00, 0.000e+00,\n        0.000e+00, 7.000e+00, 2.000e+00, 0.000e+00, 7.000e+00, 0.000e+00,\n        7.000e+00, 6.000e+00, 2.000e+00, 3.200e+01, 6.900e+01, 4.200e+01,\n        7.000e+00, 8.400e+01, 9.800e+01, 4.800e+01, 1.777e+03, 7.510e+02,\n        9.590e+02, 2.148e+03, 2.092e+03, 2.393e+03, 3.148e+03, 3.066e+03,\n        3.440e+03, 5.482e+03, 3.195e+03, 4.770e+03, 2.775e+03, 1.801e+03,\n        1.727e+03, 1.594e+03, 5.070e+02, 3.420e+02, 2.510e+02, 9.500e+01,\n        1.500e+01, 4.300e+01]),\n array([-1.25      , -1.20549538, -1.16099077, -1.11648615, -1.07198154,\n        -1.02747692, -0.98297231, -0.93846769, -0.89396308, -0.84945846,\n        -0.80495385, -0.76044923, -0.71594462, -0.67144   , -0.62693538,\n        -0.58243077, -0.53792615, -0.49342154, -0.44891692, -0.40441231,\n        -0.35990769, -0.31540308, -0.27089846, -0.22639385, -0.18188923,\n        -0.13738462, -0.09288   , -0.04837538, -0.00387077,  0.04063385,\n         0.08513846,  0.12964308,  0.17414769,  0.21865231,  0.26315692,\n         0.30766154,  0.35216615,  0.39667077,  0.44117538,  0.48568   ,\n         0.53018462,  0.57468923,  0.61919385,  0.66369846,  0.70820308,\n         0.75270769,  0.79721231,  0.84171692,  0.88622154,  0.93072615,\n         0.97523077]),\n <BarContainer object of 50 artists>)"
     },
     "execution_count": 11,
     "metadata": {},
     "output_type": "execute_result"
    },
    {
     "data": {
      "text/plain": "<Figure size 640x480 with 1 Axes>",
      "image/png": "[encoded data removed]"
     },
     "metadata": {},
     "output_type": "display_data"
    }
   ],
   "source": [
    "plt.hist (df['Discount'], 50)"
   ],
   "metadata": {
    "collapsed": false,
    "pycharm": {
     "name": "#%%\n"
    }
   }
  },
  {
   "cell_type": "code",
   "execution_count": 5,
   "metadata": {
    "colab": {
     "base_uri": "https://localhost:8080/"
    },
    "id": "EXaJ2CN-5yOh",
    "outputId": "8e721afd-3b11-4bf2-fa9a-60d353019338",
    "pycharm": {
     "name": "#%%\n"
    }
   },
   "outputs": [
    {
     "data": {
      "text/html": [
       "<style type=\"text/css\">\n",
       "#T_074ca_row3_col1, #T_074ca_row42_col1 {\n",
       "  background-color: lightgreen;\n",
       "}\n",
       "</style>\n",
       "<table id=\"T_074ca\">\n",
       "  <thead>\n",
       "    <tr>\n",
       "      <th class=\"blank level0\" >&nbsp;</th>\n",
       "      <th id=\"T_074ca_level0_col0\" class=\"col_heading level0 col0\" >Description</th>\n",
       "      <th id=\"T_074ca_level0_col1\" class=\"col_heading level0 col1\" >Value</th>\n",
       "    </tr>\n",
       "  </thead>\n",
       "  <tbody>\n",
       "    <tr>\n",
       "      <th id=\"T_074ca_level0_row0\" class=\"row_heading level0 row0\" >0</th>\n",
       "      <td id=\"T_074ca_row0_col0\" class=\"data row0 col0\" >session_id</td>\n",
       "      <td id=\"T_074ca_row0_col1\" class=\"data row0 col1\" >2668</td>\n",
       "    </tr>\n",
       "    <tr>\n",
       "      <th id=\"T_074ca_level0_row1\" class=\"row_heading level0 row1\" >1</th>\n",
       "      <td id=\"T_074ca_row1_col0\" class=\"data row1 col0\" >Target</td>\n",
       "      <td id=\"T_074ca_row1_col1\" class=\"data row1 col1\" >Discount</td>\n",
       "    </tr>\n",
       "    <tr>\n",
       "      <th id=\"T_074ca_level0_row2\" class=\"row_heading level0 row2\" >2</th>\n",
       "      <td id=\"T_074ca_row2_col0\" class=\"data row2 col0\" >Original Data</td>\n",
       "      <td id=\"T_074ca_row2_col1\" class=\"data row2 col1\" >(42798, 21)</td>\n",
       "    </tr>\n",
       "    <tr>\n",
       "      <th id=\"T_074ca_level0_row3\" class=\"row_heading level0 row3\" >3</th>\n",
       "      <td id=\"T_074ca_row3_col0\" class=\"data row3 col0\" >Missing Values</td>\n",
       "      <td id=\"T_074ca_row3_col1\" class=\"data row3 col1\" >True</td>\n",
       "    </tr>\n",
       "    <tr>\n",
       "      <th id=\"T_074ca_level0_row4\" class=\"row_heading level0 row4\" >4</th>\n",
       "      <td id=\"T_074ca_row4_col0\" class=\"data row4 col0\" >Numeric Features</td>\n",
       "      <td id=\"T_074ca_row4_col1\" class=\"data row4 col1\" >8</td>\n",
       "    </tr>\n",
       "    <tr>\n",
       "      <th id=\"T_074ca_level0_row5\" class=\"row_heading level0 row5\" >5</th>\n",
       "      <td id=\"T_074ca_row5_col0\" class=\"data row5 col0\" >Categorical Features</td>\n",
       "      <td id=\"T_074ca_row5_col1\" class=\"data row5 col1\" >12</td>\n",
       "    </tr>\n",
       "    <tr>\n",
       "      <th id=\"T_074ca_level0_row6\" class=\"row_heading level0 row6\" >6</th>\n",
       "      <td id=\"T_074ca_row6_col0\" class=\"data row6 col0\" >Ordinal Features</td>\n",
       "      <td id=\"T_074ca_row6_col1\" class=\"data row6 col1\" >False</td>\n",
       "    </tr>\n",
       "    <tr>\n",
       "      <th id=\"T_074ca_level0_row7\" class=\"row_heading level0 row7\" >7</th>\n",
       "      <td id=\"T_074ca_row7_col0\" class=\"data row7 col0\" >High Cardinality Features</td>\n",
       "      <td id=\"T_074ca_row7_col1\" class=\"data row7 col1\" >False</td>\n",
       "    </tr>\n",
       "    <tr>\n",
       "      <th id=\"T_074ca_level0_row8\" class=\"row_heading level0 row8\" >8</th>\n",
       "      <td id=\"T_074ca_row8_col0\" class=\"data row8 col0\" >High Cardinality Method</td>\n",
       "      <td id=\"T_074ca_row8_col1\" class=\"data row8 col1\" >None</td>\n",
       "    </tr>\n",
       "    <tr>\n",
       "      <th id=\"T_074ca_level0_row9\" class=\"row_heading level0 row9\" >9</th>\n",
       "      <td id=\"T_074ca_row9_col0\" class=\"data row9 col0\" >Transformed Train Set</td>\n",
       "      <td id=\"T_074ca_row9_col1\" class=\"data row9 col1\" >(29958, 355)</td>\n",
       "    </tr>\n",
       "    <tr>\n",
       "      <th id=\"T_074ca_level0_row10\" class=\"row_heading level0 row10\" >10</th>\n",
       "      <td id=\"T_074ca_row10_col0\" class=\"data row10 col0\" >Transformed Test Set</td>\n",
       "      <td id=\"T_074ca_row10_col1\" class=\"data row10 col1\" >(12840, 355)</td>\n",
       "    </tr>\n",
       "    <tr>\n",
       "      <th id=\"T_074ca_level0_row11\" class=\"row_heading level0 row11\" >11</th>\n",
       "      <td id=\"T_074ca_row11_col0\" class=\"data row11 col0\" >Shuffle Train-Test</td>\n",
       "      <td id=\"T_074ca_row11_col1\" class=\"data row11 col1\" >True</td>\n",
       "    </tr>\n",
       "    <tr>\n",
       "      <th id=\"T_074ca_level0_row12\" class=\"row_heading level0 row12\" >12</th>\n",
       "      <td id=\"T_074ca_row12_col0\" class=\"data row12 col0\" >Stratify Train-Test</td>\n",
       "      <td id=\"T_074ca_row12_col1\" class=\"data row12 col1\" >False</td>\n",
       "    </tr>\n",
       "    <tr>\n",
       "      <th id=\"T_074ca_level0_row13\" class=\"row_heading level0 row13\" >13</th>\n",
       "      <td id=\"T_074ca_row13_col0\" class=\"data row13 col0\" >Fold Generator</td>\n",
       "      <td id=\"T_074ca_row13_col1\" class=\"data row13 col1\" >KFold</td>\n",
       "    </tr>\n",
       "    <tr>\n",
       "      <th id=\"T_074ca_level0_row14\" class=\"row_heading level0 row14\" >14</th>\n",
       "      <td id=\"T_074ca_row14_col0\" class=\"data row14 col0\" >Fold Number</td>\n",
       "      <td id=\"T_074ca_row14_col1\" class=\"data row14 col1\" >10</td>\n",
       "    </tr>\n",
       "    <tr>\n",
       "      <th id=\"T_074ca_level0_row15\" class=\"row_heading level0 row15\" >15</th>\n",
       "      <td id=\"T_074ca_row15_col0\" class=\"data row15 col0\" >CPU Jobs</td>\n",
       "      <td id=\"T_074ca_row15_col1\" class=\"data row15 col1\" >-1</td>\n",
       "    </tr>\n",
       "    <tr>\n",
       "      <th id=\"T_074ca_level0_row16\" class=\"row_heading level0 row16\" >16</th>\n",
       "      <td id=\"T_074ca_row16_col0\" class=\"data row16 col0\" >Use GPU</td>\n",
       "      <td id=\"T_074ca_row16_col1\" class=\"data row16 col1\" >False</td>\n",
       "    </tr>\n",
       "    <tr>\n",
       "      <th id=\"T_074ca_level0_row17\" class=\"row_heading level0 row17\" >17</th>\n",
       "      <td id=\"T_074ca_row17_col0\" class=\"data row17 col0\" >Log Experiment</td>\n",
       "      <td id=\"T_074ca_row17_col1\" class=\"data row17 col1\" >False</td>\n",
       "    </tr>\n",
       "    <tr>\n",
       "      <th id=\"T_074ca_level0_row18\" class=\"row_heading level0 row18\" >18</th>\n",
       "      <td id=\"T_074ca_row18_col0\" class=\"data row18 col0\" >Experiment Name</td>\n",
       "      <td id=\"T_074ca_row18_col1\" class=\"data row18 col1\" >reg-default-name</td>\n",
       "    </tr>\n",
       "    <tr>\n",
       "      <th id=\"T_074ca_level0_row19\" class=\"row_heading level0 row19\" >19</th>\n",
       "      <td id=\"T_074ca_row19_col0\" class=\"data row19 col0\" >USI</td>\n",
       "      <td id=\"T_074ca_row19_col1\" class=\"data row19 col1\" >05b5</td>\n",
       "    </tr>\n",
       "    <tr>\n",
       "      <th id=\"T_074ca_level0_row20\" class=\"row_heading level0 row20\" >20</th>\n",
       "      <td id=\"T_074ca_row20_col0\" class=\"data row20 col0\" >Imputation Type</td>\n",
       "      <td id=\"T_074ca_row20_col1\" class=\"data row20 col1\" >simple</td>\n",
       "    </tr>\n",
       "    <tr>\n",
       "      <th id=\"T_074ca_level0_row21\" class=\"row_heading level0 row21\" >21</th>\n",
       "      <td id=\"T_074ca_row21_col0\" class=\"data row21 col0\" >Iterative Imputation Iteration</td>\n",
       "      <td id=\"T_074ca_row21_col1\" class=\"data row21 col1\" >None</td>\n",
       "    </tr>\n",
       "    <tr>\n",
       "      <th id=\"T_074ca_level0_row22\" class=\"row_heading level0 row22\" >22</th>\n",
       "      <td id=\"T_074ca_row22_col0\" class=\"data row22 col0\" >Numeric Imputer</td>\n",
       "      <td id=\"T_074ca_row22_col1\" class=\"data row22 col1\" >mean</td>\n",
       "    </tr>\n",
       "    <tr>\n",
       "      <th id=\"T_074ca_level0_row23\" class=\"row_heading level0 row23\" >23</th>\n",
       "      <td id=\"T_074ca_row23_col0\" class=\"data row23 col0\" >Iterative Imputation Numeric Model</td>\n",
       "      <td id=\"T_074ca_row23_col1\" class=\"data row23 col1\" >None</td>\n",
       "    </tr>\n",
       "    <tr>\n",
       "      <th id=\"T_074ca_level0_row24\" class=\"row_heading level0 row24\" >24</th>\n",
       "      <td id=\"T_074ca_row24_col0\" class=\"data row24 col0\" >Categorical Imputer</td>\n",
       "      <td id=\"T_074ca_row24_col1\" class=\"data row24 col1\" >constant</td>\n",
       "    </tr>\n",
       "    <tr>\n",
       "      <th id=\"T_074ca_level0_row25\" class=\"row_heading level0 row25\" >25</th>\n",
       "      <td id=\"T_074ca_row25_col0\" class=\"data row25 col0\" >Iterative Imputation Categorical Model</td>\n",
       "      <td id=\"T_074ca_row25_col1\" class=\"data row25 col1\" >None</td>\n",
       "    </tr>\n",
       "    <tr>\n",
       "      <th id=\"T_074ca_level0_row26\" class=\"row_heading level0 row26\" >26</th>\n",
       "      <td id=\"T_074ca_row26_col0\" class=\"data row26 col0\" >Unknown Categoricals Handling</td>\n",
       "      <td id=\"T_074ca_row26_col1\" class=\"data row26 col1\" >least_frequent</td>\n",
       "    </tr>\n",
       "    <tr>\n",
       "      <th id=\"T_074ca_level0_row27\" class=\"row_heading level0 row27\" >27</th>\n",
       "      <td id=\"T_074ca_row27_col0\" class=\"data row27 col0\" >Normalize</td>\n",
       "      <td id=\"T_074ca_row27_col1\" class=\"data row27 col1\" >False</td>\n",
       "    </tr>\n",
       "    <tr>\n",
       "      <th id=\"T_074ca_level0_row28\" class=\"row_heading level0 row28\" >28</th>\n",
       "      <td id=\"T_074ca_row28_col0\" class=\"data row28 col0\" >Normalize Method</td>\n",
       "      <td id=\"T_074ca_row28_col1\" class=\"data row28 col1\" >None</td>\n",
       "    </tr>\n",
       "    <tr>\n",
       "      <th id=\"T_074ca_level0_row29\" class=\"row_heading level0 row29\" >29</th>\n",
       "      <td id=\"T_074ca_row29_col0\" class=\"data row29 col0\" >Transformation</td>\n",
       "      <td id=\"T_074ca_row29_col1\" class=\"data row29 col1\" >False</td>\n",
       "    </tr>\n",
       "    <tr>\n",
       "      <th id=\"T_074ca_level0_row30\" class=\"row_heading level0 row30\" >30</th>\n",
       "      <td id=\"T_074ca_row30_col0\" class=\"data row30 col0\" >Transformation Method</td>\n",
       "      <td id=\"T_074ca_row30_col1\" class=\"data row30 col1\" >None</td>\n",
       "    </tr>\n",
       "    <tr>\n",
       "      <th id=\"T_074ca_level0_row31\" class=\"row_heading level0 row31\" >31</th>\n",
       "      <td id=\"T_074ca_row31_col0\" class=\"data row31 col0\" >PCA</td>\n",
       "      <td id=\"T_074ca_row31_col1\" class=\"data row31 col1\" >False</td>\n",
       "    </tr>\n",
       "    <tr>\n",
       "      <th id=\"T_074ca_level0_row32\" class=\"row_heading level0 row32\" >32</th>\n",
       "      <td id=\"T_074ca_row32_col0\" class=\"data row32 col0\" >PCA Method</td>\n",
       "      <td id=\"T_074ca_row32_col1\" class=\"data row32 col1\" >None</td>\n",
       "    </tr>\n",
       "    <tr>\n",
       "      <th id=\"T_074ca_level0_row33\" class=\"row_heading level0 row33\" >33</th>\n",
       "      <td id=\"T_074ca_row33_col0\" class=\"data row33 col0\" >PCA Components</td>\n",
       "      <td id=\"T_074ca_row33_col1\" class=\"data row33 col1\" >None</td>\n",
       "    </tr>\n",
       "    <tr>\n",
       "      <th id=\"T_074ca_level0_row34\" class=\"row_heading level0 row34\" >34</th>\n",
       "      <td id=\"T_074ca_row34_col0\" class=\"data row34 col0\" >Ignore Low Variance</td>\n",
       "      <td id=\"T_074ca_row34_col1\" class=\"data row34 col1\" >False</td>\n",
       "    </tr>\n",
       "    <tr>\n",
       "      <th id=\"T_074ca_level0_row35\" class=\"row_heading level0 row35\" >35</th>\n",
       "      <td id=\"T_074ca_row35_col0\" class=\"data row35 col0\" >Combine Rare Levels</td>\n",
       "      <td id=\"T_074ca_row35_col1\" class=\"data row35 col1\" >False</td>\n",
       "    </tr>\n",
       "    <tr>\n",
       "      <th id=\"T_074ca_level0_row36\" class=\"row_heading level0 row36\" >36</th>\n",
       "      <td id=\"T_074ca_row36_col0\" class=\"data row36 col0\" >Rare Level Threshold</td>\n",
       "      <td id=\"T_074ca_row36_col1\" class=\"data row36 col1\" >None</td>\n",
       "    </tr>\n",
       "    <tr>\n",
       "      <th id=\"T_074ca_level0_row37\" class=\"row_heading level0 row37\" >37</th>\n",
       "      <td id=\"T_074ca_row37_col0\" class=\"data row37 col0\" >Numeric Binning</td>\n",
       "      <td id=\"T_074ca_row37_col1\" class=\"data row37 col1\" >False</td>\n",
       "    </tr>\n",
       "    <tr>\n",
       "      <th id=\"T_074ca_level0_row38\" class=\"row_heading level0 row38\" >38</th>\n",
       "      <td id=\"T_074ca_row38_col0\" class=\"data row38 col0\" >Remove Outliers</td>\n",
       "      <td id=\"T_074ca_row38_col1\" class=\"data row38 col1\" >False</td>\n",
       "    </tr>\n",
       "    <tr>\n",
       "      <th id=\"T_074ca_level0_row39\" class=\"row_heading level0 row39\" >39</th>\n",
       "      <td id=\"T_074ca_row39_col0\" class=\"data row39 col0\" >Outliers Threshold</td>\n",
       "      <td id=\"T_074ca_row39_col1\" class=\"data row39 col1\" >None</td>\n",
       "    </tr>\n",
       "    <tr>\n",
       "      <th id=\"T_074ca_level0_row40\" class=\"row_heading level0 row40\" >40</th>\n",
       "      <td id=\"T_074ca_row40_col0\" class=\"data row40 col0\" >Remove Multicollinearity</td>\n",
       "      <td id=\"T_074ca_row40_col1\" class=\"data row40 col1\" >False</td>\n",
       "    </tr>\n",
       "    <tr>\n",
       "      <th id=\"T_074ca_level0_row41\" class=\"row_heading level0 row41\" >41</th>\n",
       "      <td id=\"T_074ca_row41_col0\" class=\"data row41 col0\" >Multicollinearity Threshold</td>\n",
       "      <td id=\"T_074ca_row41_col1\" class=\"data row41 col1\" >None</td>\n",
       "    </tr>\n",
       "    <tr>\n",
       "      <th id=\"T_074ca_level0_row42\" class=\"row_heading level0 row42\" >42</th>\n",
       "      <td id=\"T_074ca_row42_col0\" class=\"data row42 col0\" >Remove Perfect Collinearity</td>\n",
       "      <td id=\"T_074ca_row42_col1\" class=\"data row42 col1\" >True</td>\n",
       "    </tr>\n",
       "    <tr>\n",
       "      <th id=\"T_074ca_level0_row43\" class=\"row_heading level0 row43\" >43</th>\n",
       "      <td id=\"T_074ca_row43_col0\" class=\"data row43 col0\" >Clustering</td>\n",
       "      <td id=\"T_074ca_row43_col1\" class=\"data row43 col1\" >False</td>\n",
       "    </tr>\n",
       "    <tr>\n",
       "      <th id=\"T_074ca_level0_row44\" class=\"row_heading level0 row44\" >44</th>\n",
       "      <td id=\"T_074ca_row44_col0\" class=\"data row44 col0\" >Clustering Iteration</td>\n",
       "      <td id=\"T_074ca_row44_col1\" class=\"data row44 col1\" >None</td>\n",
       "    </tr>\n",
       "    <tr>\n",
       "      <th id=\"T_074ca_level0_row45\" class=\"row_heading level0 row45\" >45</th>\n",
       "      <td id=\"T_074ca_row45_col0\" class=\"data row45 col0\" >Polynomial Features</td>\n",
       "      <td id=\"T_074ca_row45_col1\" class=\"data row45 col1\" >False</td>\n",
       "    </tr>\n",
       "    <tr>\n",
       "      <th id=\"T_074ca_level0_row46\" class=\"row_heading level0 row46\" >46</th>\n",
       "      <td id=\"T_074ca_row46_col0\" class=\"data row46 col0\" >Polynomial Degree</td>\n",
       "      <td id=\"T_074ca_row46_col1\" class=\"data row46 col1\" >None</td>\n",
       "    </tr>\n",
       "    <tr>\n",
       "      <th id=\"T_074ca_level0_row47\" class=\"row_heading level0 row47\" >47</th>\n",
       "      <td id=\"T_074ca_row47_col0\" class=\"data row47 col0\" >Trignometry Features</td>\n",
       "      <td id=\"T_074ca_row47_col1\" class=\"data row47 col1\" >False</td>\n",
       "    </tr>\n",
       "    <tr>\n",
       "      <th id=\"T_074ca_level0_row48\" class=\"row_heading level0 row48\" >48</th>\n",
       "      <td id=\"T_074ca_row48_col0\" class=\"data row48 col0\" >Polynomial Threshold</td>\n",
       "      <td id=\"T_074ca_row48_col1\" class=\"data row48 col1\" >None</td>\n",
       "    </tr>\n",
       "    <tr>\n",
       "      <th id=\"T_074ca_level0_row49\" class=\"row_heading level0 row49\" >49</th>\n",
       "      <td id=\"T_074ca_row49_col0\" class=\"data row49 col0\" >Group Features</td>\n",
       "      <td id=\"T_074ca_row49_col1\" class=\"data row49 col1\" >False</td>\n",
       "    </tr>\n",
       "    <tr>\n",
       "      <th id=\"T_074ca_level0_row50\" class=\"row_heading level0 row50\" >50</th>\n",
       "      <td id=\"T_074ca_row50_col0\" class=\"data row50 col0\" >Feature Selection</td>\n",
       "      <td id=\"T_074ca_row50_col1\" class=\"data row50 col1\" >False</td>\n",
       "    </tr>\n",
       "    <tr>\n",
       "      <th id=\"T_074ca_level0_row51\" class=\"row_heading level0 row51\" >51</th>\n",
       "      <td id=\"T_074ca_row51_col0\" class=\"data row51 col0\" >Feature Selection Method</td>\n",
       "      <td id=\"T_074ca_row51_col1\" class=\"data row51 col1\" >classic</td>\n",
       "    </tr>\n",
       "    <tr>\n",
       "      <th id=\"T_074ca_level0_row52\" class=\"row_heading level0 row52\" >52</th>\n",
       "      <td id=\"T_074ca_row52_col0\" class=\"data row52 col0\" >Features Selection Threshold</td>\n",
       "      <td id=\"T_074ca_row52_col1\" class=\"data row52 col1\" >None</td>\n",
       "    </tr>\n",
       "    <tr>\n",
       "      <th id=\"T_074ca_level0_row53\" class=\"row_heading level0 row53\" >53</th>\n",
       "      <td id=\"T_074ca_row53_col0\" class=\"data row53 col0\" >Feature Interaction</td>\n",
       "      <td id=\"T_074ca_row53_col1\" class=\"data row53 col1\" >False</td>\n",
       "    </tr>\n",
       "    <tr>\n",
       "      <th id=\"T_074ca_level0_row54\" class=\"row_heading level0 row54\" >54</th>\n",
       "      <td id=\"T_074ca_row54_col0\" class=\"data row54 col0\" >Feature Ratio</td>\n",
       "      <td id=\"T_074ca_row54_col1\" class=\"data row54 col1\" >False</td>\n",
       "    </tr>\n",
       "    <tr>\n",
       "      <th id=\"T_074ca_level0_row55\" class=\"row_heading level0 row55\" >55</th>\n",
       "      <td id=\"T_074ca_row55_col0\" class=\"data row55 col0\" >Interaction Threshold</td>\n",
       "      <td id=\"T_074ca_row55_col1\" class=\"data row55 col1\" >None</td>\n",
       "    </tr>\n",
       "    <tr>\n",
       "      <th id=\"T_074ca_level0_row56\" class=\"row_heading level0 row56\" >56</th>\n",
       "      <td id=\"T_074ca_row56_col0\" class=\"data row56 col0\" >Transform Target</td>\n",
       "      <td id=\"T_074ca_row56_col1\" class=\"data row56 col1\" >False</td>\n",
       "    </tr>\n",
       "    <tr>\n",
       "      <th id=\"T_074ca_level0_row57\" class=\"row_heading level0 row57\" >57</th>\n",
       "      <td id=\"T_074ca_row57_col0\" class=\"data row57 col0\" >Transform Target Method</td>\n",
       "      <td id=\"T_074ca_row57_col1\" class=\"data row57 col1\" >box-cox</td>\n",
       "    </tr>\n",
       "  </tbody>\n",
       "</table>\n"
      ],
      "text/plain": [
       "<pandas.io.formats.style.Styler at 0x27642e22be0>"
      ]
     },
     "metadata": {},
     "output_type": "display_data"
    }
   ],
   "source": [
    "from pycaret.regression import *\n",
    "s = setup(df,  target='Discount' ,  use_gpu = True , n_jobs = 1, polynomial_features = True, train_size = 0.75, fold = 5, imputation_type='iterative')"
   ]
  },
  {
   "cell_type": "code",
   "execution_count": null,
   "metadata": {
    "pycharm": {
     "is_executing": true,
     "name": "#%%\n"
    }
   },
   "outputs": [
    {
     "data": {
      "application/vnd.jupyter.widget-view+json": {
       "model_id": "c1f2af3cd7b34fb19fc9e1e33dba18ef",
       "version_major": 2,
       "version_minor": 0
      },
      "text/plain": [
       "IntProgress(value=0, description='Processing: ', max=99)"
      ]
     },
     "metadata": {},
     "output_type": "display_data"
    },
    {
     "data": {
      "text/html": [
       "<div>\n",
       "<style scoped>\n",
       "    .dataframe tbody tr th:only-of-type {\n",
       "        vertical-align: middle;\n",
       "    }\n",
       "\n",
       "    .dataframe tbody tr th {\n",
       "        vertical-align: top;\n",
       "    }\n",
       "\n",
       "    .dataframe thead th {\n",
       "        text-align: right;\n",
       "    }\n",
       "</style>\n",
       "<table border=\"1\" class=\"dataframe\">\n",
       "  <thead>\n",
       "    <tr style=\"text-align: right;\">\n",
       "      <th></th>\n",
       "      <th></th>\n",
       "      <th></th>\n",
       "    </tr>\n",
       "    <tr>\n",
       "      <th></th>\n",
       "      <th></th>\n",
       "      <th></th>\n",
       "    </tr>\n",
       "  </thead>\n",
       "  <tbody>\n",
       "    <tr>\n",
       "      <th>Initiated</th>\n",
       "      <td>. . . . . . . . . . . . . . . . . .</td>\n",
       "      <td>01:21:08</td>\n",
       "    </tr>\n",
       "    <tr>\n",
       "      <th>Status</th>\n",
       "      <td>. . . . . . . . . . . . . . . . . .</td>\n",
       "      <td>Loading Dependencies</td>\n",
       "    </tr>\n",
       "    <tr>\n",
       "      <th>Estimator</th>\n",
       "      <td>. . . . . . . . . . . . . . . . . .</td>\n",
       "      <td>Compiling Library</td>\n",
       "    </tr>\n",
       "  </tbody>\n",
       "</table>\n",
       "</div>"
      ],
      "text/plain": [
       "                                                                    \n",
       "                                                                    \n",
       "Initiated  . . . . . . . . . . . . . . . . . .              01:21:08\n",
       "Status     . . . . . . . . . . . . . . . . . .  Loading Dependencies\n",
       "Estimator  . . . . . . . . . . . . . . . . . .     Compiling Library"
      ]
     },
     "metadata": {},
     "output_type": "display_data"
    },
    {
     "data": {
      "text/html": [
       "<div>\n",
       "<style scoped>\n",
       "    .dataframe tbody tr th:only-of-type {\n",
       "        vertical-align: middle;\n",
       "    }\n",
       "\n",
       "    .dataframe tbody tr th {\n",
       "        vertical-align: top;\n",
       "    }\n",
       "\n",
       "    .dataframe thead th {\n",
       "        text-align: right;\n",
       "    }\n",
       "</style>\n",
       "<table border=\"1\" class=\"dataframe\">\n",
       "  <thead>\n",
       "    <tr style=\"text-align: right;\">\n",
       "      <th></th>\n",
       "      <th>Model</th>\n",
       "      <th>MAE</th>\n",
       "      <th>MSE</th>\n",
       "      <th>RMSE</th>\n",
       "      <th>R2</th>\n",
       "      <th>RMSLE</th>\n",
       "      <th>MAPE</th>\n",
       "      <th>TT (Sec)</th>\n",
       "    </tr>\n",
       "  </thead>\n",
       "  <tbody>\n",
       "  </tbody>\n",
       "</table>\n",
       "</div>"
      ],
      "text/plain": [
       "Empty DataFrame\n",
       "Columns: [Model, MAE, MSE, RMSE, R2, RMSLE, MAPE, TT (Sec)]\n",
       "Index: []"
      ]
     },
     "metadata": {},
     "output_type": "display_data"
    }
   ],
   "source": [
    "\n"
   ]
  },
  {
   "cell_type": "code",
   "execution_count": 20,
   "metadata": {
    "pycharm": {
     "name": "#%%\n"
    }
   },
   "outputs": [
    {
     "data": {
      "text/html": [
       "<div>\n",
       "<style scoped>\n",
       "    .dataframe tbody tr th:only-of-type {\n",
       "        vertical-align: middle;\n",
       "    }\n",
       "\n",
       "    .dataframe tbody tr th {\n",
       "        vertical-align: top;\n",
       "    }\n",
       "\n",
       "    .dataframe thead th {\n",
       "        text-align: right;\n",
       "    }\n",
       "</style>\n",
       "<table border=\"1\" class=\"dataframe\">\n",
       "  <thead>\n",
       "    <tr style=\"text-align: right;\">\n",
       "      <th></th>\n",
       "      <th>Name</th>\n",
       "      <th>Reference</th>\n",
       "      <th>Turbo</th>\n",
       "    </tr>\n",
       "    <tr>\n",
       "      <th>ID</th>\n",
       "      <th></th>\n",
       "      <th></th>\n",
       "      <th></th>\n",
       "    </tr>\n",
       "  </thead>\n",
       "  <tbody>\n",
       "    <tr>\n",
       "      <th>lr</th>\n",
       "      <td>Linear Regression</td>\n",
       "      <td>sklearn.linear_model._base.LinearRegression</td>\n",
       "      <td>True</td>\n",
       "    </tr>\n",
       "    <tr>\n",
       "      <th>lasso</th>\n",
       "      <td>Lasso Regression</td>\n",
       "      <td>sklearn.linear_model._coordinate_descent.Lasso</td>\n",
       "      <td>True</td>\n",
       "    </tr>\n",
       "    <tr>\n",
       "      <th>ridge</th>\n",
       "      <td>Ridge Regression</td>\n",
       "      <td>sklearn.linear_model._ridge.Ridge</td>\n",
       "      <td>True</td>\n",
       "    </tr>\n",
       "    <tr>\n",
       "      <th>en</th>\n",
       "      <td>Elastic Net</td>\n",
       "      <td>sklearn.linear_model._coordinate_descent.Elast...</td>\n",
       "      <td>True</td>\n",
       "    </tr>\n",
       "    <tr>\n",
       "      <th>lar</th>\n",
       "      <td>Least Angle Regression</td>\n",
       "      <td>sklearn.linear_model._least_angle.Lars</td>\n",
       "      <td>True</td>\n",
       "    </tr>\n",
       "    <tr>\n",
       "      <th>llar</th>\n",
       "      <td>Lasso Least Angle Regression</td>\n",
       "      <td>sklearn.linear_model._least_angle.LassoLars</td>\n",
       "      <td>True</td>\n",
       "    </tr>\n",
       "    <tr>\n",
       "      <th>omp</th>\n",
       "      <td>Orthogonal Matching Pursuit</td>\n",
       "      <td>sklearn.linear_model._omp.OrthogonalMatchingPu...</td>\n",
       "      <td>True</td>\n",
       "    </tr>\n",
       "    <tr>\n",
       "      <th>br</th>\n",
       "      <td>Bayesian Ridge</td>\n",
       "      <td>sklearn.linear_model._bayes.BayesianRidge</td>\n",
       "      <td>True</td>\n",
       "    </tr>\n",
       "    <tr>\n",
       "      <th>ard</th>\n",
       "      <td>Automatic Relevance Determination</td>\n",
       "      <td>sklearn.linear_model._bayes.ARDRegression</td>\n",
       "      <td>False</td>\n",
       "    </tr>\n",
       "    <tr>\n",
       "      <th>par</th>\n",
       "      <td>Passive Aggressive Regressor</td>\n",
       "      <td>sklearn.linear_model._passive_aggressive.Passi...</td>\n",
       "      <td>True</td>\n",
       "    </tr>\n",
       "    <tr>\n",
       "      <th>ransac</th>\n",
       "      <td>Random Sample Consensus</td>\n",
       "      <td>sklearn.linear_model._ransac.RANSACRegressor</td>\n",
       "      <td>False</td>\n",
       "    </tr>\n",
       "    <tr>\n",
       "      <th>tr</th>\n",
       "      <td>TheilSen Regressor</td>\n",
       "      <td>sklearn.linear_model._theil_sen.TheilSenRegressor</td>\n",
       "      <td>False</td>\n",
       "    </tr>\n",
       "    <tr>\n",
       "      <th>huber</th>\n",
       "      <td>Huber Regressor</td>\n",
       "      <td>sklearn.linear_model._huber.HuberRegressor</td>\n",
       "      <td>True</td>\n",
       "    </tr>\n",
       "    <tr>\n",
       "      <th>kr</th>\n",
       "      <td>Kernel Ridge</td>\n",
       "      <td>sklearn.kernel_ridge.KernelRidge</td>\n",
       "      <td>False</td>\n",
       "    </tr>\n",
       "    <tr>\n",
       "      <th>svm</th>\n",
       "      <td>Support Vector Regression</td>\n",
       "      <td>sklearn.svm._classes.SVR</td>\n",
       "      <td>False</td>\n",
       "    </tr>\n",
       "    <tr>\n",
       "      <th>knn</th>\n",
       "      <td>K Neighbors Regressor</td>\n",
       "      <td>sklearn.neighbors._regression.KNeighborsRegressor</td>\n",
       "      <td>True</td>\n",
       "    </tr>\n",
       "    <tr>\n",
       "      <th>dt</th>\n",
       "      <td>Decision Tree Regressor</td>\n",
       "      <td>sklearn.tree._classes.DecisionTreeRegressor</td>\n",
       "      <td>True</td>\n",
       "    </tr>\n",
       "    <tr>\n",
       "      <th>rf</th>\n",
       "      <td>Random Forest Regressor</td>\n",
       "      <td>sklearn.ensemble._forest.RandomForestRegressor</td>\n",
       "      <td>True</td>\n",
       "    </tr>\n",
       "    <tr>\n",
       "      <th>et</th>\n",
       "      <td>Extra Trees Regressor</td>\n",
       "      <td>sklearn.ensemble._forest.ExtraTreesRegressor</td>\n",
       "      <td>True</td>\n",
       "    </tr>\n",
       "    <tr>\n",
       "      <th>ada</th>\n",
       "      <td>AdaBoost Regressor</td>\n",
       "      <td>sklearn.ensemble._weight_boosting.AdaBoostRegr...</td>\n",
       "      <td>True</td>\n",
       "    </tr>\n",
       "    <tr>\n",
       "      <th>gbr</th>\n",
       "      <td>Gradient Boosting Regressor</td>\n",
       "      <td>sklearn.ensemble._gb.GradientBoostingRegressor</td>\n",
       "      <td>True</td>\n",
       "    </tr>\n",
       "    <tr>\n",
       "      <th>mlp</th>\n",
       "      <td>MLP Regressor</td>\n",
       "      <td>sklearn.neural_network._multilayer_perceptron....</td>\n",
       "      <td>False</td>\n",
       "    </tr>\n",
       "    <tr>\n",
       "      <th>xgboost</th>\n",
       "      <td>Extreme Gradient Boosting</td>\n",
       "      <td>xgboost.sklearn.XGBRegressor</td>\n",
       "      <td>True</td>\n",
       "    </tr>\n",
       "    <tr>\n",
       "      <th>lightgbm</th>\n",
       "      <td>Light Gradient Boosting Machine</td>\n",
       "      <td>lightgbm.sklearn.LGBMRegressor</td>\n",
       "      <td>True</td>\n",
       "    </tr>\n",
       "    <tr>\n",
       "      <th>dummy</th>\n",
       "      <td>Dummy Regressor</td>\n",
       "      <td>sklearn.dummy.DummyRegressor</td>\n",
       "      <td>True</td>\n",
       "    </tr>\n",
       "  </tbody>\n",
       "</table>\n",
       "</div>"
      ],
      "text/plain": [
       "                                       Name  \\\n",
       "ID                                            \n",
       "lr                        Linear Regression   \n",
       "lasso                      Lasso Regression   \n",
       "ridge                      Ridge Regression   \n",
       "en                              Elastic Net   \n",
       "lar                  Least Angle Regression   \n",
       "llar           Lasso Least Angle Regression   \n",
       "omp             Orthogonal Matching Pursuit   \n",
       "br                           Bayesian Ridge   \n",
       "ard       Automatic Relevance Determination   \n",
       "par            Passive Aggressive Regressor   \n",
       "ransac              Random Sample Consensus   \n",
       "tr                       TheilSen Regressor   \n",
       "huber                       Huber Regressor   \n",
       "kr                             Kernel Ridge   \n",
       "svm               Support Vector Regression   \n",
       "knn                   K Neighbors Regressor   \n",
       "dt                  Decision Tree Regressor   \n",
       "rf                  Random Forest Regressor   \n",
       "et                    Extra Trees Regressor   \n",
       "ada                      AdaBoost Regressor   \n",
       "gbr             Gradient Boosting Regressor   \n",
       "mlp                           MLP Regressor   \n",
       "xgboost           Extreme Gradient Boosting   \n",
       "lightgbm    Light Gradient Boosting Machine   \n",
       "dummy                       Dummy Regressor   \n",
       "\n",
       "                                                  Reference  Turbo  \n",
       "ID                                                                  \n",
       "lr              sklearn.linear_model._base.LinearRegression   True  \n",
       "lasso        sklearn.linear_model._coordinate_descent.Lasso   True  \n",
       "ridge                     sklearn.linear_model._ridge.Ridge   True  \n",
       "en        sklearn.linear_model._coordinate_descent.Elast...   True  \n",
       "lar                  sklearn.linear_model._least_angle.Lars   True  \n",
       "llar            sklearn.linear_model._least_angle.LassoLars   True  \n",
       "omp       sklearn.linear_model._omp.OrthogonalMatchingPu...   True  \n",
       "br                sklearn.linear_model._bayes.BayesianRidge   True  \n",
       "ard               sklearn.linear_model._bayes.ARDRegression  False  \n",
       "par       sklearn.linear_model._passive_aggressive.Passi...   True  \n",
       "ransac         sklearn.linear_model._ransac.RANSACRegressor  False  \n",
       "tr        sklearn.linear_model._theil_sen.TheilSenRegressor  False  \n",
       "huber            sklearn.linear_model._huber.HuberRegressor   True  \n",
       "kr                         sklearn.kernel_ridge.KernelRidge  False  \n",
       "svm                                sklearn.svm._classes.SVR  False  \n",
       "knn       sklearn.neighbors._regression.KNeighborsRegressor   True  \n",
       "dt              sklearn.tree._classes.DecisionTreeRegressor   True  \n",
       "rf           sklearn.ensemble._forest.RandomForestRegressor   True  \n",
       "et             sklearn.ensemble._forest.ExtraTreesRegressor   True  \n",
       "ada       sklearn.ensemble._weight_boosting.AdaBoostRegr...   True  \n",
       "gbr          sklearn.ensemble._gb.GradientBoostingRegressor   True  \n",
       "mlp       sklearn.neural_network._multilayer_perceptron....  False  \n",
       "xgboost                        xgboost.sklearn.XGBRegressor   True  \n",
       "lightgbm                     lightgbm.sklearn.LGBMRegressor   True  \n",
       "dummy                          sklearn.dummy.DummyRegressor   True  "
      ]
     },
     "execution_count": 20,
     "metadata": {},
     "output_type": "execute_result"
    }
   ],
   "source": [
    "models()"
   ]
  },
  {
   "cell_type": "code",
   "execution_count": 23,
   "metadata": {
    "pycharm": {
     "name": "#%%\n"
    }
   },
   "outputs": [
    {
     "data": {
      "application/vnd.jupyter.widget-view+json": {
       "model_id": "e35c39ba4ffd48babd9b96450fabb437",
       "version_major": 2,
       "version_minor": 0
      },
      "text/plain": [
       "IntProgress(value=0, description='Processing: ', max=4)"
      ]
     },
     "metadata": {},
     "output_type": "display_data"
    },
    {
     "data": {
      "text/html": [
       "<div>\n",
       "<style scoped>\n",
       "    .dataframe tbody tr th:only-of-type {\n",
       "        vertical-align: middle;\n",
       "    }\n",
       "\n",
       "    .dataframe tbody tr th {\n",
       "        vertical-align: top;\n",
       "    }\n",
       "\n",
       "    .dataframe thead th {\n",
       "        text-align: right;\n",
       "    }\n",
       "</style>\n",
       "<table border=\"1\" class=\"dataframe\">\n",
       "  <thead>\n",
       "    <tr style=\"text-align: right;\">\n",
       "      <th></th>\n",
       "      <th></th>\n",
       "      <th></th>\n",
       "    </tr>\n",
       "    <tr>\n",
       "      <th></th>\n",
       "      <th></th>\n",
       "      <th></th>\n",
       "    </tr>\n",
       "  </thead>\n",
       "  <tbody>\n",
       "    <tr>\n",
       "      <th>Initiated</th>\n",
       "      <td>. . . . . . . . . . . . . . . . . .</td>\n",
       "      <td>01:09:16</td>\n",
       "    </tr>\n",
       "    <tr>\n",
       "      <th>Status</th>\n",
       "      <td>. . . . . . . . . . . . . . . . . .</td>\n",
       "      <td>Loading Dependencies</td>\n",
       "    </tr>\n",
       "    <tr>\n",
       "      <th>Estimator</th>\n",
       "      <td>. . . . . . . . . . . . . . . . . .</td>\n",
       "      <td>Compiling Library</td>\n",
       "    </tr>\n",
       "  </tbody>\n",
       "</table>\n",
       "</div>"
      ],
      "text/plain": [
       "                                                                    \n",
       "                                                                    \n",
       "Initiated  . . . . . . . . . . . . . . . . . .              01:09:16\n",
       "Status     . . . . . . . . . . . . . . . . . .  Loading Dependencies\n",
       "Estimator  . . . . . . . . . . . . . . . . . .     Compiling Library"
      ]
     },
     "metadata": {},
     "output_type": "display_data"
    },
    {
     "data": {
      "text/html": [
       "<div>\n",
       "<style scoped>\n",
       "    .dataframe tbody tr th:only-of-type {\n",
       "        vertical-align: middle;\n",
       "    }\n",
       "\n",
       "    .dataframe tbody tr th {\n",
       "        vertical-align: top;\n",
       "    }\n",
       "\n",
       "    .dataframe thead th {\n",
       "        text-align: right;\n",
       "    }\n",
       "</style>\n",
       "<table border=\"1\" class=\"dataframe\">\n",
       "  <thead>\n",
       "    <tr style=\"text-align: right;\">\n",
       "      <th></th>\n",
       "      <th>Fold</th>\n",
       "      <th>MAE</th>\n",
       "      <th>MSE</th>\n",
       "      <th>RMSE</th>\n",
       "      <th>R2</th>\n",
       "      <th>RMSLE</th>\n",
       "      <th>MAPE</th>\n",
       "    </tr>\n",
       "  </thead>\n",
       "  <tbody>\n",
       "  </tbody>\n",
       "</table>\n",
       "</div>"
      ],
      "text/plain": [
       "Empty DataFrame\n",
       "Columns: [Fold, MAE, MSE, RMSE, R2, RMSLE, MAPE]\n",
       "Index: []"
      ]
     },
     "metadata": {},
     "output_type": "display_data"
    },
    {
     "ename": "OSError",
     "evalue": "[Errno 22] Invalid argument",
     "output_type": "error",
     "traceback": [
      "\u001B[1;31m---------------------------------------------------------------------------\u001B[0m",
      "\u001B[1;31mOSError\u001B[0m                                   Traceback (most recent call last)",
      "Input \u001B[1;32mIn [23]\u001B[0m, in \u001B[0;36m<cell line: 1>\u001B[1;34m()\u001B[0m\n\u001B[1;32m----> 1\u001B[0m cbc \u001B[38;5;241m=\u001B[39m \u001B[43mcreate_model\u001B[49m\u001B[43m(\u001B[49m\u001B[38;5;124;43m'\u001B[39;49m\u001B[38;5;124;43mxgboost\u001B[39;49m\u001B[38;5;124;43m'\u001B[39;49m\u001B[43m)\u001B[49m\n",
      "File \u001B[1;32m~\\venv\\lib\\site-packages\\pycaret\\regression.py:946\u001B[0m, in \u001B[0;36mcreate_model\u001B[1;34m(estimator, fold, round, cross_validation, fit_kwargs, groups, verbose, return_train_score, **kwargs)\u001B[0m\n\u001B[0;32m    831\u001B[0m \u001B[38;5;28;01mdef\u001B[39;00m \u001B[38;5;21mcreate_model\u001B[39m(\n\u001B[0;32m    832\u001B[0m     estimator: Union[\u001B[38;5;28mstr\u001B[39m, Any],\n\u001B[0;32m    833\u001B[0m     fold: Optional[Union[\u001B[38;5;28mint\u001B[39m, Any]] \u001B[38;5;241m=\u001B[39m \u001B[38;5;28;01mNone\u001B[39;00m,\n\u001B[1;32m   (...)\u001B[0m\n\u001B[0;32m    840\u001B[0m     \u001B[38;5;241m*\u001B[39m\u001B[38;5;241m*\u001B[39mkwargs,\n\u001B[0;32m    841\u001B[0m ):\n\u001B[0;32m    843\u001B[0m     \u001B[38;5;124;03m\"\"\"\u001B[39;00m\n\u001B[0;32m    844\u001B[0m \u001B[38;5;124;03m    This function trains and evaluates the performance of a given estimator\u001B[39;00m\n\u001B[0;32m    845\u001B[0m \u001B[38;5;124;03m    using cross validation. The output of this function is a score grid with\u001B[39;00m\n\u001B[1;32m   (...)\u001B[0m\n\u001B[0;32m    943\u001B[0m \n\u001B[0;32m    944\u001B[0m \u001B[38;5;124;03m    \"\"\"\u001B[39;00m\n\u001B[1;32m--> 946\u001B[0m     \u001B[38;5;28;01mreturn\u001B[39;00m \u001B[43mpycaret\u001B[49m\u001B[38;5;241;43m.\u001B[39;49m\u001B[43minternal\u001B[49m\u001B[38;5;241;43m.\u001B[39;49m\u001B[43mtabular\u001B[49m\u001B[38;5;241;43m.\u001B[39;49m\u001B[43mcreate_model_supervised\u001B[49m\u001B[43m(\u001B[49m\n\u001B[0;32m    947\u001B[0m \u001B[43m        \u001B[49m\u001B[43mestimator\u001B[49m\u001B[38;5;241;43m=\u001B[39;49m\u001B[43mestimator\u001B[49m\u001B[43m,\u001B[49m\n\u001B[0;32m    948\u001B[0m \u001B[43m        \u001B[49m\u001B[43mfold\u001B[49m\u001B[38;5;241;43m=\u001B[39;49m\u001B[43mfold\u001B[49m\u001B[43m,\u001B[49m\n\u001B[0;32m    949\u001B[0m \u001B[43m        \u001B[49m\u001B[38;5;28;43mround\u001B[39;49m\u001B[38;5;241;43m=\u001B[39;49m\u001B[38;5;28;43mround\u001B[39;49m\u001B[43m,\u001B[49m\n\u001B[0;32m    950\u001B[0m \u001B[43m        \u001B[49m\u001B[43mcross_validation\u001B[49m\u001B[38;5;241;43m=\u001B[39;49m\u001B[43mcross_validation\u001B[49m\u001B[43m,\u001B[49m\n\u001B[0;32m    951\u001B[0m \u001B[43m        \u001B[49m\u001B[43mfit_kwargs\u001B[49m\u001B[38;5;241;43m=\u001B[39;49m\u001B[43mfit_kwargs\u001B[49m\u001B[43m,\u001B[49m\n\u001B[0;32m    952\u001B[0m \u001B[43m        \u001B[49m\u001B[43mgroups\u001B[49m\u001B[38;5;241;43m=\u001B[39;49m\u001B[43mgroups\u001B[49m\u001B[43m,\u001B[49m\n\u001B[0;32m    953\u001B[0m \u001B[43m        \u001B[49m\u001B[43mverbose\u001B[49m\u001B[38;5;241;43m=\u001B[39;49m\u001B[43mverbose\u001B[49m\u001B[43m,\u001B[49m\n\u001B[0;32m    954\u001B[0m \u001B[43m        \u001B[49m\u001B[43mreturn_train_score\u001B[49m\u001B[38;5;241;43m=\u001B[39;49m\u001B[43mreturn_train_score\u001B[49m\u001B[43m,\u001B[49m\n\u001B[0;32m    955\u001B[0m \u001B[43m        \u001B[49m\u001B[38;5;241;43m*\u001B[39;49m\u001B[38;5;241;43m*\u001B[39;49m\u001B[43mkwargs\u001B[49m\u001B[43m,\u001B[49m\n\u001B[0;32m    956\u001B[0m \u001B[43m    \u001B[49m\u001B[43m)\u001B[49m\n",
      "File \u001B[1;32m~\\venv\\lib\\site-packages\\pycaret\\internal\\tabular.py:3200\u001B[0m, in \u001B[0;36mcreate_model_supervised\u001B[1;34m(estimator, fold, round, cross_validation, predict, fit_kwargs, groups, refit, verbose, system, X_train_data, y_train_data, metrics, experiment_custom_tags, add_to_model_list, probability_threshold, display, return_train_score, **kwargs)\u001B[0m\n\u001B[0;32m   3197\u001B[0m logger\u001B[38;5;241m.\u001B[39minfo(\u001B[38;5;124mf\u001B[39m\u001B[38;5;124m\"\u001B[39m\u001B[38;5;124mCross validating with \u001B[39m\u001B[38;5;132;01m{\u001B[39;00mcv\u001B[38;5;132;01m}\u001B[39;00m\u001B[38;5;124m, n_jobs=\u001B[39m\u001B[38;5;132;01m{\u001B[39;00mn_jobs\u001B[38;5;132;01m}\u001B[39;00m\u001B[38;5;124m\"\u001B[39m)\n\u001B[0;32m   3199\u001B[0m model_fit_start \u001B[38;5;241m=\u001B[39m time\u001B[38;5;241m.\u001B[39mtime()\n\u001B[1;32m-> 3200\u001B[0m scores \u001B[38;5;241m=\u001B[39m \u001B[43mcross_validate\u001B[49m\u001B[43m(\u001B[49m\n\u001B[0;32m   3201\u001B[0m \u001B[43m    \u001B[49m\u001B[43mpipeline_with_model\u001B[49m\u001B[43m,\u001B[49m\n\u001B[0;32m   3202\u001B[0m \u001B[43m    \u001B[49m\u001B[43mdata_X\u001B[49m\u001B[43m,\u001B[49m\n\u001B[0;32m   3203\u001B[0m \u001B[43m    \u001B[49m\u001B[43mdata_y\u001B[49m\u001B[43m,\u001B[49m\n\u001B[0;32m   3204\u001B[0m \u001B[43m    \u001B[49m\u001B[43mcv\u001B[49m\u001B[38;5;241;43m=\u001B[39;49m\u001B[43mcv\u001B[49m\u001B[43m,\u001B[49m\n\u001B[0;32m   3205\u001B[0m \u001B[43m    \u001B[49m\u001B[43mgroups\u001B[49m\u001B[38;5;241;43m=\u001B[39;49m\u001B[43mgroups\u001B[49m\u001B[43m,\u001B[49m\n\u001B[0;32m   3206\u001B[0m \u001B[43m    \u001B[49m\u001B[43mscoring\u001B[49m\u001B[38;5;241;43m=\u001B[39;49m\u001B[43mmetrics_dict\u001B[49m\u001B[43m,\u001B[49m\n\u001B[0;32m   3207\u001B[0m \u001B[43m    \u001B[49m\u001B[43mfit_params\u001B[49m\u001B[38;5;241;43m=\u001B[39;49m\u001B[43mfit_kwargs\u001B[49m\u001B[43m,\u001B[49m\n\u001B[0;32m   3208\u001B[0m \u001B[43m    \u001B[49m\u001B[43mn_jobs\u001B[49m\u001B[38;5;241;43m=\u001B[39;49m\u001B[43mn_jobs\u001B[49m\u001B[43m,\u001B[49m\n\u001B[0;32m   3209\u001B[0m \u001B[43m    \u001B[49m\u001B[43mreturn_train_score\u001B[49m\u001B[38;5;241;43m=\u001B[39;49m\u001B[43mreturn_train_score\u001B[49m\u001B[43m,\u001B[49m\n\u001B[0;32m   3210\u001B[0m \u001B[43m    \u001B[49m\u001B[43merror_score\u001B[49m\u001B[38;5;241;43m=\u001B[39;49m\u001B[38;5;241;43m0\u001B[39;49m\u001B[43m,\u001B[49m\n\u001B[0;32m   3211\u001B[0m \u001B[43m\u001B[49m\u001B[43m)\u001B[49m\n\u001B[0;32m   3212\u001B[0m model_fit_end \u001B[38;5;241m=\u001B[39m time\u001B[38;5;241m.\u001B[39mtime()\n\u001B[0;32m   3213\u001B[0m model_fit_time \u001B[38;5;241m=\u001B[39m np\u001B[38;5;241m.\u001B[39marray(model_fit_end \u001B[38;5;241m-\u001B[39m model_fit_start)\u001B[38;5;241m.\u001B[39mround(\u001B[38;5;241m2\u001B[39m)\n",
      "File \u001B[1;32m~\\venv\\lib\\site-packages\\sklearn\\utils\\validation.py:72\u001B[0m, in \u001B[0;36m_deprecate_positional_args.<locals>.inner_f\u001B[1;34m(*args, **kwargs)\u001B[0m\n\u001B[0;32m     67\u001B[0m     warnings\u001B[38;5;241m.\u001B[39mwarn(\u001B[38;5;124m\"\u001B[39m\u001B[38;5;124mPass \u001B[39m\u001B[38;5;132;01m{}\u001B[39;00m\u001B[38;5;124m as keyword args. From version 0.25 \u001B[39m\u001B[38;5;124m\"\u001B[39m\n\u001B[0;32m     68\u001B[0m                   \u001B[38;5;124m\"\u001B[39m\u001B[38;5;124mpassing these as positional arguments will \u001B[39m\u001B[38;5;124m\"\u001B[39m\n\u001B[0;32m     69\u001B[0m                   \u001B[38;5;124m\"\u001B[39m\u001B[38;5;124mresult in an error\u001B[39m\u001B[38;5;124m\"\u001B[39m\u001B[38;5;241m.\u001B[39mformat(\u001B[38;5;124m\"\u001B[39m\u001B[38;5;124m, \u001B[39m\u001B[38;5;124m\"\u001B[39m\u001B[38;5;241m.\u001B[39mjoin(args_msg)),\n\u001B[0;32m     70\u001B[0m                   \u001B[38;5;167;01mFutureWarning\u001B[39;00m)\n\u001B[0;32m     71\u001B[0m kwargs\u001B[38;5;241m.\u001B[39mupdate({k: arg \u001B[38;5;28;01mfor\u001B[39;00m k, arg \u001B[38;5;129;01min\u001B[39;00m \u001B[38;5;28mzip\u001B[39m(sig\u001B[38;5;241m.\u001B[39mparameters, args)})\n\u001B[1;32m---> 72\u001B[0m \u001B[38;5;28;01mreturn\u001B[39;00m \u001B[43mf\u001B[49m\u001B[43m(\u001B[49m\u001B[38;5;241;43m*\u001B[39;49m\u001B[38;5;241;43m*\u001B[39;49m\u001B[43mkwargs\u001B[49m\u001B[43m)\u001B[49m\n",
      "File \u001B[1;32m~\\venv\\lib\\site-packages\\sklearn\\model_selection\\_validation.py:242\u001B[0m, in \u001B[0;36mcross_validate\u001B[1;34m(estimator, X, y, groups, scoring, cv, n_jobs, verbose, fit_params, pre_dispatch, return_train_score, return_estimator, error_score)\u001B[0m\n\u001B[0;32m    238\u001B[0m \u001B[38;5;66;03m# We clone the estimator to make sure that all the folds are\u001B[39;00m\n\u001B[0;32m    239\u001B[0m \u001B[38;5;66;03m# independent, and that it is pickle-able.\u001B[39;00m\n\u001B[0;32m    240\u001B[0m parallel \u001B[38;5;241m=\u001B[39m Parallel(n_jobs\u001B[38;5;241m=\u001B[39mn_jobs, verbose\u001B[38;5;241m=\u001B[39mverbose,\n\u001B[0;32m    241\u001B[0m                     pre_dispatch\u001B[38;5;241m=\u001B[39mpre_dispatch)\n\u001B[1;32m--> 242\u001B[0m scores \u001B[38;5;241m=\u001B[39m \u001B[43mparallel\u001B[49m\u001B[43m(\u001B[49m\n\u001B[0;32m    243\u001B[0m \u001B[43m    \u001B[49m\u001B[43mdelayed\u001B[49m\u001B[43m(\u001B[49m\u001B[43m_fit_and_score\u001B[49m\u001B[43m)\u001B[49m\u001B[43m(\u001B[49m\n\u001B[0;32m    244\u001B[0m \u001B[43m        \u001B[49m\u001B[43mclone\u001B[49m\u001B[43m(\u001B[49m\u001B[43mestimator\u001B[49m\u001B[43m)\u001B[49m\u001B[43m,\u001B[49m\u001B[43m \u001B[49m\u001B[43mX\u001B[49m\u001B[43m,\u001B[49m\u001B[43m \u001B[49m\u001B[43my\u001B[49m\u001B[43m,\u001B[49m\u001B[43m \u001B[49m\u001B[43mscorers\u001B[49m\u001B[43m,\u001B[49m\u001B[43m \u001B[49m\u001B[43mtrain\u001B[49m\u001B[43m,\u001B[49m\u001B[43m \u001B[49m\u001B[43mtest\u001B[49m\u001B[43m,\u001B[49m\u001B[43m \u001B[49m\u001B[43mverbose\u001B[49m\u001B[43m,\u001B[49m\u001B[43m \u001B[49m\u001B[38;5;28;43;01mNone\u001B[39;49;00m\u001B[43m,\u001B[49m\n\u001B[0;32m    245\u001B[0m \u001B[43m        \u001B[49m\u001B[43mfit_params\u001B[49m\u001B[43m,\u001B[49m\u001B[43m \u001B[49m\u001B[43mreturn_train_score\u001B[49m\u001B[38;5;241;43m=\u001B[39;49m\u001B[43mreturn_train_score\u001B[49m\u001B[43m,\u001B[49m\n\u001B[0;32m    246\u001B[0m \u001B[43m        \u001B[49m\u001B[43mreturn_times\u001B[49m\u001B[38;5;241;43m=\u001B[39;49m\u001B[38;5;28;43;01mTrue\u001B[39;49;00m\u001B[43m,\u001B[49m\u001B[43m \u001B[49m\u001B[43mreturn_estimator\u001B[49m\u001B[38;5;241;43m=\u001B[39;49m\u001B[43mreturn_estimator\u001B[49m\u001B[43m,\u001B[49m\n\u001B[0;32m    247\u001B[0m \u001B[43m        \u001B[49m\u001B[43merror_score\u001B[49m\u001B[38;5;241;43m=\u001B[39;49m\u001B[43merror_score\u001B[49m\u001B[43m)\u001B[49m\n\u001B[0;32m    248\u001B[0m \u001B[43m    \u001B[49m\u001B[38;5;28;43;01mfor\u001B[39;49;00m\u001B[43m \u001B[49m\u001B[43mtrain\u001B[49m\u001B[43m,\u001B[49m\u001B[43m \u001B[49m\u001B[43mtest\u001B[49m\u001B[43m \u001B[49m\u001B[38;5;129;43;01min\u001B[39;49;00m\u001B[43m \u001B[49m\u001B[43mcv\u001B[49m\u001B[38;5;241;43m.\u001B[39;49m\u001B[43msplit\u001B[49m\u001B[43m(\u001B[49m\u001B[43mX\u001B[49m\u001B[43m,\u001B[49m\u001B[43m \u001B[49m\u001B[43my\u001B[49m\u001B[43m,\u001B[49m\u001B[43m \u001B[49m\u001B[43mgroups\u001B[49m\u001B[43m)\u001B[49m\u001B[43m)\u001B[49m\n\u001B[0;32m    250\u001B[0m zipped_scores \u001B[38;5;241m=\u001B[39m \u001B[38;5;28mlist\u001B[39m(\u001B[38;5;28mzip\u001B[39m(\u001B[38;5;241m*\u001B[39mscores))\n\u001B[0;32m    251\u001B[0m \u001B[38;5;28;01mif\u001B[39;00m return_train_score:\n",
      "File \u001B[1;32m~\\venv\\lib\\site-packages\\joblib\\parallel.py:968\u001B[0m, in \u001B[0;36mParallel.__call__\u001B[1;34m(self, iterable)\u001B[0m\n\u001B[0;32m    965\u001B[0m \u001B[38;5;28mself\u001B[39m\u001B[38;5;241m.\u001B[39m_aborting \u001B[38;5;241m=\u001B[39m \u001B[38;5;28;01mFalse\u001B[39;00m\n\u001B[0;32m    967\u001B[0m \u001B[38;5;28;01mif\u001B[39;00m \u001B[38;5;129;01mnot\u001B[39;00m \u001B[38;5;28mself\u001B[39m\u001B[38;5;241m.\u001B[39m_managed_backend:\n\u001B[1;32m--> 968\u001B[0m     n_jobs \u001B[38;5;241m=\u001B[39m \u001B[38;5;28;43mself\u001B[39;49m\u001B[38;5;241;43m.\u001B[39;49m\u001B[43m_initialize_backend\u001B[49m\u001B[43m(\u001B[49m\u001B[43m)\u001B[49m\n\u001B[0;32m    969\u001B[0m \u001B[38;5;28;01melse\u001B[39;00m:\n\u001B[0;32m    970\u001B[0m     n_jobs \u001B[38;5;241m=\u001B[39m \u001B[38;5;28mself\u001B[39m\u001B[38;5;241m.\u001B[39m_effective_n_jobs()\n",
      "File \u001B[1;32m~\\venv\\lib\\site-packages\\joblib\\parallel.py:735\u001B[0m, in \u001B[0;36mParallel._initialize_backend\u001B[1;34m(self)\u001B[0m\n\u001B[0;32m    733\u001B[0m \u001B[38;5;124;03m\"\"\"Build a process or thread pool and return the number of workers\"\"\"\u001B[39;00m\n\u001B[0;32m    734\u001B[0m \u001B[38;5;28;01mtry\u001B[39;00m:\n\u001B[1;32m--> 735\u001B[0m     n_jobs \u001B[38;5;241m=\u001B[39m \u001B[38;5;28;43mself\u001B[39;49m\u001B[38;5;241;43m.\u001B[39;49m\u001B[43m_backend\u001B[49m\u001B[38;5;241;43m.\u001B[39;49m\u001B[43mconfigure\u001B[49m\u001B[43m(\u001B[49m\u001B[43mn_jobs\u001B[49m\u001B[38;5;241;43m=\u001B[39;49m\u001B[38;5;28;43mself\u001B[39;49m\u001B[38;5;241;43m.\u001B[39;49m\u001B[43mn_jobs\u001B[49m\u001B[43m,\u001B[49m\u001B[43m \u001B[49m\u001B[43mparallel\u001B[49m\u001B[38;5;241;43m=\u001B[39;49m\u001B[38;5;28;43mself\u001B[39;49m\u001B[43m,\u001B[49m\n\u001B[0;32m    736\u001B[0m \u001B[43m                                     \u001B[49m\u001B[38;5;241;43m*\u001B[39;49m\u001B[38;5;241;43m*\u001B[39;49m\u001B[38;5;28;43mself\u001B[39;49m\u001B[38;5;241;43m.\u001B[39;49m\u001B[43m_backend_args\u001B[49m\u001B[43m)\u001B[49m\n\u001B[0;32m    737\u001B[0m     \u001B[38;5;28;01mif\u001B[39;00m \u001B[38;5;28mself\u001B[39m\u001B[38;5;241m.\u001B[39mtimeout \u001B[38;5;129;01mis\u001B[39;00m \u001B[38;5;129;01mnot\u001B[39;00m \u001B[38;5;28;01mNone\u001B[39;00m \u001B[38;5;129;01mand\u001B[39;00m \u001B[38;5;129;01mnot\u001B[39;00m \u001B[38;5;28mself\u001B[39m\u001B[38;5;241m.\u001B[39m_backend\u001B[38;5;241m.\u001B[39msupports_timeout:\n\u001B[0;32m    738\u001B[0m         warnings\u001B[38;5;241m.\u001B[39mwarn(\n\u001B[0;32m    739\u001B[0m             \u001B[38;5;124m'\u001B[39m\u001B[38;5;124mThe backend class \u001B[39m\u001B[38;5;132;01m{!r}\u001B[39;00m\u001B[38;5;124m does not support timeout. \u001B[39m\u001B[38;5;124m'\u001B[39m\n\u001B[0;32m    740\u001B[0m             \u001B[38;5;124m\"\u001B[39m\u001B[38;5;124mYou have set \u001B[39m\u001B[38;5;124m'\u001B[39m\u001B[38;5;124mtimeout=\u001B[39m\u001B[38;5;132;01m{}\u001B[39;00m\u001B[38;5;124m'\u001B[39m\u001B[38;5;124m in Parallel but \u001B[39m\u001B[38;5;124m\"\u001B[39m\n\u001B[0;32m    741\u001B[0m             \u001B[38;5;124m\"\u001B[39m\u001B[38;5;124mthe \u001B[39m\u001B[38;5;124m'\u001B[39m\u001B[38;5;124mtimeout\u001B[39m\u001B[38;5;124m'\u001B[39m\u001B[38;5;124m parameter will not be used.\u001B[39m\u001B[38;5;124m\"\u001B[39m\u001B[38;5;241m.\u001B[39mformat(\n\u001B[0;32m    742\u001B[0m                 \u001B[38;5;28mself\u001B[39m\u001B[38;5;241m.\u001B[39m_backend\u001B[38;5;241m.\u001B[39m\u001B[38;5;18m__class__\u001B[39m\u001B[38;5;241m.\u001B[39m\u001B[38;5;18m__name__\u001B[39m,\n\u001B[0;32m    743\u001B[0m                 \u001B[38;5;28mself\u001B[39m\u001B[38;5;241m.\u001B[39mtimeout))\n",
      "File \u001B[1;32m~\\venv\\lib\\site-packages\\joblib\\_parallel_backends.py:494\u001B[0m, in \u001B[0;36mLokyBackend.configure\u001B[1;34m(self, n_jobs, parallel, prefer, require, idle_worker_timeout, **memmappingexecutor_args)\u001B[0m\n\u001B[0;32m    490\u001B[0m \u001B[38;5;28;01mif\u001B[39;00m n_jobs \u001B[38;5;241m==\u001B[39m \u001B[38;5;241m1\u001B[39m:\n\u001B[0;32m    491\u001B[0m     \u001B[38;5;28;01mraise\u001B[39;00m FallbackToBackend(\n\u001B[0;32m    492\u001B[0m         SequentialBackend(nesting_level\u001B[38;5;241m=\u001B[39m\u001B[38;5;28mself\u001B[39m\u001B[38;5;241m.\u001B[39mnesting_level))\n\u001B[1;32m--> 494\u001B[0m \u001B[38;5;28mself\u001B[39m\u001B[38;5;241m.\u001B[39m_workers \u001B[38;5;241m=\u001B[39m \u001B[43mget_memmapping_executor\u001B[49m\u001B[43m(\u001B[49m\n\u001B[0;32m    495\u001B[0m \u001B[43m    \u001B[49m\u001B[43mn_jobs\u001B[49m\u001B[43m,\u001B[49m\u001B[43m \u001B[49m\u001B[43mtimeout\u001B[49m\u001B[38;5;241;43m=\u001B[39;49m\u001B[43midle_worker_timeout\u001B[49m\u001B[43m,\u001B[49m\n\u001B[0;32m    496\u001B[0m \u001B[43m    \u001B[49m\u001B[43menv\u001B[49m\u001B[38;5;241;43m=\u001B[39;49m\u001B[38;5;28;43mself\u001B[39;49m\u001B[38;5;241;43m.\u001B[39;49m\u001B[43m_prepare_worker_env\u001B[49m\u001B[43m(\u001B[49m\u001B[43mn_jobs\u001B[49m\u001B[38;5;241;43m=\u001B[39;49m\u001B[43mn_jobs\u001B[49m\u001B[43m)\u001B[49m\u001B[43m,\u001B[49m\n\u001B[0;32m    497\u001B[0m \u001B[43m    \u001B[49m\u001B[43mcontext_id\u001B[49m\u001B[38;5;241;43m=\u001B[39;49m\u001B[43mparallel\u001B[49m\u001B[38;5;241;43m.\u001B[39;49m\u001B[43m_id\u001B[49m\u001B[43m,\u001B[49m\u001B[43m \u001B[49m\u001B[38;5;241;43m*\u001B[39;49m\u001B[38;5;241;43m*\u001B[39;49m\u001B[43mmemmappingexecutor_args\u001B[49m\u001B[43m)\u001B[49m\n\u001B[0;32m    498\u001B[0m \u001B[38;5;28mself\u001B[39m\u001B[38;5;241m.\u001B[39mparallel \u001B[38;5;241m=\u001B[39m parallel\n\u001B[0;32m    499\u001B[0m \u001B[38;5;28;01mreturn\u001B[39;00m n_jobs\n",
      "File \u001B[1;32m~\\venv\\lib\\site-packages\\joblib\\executor.py:20\u001B[0m, in \u001B[0;36mget_memmapping_executor\u001B[1;34m(n_jobs, **kwargs)\u001B[0m\n\u001B[0;32m     19\u001B[0m \u001B[38;5;28;01mdef\u001B[39;00m \u001B[38;5;21mget_memmapping_executor\u001B[39m(n_jobs, \u001B[38;5;241m*\u001B[39m\u001B[38;5;241m*\u001B[39mkwargs):\n\u001B[1;32m---> 20\u001B[0m     \u001B[38;5;28;01mreturn\u001B[39;00m \u001B[43mMemmappingExecutor\u001B[49m\u001B[38;5;241;43m.\u001B[39;49m\u001B[43mget_memmapping_executor\u001B[49m\u001B[43m(\u001B[49m\u001B[43mn_jobs\u001B[49m\u001B[43m,\u001B[49m\u001B[43m \u001B[49m\u001B[38;5;241;43m*\u001B[39;49m\u001B[38;5;241;43m*\u001B[39;49m\u001B[43mkwargs\u001B[49m\u001B[43m)\u001B[49m\n",
      "File \u001B[1;32m~\\venv\\lib\\site-packages\\joblib\\executor.py:42\u001B[0m, in \u001B[0;36mMemmappingExecutor.get_memmapping_executor\u001B[1;34m(cls, n_jobs, timeout, initializer, initargs, env, temp_folder, context_id, **backend_args)\u001B[0m\n\u001B[0;32m     39\u001B[0m reuse \u001B[38;5;241m=\u001B[39m _executor_args \u001B[38;5;129;01mis\u001B[39;00m \u001B[38;5;28;01mNone\u001B[39;00m \u001B[38;5;129;01mor\u001B[39;00m _executor_args \u001B[38;5;241m==\u001B[39m executor_args\n\u001B[0;32m     40\u001B[0m _executor_args \u001B[38;5;241m=\u001B[39m executor_args\n\u001B[1;32m---> 42\u001B[0m manager \u001B[38;5;241m=\u001B[39m \u001B[43mTemporaryResourcesManager\u001B[49m\u001B[43m(\u001B[49m\u001B[43mtemp_folder\u001B[49m\u001B[43m)\u001B[49m\n\u001B[0;32m     44\u001B[0m \u001B[38;5;66;03m# reducers access the temporary folder in which to store temporary\u001B[39;00m\n\u001B[0;32m     45\u001B[0m \u001B[38;5;66;03m# pickles through a call to manager.resolve_temp_folder_name. resolving\u001B[39;00m\n\u001B[0;32m     46\u001B[0m \u001B[38;5;66;03m# the folder name dynamically is useful to use different folders across\u001B[39;00m\n\u001B[0;32m     47\u001B[0m \u001B[38;5;66;03m# calls of a same reusable executor\u001B[39;00m\n\u001B[0;32m     48\u001B[0m job_reducers, result_reducers \u001B[38;5;241m=\u001B[39m get_memmapping_reducers(\n\u001B[0;32m     49\u001B[0m     unlink_on_gc_collect\u001B[38;5;241m=\u001B[39m\u001B[38;5;28;01mTrue\u001B[39;00m,\n\u001B[0;32m     50\u001B[0m     temp_folder_resolver\u001B[38;5;241m=\u001B[39mmanager\u001B[38;5;241m.\u001B[39mresolve_temp_folder_name,\n\u001B[0;32m     51\u001B[0m     \u001B[38;5;241m*\u001B[39m\u001B[38;5;241m*\u001B[39mbackend_args)\n",
      "File \u001B[1;32m~\\venv\\lib\\site-packages\\joblib\\_memmapping_reducer.py:531\u001B[0m, in \u001B[0;36mTemporaryResourcesManager.__init__\u001B[1;34m(self, temp_folder_root, context_id)\u001B[0m\n\u001B[0;32m    525\u001B[0m \u001B[38;5;28;01mif\u001B[39;00m context_id \u001B[38;5;129;01mis\u001B[39;00m \u001B[38;5;28;01mNone\u001B[39;00m:\n\u001B[0;32m    526\u001B[0m     \u001B[38;5;66;03m# It would be safer to not assign a default context id (less silent\u001B[39;00m\n\u001B[0;32m    527\u001B[0m     \u001B[38;5;66;03m# bugs), but doing this while maintaining backward compatibility\u001B[39;00m\n\u001B[0;32m    528\u001B[0m     \u001B[38;5;66;03m# with the previous, context-unaware version get_memmaping_executor\u001B[39;00m\n\u001B[0;32m    529\u001B[0m     \u001B[38;5;66;03m# exposes exposes too many low-level details.\u001B[39;00m\n\u001B[0;32m    530\u001B[0m     context_id \u001B[38;5;241m=\u001B[39m uuid4()\u001B[38;5;241m.\u001B[39mhex\n\u001B[1;32m--> 531\u001B[0m \u001B[38;5;28;43mself\u001B[39;49m\u001B[38;5;241;43m.\u001B[39;49m\u001B[43mset_current_context\u001B[49m\u001B[43m(\u001B[49m\u001B[43mcontext_id\u001B[49m\u001B[43m)\u001B[49m\n",
      "File \u001B[1;32m~\\venv\\lib\\site-packages\\joblib\\_memmapping_reducer.py:535\u001B[0m, in \u001B[0;36mTemporaryResourcesManager.set_current_context\u001B[1;34m(self, context_id)\u001B[0m\n\u001B[0;32m    533\u001B[0m \u001B[38;5;28;01mdef\u001B[39;00m \u001B[38;5;21mset_current_context\u001B[39m(\u001B[38;5;28mself\u001B[39m, context_id):\n\u001B[0;32m    534\u001B[0m     \u001B[38;5;28mself\u001B[39m\u001B[38;5;241m.\u001B[39m_current_context_id \u001B[38;5;241m=\u001B[39m context_id\n\u001B[1;32m--> 535\u001B[0m     \u001B[38;5;28;43mself\u001B[39;49m\u001B[38;5;241;43m.\u001B[39;49m\u001B[43mregister_new_context\u001B[49m\u001B[43m(\u001B[49m\u001B[43mcontext_id\u001B[49m\u001B[43m)\u001B[49m\n",
      "File \u001B[1;32m~\\venv\\lib\\site-packages\\joblib\\_memmapping_reducer.py:560\u001B[0m, in \u001B[0;36mTemporaryResourcesManager.register_new_context\u001B[1;34m(self, context_id)\u001B[0m\n\u001B[0;32m    553\u001B[0m new_folder_name \u001B[38;5;241m=\u001B[39m (\n\u001B[0;32m    554\u001B[0m     \u001B[38;5;124m\"\u001B[39m\u001B[38;5;124mjoblib_memmapping_folder_\u001B[39m\u001B[38;5;132;01m{}\u001B[39;00m\u001B[38;5;124m_\u001B[39m\u001B[38;5;132;01m{}\u001B[39;00m\u001B[38;5;124m_\u001B[39m\u001B[38;5;132;01m{}\u001B[39;00m\u001B[38;5;124m\"\u001B[39m\u001B[38;5;241m.\u001B[39mformat(\n\u001B[0;32m    555\u001B[0m         os\u001B[38;5;241m.\u001B[39mgetpid(), \u001B[38;5;28mself\u001B[39m\u001B[38;5;241m.\u001B[39m_id, context_id)\n\u001B[0;32m    556\u001B[0m )\n\u001B[0;32m    557\u001B[0m new_folder_path, _ \u001B[38;5;241m=\u001B[39m _get_temp_dir(\n\u001B[0;32m    558\u001B[0m     new_folder_name, \u001B[38;5;28mself\u001B[39m\u001B[38;5;241m.\u001B[39m_temp_folder_root\n\u001B[0;32m    559\u001B[0m )\n\u001B[1;32m--> 560\u001B[0m \u001B[38;5;28;43mself\u001B[39;49m\u001B[38;5;241;43m.\u001B[39;49m\u001B[43mregister_folder_finalizer\u001B[49m\u001B[43m(\u001B[49m\u001B[43mnew_folder_path\u001B[49m\u001B[43m,\u001B[49m\u001B[43m \u001B[49m\u001B[43mcontext_id\u001B[49m\u001B[43m)\u001B[49m\n\u001B[0;32m    561\u001B[0m \u001B[38;5;28mself\u001B[39m\u001B[38;5;241m.\u001B[39m_cached_temp_folders[context_id] \u001B[38;5;241m=\u001B[39m new_folder_path\n",
      "File \u001B[1;32m~\\venv\\lib\\site-packages\\joblib\\_memmapping_reducer.py:590\u001B[0m, in \u001B[0;36mTemporaryResourcesManager.register_folder_finalizer\u001B[1;34m(self, pool_subfolder, context_id)\u001B[0m\n\u001B[0;32m    583\u001B[0m \u001B[38;5;28;01mdef\u001B[39;00m \u001B[38;5;21mregister_folder_finalizer\u001B[39m(\u001B[38;5;28mself\u001B[39m, pool_subfolder, context_id):\n\u001B[0;32m    584\u001B[0m     \u001B[38;5;66;03m# Register the garbage collector at program exit in case caller forgets\u001B[39;00m\n\u001B[0;32m    585\u001B[0m     \u001B[38;5;66;03m# to call terminate explicitly: note we do not pass any reference to\u001B[39;00m\n\u001B[0;32m    586\u001B[0m     \u001B[38;5;66;03m# ensure that this callback won't prevent garbage collection of\u001B[39;00m\n\u001B[0;32m    587\u001B[0m     \u001B[38;5;66;03m# parallel instance and related file handler resources such as POSIX\u001B[39;00m\n\u001B[0;32m    588\u001B[0m     \u001B[38;5;66;03m# semaphores and pipes\u001B[39;00m\n\u001B[0;32m    589\u001B[0m     pool_module_name \u001B[38;5;241m=\u001B[39m whichmodule(delete_folder, \u001B[38;5;124m'\u001B[39m\u001B[38;5;124mdelete_folder\u001B[39m\u001B[38;5;124m'\u001B[39m)\n\u001B[1;32m--> 590\u001B[0m     \u001B[43mresource_tracker\u001B[49m\u001B[38;5;241;43m.\u001B[39;49m\u001B[43mregister\u001B[49m\u001B[43m(\u001B[49m\u001B[43mpool_subfolder\u001B[49m\u001B[43m,\u001B[49m\u001B[43m \u001B[49m\u001B[38;5;124;43m\"\u001B[39;49m\u001B[38;5;124;43mfolder\u001B[39;49m\u001B[38;5;124;43m\"\u001B[39;49m\u001B[43m)\u001B[49m\n\u001B[0;32m    592\u001B[0m     \u001B[38;5;28;01mdef\u001B[39;00m \u001B[38;5;21m_cleanup\u001B[39m():\n\u001B[0;32m    593\u001B[0m         \u001B[38;5;66;03m# In some cases the Python runtime seems to set delete_folder to\u001B[39;00m\n\u001B[0;32m    594\u001B[0m         \u001B[38;5;66;03m# None just before exiting when accessing the delete_folder\u001B[39;00m\n\u001B[1;32m   (...)\u001B[0m\n\u001B[0;32m    599\u001B[0m         \u001B[38;5;66;03m# because joblib should only use relative imports to allow\u001B[39;00m\n\u001B[0;32m    600\u001B[0m         \u001B[38;5;66;03m# easy vendoring.\u001B[39;00m\n\u001B[0;32m    601\u001B[0m         delete_folder \u001B[38;5;241m=\u001B[39m \u001B[38;5;28m__import__\u001B[39m(\n\u001B[0;32m    602\u001B[0m             pool_module_name, fromlist\u001B[38;5;241m=\u001B[39m[\u001B[38;5;124m'\u001B[39m\u001B[38;5;124mdelete_folder\u001B[39m\u001B[38;5;124m'\u001B[39m])\u001B[38;5;241m.\u001B[39mdelete_folder\n",
      "File \u001B[1;32m~\\venv\\lib\\site-packages\\joblib\\externals\\loky\\backend\\resource_tracker.py:190\u001B[0m, in \u001B[0;36mResourceTracker.register\u001B[1;34m(self, name, rtype)\u001B[0m\n\u001B[0;32m    188\u001B[0m \u001B[38;5;28;01mdef\u001B[39;00m \u001B[38;5;21mregister\u001B[39m(\u001B[38;5;28mself\u001B[39m, name, rtype):\n\u001B[0;32m    189\u001B[0m     \u001B[38;5;124;03m'''Register a named resource, and increment its refcount.'''\u001B[39;00m\n\u001B[1;32m--> 190\u001B[0m     \u001B[38;5;28;43mself\u001B[39;49m\u001B[38;5;241;43m.\u001B[39;49m\u001B[43mensure_running\u001B[49m\u001B[43m(\u001B[49m\u001B[43m)\u001B[49m\n\u001B[0;32m    191\u001B[0m     \u001B[38;5;28mself\u001B[39m\u001B[38;5;241m.\u001B[39m_send(\u001B[38;5;124m'\u001B[39m\u001B[38;5;124mREGISTER\u001B[39m\u001B[38;5;124m'\u001B[39m, name, rtype)\n",
      "File \u001B[1;32m~\\venv\\lib\\site-packages\\joblib\\externals\\loky\\backend\\resource_tracker.py:102\u001B[0m, in \u001B[0;36mResourceTracker.ensure_running\u001B[1;34m(self)\u001B[0m\n\u001B[0;32m     99\u001B[0m \u001B[38;5;28;01mwith\u001B[39;00m \u001B[38;5;28mself\u001B[39m\u001B[38;5;241m.\u001B[39m_lock:\n\u001B[0;32m    100\u001B[0m     \u001B[38;5;28;01mif\u001B[39;00m \u001B[38;5;28mself\u001B[39m\u001B[38;5;241m.\u001B[39m_fd \u001B[38;5;129;01mis\u001B[39;00m \u001B[38;5;129;01mnot\u001B[39;00m \u001B[38;5;28;01mNone\u001B[39;00m:\n\u001B[0;32m    101\u001B[0m         \u001B[38;5;66;03m# resource tracker was launched before, is it still running?\u001B[39;00m\n\u001B[1;32m--> 102\u001B[0m         \u001B[38;5;28;01mif\u001B[39;00m \u001B[38;5;28;43mself\u001B[39;49m\u001B[38;5;241;43m.\u001B[39;49m\u001B[43m_check_alive\u001B[49m\u001B[43m(\u001B[49m\u001B[43m)\u001B[49m:\n\u001B[0;32m    103\u001B[0m             \u001B[38;5;66;03m# => still alive\u001B[39;00m\n\u001B[0;32m    104\u001B[0m             \u001B[38;5;28;01mreturn\u001B[39;00m\n\u001B[0;32m    105\u001B[0m         \u001B[38;5;66;03m# => dead, launch it again\u001B[39;00m\n",
      "File \u001B[1;32m~\\venv\\lib\\site-packages\\joblib\\externals\\loky\\backend\\resource_tracker.py:182\u001B[0m, in \u001B[0;36mResourceTracker._check_alive\u001B[1;34m(self)\u001B[0m\n\u001B[0;32m    180\u001B[0m \u001B[38;5;124;03m'''Check for the existence of the resource tracker process.'''\u001B[39;00m\n\u001B[0;32m    181\u001B[0m \u001B[38;5;28;01mtry\u001B[39;00m:\n\u001B[1;32m--> 182\u001B[0m     \u001B[38;5;28;43mself\u001B[39;49m\u001B[38;5;241;43m.\u001B[39;49m\u001B[43m_send\u001B[49m\u001B[43m(\u001B[49m\u001B[38;5;124;43m'\u001B[39;49m\u001B[38;5;124;43mPROBE\u001B[39;49m\u001B[38;5;124;43m'\u001B[39;49m\u001B[43m,\u001B[49m\u001B[43m \u001B[49m\u001B[38;5;124;43m'\u001B[39;49m\u001B[38;5;124;43m'\u001B[39;49m\u001B[43m,\u001B[49m\u001B[43m \u001B[49m\u001B[38;5;124;43m'\u001B[39;49m\u001B[38;5;124;43m'\u001B[39;49m\u001B[43m)\u001B[49m\n\u001B[0;32m    183\u001B[0m \u001B[38;5;28;01mexcept\u001B[39;00m \u001B[38;5;167;01mBrokenPipeError\u001B[39;00m:\n\u001B[0;32m    184\u001B[0m     \u001B[38;5;28;01mreturn\u001B[39;00m \u001B[38;5;28;01mFalse\u001B[39;00m\n",
      "File \u001B[1;32m~\\venv\\lib\\site-packages\\joblib\\externals\\loky\\backend\\resource_tracker.py:209\u001B[0m, in \u001B[0;36mResourceTracker._send\u001B[1;34m(self, cmd, name, rtype)\u001B[0m\n\u001B[0;32m    205\u001B[0m \u001B[38;5;28;01mif\u001B[39;00m \u001B[38;5;28mlen\u001B[39m(name) \u001B[38;5;241m>\u001B[39m \u001B[38;5;241m512\u001B[39m:\n\u001B[0;32m    206\u001B[0m     \u001B[38;5;66;03m# posix guarantees that writes to a pipe of less than PIPE_BUF\u001B[39;00m\n\u001B[0;32m    207\u001B[0m     \u001B[38;5;66;03m# bytes are atomic, and that PIPE_BUF >= 512\u001B[39;00m\n\u001B[0;32m    208\u001B[0m     \u001B[38;5;28;01mraise\u001B[39;00m \u001B[38;5;167;01mValueError\u001B[39;00m(\u001B[38;5;124m'\u001B[39m\u001B[38;5;124mname too long\u001B[39m\u001B[38;5;124m'\u001B[39m)\n\u001B[1;32m--> 209\u001B[0m nbytes \u001B[38;5;241m=\u001B[39m \u001B[43mos\u001B[49m\u001B[38;5;241;43m.\u001B[39;49m\u001B[43mwrite\u001B[49m\u001B[43m(\u001B[49m\u001B[38;5;28;43mself\u001B[39;49m\u001B[38;5;241;43m.\u001B[39;49m\u001B[43m_fd\u001B[49m\u001B[43m,\u001B[49m\u001B[43m \u001B[49m\u001B[43mmsg\u001B[49m\u001B[43m)\u001B[49m\n\u001B[0;32m    210\u001B[0m \u001B[38;5;28;01massert\u001B[39;00m nbytes \u001B[38;5;241m==\u001B[39m \u001B[38;5;28mlen\u001B[39m(msg)\n",
      "\u001B[1;31mOSError\u001B[0m: [Errno 22] Invalid argument"
     ]
    }
   ],
   "source": [
    "cbc = create_model('xgboost')"
   ]
  },
  {
   "cell_type": "code",
   "execution_count": 6,
   "metadata": {
    "colab": {
     "base_uri": "https://localhost:8080/"
    },
    "id": "_bcVTu3oO9eq",
    "outputId": "9052aafa-a00e-4149-dcd4-e50640901eea",
    "pycharm": {
     "name": "#%%\n"
    }
   },
   "outputs": [
    {
     "data": {
      "text/plain": [
       "Object_UID        0\n",
       "PriceNoTax        0\n",
       "GRP               0\n",
       "Latitude        188\n",
       "Longitude       184\n",
       "Population       11\n",
       "Size           9901\n",
       "YearNum           0\n",
       "Month_Id          0\n",
       "BrandR1         213\n",
       "Seazon            0\n",
       "ConstrGroup       0\n",
       "ExpoType          0\n",
       "CityType          0\n",
       "OperatorR1        0\n",
       "OperatorR2        0\n",
       "Budget            0\n",
       "AgentName         0\n",
       "Dis               0\n",
       "dtype: int64"
      ]
     },
     "execution_count": 6,
     "metadata": {},
     "output_type": "execute_result"
    }
   ],
   "source": [
    "data.isna().sum()"
   ]
  },
  {
   "cell_type": "code",
   "execution_count": 8,
   "metadata": {
    "colab": {
     "base_uri": "https://localhost:8080/"
    },
    "id": "BruJttcJO9eq",
    "outputId": "22e690bc-1969-4f67-f0b0-29b344e445fd",
    "pycharm": {
     "name": "#%%\n"
    }
   },
   "outputs": [
    {
     "data": {
      "text/plain": [
       "1.0    30038\n",
       "0.0     5045\n",
       "2.0     3950\n",
       "3.0     3765\n",
       "Name: BrandR1, dtype: int64"
      ]
     },
     "execution_count": 8,
     "metadata": {},
     "output_type": "execute_result"
    }
   ],
   "source": [
    "data['BrandR1'].value_counts()"
   ]
  },
  {
   "cell_type": "code",
   "execution_count": 9,
   "metadata": {
    "colab": {
     "base_uri": "https://localhost:8080/"
    },
    "id": "cNHLY0oXO9er",
    "outputId": "a881d255-9d89-48f4-94a4-f040ded17688",
    "pycharm": {
     "name": "#%%\n"
    }
   },
   "outputs": [
    {
     "data": {
      "text/plain": [
       "0.781546360616128"
      ]
     },
     "execution_count": 9,
     "metadata": {},
     "output_type": "execute_result"
    }
   ],
   "source": [
    "tuple (data['Size'].value_counts())[0] / data['Size'].value_counts().sum()"
   ]
  },
  {
   "cell_type": "code",
   "execution_count": 10,
   "metadata": {
    "colab": {
     "base_uri": "https://localhost:8080/"
    },
    "id": "-dCRFhrgQ3r-",
    "outputId": "5b5ee28d-9c0e-41d8-b16d-ab29e8ffe007",
    "pycharm": {
     "name": "#%%\n"
    }
   },
   "outputs": [
    {
     "data": {
      "text/plain": [
       "0.7018552268797608"
      ]
     },
     "execution_count": 10,
     "metadata": {},
     "output_type": "execute_result"
    }
   ],
   "source": [
    "tuple (data['BrandR1'].value_counts())[0] / data['BrandR1'].value_counts().sum()"
   ]
  },
  {
   "cell_type": "code",
   "execution_count": 12,
   "metadata": {
    "pycharm": {
     "name": "#%%\n"
    }
   },
   "outputs": [
    {
     "data": {
      "text/plain": [
       "count    43011.000000\n",
       "mean        36.826974\n",
       "std         25.380039\n",
       "min       -175.000000\n",
       "25%         20.000000\n",
       "50%         40.000000\n",
       "75%         55.000000\n",
       "max        100.000000\n",
       "Name: Dis, dtype: float64"
      ]
     },
     "execution_count": 12,
     "metadata": {},
     "output_type": "execute_result"
    }
   ],
   "source": [
    "data['Dis'].describe()"
   ]
  },
  {
   "cell_type": "code",
   "execution_count": 14,
   "metadata": {
    "pycharm": {
     "name": "#%%\n"
    }
   },
   "outputs": [
    {
     "data": {
      "text/plain": [
       "<AxesSubplot:xlabel='Dis', ylabel='Count'>"
      ]
     },
     "execution_count": 14,
     "metadata": {},
     "output_type": "execute_result"
    },
    {
     "data": {
      "image/png": "[encoded data removed]",
      "text/plain": [
       "<Figure size 432x288 with 1 Axes>"
      ]
     },
     "metadata": {
      "needs_background": "light"
     },
     "output_type": "display_data"
    }
   ],
   "source": [
    "sns.histplot( data=data, x= 'Dis')"
   ]
  },
  {
   "cell_type": "code",
   "execution_count": null,
   "metadata": {
    "id": "QU6F9zuGbEG1",
    "pycharm": {
     "name": "#%%\n"
    }
   },
   "outputs": [],
   "source": [
    "data['BrandR1']=data['BrandR1'].fillna(1)"
   ]
  },
  {
   "cell_type": "code",
   "execution_count": null,
   "metadata": {
    "id": "KdkEOhDffspG",
    "pycharm": {
     "name": "#%%\n"
    }
   },
   "outputs": [],
   "source": [
    "data['Latitude']=data['Latitude'].fillna(data['Latitude'].mean())\n",
    "data['Longitude']=data['Longitude'].fillna(data['Longitude'].mean())\n",
    "data['Population']=data['Population'].fillna(1196680)"
   ]
  },
  {
   "cell_type": "code",
   "execution_count": null,
   "metadata": {
    "id": "5yhxb1s9g2YC",
    "pycharm": {
     "name": "#%%\n"
    }
   },
   "outputs": [],
   "source": [
    "data['DateStart'] = pd.to_datetime(data.DateStart)"
   ]
  },
  {
   "cell_type": "code",
   "execution_count": null,
   "metadata": {
    "id": "d6kKS6pHbVlm",
    "pycharm": {
     "name": "#%%\n"
    }
   },
   "outputs": [],
   "source": [
    "data=data.drop(['ML_Object_UID', 'sdelka_id', 'ID','Summ_Plan_SMI', 'Unnamed: 0', 'Summ_Fact_SMI', \n",
    "                'Summ2PayOperNoTax', 'LN', 'City_Lat', 'City_Lng', 'City_Cat', 'AgentName', 'DateStart'], axis=1)"
   ]
  },
  {
   "cell_type": "code",
   "execution_count": null,
   "metadata": {
    "id": "PDinM0E5wlDH",
    "pycharm": {
     "name": "#%%\n"
    }
   },
   "outputs": [],
   "source": [
    "data=data.drop(['ML_Object_UID','DateStart', 'LN', 'AgentName'], axis=1)"
   ]
  },
  {
   "cell_type": "code",
   "execution_count": null,
   "metadata": {
    "id": "AWHk1i1WDNZi",
    "pycharm": {
     "name": "#%%\n"
    }
   },
   "outputs": [],
   "source": [
    "data['City_Cat']=8\n",
    "data['Seller_Cat']=275"
   ]
  },
  {
   "cell_type": "code",
   "execution_count": null,
   "metadata": {
    "colab": {
     "base_uri": "https://localhost:8080/"
    },
    "id": "h4CupRGBH9ig",
    "outputId": "db56de2b-87c0-446f-8cb5-60d42c889dd8",
    "pycharm": {
     "name": "#%%\n"
    }
   },
   "outputs": [
    {
     "data": {
      "text/plain": [
       "54.7812561855116"
      ]
     },
     "execution_count": 12,
     "metadata": {
      "tags": []
     },
     "output_type": "execute_result"
    }
   ],
   "source": [
    "data['Latitude'].mean()"
   ]
  },
  {
   "cell_type": "code",
   "execution_count": null,
   "metadata": {
    "id": "mBp1pNJFIazN",
    "pycharm": {
     "name": "#%%\n"
    }
   },
   "outputs": [],
   "source": [
    "data.info()"
   ]
  },
  {
   "cell_type": "code",
   "execution_count": null,
   "metadata": {
    "id": "TB2-mot_DipL",
    "pycharm": {
     "name": "#%%\n"
    }
   },
   "outputs": [],
   "source": [
    "data.sort_values ('DateStart', inplace=True)"
   ]
  },
  {
   "cell_type": "code",
   "execution_count": null,
   "metadata": {
    "colab": {
     "base_uri": "https://localhost:8080/",
     "height": 439
    },
    "id": "zXoonBq9ivZ9",
    "outputId": "8fd50b4a-f9ec-4fad-cadc-4c25cf74e4f9",
    "pycharm": {
     "name": "#%%\n"
    }
   },
   "outputs": [
    {
     "data": {
      "text/html": [
       "<div>\n",
       "<style scoped>\n",
       "    .dataframe tbody tr th:only-of-type {\n",
       "        vertical-align: middle;\n",
       "    }\n",
       "\n",
       "    .dataframe tbody tr th {\n",
       "        vertical-align: top;\n",
       "    }\n",
       "\n",
       "    .dataframe thead th {\n",
       "        text-align: right;\n",
       "    }\n",
       "</style>\n",
       "<table border=\"1\" class=\"dataframe\">\n",
       "  <thead>\n",
       "    <tr style=\"text-align: right;\">\n",
       "      <th></th>\n",
       "      <th>PriceNoTax</th>\n",
       "      <th>Discount</th>\n",
       "      <th>YeraNum</th>\n",
       "      <th>Month_ID</th>\n",
       "      <th>BrandR1</th>\n",
       "      <th>ConstrGroup</th>\n",
       "      <th>ExpositionType</th>\n",
       "      <th>CityType</th>\n",
       "      <th>OperatorR1</th>\n",
       "      <th>OperatorR2</th>\n",
       "      <th>BudgetClass</th>\n",
       "      <th>GRP</th>\n",
       "      <th>Latitude</th>\n",
       "      <th>Longitude</th>\n",
       "      <th>Population</th>\n",
       "      <th>Square</th>\n",
       "      <th>City_Cat</th>\n",
       "      <th>Seller_Cat</th>\n",
       "    </tr>\n",
       "  </thead>\n",
       "  <tbody>\n",
       "    <tr>\n",
       "      <th>0</th>\n",
       "      <td>35000.00</td>\n",
       "      <td>0.171429</td>\n",
       "      <td>1</td>\n",
       "      <td>0</td>\n",
       "      <td>1</td>\n",
       "      <td>2</td>\n",
       "      <td>0</td>\n",
       "      <td>2</td>\n",
       "      <td>0</td>\n",
       "      <td>2</td>\n",
       "      <td>5</td>\n",
       "      <td>5.398128</td>\n",
       "      <td>61.249594</td>\n",
       "      <td>73.439155</td>\n",
       "      <td>380632</td>\n",
       "      <td>18.00</td>\n",
       "      <td>8</td>\n",
       "      <td>56</td>\n",
       "    </tr>\n",
       "    <tr>\n",
       "      <th>1</th>\n",
       "      <td>23500.00</td>\n",
       "      <td>0.659574</td>\n",
       "      <td>1</td>\n",
       "      <td>0</td>\n",
       "      <td>1</td>\n",
       "      <td>2</td>\n",
       "      <td>0</td>\n",
       "      <td>4</td>\n",
       "      <td>0</td>\n",
       "      <td>1</td>\n",
       "      <td>5</td>\n",
       "      <td>2.475000</td>\n",
       "      <td>55.037888</td>\n",
       "      <td>73.308052</td>\n",
       "      <td>1154507</td>\n",
       "      <td>18.00</td>\n",
       "      <td>8</td>\n",
       "      <td>236</td>\n",
       "    </tr>\n",
       "    <tr>\n",
       "      <th>2</th>\n",
       "      <td>18333.33</td>\n",
       "      <td>0.345454</td>\n",
       "      <td>1</td>\n",
       "      <td>0</td>\n",
       "      <td>3</td>\n",
       "      <td>1</td>\n",
       "      <td>2</td>\n",
       "      <td>4</td>\n",
       "      <td>0</td>\n",
       "      <td>2</td>\n",
       "      <td>5</td>\n",
       "      <td>1.612208</td>\n",
       "      <td>56.819555</td>\n",
       "      <td>60.540267</td>\n",
       "      <td>1493749</td>\n",
       "      <td>9.99</td>\n",
       "      <td>3</td>\n",
       "      <td>262</td>\n",
       "    </tr>\n",
       "    <tr>\n",
       "      <th>3</th>\n",
       "      <td>9900.00</td>\n",
       "      <td>-0.124242</td>\n",
       "      <td>1</td>\n",
       "      <td>0</td>\n",
       "      <td>1</td>\n",
       "      <td>0</td>\n",
       "      <td>0</td>\n",
       "      <td>4</td>\n",
       "      <td>2</td>\n",
       "      <td>2</td>\n",
       "      <td>5</td>\n",
       "      <td>1.160000</td>\n",
       "      <td>55.783811</td>\n",
       "      <td>49.149794</td>\n",
       "      <td>1257391</td>\n",
       "      <td>4.20</td>\n",
       "      <td>8</td>\n",
       "      <td>222</td>\n",
       "    </tr>\n",
       "    <tr>\n",
       "      <th>4</th>\n",
       "      <td>9900.00</td>\n",
       "      <td>-0.124242</td>\n",
       "      <td>1</td>\n",
       "      <td>0</td>\n",
       "      <td>1</td>\n",
       "      <td>0</td>\n",
       "      <td>0</td>\n",
       "      <td>4</td>\n",
       "      <td>2</td>\n",
       "      <td>2</td>\n",
       "      <td>5</td>\n",
       "      <td>1.160000</td>\n",
       "      <td>55.783811</td>\n",
       "      <td>49.149794</td>\n",
       "      <td>1257391</td>\n",
       "      <td>4.20</td>\n",
       "      <td>8</td>\n",
       "      <td>222</td>\n",
       "    </tr>\n",
       "    <tr>\n",
       "      <th>...</th>\n",
       "      <td>...</td>\n",
       "      <td>...</td>\n",
       "      <td>...</td>\n",
       "      <td>...</td>\n",
       "      <td>...</td>\n",
       "      <td>...</td>\n",
       "      <td>...</td>\n",
       "      <td>...</td>\n",
       "      <td>...</td>\n",
       "      <td>...</td>\n",
       "      <td>...</td>\n",
       "      <td>...</td>\n",
       "      <td>...</td>\n",
       "      <td>...</td>\n",
       "      <td>...</td>\n",
       "      <td>...</td>\n",
       "      <td>...</td>\n",
       "      <td>...</td>\n",
       "    </tr>\n",
       "    <tr>\n",
       "      <th>42793</th>\n",
       "      <td>23000.00</td>\n",
       "      <td>0.400000</td>\n",
       "      <td>3</td>\n",
       "      <td>5</td>\n",
       "      <td>1</td>\n",
       "      <td>2</td>\n",
       "      <td>0</td>\n",
       "      <td>3</td>\n",
       "      <td>2</td>\n",
       "      <td>4</td>\n",
       "      <td>3</td>\n",
       "      <td>2.760000</td>\n",
       "      <td>53.334602</td>\n",
       "      <td>83.669099</td>\n",
       "      <td>632391</td>\n",
       "      <td>18.00</td>\n",
       "      <td>8</td>\n",
       "      <td>115</td>\n",
       "    </tr>\n",
       "    <tr>\n",
       "      <th>42794</th>\n",
       "      <td>23000.00</td>\n",
       "      <td>0.400000</td>\n",
       "      <td>3</td>\n",
       "      <td>5</td>\n",
       "      <td>1</td>\n",
       "      <td>2</td>\n",
       "      <td>0</td>\n",
       "      <td>3</td>\n",
       "      <td>2</td>\n",
       "      <td>4</td>\n",
       "      <td>3</td>\n",
       "      <td>2.760000</td>\n",
       "      <td>53.334602</td>\n",
       "      <td>83.669099</td>\n",
       "      <td>632391</td>\n",
       "      <td>18.00</td>\n",
       "      <td>8</td>\n",
       "      <td>115</td>\n",
       "    </tr>\n",
       "    <tr>\n",
       "      <th>42795</th>\n",
       "      <td>23000.00</td>\n",
       "      <td>0.400000</td>\n",
       "      <td>3</td>\n",
       "      <td>5</td>\n",
       "      <td>1</td>\n",
       "      <td>2</td>\n",
       "      <td>0</td>\n",
       "      <td>3</td>\n",
       "      <td>2</td>\n",
       "      <td>4</td>\n",
       "      <td>3</td>\n",
       "      <td>2.760000</td>\n",
       "      <td>53.334602</td>\n",
       "      <td>83.669099</td>\n",
       "      <td>632391</td>\n",
       "      <td>18.00</td>\n",
       "      <td>8</td>\n",
       "      <td>115</td>\n",
       "    </tr>\n",
       "    <tr>\n",
       "      <th>42796</th>\n",
       "      <td>23000.00</td>\n",
       "      <td>0.400000</td>\n",
       "      <td>3</td>\n",
       "      <td>5</td>\n",
       "      <td>1</td>\n",
       "      <td>2</td>\n",
       "      <td>0</td>\n",
       "      <td>3</td>\n",
       "      <td>2</td>\n",
       "      <td>4</td>\n",
       "      <td>3</td>\n",
       "      <td>2.760000</td>\n",
       "      <td>53.334602</td>\n",
       "      <td>83.669099</td>\n",
       "      <td>632391</td>\n",
       "      <td>18.00</td>\n",
       "      <td>8</td>\n",
       "      <td>115</td>\n",
       "    </tr>\n",
       "    <tr>\n",
       "      <th>42797</th>\n",
       "      <td>23000.00</td>\n",
       "      <td>0.400000</td>\n",
       "      <td>3</td>\n",
       "      <td>5</td>\n",
       "      <td>1</td>\n",
       "      <td>2</td>\n",
       "      <td>0</td>\n",
       "      <td>3</td>\n",
       "      <td>2</td>\n",
       "      <td>4</td>\n",
       "      <td>3</td>\n",
       "      <td>2.760000</td>\n",
       "      <td>53.334602</td>\n",
       "      <td>83.669099</td>\n",
       "      <td>632391</td>\n",
       "      <td>18.00</td>\n",
       "      <td>8</td>\n",
       "      <td>115</td>\n",
       "    </tr>\n",
       "  </tbody>\n",
       "</table>\n",
       "<p>42798 rows × 18 columns</p>\n",
       "</div>"
      ],
      "text/plain": [
       "       PriceNoTax  Discount  YeraNum  ...  Square  City_Cat  Seller_Cat\n",
       "0        35000.00  0.171429        1  ...   18.00         8          56\n",
       "1        23500.00  0.659574        1  ...   18.00         8         236\n",
       "2        18333.33  0.345454        1  ...    9.99         3         262\n",
       "3         9900.00 -0.124242        1  ...    4.20         8         222\n",
       "4         9900.00 -0.124242        1  ...    4.20         8         222\n",
       "...           ...       ...      ...  ...     ...       ...         ...\n",
       "42793    23000.00  0.400000        3  ...   18.00         8         115\n",
       "42794    23000.00  0.400000        3  ...   18.00         8         115\n",
       "42795    23000.00  0.400000        3  ...   18.00         8         115\n",
       "42796    23000.00  0.400000        3  ...   18.00         8         115\n",
       "42797    23000.00  0.400000        3  ...   18.00         8         115\n",
       "\n",
       "[42798 rows x 18 columns]"
      ]
     },
     "execution_count": 25,
     "metadata": {
      "tags": []
     },
     "output_type": "execute_result"
    }
   ],
   "source": [
    "data"
   ]
  },
  {
   "cell_type": "code",
   "execution_count": null,
   "metadata": {
    "id": "nQ_rIPs742BD",
    "pycharm": {
     "name": "#%%\n"
    }
   },
   "outputs": [],
   "source": [
    "dict_ag=pd.read_excel ('/content/drive/MyDrive/Colab Notebooks/!Samples/Owners_main_100.xls')"
   ]
  },
  {
   "cell_type": "code",
   "execution_count": null,
   "metadata": {
    "colab": {
     "base_uri": "https://localhost:8080/"
    },
    "id": "RIREEkOHR3pc",
    "outputId": "57d33c2c-6b8a-4ae8-8e97-baf4659cd013",
    "pycharm": {
     "name": "#%%\n"
    }
   },
   "outputs": [
    {
     "data": {
      "text/plain": [
       "Ag    росбизнесцентр\n",
       "n                224\n",
       "Name: 223, dtype: object"
      ]
     },
     "execution_count": 8,
     "metadata": {
      "tags": []
     },
     "output_type": "execute_result"
    }
   ],
   "source": [
    "dict_ag.iloc [223,:]"
   ]
  },
  {
   "cell_type": "code",
   "execution_count": null,
   "metadata": {
    "id": "DxwVLa_JcFOj",
    "pycharm": {
     "name": "#%%\n"
    }
   },
   "outputs": [],
   "source": [
    "dct=dict_ag.values"
   ]
  },
  {
   "cell_type": "code",
   "execution_count": null,
   "metadata": {
    "id": "LtI18bm37epW",
    "pycharm": {
     "name": "#%%\n"
    }
   },
   "outputs": [],
   "source": [
    "data['Lng']=data['Lng'].fillna(44.53)"
   ]
  },
  {
   "cell_type": "code",
   "execution_count": null,
   "metadata": {
    "colab": {
     "base_uri": "https://localhost:8080/"
    },
    "id": "wfEMMmDRAfyH",
    "outputId": "84eddb16-b361-44cb-9ff5-e30ffa643daf",
    "pycharm": {
     "name": "#%%\n"
    }
   },
   "outputs": [
    {
     "data": {
      "text/plain": [
       "275"
      ]
     },
     "execution_count": 18,
     "metadata": {
      "tags": []
     },
     "output_type": "execute_result"
    }
   ],
   "source": [
    "data.iat[0,21]"
   ]
  },
  {
   "cell_type": "code",
   "execution_count": null,
   "metadata": {
    "colab": {
     "base_uri": "https://localhost:8080/",
     "height": 35
    },
    "id": "wMxQiF5LEyRo",
    "outputId": "f6f9357f-9e26-4b03-aaf8-0a54bdc37ed5",
    "pycharm": {
     "name": "#%%\n"
    }
   },
   "outputs": [
    {
     "data": {
      "application/vnd.google.colaboratory.intrinsic+json": {
       "type": "string"
      },
      "text/plain": [
       "'дизайнмастер'"
      ]
     },
     "execution_count": 22,
     "metadata": {
      "tags": []
     },
     "output_type": "execute_result"
    }
   ],
   "source": [
    "dct[114][0]"
   ]
  },
  {
   "cell_type": "code",
   "execution_count": null,
   "metadata": {
    "id": "7c7mi6LQFhXD",
    "pycharm": {
     "name": "#%%\n"
    }
   },
   "outputs": [],
   "source": [
    "data['Seller_Cat']=275"
   ]
  },
  {
   "cell_type": "code",
   "execution_count": null,
   "metadata": {
    "id": "mQxp-GdlHu2Q",
    "pycharm": {
     "name": "#%%\n"
    }
   },
   "outputs": [],
   "source": [
    "#Матчинг UID с базой гео, заполнение трэйндатасета\n",
    "for i in range (0, len (data)):\n",
    "      ag=data.iat[i,18]\n",
    "      if np.where (dct==ag)[0].size!=0:\n",
    "            idx=index(dct, ag)[0][0] \n",
    "            aname=dct[idx][1]\n",
    "            data.iat[i,21]=aname"
   ]
  },
  {
   "cell_type": "code",
   "execution_count": null,
   "metadata": {
    "id": "TG6C42mSuJz8",
    "pycharm": {
     "name": "#%%\n"
    }
   },
   "outputs": [],
   "source": [
    "#train=data.drop(['Size', 'Lat', 'Long', 'Cat'], axis=1)"
   ]
  },
  {
   "cell_type": "code",
   "execution_count": null,
   "metadata": {
    "id": "Xk1cOe2rXhjo",
    "pycharm": {
     "name": "#%%\n"
    }
   },
   "outputs": [],
   "source": [
    "train=data"
   ]
  },
  {
   "cell_type": "code",
   "execution_count": null,
   "metadata": {
    "colab": {
     "base_uri": "https://localhost:8080/"
    },
    "id": "V2j1St9p6SBv",
    "outputId": "ed8d579e-8aaf-4721-e1de-c1c5ffe90ddc",
    "pycharm": {
     "name": "#%%\n"
    }
   },
   "outputs": [
    {
     "name": "stdout",
     "output_type": "stream",
     "text": [
      "<class 'pandas.core.frame.DataFrame'>\n",
      "RangeIndex: 42798 entries, 0 to 42797\n",
      "Data columns (total 19 columns):\n",
      " #   Column          Non-Null Count  Dtype         \n",
      "---  ------          --------------  -----         \n",
      " 0   Unnamed: 0      42798 non-null  int64         \n",
      " 1   DateStart       42798 non-null  datetime64[ns]\n",
      " 2   PriceNoTax      42798 non-null  float64       \n",
      " 3   Discount        42798 non-null  float64       \n",
      " 4   YeraNum         42798 non-null  int64         \n",
      " 5   Month_ID        42798 non-null  int64         \n",
      " 6   BrandR1         42798 non-null  int64         \n",
      " 7   SeazonClass     42798 non-null  int64         \n",
      " 8   ConstrGroup     42798 non-null  int64         \n",
      " 9   ExpositionType  42798 non-null  int64         \n",
      " 10  CityType        42798 non-null  int64         \n",
      " 11  OperatorR1      42798 non-null  int64         \n",
      " 12  OperatorR2      42798 non-null  int64         \n",
      " 13  BudgetClass     42798 non-null  int64         \n",
      " 14  GRP             42798 non-null  float64       \n",
      " 15  Latitude        42798 non-null  float64       \n",
      " 16  Longitude       42798 non-null  float64       \n",
      " 17  Population      42798 non-null  int64         \n",
      " 18  Seller_Cat      42798 non-null  int64         \n",
      "dtypes: datetime64[ns](1), float64(5), int64(13)\n",
      "memory usage: 6.2 MB\n"
     ]
    }
   ],
   "source": [
    "train.info()"
   ]
  },
  {
   "cell_type": "code",
   "execution_count": null,
   "metadata": {
    "colab": {
     "base_uri": "https://localhost:8080/"
    },
    "id": "xJIcLXUWatcI",
    "outputId": "8a16f58d-8107-4040-f9e6-d20ec5654ce5",
    "pycharm": {
     "name": "#%%\n"
    }
   },
   "outputs": [
    {
     "data": {
      "text/plain": [
       "['PriceNoTax',\n",
       " 'Discount',\n",
       " 'GRP',\n",
       " 'YearNum',\n",
       " 'Month_Id',\n",
       " 'BrandR1',\n",
       " 'Seazon',\n",
       " 'ConstrGroup',\n",
       " 'ExpoType',\n",
       " 'CityType',\n",
       " 'OperatorR1',\n",
       " 'OperatorR2',\n",
       " 'Budget',\n",
       " 'Lat',\n",
       " 'Lng',\n",
       " 'ID',\n",
       " 'Sqr',\n",
       " 'Seller']"
      ]
     },
     "execution_count": 7,
     "metadata": {
      "tags": []
     },
     "output_type": "execute_result"
    }
   ],
   "source": [
    "cols=train.columns.to_list()\n",
    "cols"
   ]
  },
  {
   "cell_type": "code",
   "execution_count": null,
   "metadata": {
    "id": "3f8GNIAJazW8",
    "pycharm": {
     "name": "#%%\n"
    }
   },
   "outputs": [],
   "source": [
    "col_cat=[ 'BrandR1', \n",
    " 'OperatorR1',\n",
    " 'Seazon',\n",
    " 'ExpoType',\n",
    " 'CityType',\n",
    " 'Budget',\n",
    " 'Cat']"
   ]
  },
  {
   "cell_type": "code",
   "execution_count": null,
   "metadata": {
    "id": "mOOrwjGlJ4f3",
    "pycharm": {
     "name": "#%%\n"
    }
   },
   "outputs": [],
   "source": [
    "train=pd.get_dummies (train, columns=['Seller_Cat'])"
   ]
  },
  {
   "cell_type": "code",
   "execution_count": null,
   "metadata": {
    "colab": {
     "base_uri": "https://localhost:8080/",
     "height": 439
    },
    "id": "hq_sn873CXtY",
    "outputId": "af060702-8714-4d68-a9a2-a5704cfbc9b1",
    "pycharm": {
     "name": "#%%\n"
    }
   },
   "outputs": [
    {
     "data": {
      "text/html": [
       "<div>\n",
       "<style scoped>\n",
       "    .dataframe tbody tr th:only-of-type {\n",
       "        vertical-align: middle;\n",
       "    }\n",
       "\n",
       "    .dataframe tbody tr th {\n",
       "        vertical-align: top;\n",
       "    }\n",
       "\n",
       "    .dataframe thead th {\n",
       "        text-align: right;\n",
       "    }\n",
       "</style>\n",
       "<table border=\"1\" class=\"dataframe\">\n",
       "  <thead>\n",
       "    <tr style=\"text-align: right;\">\n",
       "      <th></th>\n",
       "      <th>PriceNoTax</th>\n",
       "      <th>Discount</th>\n",
       "      <th>YeraNum</th>\n",
       "      <th>Month_ID</th>\n",
       "      <th>BrandR1</th>\n",
       "      <th>ConstrGroup</th>\n",
       "      <th>ExpositionType</th>\n",
       "      <th>CityType</th>\n",
       "      <th>OperatorR1</th>\n",
       "      <th>OperatorR2</th>\n",
       "      <th>BudgetClass</th>\n",
       "      <th>GRP</th>\n",
       "      <th>Latitude</th>\n",
       "      <th>Longitude</th>\n",
       "      <th>Population</th>\n",
       "      <th>Square</th>\n",
       "      <th>City_Cat</th>\n",
       "      <th>Seller_Cat</th>\n",
       "    </tr>\n",
       "  </thead>\n",
       "  <tbody>\n",
       "    <tr>\n",
       "      <th>0</th>\n",
       "      <td>35000.00</td>\n",
       "      <td>0.171429</td>\n",
       "      <td>1</td>\n",
       "      <td>0</td>\n",
       "      <td>1</td>\n",
       "      <td>2</td>\n",
       "      <td>0</td>\n",
       "      <td>2</td>\n",
       "      <td>0</td>\n",
       "      <td>2</td>\n",
       "      <td>5</td>\n",
       "      <td>5.398128</td>\n",
       "      <td>61.249594</td>\n",
       "      <td>73.439155</td>\n",
       "      <td>380632</td>\n",
       "      <td>18.00</td>\n",
       "      <td>8</td>\n",
       "      <td>56</td>\n",
       "    </tr>\n",
       "    <tr>\n",
       "      <th>1</th>\n",
       "      <td>23500.00</td>\n",
       "      <td>0.659574</td>\n",
       "      <td>1</td>\n",
       "      <td>0</td>\n",
       "      <td>1</td>\n",
       "      <td>2</td>\n",
       "      <td>0</td>\n",
       "      <td>4</td>\n",
       "      <td>0</td>\n",
       "      <td>1</td>\n",
       "      <td>5</td>\n",
       "      <td>2.475000</td>\n",
       "      <td>55.037888</td>\n",
       "      <td>73.308052</td>\n",
       "      <td>1154507</td>\n",
       "      <td>18.00</td>\n",
       "      <td>8</td>\n",
       "      <td>236</td>\n",
       "    </tr>\n",
       "    <tr>\n",
       "      <th>2</th>\n",
       "      <td>18333.33</td>\n",
       "      <td>0.345454</td>\n",
       "      <td>1</td>\n",
       "      <td>0</td>\n",
       "      <td>3</td>\n",
       "      <td>1</td>\n",
       "      <td>2</td>\n",
       "      <td>4</td>\n",
       "      <td>0</td>\n",
       "      <td>2</td>\n",
       "      <td>5</td>\n",
       "      <td>1.612208</td>\n",
       "      <td>56.819555</td>\n",
       "      <td>60.540267</td>\n",
       "      <td>1493749</td>\n",
       "      <td>9.99</td>\n",
       "      <td>3</td>\n",
       "      <td>262</td>\n",
       "    </tr>\n",
       "    <tr>\n",
       "      <th>3</th>\n",
       "      <td>9900.00</td>\n",
       "      <td>-0.124242</td>\n",
       "      <td>1</td>\n",
       "      <td>0</td>\n",
       "      <td>1</td>\n",
       "      <td>0</td>\n",
       "      <td>0</td>\n",
       "      <td>4</td>\n",
       "      <td>2</td>\n",
       "      <td>2</td>\n",
       "      <td>5</td>\n",
       "      <td>1.160000</td>\n",
       "      <td>55.783811</td>\n",
       "      <td>49.149794</td>\n",
       "      <td>1257391</td>\n",
       "      <td>4.20</td>\n",
       "      <td>8</td>\n",
       "      <td>222</td>\n",
       "    </tr>\n",
       "    <tr>\n",
       "      <th>4</th>\n",
       "      <td>9900.00</td>\n",
       "      <td>-0.124242</td>\n",
       "      <td>1</td>\n",
       "      <td>0</td>\n",
       "      <td>1</td>\n",
       "      <td>0</td>\n",
       "      <td>0</td>\n",
       "      <td>4</td>\n",
       "      <td>2</td>\n",
       "      <td>2</td>\n",
       "      <td>5</td>\n",
       "      <td>1.160000</td>\n",
       "      <td>55.783811</td>\n",
       "      <td>49.149794</td>\n",
       "      <td>1257391</td>\n",
       "      <td>4.20</td>\n",
       "      <td>8</td>\n",
       "      <td>222</td>\n",
       "    </tr>\n",
       "    <tr>\n",
       "      <th>...</th>\n",
       "      <td>...</td>\n",
       "      <td>...</td>\n",
       "      <td>...</td>\n",
       "      <td>...</td>\n",
       "      <td>...</td>\n",
       "      <td>...</td>\n",
       "      <td>...</td>\n",
       "      <td>...</td>\n",
       "      <td>...</td>\n",
       "      <td>...</td>\n",
       "      <td>...</td>\n",
       "      <td>...</td>\n",
       "      <td>...</td>\n",
       "      <td>...</td>\n",
       "      <td>...</td>\n",
       "      <td>...</td>\n",
       "      <td>...</td>\n",
       "      <td>...</td>\n",
       "    </tr>\n",
       "    <tr>\n",
       "      <th>42793</th>\n",
       "      <td>23000.00</td>\n",
       "      <td>0.400000</td>\n",
       "      <td>3</td>\n",
       "      <td>5</td>\n",
       "      <td>1</td>\n",
       "      <td>2</td>\n",
       "      <td>0</td>\n",
       "      <td>3</td>\n",
       "      <td>2</td>\n",
       "      <td>4</td>\n",
       "      <td>3</td>\n",
       "      <td>2.760000</td>\n",
       "      <td>53.334602</td>\n",
       "      <td>83.669099</td>\n",
       "      <td>632391</td>\n",
       "      <td>18.00</td>\n",
       "      <td>8</td>\n",
       "      <td>115</td>\n",
       "    </tr>\n",
       "    <tr>\n",
       "      <th>42794</th>\n",
       "      <td>23000.00</td>\n",
       "      <td>0.400000</td>\n",
       "      <td>3</td>\n",
       "      <td>5</td>\n",
       "      <td>1</td>\n",
       "      <td>2</td>\n",
       "      <td>0</td>\n",
       "      <td>3</td>\n",
       "      <td>2</td>\n",
       "      <td>4</td>\n",
       "      <td>3</td>\n",
       "      <td>2.760000</td>\n",
       "      <td>53.334602</td>\n",
       "      <td>83.669099</td>\n",
       "      <td>632391</td>\n",
       "      <td>18.00</td>\n",
       "      <td>8</td>\n",
       "      <td>115</td>\n",
       "    </tr>\n",
       "    <tr>\n",
       "      <th>42795</th>\n",
       "      <td>23000.00</td>\n",
       "      <td>0.400000</td>\n",
       "      <td>3</td>\n",
       "      <td>5</td>\n",
       "      <td>1</td>\n",
       "      <td>2</td>\n",
       "      <td>0</td>\n",
       "      <td>3</td>\n",
       "      <td>2</td>\n",
       "      <td>4</td>\n",
       "      <td>3</td>\n",
       "      <td>2.760000</td>\n",
       "      <td>53.334602</td>\n",
       "      <td>83.669099</td>\n",
       "      <td>632391</td>\n",
       "      <td>18.00</td>\n",
       "      <td>8</td>\n",
       "      <td>115</td>\n",
       "    </tr>\n",
       "    <tr>\n",
       "      <th>42796</th>\n",
       "      <td>23000.00</td>\n",
       "      <td>0.400000</td>\n",
       "      <td>3</td>\n",
       "      <td>5</td>\n",
       "      <td>1</td>\n",
       "      <td>2</td>\n",
       "      <td>0</td>\n",
       "      <td>3</td>\n",
       "      <td>2</td>\n",
       "      <td>4</td>\n",
       "      <td>3</td>\n",
       "      <td>2.760000</td>\n",
       "      <td>53.334602</td>\n",
       "      <td>83.669099</td>\n",
       "      <td>632391</td>\n",
       "      <td>18.00</td>\n",
       "      <td>8</td>\n",
       "      <td>115</td>\n",
       "    </tr>\n",
       "    <tr>\n",
       "      <th>42797</th>\n",
       "      <td>23000.00</td>\n",
       "      <td>0.400000</td>\n",
       "      <td>3</td>\n",
       "      <td>5</td>\n",
       "      <td>1</td>\n",
       "      <td>2</td>\n",
       "      <td>0</td>\n",
       "      <td>3</td>\n",
       "      <td>2</td>\n",
       "      <td>4</td>\n",
       "      <td>3</td>\n",
       "      <td>2.760000</td>\n",
       "      <td>53.334602</td>\n",
       "      <td>83.669099</td>\n",
       "      <td>632391</td>\n",
       "      <td>18.00</td>\n",
       "      <td>8</td>\n",
       "      <td>115</td>\n",
       "    </tr>\n",
       "  </tbody>\n",
       "</table>\n",
       "<p>42798 rows × 18 columns</p>\n",
       "</div>"
      ],
      "text/plain": [
       "       PriceNoTax  Discount  YeraNum  ...  Square  City_Cat  Seller_Cat\n",
       "0        35000.00  0.171429        1  ...   18.00         8          56\n",
       "1        23500.00  0.659574        1  ...   18.00         8         236\n",
       "2        18333.33  0.345454        1  ...    9.99         3         262\n",
       "3         9900.00 -0.124242        1  ...    4.20         8         222\n",
       "4         9900.00 -0.124242        1  ...    4.20         8         222\n",
       "...           ...       ...      ...  ...     ...       ...         ...\n",
       "42793    23000.00  0.400000        3  ...   18.00         8         115\n",
       "42794    23000.00  0.400000        3  ...   18.00         8         115\n",
       "42795    23000.00  0.400000        3  ...   18.00         8         115\n",
       "42796    23000.00  0.400000        3  ...   18.00         8         115\n",
       "42797    23000.00  0.400000        3  ...   18.00         8         115\n",
       "\n",
       "[42798 rows x 18 columns]"
      ]
     },
     "execution_count": 27,
     "metadata": {
      "tags": []
     },
     "output_type": "execute_result"
    }
   ],
   "source": [
    "train"
   ]
  },
  {
   "cell_type": "code",
   "execution_count": null,
   "metadata": {
    "id": "_ioZZA4QkBcF",
    "pycharm": {
     "name": "#%%\n"
    }
   },
   "outputs": [],
   "source": [
    "hold=train.iloc[40000:,:]"
   ]
  },
  {
   "cell_type": "code",
   "execution_count": null,
   "metadata": {
    "id": "U3acDyWElrg0",
    "pycharm": {
     "name": "#%%\n"
    }
   },
   "outputs": [],
   "source": [
    "train_data=train.iloc[:40000,:]"
   ]
  },
  {
   "cell_type": "code",
   "execution_count": null,
   "metadata": {
    "colab": {
     "base_uri": "https://localhost:8080/",
     "height": 419
    },
    "id": "SAkEUiRimNGJ",
    "outputId": "de54be6f-15c8-4658-8049-5caf12a1eaf5",
    "pycharm": {
     "name": "#%%\n"
    }
   },
   "outputs": [
    {
     "data": {
      "text/html": [
       "<div>\n",
       "<style scoped>\n",
       "    .dataframe tbody tr th:only-of-type {\n",
       "        vertical-align: middle;\n",
       "    }\n",
       "\n",
       "    .dataframe tbody tr th {\n",
       "        vertical-align: top;\n",
       "    }\n",
       "\n",
       "    .dataframe thead th {\n",
       "        text-align: right;\n",
       "    }\n",
       "</style>\n",
       "<table border=\"1\" class=\"dataframe\">\n",
       "  <thead>\n",
       "    <tr style=\"text-align: right;\">\n",
       "      <th></th>\n",
       "      <th>PriceNoTax</th>\n",
       "      <th>Discount</th>\n",
       "      <th>YeraNum</th>\n",
       "      <th>Month_ID</th>\n",
       "      <th>BrandR1</th>\n",
       "      <th>SeazonClass</th>\n",
       "      <th>ConstrGroup</th>\n",
       "      <th>ExpositionType</th>\n",
       "      <th>CityType</th>\n",
       "      <th>OperatorR1</th>\n",
       "      <th>OperatorR2</th>\n",
       "      <th>BudgetClass</th>\n",
       "      <th>GRP</th>\n",
       "      <th>Latitude</th>\n",
       "      <th>Longitude</th>\n",
       "      <th>Population</th>\n",
       "      <th>Seller_Cat</th>\n",
       "    </tr>\n",
       "  </thead>\n",
       "  <tbody>\n",
       "    <tr>\n",
       "      <th>0</th>\n",
       "      <td>32000.0</td>\n",
       "      <td>0.249062</td>\n",
       "      <td>1</td>\n",
       "      <td>0</td>\n",
       "      <td>1</td>\n",
       "      <td>0</td>\n",
       "      <td>2</td>\n",
       "      <td>0</td>\n",
       "      <td>4</td>\n",
       "      <td>2</td>\n",
       "      <td>4</td>\n",
       "      <td>5</td>\n",
       "      <td>2.070000</td>\n",
       "      <td>54.989864</td>\n",
       "      <td>82.913353</td>\n",
       "      <td>1625631</td>\n",
       "      <td>115</td>\n",
       "    </tr>\n",
       "    <tr>\n",
       "      <th>1</th>\n",
       "      <td>7700.0</td>\n",
       "      <td>0.376623</td>\n",
       "      <td>1</td>\n",
       "      <td>0</td>\n",
       "      <td>3</td>\n",
       "      <td>0</td>\n",
       "      <td>2</td>\n",
       "      <td>0</td>\n",
       "      <td>1</td>\n",
       "      <td>0</td>\n",
       "      <td>1</td>\n",
       "      <td>5</td>\n",
       "      <td>16.569302</td>\n",
       "      <td>56.994742</td>\n",
       "      <td>61.468938</td>\n",
       "      <td>62908</td>\n",
       "      <td>275</td>\n",
       "    </tr>\n",
       "    <tr>\n",
       "      <th>2</th>\n",
       "      <td>7500.0</td>\n",
       "      <td>0.333333</td>\n",
       "      <td>1</td>\n",
       "      <td>0</td>\n",
       "      <td>3</td>\n",
       "      <td>0</td>\n",
       "      <td>0</td>\n",
       "      <td>0</td>\n",
       "      <td>4</td>\n",
       "      <td>0</td>\n",
       "      <td>2</td>\n",
       "      <td>5</td>\n",
       "      <td>1.870000</td>\n",
       "      <td>56.835452</td>\n",
       "      <td>60.622364</td>\n",
       "      <td>1493749</td>\n",
       "      <td>262</td>\n",
       "    </tr>\n",
       "    <tr>\n",
       "      <th>3</th>\n",
       "      <td>25190.0</td>\n",
       "      <td>0.702263</td>\n",
       "      <td>1</td>\n",
       "      <td>0</td>\n",
       "      <td>1</td>\n",
       "      <td>0</td>\n",
       "      <td>2</td>\n",
       "      <td>0</td>\n",
       "      <td>4</td>\n",
       "      <td>2</td>\n",
       "      <td>4</td>\n",
       "      <td>5</td>\n",
       "      <td>1.920000</td>\n",
       "      <td>54.998824</td>\n",
       "      <td>73.277923</td>\n",
       "      <td>1154507</td>\n",
       "      <td>115</td>\n",
       "    </tr>\n",
       "    <tr>\n",
       "      <th>4</th>\n",
       "      <td>33000.0</td>\n",
       "      <td>0.250000</td>\n",
       "      <td>1</td>\n",
       "      <td>0</td>\n",
       "      <td>3</td>\n",
       "      <td>0</td>\n",
       "      <td>2</td>\n",
       "      <td>0</td>\n",
       "      <td>4</td>\n",
       "      <td>0</td>\n",
       "      <td>1</td>\n",
       "      <td>5</td>\n",
       "      <td>2.421667</td>\n",
       "      <td>56.830672</td>\n",
       "      <td>60.670603</td>\n",
       "      <td>1493749</td>\n",
       "      <td>275</td>\n",
       "    </tr>\n",
       "    <tr>\n",
       "      <th>...</th>\n",
       "      <td>...</td>\n",
       "      <td>...</td>\n",
       "      <td>...</td>\n",
       "      <td>...</td>\n",
       "      <td>...</td>\n",
       "      <td>...</td>\n",
       "      <td>...</td>\n",
       "      <td>...</td>\n",
       "      <td>...</td>\n",
       "      <td>...</td>\n",
       "      <td>...</td>\n",
       "      <td>...</td>\n",
       "      <td>...</td>\n",
       "      <td>...</td>\n",
       "      <td>...</td>\n",
       "      <td>...</td>\n",
       "      <td>...</td>\n",
       "    </tr>\n",
       "    <tr>\n",
       "      <th>39995</th>\n",
       "      <td>32800.0</td>\n",
       "      <td>0.451220</td>\n",
       "      <td>3</td>\n",
       "      <td>3</td>\n",
       "      <td>1</td>\n",
       "      <td>1</td>\n",
       "      <td>2</td>\n",
       "      <td>0</td>\n",
       "      <td>2</td>\n",
       "      <td>0</td>\n",
       "      <td>2</td>\n",
       "      <td>1</td>\n",
       "      <td>8.548470</td>\n",
       "      <td>64.564203</td>\n",
       "      <td>39.783300</td>\n",
       "      <td>181990</td>\n",
       "      <td>178</td>\n",
       "    </tr>\n",
       "    <tr>\n",
       "      <th>39996</th>\n",
       "      <td>32900.0</td>\n",
       "      <td>0.600608</td>\n",
       "      <td>3</td>\n",
       "      <td>3</td>\n",
       "      <td>1</td>\n",
       "      <td>1</td>\n",
       "      <td>2</td>\n",
       "      <td>0</td>\n",
       "      <td>4</td>\n",
       "      <td>2</td>\n",
       "      <td>2</td>\n",
       "      <td>3</td>\n",
       "      <td>1.030000</td>\n",
       "      <td>58.005581</td>\n",
       "      <td>56.121909</td>\n",
       "      <td>1055397</td>\n",
       "      <td>222</td>\n",
       "    </tr>\n",
       "    <tr>\n",
       "      <th>39997</th>\n",
       "      <td>32900.0</td>\n",
       "      <td>0.600608</td>\n",
       "      <td>3</td>\n",
       "      <td>3</td>\n",
       "      <td>1</td>\n",
       "      <td>1</td>\n",
       "      <td>2</td>\n",
       "      <td>0</td>\n",
       "      <td>4</td>\n",
       "      <td>2</td>\n",
       "      <td>2</td>\n",
       "      <td>3</td>\n",
       "      <td>1.030000</td>\n",
       "      <td>58.005581</td>\n",
       "      <td>56.121909</td>\n",
       "      <td>1055397</td>\n",
       "      <td>222</td>\n",
       "    </tr>\n",
       "    <tr>\n",
       "      <th>39998</th>\n",
       "      <td>32900.0</td>\n",
       "      <td>0.600608</td>\n",
       "      <td>3</td>\n",
       "      <td>3</td>\n",
       "      <td>1</td>\n",
       "      <td>1</td>\n",
       "      <td>2</td>\n",
       "      <td>0</td>\n",
       "      <td>4</td>\n",
       "      <td>2</td>\n",
       "      <td>2</td>\n",
       "      <td>3</td>\n",
       "      <td>1.030000</td>\n",
       "      <td>58.005581</td>\n",
       "      <td>56.121909</td>\n",
       "      <td>1055397</td>\n",
       "      <td>222</td>\n",
       "    </tr>\n",
       "    <tr>\n",
       "      <th>39999</th>\n",
       "      <td>32900.0</td>\n",
       "      <td>0.600608</td>\n",
       "      <td>3</td>\n",
       "      <td>3</td>\n",
       "      <td>1</td>\n",
       "      <td>1</td>\n",
       "      <td>2</td>\n",
       "      <td>0</td>\n",
       "      <td>4</td>\n",
       "      <td>2</td>\n",
       "      <td>2</td>\n",
       "      <td>3</td>\n",
       "      <td>1.030000</td>\n",
       "      <td>58.005581</td>\n",
       "      <td>56.121909</td>\n",
       "      <td>1055397</td>\n",
       "      <td>222</td>\n",
       "    </tr>\n",
       "  </tbody>\n",
       "</table>\n",
       "<p>40000 rows × 17 columns</p>\n",
       "</div>"
      ],
      "text/plain": [
       "       PriceNoTax  Discount  YeraNum  ...  Longitude  Population  Seller_Cat\n",
       "0         32000.0  0.249062        1  ...  82.913353     1625631         115\n",
       "1          7700.0  0.376623        1  ...  61.468938       62908         275\n",
       "2          7500.0  0.333333        1  ...  60.622364     1493749         262\n",
       "3         25190.0  0.702263        1  ...  73.277923     1154507         115\n",
       "4         33000.0  0.250000        1  ...  60.670603     1493749         275\n",
       "...           ...       ...      ...  ...        ...         ...         ...\n",
       "39995     32800.0  0.451220        3  ...  39.783300      181990         178\n",
       "39996     32900.0  0.600608        3  ...  56.121909     1055397         222\n",
       "39997     32900.0  0.600608        3  ...  56.121909     1055397         222\n",
       "39998     32900.0  0.600608        3  ...  56.121909     1055397         222\n",
       "39999     32900.0  0.600608        3  ...  56.121909     1055397         222\n",
       "\n",
       "[40000 rows x 17 columns]"
      ]
     },
     "execution_count": 14,
     "metadata": {
      "tags": []
     },
     "output_type": "execute_result"
    }
   ],
   "source": [
    "train_data"
   ]
  },
  {
   "cell_type": "code",
   "execution_count": null,
   "metadata": {
    "id": "d6uQecKS6vlb",
    "pycharm": {
     "name": "#%%\n"
    }
   },
   "outputs": [],
   "source": [
    "X=train_data.drop('Discount', axis=1)\n",
    "y=train_data.pop('Discount')\n"
   ]
  },
  {
   "cell_type": "code",
   "execution_count": null,
   "metadata": {
    "id": "rxIq_wEhnLj6",
    "pycharm": {
     "name": "#%%\n"
    }
   },
   "outputs": [],
   "source": [
    "hold_test=hold.drop('Discount', axis=1)\n",
    "hold_label=hold.pop('Discount')"
   ]
  },
  {
   "cell_type": "code",
   "execution_count": null,
   "metadata": {
    "colab": {
     "base_uri": "https://localhost:8080/"
    },
    "id": "GJ-812NYmi5E",
    "outputId": "0efae3d3-b965-47ef-eedb-497f0d5384b9",
    "pycharm": {
     "name": "#%%\n"
    }
   },
   "outputs": [
    {
     "data": {
      "text/plain": [
       "37513    0.409974\n",
       "783      0.600608\n",
       "782      0.600608\n",
       "781      0.600608\n",
       "37519    0.350000\n",
       "           ...   \n",
       "5169     0.400000\n",
       "5168     0.400000\n",
       "5167     0.384615\n",
       "19819    0.100000\n",
       "11635    0.400000\n",
       "Name: Discount, Length: 2798, dtype: float64"
      ]
     },
     "execution_count": 47,
     "metadata": {
      "tags": []
     },
     "output_type": "execute_result"
    }
   ],
   "source": [
    "hold_label"
   ]
  },
  {
   "cell_type": "code",
   "execution_count": null,
   "metadata": {
    "colab": {
     "base_uri": "https://localhost:8080/"
    },
    "id": "mBaxlVfFlAVH",
    "outputId": "87785122-399b-4f77-cc5f-232b3b2a8870",
    "pycharm": {
     "name": "#%%\n"
    }
   },
   "outputs": [
    {
     "data": {
      "text/plain": [
       "23000.0"
      ]
     },
     "execution_count": 27,
     "metadata": {
      "tags": []
     },
     "output_type": "execute_result"
    }
   ],
   "source": [
    "train.iat[42797,1]"
   ]
  },
  {
   "cell_type": "code",
   "execution_count": null,
   "metadata": {
    "id": "d_Serf2DSmTu",
    "pycharm": {
     "name": "#%%\n"
    }
   },
   "outputs": [],
   "source": [
    "train=pd.get_dummies (train, columns=col_cat)"
   ]
  },
  {
   "cell_type": "code",
   "execution_count": null,
   "metadata": {
    "id": "KnaWyfL8v-M2",
    "pycharm": {
     "name": "#%%\n"
    }
   },
   "outputs": [],
   "source": []
  },
  {
   "cell_type": "code",
   "execution_count": null,
   "metadata": {
    "id": "T7ZZGXU7Syzr",
    "pycharm": {
     "name": "#%%\n"
    }
   },
   "outputs": [],
   "source": [
    "data.info()"
   ]
  },
  {
   "cell_type": "code",
   "execution_count": null,
   "metadata": {
    "id": "ErNVBvZwBz34",
    "pycharm": {
     "name": "#%%\n"
    }
   },
   "outputs": [],
   "source": [
    "X"
   ]
  },
  {
   "cell_type": "code",
   "execution_count": null,
   "metadata": {
    "id": "QXfVMefCuMaS",
    "pycharm": {
     "name": "#%%\n"
    }
   },
   "outputs": [],
   "source": [
    "#train=train.drop(['CityType', 'OperatorR1'], axis=1)"
   ]
  },
  {
   "cell_type": "code",
   "execution_count": null,
   "metadata": {
    "colab": {
     "base_uri": "https://localhost:8080/",
     "height": 439
    },
    "id": "xdZICc7ZCbTQ",
    "outputId": "cf00bb3a-812d-4fe2-f436-a9cc9466f136",
    "pycharm": {
     "name": "#%%\n"
    }
   },
   "outputs": [
    {
     "data": {
      "text/html": [
       "<div>\n",
       "<style scoped>\n",
       "    .dataframe tbody tr th:only-of-type {\n",
       "        vertical-align: middle;\n",
       "    }\n",
       "\n",
       "    .dataframe tbody tr th {\n",
       "        vertical-align: top;\n",
       "    }\n",
       "\n",
       "    .dataframe thead th {\n",
       "        text-align: right;\n",
       "    }\n",
       "</style>\n",
       "<table border=\"1\" class=\"dataframe\">\n",
       "  <thead>\n",
       "    <tr style=\"text-align: right;\">\n",
       "      <th></th>\n",
       "      <th>PriceNoTax</th>\n",
       "      <th>YeraNum</th>\n",
       "      <th>Month_ID</th>\n",
       "      <th>BrandR1</th>\n",
       "      <th>SeazonClass</th>\n",
       "      <th>ConstrGroup</th>\n",
       "      <th>ExpositionType</th>\n",
       "      <th>CityType</th>\n",
       "      <th>OperatorR1</th>\n",
       "      <th>OperatorR2</th>\n",
       "      <th>BudgetClass</th>\n",
       "      <th>GRP</th>\n",
       "      <th>Latitude</th>\n",
       "      <th>Longitude</th>\n",
       "      <th>Population</th>\n",
       "      <th>Seller_Cat_1</th>\n",
       "      <th>Seller_Cat_2</th>\n",
       "      <th>Seller_Cat_8</th>\n",
       "      <th>Seller_Cat_9</th>\n",
       "      <th>Seller_Cat_13</th>\n",
       "      <th>Seller_Cat_15</th>\n",
       "      <th>Seller_Cat_17</th>\n",
       "      <th>Seller_Cat_18</th>\n",
       "      <th>Seller_Cat_19</th>\n",
       "      <th>Seller_Cat_20</th>\n",
       "      <th>Seller_Cat_21</th>\n",
       "      <th>Seller_Cat_22</th>\n",
       "      <th>Seller_Cat_24</th>\n",
       "      <th>Seller_Cat_27</th>\n",
       "      <th>Seller_Cat_29</th>\n",
       "      <th>Seller_Cat_30</th>\n",
       "      <th>Seller_Cat_31</th>\n",
       "      <th>Seller_Cat_36</th>\n",
       "      <th>Seller_Cat_39</th>\n",
       "      <th>Seller_Cat_40</th>\n",
       "      <th>Seller_Cat_42</th>\n",
       "      <th>Seller_Cat_44</th>\n",
       "      <th>Seller_Cat_46</th>\n",
       "      <th>Seller_Cat_47</th>\n",
       "      <th>Seller_Cat_48</th>\n",
       "      <th>...</th>\n",
       "      <th>Seller_Cat_223</th>\n",
       "      <th>Seller_Cat_224</th>\n",
       "      <th>Seller_Cat_225</th>\n",
       "      <th>Seller_Cat_226</th>\n",
       "      <th>Seller_Cat_227</th>\n",
       "      <th>Seller_Cat_228</th>\n",
       "      <th>Seller_Cat_230</th>\n",
       "      <th>Seller_Cat_231</th>\n",
       "      <th>Seller_Cat_233</th>\n",
       "      <th>Seller_Cat_235</th>\n",
       "      <th>Seller_Cat_236</th>\n",
       "      <th>Seller_Cat_237</th>\n",
       "      <th>Seller_Cat_238</th>\n",
       "      <th>Seller_Cat_240</th>\n",
       "      <th>Seller_Cat_242</th>\n",
       "      <th>Seller_Cat_245</th>\n",
       "      <th>Seller_Cat_246</th>\n",
       "      <th>Seller_Cat_247</th>\n",
       "      <th>Seller_Cat_248</th>\n",
       "      <th>Seller_Cat_249</th>\n",
       "      <th>Seller_Cat_250</th>\n",
       "      <th>Seller_Cat_251</th>\n",
       "      <th>Seller_Cat_252</th>\n",
       "      <th>Seller_Cat_254</th>\n",
       "      <th>Seller_Cat_255</th>\n",
       "      <th>Seller_Cat_256</th>\n",
       "      <th>Seller_Cat_257</th>\n",
       "      <th>Seller_Cat_259</th>\n",
       "      <th>Seller_Cat_261</th>\n",
       "      <th>Seller_Cat_262</th>\n",
       "      <th>Seller_Cat_263</th>\n",
       "      <th>Seller_Cat_264</th>\n",
       "      <th>Seller_Cat_265</th>\n",
       "      <th>Seller_Cat_266</th>\n",
       "      <th>Seller_Cat_267</th>\n",
       "      <th>Seller_Cat_268</th>\n",
       "      <th>Seller_Cat_270</th>\n",
       "      <th>Seller_Cat_272</th>\n",
       "      <th>Seller_Cat_274</th>\n",
       "      <th>Seller_Cat_275</th>\n",
       "    </tr>\n",
       "  </thead>\n",
       "  <tbody>\n",
       "    <tr>\n",
       "      <th>0</th>\n",
       "      <td>32000.0</td>\n",
       "      <td>1</td>\n",
       "      <td>0</td>\n",
       "      <td>1</td>\n",
       "      <td>0</td>\n",
       "      <td>2</td>\n",
       "      <td>0</td>\n",
       "      <td>4</td>\n",
       "      <td>2</td>\n",
       "      <td>4</td>\n",
       "      <td>5</td>\n",
       "      <td>2.070000</td>\n",
       "      <td>54.989864</td>\n",
       "      <td>82.913353</td>\n",
       "      <td>1625631</td>\n",
       "      <td>0</td>\n",
       "      <td>0</td>\n",
       "      <td>0</td>\n",
       "      <td>0</td>\n",
       "      <td>0</td>\n",
       "      <td>0</td>\n",
       "      <td>0</td>\n",
       "      <td>0</td>\n",
       "      <td>0</td>\n",
       "      <td>0</td>\n",
       "      <td>0</td>\n",
       "      <td>0</td>\n",
       "      <td>0</td>\n",
       "      <td>0</td>\n",
       "      <td>0</td>\n",
       "      <td>0</td>\n",
       "      <td>0</td>\n",
       "      <td>0</td>\n",
       "      <td>0</td>\n",
       "      <td>0</td>\n",
       "      <td>0</td>\n",
       "      <td>0</td>\n",
       "      <td>0</td>\n",
       "      <td>0</td>\n",
       "      <td>0</td>\n",
       "      <td>...</td>\n",
       "      <td>0</td>\n",
       "      <td>0</td>\n",
       "      <td>0</td>\n",
       "      <td>0</td>\n",
       "      <td>0</td>\n",
       "      <td>0</td>\n",
       "      <td>0</td>\n",
       "      <td>0</td>\n",
       "      <td>0</td>\n",
       "      <td>0</td>\n",
       "      <td>0</td>\n",
       "      <td>0</td>\n",
       "      <td>0</td>\n",
       "      <td>0</td>\n",
       "      <td>0</td>\n",
       "      <td>0</td>\n",
       "      <td>0</td>\n",
       "      <td>0</td>\n",
       "      <td>0</td>\n",
       "      <td>0</td>\n",
       "      <td>0</td>\n",
       "      <td>0</td>\n",
       "      <td>0</td>\n",
       "      <td>0</td>\n",
       "      <td>0</td>\n",
       "      <td>0</td>\n",
       "      <td>0</td>\n",
       "      <td>0</td>\n",
       "      <td>0</td>\n",
       "      <td>0</td>\n",
       "      <td>0</td>\n",
       "      <td>0</td>\n",
       "      <td>0</td>\n",
       "      <td>0</td>\n",
       "      <td>0</td>\n",
       "      <td>0</td>\n",
       "      <td>0</td>\n",
       "      <td>0</td>\n",
       "      <td>0</td>\n",
       "      <td>0</td>\n",
       "    </tr>\n",
       "    <tr>\n",
       "      <th>1</th>\n",
       "      <td>7700.0</td>\n",
       "      <td>1</td>\n",
       "      <td>0</td>\n",
       "      <td>3</td>\n",
       "      <td>0</td>\n",
       "      <td>2</td>\n",
       "      <td>0</td>\n",
       "      <td>1</td>\n",
       "      <td>0</td>\n",
       "      <td>1</td>\n",
       "      <td>5</td>\n",
       "      <td>16.569302</td>\n",
       "      <td>56.994742</td>\n",
       "      <td>61.468938</td>\n",
       "      <td>62908</td>\n",
       "      <td>0</td>\n",
       "      <td>0</td>\n",
       "      <td>0</td>\n",
       "      <td>0</td>\n",
       "      <td>0</td>\n",
       "      <td>0</td>\n",
       "      <td>0</td>\n",
       "      <td>0</td>\n",
       "      <td>0</td>\n",
       "      <td>0</td>\n",
       "      <td>0</td>\n",
       "      <td>0</td>\n",
       "      <td>0</td>\n",
       "      <td>0</td>\n",
       "      <td>0</td>\n",
       "      <td>0</td>\n",
       "      <td>0</td>\n",
       "      <td>0</td>\n",
       "      <td>0</td>\n",
       "      <td>0</td>\n",
       "      <td>0</td>\n",
       "      <td>0</td>\n",
       "      <td>0</td>\n",
       "      <td>0</td>\n",
       "      <td>0</td>\n",
       "      <td>...</td>\n",
       "      <td>0</td>\n",
       "      <td>0</td>\n",
       "      <td>0</td>\n",
       "      <td>0</td>\n",
       "      <td>0</td>\n",
       "      <td>0</td>\n",
       "      <td>0</td>\n",
       "      <td>0</td>\n",
       "      <td>0</td>\n",
       "      <td>0</td>\n",
       "      <td>0</td>\n",
       "      <td>0</td>\n",
       "      <td>0</td>\n",
       "      <td>0</td>\n",
       "      <td>0</td>\n",
       "      <td>0</td>\n",
       "      <td>0</td>\n",
       "      <td>0</td>\n",
       "      <td>0</td>\n",
       "      <td>0</td>\n",
       "      <td>0</td>\n",
       "      <td>0</td>\n",
       "      <td>0</td>\n",
       "      <td>0</td>\n",
       "      <td>0</td>\n",
       "      <td>0</td>\n",
       "      <td>0</td>\n",
       "      <td>0</td>\n",
       "      <td>0</td>\n",
       "      <td>0</td>\n",
       "      <td>0</td>\n",
       "      <td>0</td>\n",
       "      <td>0</td>\n",
       "      <td>0</td>\n",
       "      <td>0</td>\n",
       "      <td>0</td>\n",
       "      <td>0</td>\n",
       "      <td>0</td>\n",
       "      <td>0</td>\n",
       "      <td>1</td>\n",
       "    </tr>\n",
       "    <tr>\n",
       "      <th>2</th>\n",
       "      <td>7500.0</td>\n",
       "      <td>1</td>\n",
       "      <td>0</td>\n",
       "      <td>3</td>\n",
       "      <td>0</td>\n",
       "      <td>0</td>\n",
       "      <td>0</td>\n",
       "      <td>4</td>\n",
       "      <td>0</td>\n",
       "      <td>2</td>\n",
       "      <td>5</td>\n",
       "      <td>1.870000</td>\n",
       "      <td>56.835452</td>\n",
       "      <td>60.622364</td>\n",
       "      <td>1493749</td>\n",
       "      <td>0</td>\n",
       "      <td>0</td>\n",
       "      <td>0</td>\n",
       "      <td>0</td>\n",
       "      <td>0</td>\n",
       "      <td>0</td>\n",
       "      <td>0</td>\n",
       "      <td>0</td>\n",
       "      <td>0</td>\n",
       "      <td>0</td>\n",
       "      <td>0</td>\n",
       "      <td>0</td>\n",
       "      <td>0</td>\n",
       "      <td>0</td>\n",
       "      <td>0</td>\n",
       "      <td>0</td>\n",
       "      <td>0</td>\n",
       "      <td>0</td>\n",
       "      <td>0</td>\n",
       "      <td>0</td>\n",
       "      <td>0</td>\n",
       "      <td>0</td>\n",
       "      <td>0</td>\n",
       "      <td>0</td>\n",
       "      <td>0</td>\n",
       "      <td>...</td>\n",
       "      <td>0</td>\n",
       "      <td>0</td>\n",
       "      <td>0</td>\n",
       "      <td>0</td>\n",
       "      <td>0</td>\n",
       "      <td>0</td>\n",
       "      <td>0</td>\n",
       "      <td>0</td>\n",
       "      <td>0</td>\n",
       "      <td>0</td>\n",
       "      <td>0</td>\n",
       "      <td>0</td>\n",
       "      <td>0</td>\n",
       "      <td>0</td>\n",
       "      <td>0</td>\n",
       "      <td>0</td>\n",
       "      <td>0</td>\n",
       "      <td>0</td>\n",
       "      <td>0</td>\n",
       "      <td>0</td>\n",
       "      <td>0</td>\n",
       "      <td>0</td>\n",
       "      <td>0</td>\n",
       "      <td>0</td>\n",
       "      <td>0</td>\n",
       "      <td>0</td>\n",
       "      <td>0</td>\n",
       "      <td>0</td>\n",
       "      <td>0</td>\n",
       "      <td>1</td>\n",
       "      <td>0</td>\n",
       "      <td>0</td>\n",
       "      <td>0</td>\n",
       "      <td>0</td>\n",
       "      <td>0</td>\n",
       "      <td>0</td>\n",
       "      <td>0</td>\n",
       "      <td>0</td>\n",
       "      <td>0</td>\n",
       "      <td>0</td>\n",
       "    </tr>\n",
       "    <tr>\n",
       "      <th>3</th>\n",
       "      <td>25190.0</td>\n",
       "      <td>1</td>\n",
       "      <td>0</td>\n",
       "      <td>1</td>\n",
       "      <td>0</td>\n",
       "      <td>2</td>\n",
       "      <td>0</td>\n",
       "      <td>4</td>\n",
       "      <td>2</td>\n",
       "      <td>4</td>\n",
       "      <td>5</td>\n",
       "      <td>1.920000</td>\n",
       "      <td>54.998824</td>\n",
       "      <td>73.277923</td>\n",
       "      <td>1154507</td>\n",
       "      <td>0</td>\n",
       "      <td>0</td>\n",
       "      <td>0</td>\n",
       "      <td>0</td>\n",
       "      <td>0</td>\n",
       "      <td>0</td>\n",
       "      <td>0</td>\n",
       "      <td>0</td>\n",
       "      <td>0</td>\n",
       "      <td>0</td>\n",
       "      <td>0</td>\n",
       "      <td>0</td>\n",
       "      <td>0</td>\n",
       "      <td>0</td>\n",
       "      <td>0</td>\n",
       "      <td>0</td>\n",
       "      <td>0</td>\n",
       "      <td>0</td>\n",
       "      <td>0</td>\n",
       "      <td>0</td>\n",
       "      <td>0</td>\n",
       "      <td>0</td>\n",
       "      <td>0</td>\n",
       "      <td>0</td>\n",
       "      <td>0</td>\n",
       "      <td>...</td>\n",
       "      <td>0</td>\n",
       "      <td>0</td>\n",
       "      <td>0</td>\n",
       "      <td>0</td>\n",
       "      <td>0</td>\n",
       "      <td>0</td>\n",
       "      <td>0</td>\n",
       "      <td>0</td>\n",
       "      <td>0</td>\n",
       "      <td>0</td>\n",
       "      <td>0</td>\n",
       "      <td>0</td>\n",
       "      <td>0</td>\n",
       "      <td>0</td>\n",
       "      <td>0</td>\n",
       "      <td>0</td>\n",
       "      <td>0</td>\n",
       "      <td>0</td>\n",
       "      <td>0</td>\n",
       "      <td>0</td>\n",
       "      <td>0</td>\n",
       "      <td>0</td>\n",
       "      <td>0</td>\n",
       "      <td>0</td>\n",
       "      <td>0</td>\n",
       "      <td>0</td>\n",
       "      <td>0</td>\n",
       "      <td>0</td>\n",
       "      <td>0</td>\n",
       "      <td>0</td>\n",
       "      <td>0</td>\n",
       "      <td>0</td>\n",
       "      <td>0</td>\n",
       "      <td>0</td>\n",
       "      <td>0</td>\n",
       "      <td>0</td>\n",
       "      <td>0</td>\n",
       "      <td>0</td>\n",
       "      <td>0</td>\n",
       "      <td>0</td>\n",
       "    </tr>\n",
       "    <tr>\n",
       "      <th>4</th>\n",
       "      <td>33000.0</td>\n",
       "      <td>1</td>\n",
       "      <td>0</td>\n",
       "      <td>3</td>\n",
       "      <td>0</td>\n",
       "      <td>2</td>\n",
       "      <td>0</td>\n",
       "      <td>4</td>\n",
       "      <td>0</td>\n",
       "      <td>1</td>\n",
       "      <td>5</td>\n",
       "      <td>2.421667</td>\n",
       "      <td>56.830672</td>\n",
       "      <td>60.670603</td>\n",
       "      <td>1493749</td>\n",
       "      <td>0</td>\n",
       "      <td>0</td>\n",
       "      <td>0</td>\n",
       "      <td>0</td>\n",
       "      <td>0</td>\n",
       "      <td>0</td>\n",
       "      <td>0</td>\n",
       "      <td>0</td>\n",
       "      <td>0</td>\n",
       "      <td>0</td>\n",
       "      <td>0</td>\n",
       "      <td>0</td>\n",
       "      <td>0</td>\n",
       "      <td>0</td>\n",
       "      <td>0</td>\n",
       "      <td>0</td>\n",
       "      <td>0</td>\n",
       "      <td>0</td>\n",
       "      <td>0</td>\n",
       "      <td>0</td>\n",
       "      <td>0</td>\n",
       "      <td>0</td>\n",
       "      <td>0</td>\n",
       "      <td>0</td>\n",
       "      <td>0</td>\n",
       "      <td>...</td>\n",
       "      <td>0</td>\n",
       "      <td>0</td>\n",
       "      <td>0</td>\n",
       "      <td>0</td>\n",
       "      <td>0</td>\n",
       "      <td>0</td>\n",
       "      <td>0</td>\n",
       "      <td>0</td>\n",
       "      <td>0</td>\n",
       "      <td>0</td>\n",
       "      <td>0</td>\n",
       "      <td>0</td>\n",
       "      <td>0</td>\n",
       "      <td>0</td>\n",
       "      <td>0</td>\n",
       "      <td>0</td>\n",
       "      <td>0</td>\n",
       "      <td>0</td>\n",
       "      <td>0</td>\n",
       "      <td>0</td>\n",
       "      <td>0</td>\n",
       "      <td>0</td>\n",
       "      <td>0</td>\n",
       "      <td>0</td>\n",
       "      <td>0</td>\n",
       "      <td>0</td>\n",
       "      <td>0</td>\n",
       "      <td>0</td>\n",
       "      <td>0</td>\n",
       "      <td>0</td>\n",
       "      <td>0</td>\n",
       "      <td>0</td>\n",
       "      <td>0</td>\n",
       "      <td>0</td>\n",
       "      <td>0</td>\n",
       "      <td>0</td>\n",
       "      <td>0</td>\n",
       "      <td>0</td>\n",
       "      <td>0</td>\n",
       "      <td>1</td>\n",
       "    </tr>\n",
       "    <tr>\n",
       "      <th>...</th>\n",
       "      <td>...</td>\n",
       "      <td>...</td>\n",
       "      <td>...</td>\n",
       "      <td>...</td>\n",
       "      <td>...</td>\n",
       "      <td>...</td>\n",
       "      <td>...</td>\n",
       "      <td>...</td>\n",
       "      <td>...</td>\n",
       "      <td>...</td>\n",
       "      <td>...</td>\n",
       "      <td>...</td>\n",
       "      <td>...</td>\n",
       "      <td>...</td>\n",
       "      <td>...</td>\n",
       "      <td>...</td>\n",
       "      <td>...</td>\n",
       "      <td>...</td>\n",
       "      <td>...</td>\n",
       "      <td>...</td>\n",
       "      <td>...</td>\n",
       "      <td>...</td>\n",
       "      <td>...</td>\n",
       "      <td>...</td>\n",
       "      <td>...</td>\n",
       "      <td>...</td>\n",
       "      <td>...</td>\n",
       "      <td>...</td>\n",
       "      <td>...</td>\n",
       "      <td>...</td>\n",
       "      <td>...</td>\n",
       "      <td>...</td>\n",
       "      <td>...</td>\n",
       "      <td>...</td>\n",
       "      <td>...</td>\n",
       "      <td>...</td>\n",
       "      <td>...</td>\n",
       "      <td>...</td>\n",
       "      <td>...</td>\n",
       "      <td>...</td>\n",
       "      <td>...</td>\n",
       "      <td>...</td>\n",
       "      <td>...</td>\n",
       "      <td>...</td>\n",
       "      <td>...</td>\n",
       "      <td>...</td>\n",
       "      <td>...</td>\n",
       "      <td>...</td>\n",
       "      <td>...</td>\n",
       "      <td>...</td>\n",
       "      <td>...</td>\n",
       "      <td>...</td>\n",
       "      <td>...</td>\n",
       "      <td>...</td>\n",
       "      <td>...</td>\n",
       "      <td>...</td>\n",
       "      <td>...</td>\n",
       "      <td>...</td>\n",
       "      <td>...</td>\n",
       "      <td>...</td>\n",
       "      <td>...</td>\n",
       "      <td>...</td>\n",
       "      <td>...</td>\n",
       "      <td>...</td>\n",
       "      <td>...</td>\n",
       "      <td>...</td>\n",
       "      <td>...</td>\n",
       "      <td>...</td>\n",
       "      <td>...</td>\n",
       "      <td>...</td>\n",
       "      <td>...</td>\n",
       "      <td>...</td>\n",
       "      <td>...</td>\n",
       "      <td>...</td>\n",
       "      <td>...</td>\n",
       "      <td>...</td>\n",
       "      <td>...</td>\n",
       "      <td>...</td>\n",
       "      <td>...</td>\n",
       "      <td>...</td>\n",
       "      <td>...</td>\n",
       "    </tr>\n",
       "    <tr>\n",
       "      <th>39995</th>\n",
       "      <td>32800.0</td>\n",
       "      <td>3</td>\n",
       "      <td>3</td>\n",
       "      <td>1</td>\n",
       "      <td>1</td>\n",
       "      <td>2</td>\n",
       "      <td>0</td>\n",
       "      <td>2</td>\n",
       "      <td>0</td>\n",
       "      <td>2</td>\n",
       "      <td>1</td>\n",
       "      <td>8.548470</td>\n",
       "      <td>64.564203</td>\n",
       "      <td>39.783300</td>\n",
       "      <td>181990</td>\n",
       "      <td>0</td>\n",
       "      <td>0</td>\n",
       "      <td>0</td>\n",
       "      <td>0</td>\n",
       "      <td>0</td>\n",
       "      <td>0</td>\n",
       "      <td>0</td>\n",
       "      <td>0</td>\n",
       "      <td>0</td>\n",
       "      <td>0</td>\n",
       "      <td>0</td>\n",
       "      <td>0</td>\n",
       "      <td>0</td>\n",
       "      <td>0</td>\n",
       "      <td>0</td>\n",
       "      <td>0</td>\n",
       "      <td>0</td>\n",
       "      <td>0</td>\n",
       "      <td>0</td>\n",
       "      <td>0</td>\n",
       "      <td>0</td>\n",
       "      <td>0</td>\n",
       "      <td>0</td>\n",
       "      <td>0</td>\n",
       "      <td>0</td>\n",
       "      <td>...</td>\n",
       "      <td>0</td>\n",
       "      <td>0</td>\n",
       "      <td>0</td>\n",
       "      <td>0</td>\n",
       "      <td>0</td>\n",
       "      <td>0</td>\n",
       "      <td>0</td>\n",
       "      <td>0</td>\n",
       "      <td>0</td>\n",
       "      <td>0</td>\n",
       "      <td>0</td>\n",
       "      <td>0</td>\n",
       "      <td>0</td>\n",
       "      <td>0</td>\n",
       "      <td>0</td>\n",
       "      <td>0</td>\n",
       "      <td>0</td>\n",
       "      <td>0</td>\n",
       "      <td>0</td>\n",
       "      <td>0</td>\n",
       "      <td>0</td>\n",
       "      <td>0</td>\n",
       "      <td>0</td>\n",
       "      <td>0</td>\n",
       "      <td>0</td>\n",
       "      <td>0</td>\n",
       "      <td>0</td>\n",
       "      <td>0</td>\n",
       "      <td>0</td>\n",
       "      <td>0</td>\n",
       "      <td>0</td>\n",
       "      <td>0</td>\n",
       "      <td>0</td>\n",
       "      <td>0</td>\n",
       "      <td>0</td>\n",
       "      <td>0</td>\n",
       "      <td>0</td>\n",
       "      <td>0</td>\n",
       "      <td>0</td>\n",
       "      <td>0</td>\n",
       "    </tr>\n",
       "    <tr>\n",
       "      <th>39996</th>\n",
       "      <td>32900.0</td>\n",
       "      <td>3</td>\n",
       "      <td>3</td>\n",
       "      <td>1</td>\n",
       "      <td>1</td>\n",
       "      <td>2</td>\n",
       "      <td>0</td>\n",
       "      <td>4</td>\n",
       "      <td>2</td>\n",
       "      <td>2</td>\n",
       "      <td>3</td>\n",
       "      <td>1.030000</td>\n",
       "      <td>58.005581</td>\n",
       "      <td>56.121909</td>\n",
       "      <td>1055397</td>\n",
       "      <td>0</td>\n",
       "      <td>0</td>\n",
       "      <td>0</td>\n",
       "      <td>0</td>\n",
       "      <td>0</td>\n",
       "      <td>0</td>\n",
       "      <td>0</td>\n",
       "      <td>0</td>\n",
       "      <td>0</td>\n",
       "      <td>0</td>\n",
       "      <td>0</td>\n",
       "      <td>0</td>\n",
       "      <td>0</td>\n",
       "      <td>0</td>\n",
       "      <td>0</td>\n",
       "      <td>0</td>\n",
       "      <td>0</td>\n",
       "      <td>0</td>\n",
       "      <td>0</td>\n",
       "      <td>0</td>\n",
       "      <td>0</td>\n",
       "      <td>0</td>\n",
       "      <td>0</td>\n",
       "      <td>0</td>\n",
       "      <td>0</td>\n",
       "      <td>...</td>\n",
       "      <td>0</td>\n",
       "      <td>0</td>\n",
       "      <td>0</td>\n",
       "      <td>0</td>\n",
       "      <td>0</td>\n",
       "      <td>0</td>\n",
       "      <td>0</td>\n",
       "      <td>0</td>\n",
       "      <td>0</td>\n",
       "      <td>0</td>\n",
       "      <td>0</td>\n",
       "      <td>0</td>\n",
       "      <td>0</td>\n",
       "      <td>0</td>\n",
       "      <td>0</td>\n",
       "      <td>0</td>\n",
       "      <td>0</td>\n",
       "      <td>0</td>\n",
       "      <td>0</td>\n",
       "      <td>0</td>\n",
       "      <td>0</td>\n",
       "      <td>0</td>\n",
       "      <td>0</td>\n",
       "      <td>0</td>\n",
       "      <td>0</td>\n",
       "      <td>0</td>\n",
       "      <td>0</td>\n",
       "      <td>0</td>\n",
       "      <td>0</td>\n",
       "      <td>0</td>\n",
       "      <td>0</td>\n",
       "      <td>0</td>\n",
       "      <td>0</td>\n",
       "      <td>0</td>\n",
       "      <td>0</td>\n",
       "      <td>0</td>\n",
       "      <td>0</td>\n",
       "      <td>0</td>\n",
       "      <td>0</td>\n",
       "      <td>0</td>\n",
       "    </tr>\n",
       "    <tr>\n",
       "      <th>39997</th>\n",
       "      <td>32900.0</td>\n",
       "      <td>3</td>\n",
       "      <td>3</td>\n",
       "      <td>1</td>\n",
       "      <td>1</td>\n",
       "      <td>2</td>\n",
       "      <td>0</td>\n",
       "      <td>4</td>\n",
       "      <td>2</td>\n",
       "      <td>2</td>\n",
       "      <td>3</td>\n",
       "      <td>1.030000</td>\n",
       "      <td>58.005581</td>\n",
       "      <td>56.121909</td>\n",
       "      <td>1055397</td>\n",
       "      <td>0</td>\n",
       "      <td>0</td>\n",
       "      <td>0</td>\n",
       "      <td>0</td>\n",
       "      <td>0</td>\n",
       "      <td>0</td>\n",
       "      <td>0</td>\n",
       "      <td>0</td>\n",
       "      <td>0</td>\n",
       "      <td>0</td>\n",
       "      <td>0</td>\n",
       "      <td>0</td>\n",
       "      <td>0</td>\n",
       "      <td>0</td>\n",
       "      <td>0</td>\n",
       "      <td>0</td>\n",
       "      <td>0</td>\n",
       "      <td>0</td>\n",
       "      <td>0</td>\n",
       "      <td>0</td>\n",
       "      <td>0</td>\n",
       "      <td>0</td>\n",
       "      <td>0</td>\n",
       "      <td>0</td>\n",
       "      <td>0</td>\n",
       "      <td>...</td>\n",
       "      <td>0</td>\n",
       "      <td>0</td>\n",
       "      <td>0</td>\n",
       "      <td>0</td>\n",
       "      <td>0</td>\n",
       "      <td>0</td>\n",
       "      <td>0</td>\n",
       "      <td>0</td>\n",
       "      <td>0</td>\n",
       "      <td>0</td>\n",
       "      <td>0</td>\n",
       "      <td>0</td>\n",
       "      <td>0</td>\n",
       "      <td>0</td>\n",
       "      <td>0</td>\n",
       "      <td>0</td>\n",
       "      <td>0</td>\n",
       "      <td>0</td>\n",
       "      <td>0</td>\n",
       "      <td>0</td>\n",
       "      <td>0</td>\n",
       "      <td>0</td>\n",
       "      <td>0</td>\n",
       "      <td>0</td>\n",
       "      <td>0</td>\n",
       "      <td>0</td>\n",
       "      <td>0</td>\n",
       "      <td>0</td>\n",
       "      <td>0</td>\n",
       "      <td>0</td>\n",
       "      <td>0</td>\n",
       "      <td>0</td>\n",
       "      <td>0</td>\n",
       "      <td>0</td>\n",
       "      <td>0</td>\n",
       "      <td>0</td>\n",
       "      <td>0</td>\n",
       "      <td>0</td>\n",
       "      <td>0</td>\n",
       "      <td>0</td>\n",
       "    </tr>\n",
       "    <tr>\n",
       "      <th>39998</th>\n",
       "      <td>32900.0</td>\n",
       "      <td>3</td>\n",
       "      <td>3</td>\n",
       "      <td>1</td>\n",
       "      <td>1</td>\n",
       "      <td>2</td>\n",
       "      <td>0</td>\n",
       "      <td>4</td>\n",
       "      <td>2</td>\n",
       "      <td>2</td>\n",
       "      <td>3</td>\n",
       "      <td>1.030000</td>\n",
       "      <td>58.005581</td>\n",
       "      <td>56.121909</td>\n",
       "      <td>1055397</td>\n",
       "      <td>0</td>\n",
       "      <td>0</td>\n",
       "      <td>0</td>\n",
       "      <td>0</td>\n",
       "      <td>0</td>\n",
       "      <td>0</td>\n",
       "      <td>0</td>\n",
       "      <td>0</td>\n",
       "      <td>0</td>\n",
       "      <td>0</td>\n",
       "      <td>0</td>\n",
       "      <td>0</td>\n",
       "      <td>0</td>\n",
       "      <td>0</td>\n",
       "      <td>0</td>\n",
       "      <td>0</td>\n",
       "      <td>0</td>\n",
       "      <td>0</td>\n",
       "      <td>0</td>\n",
       "      <td>0</td>\n",
       "      <td>0</td>\n",
       "      <td>0</td>\n",
       "      <td>0</td>\n",
       "      <td>0</td>\n",
       "      <td>0</td>\n",
       "      <td>...</td>\n",
       "      <td>0</td>\n",
       "      <td>0</td>\n",
       "      <td>0</td>\n",
       "      <td>0</td>\n",
       "      <td>0</td>\n",
       "      <td>0</td>\n",
       "      <td>0</td>\n",
       "      <td>0</td>\n",
       "      <td>0</td>\n",
       "      <td>0</td>\n",
       "      <td>0</td>\n",
       "      <td>0</td>\n",
       "      <td>0</td>\n",
       "      <td>0</td>\n",
       "      <td>0</td>\n",
       "      <td>0</td>\n",
       "      <td>0</td>\n",
       "      <td>0</td>\n",
       "      <td>0</td>\n",
       "      <td>0</td>\n",
       "      <td>0</td>\n",
       "      <td>0</td>\n",
       "      <td>0</td>\n",
       "      <td>0</td>\n",
       "      <td>0</td>\n",
       "      <td>0</td>\n",
       "      <td>0</td>\n",
       "      <td>0</td>\n",
       "      <td>0</td>\n",
       "      <td>0</td>\n",
       "      <td>0</td>\n",
       "      <td>0</td>\n",
       "      <td>0</td>\n",
       "      <td>0</td>\n",
       "      <td>0</td>\n",
       "      <td>0</td>\n",
       "      <td>0</td>\n",
       "      <td>0</td>\n",
       "      <td>0</td>\n",
       "      <td>0</td>\n",
       "    </tr>\n",
       "    <tr>\n",
       "      <th>39999</th>\n",
       "      <td>32900.0</td>\n",
       "      <td>3</td>\n",
       "      <td>3</td>\n",
       "      <td>1</td>\n",
       "      <td>1</td>\n",
       "      <td>2</td>\n",
       "      <td>0</td>\n",
       "      <td>4</td>\n",
       "      <td>2</td>\n",
       "      <td>2</td>\n",
       "      <td>3</td>\n",
       "      <td>1.030000</td>\n",
       "      <td>58.005581</td>\n",
       "      <td>56.121909</td>\n",
       "      <td>1055397</td>\n",
       "      <td>0</td>\n",
       "      <td>0</td>\n",
       "      <td>0</td>\n",
       "      <td>0</td>\n",
       "      <td>0</td>\n",
       "      <td>0</td>\n",
       "      <td>0</td>\n",
       "      <td>0</td>\n",
       "      <td>0</td>\n",
       "      <td>0</td>\n",
       "      <td>0</td>\n",
       "      <td>0</td>\n",
       "      <td>0</td>\n",
       "      <td>0</td>\n",
       "      <td>0</td>\n",
       "      <td>0</td>\n",
       "      <td>0</td>\n",
       "      <td>0</td>\n",
       "      <td>0</td>\n",
       "      <td>0</td>\n",
       "      <td>0</td>\n",
       "      <td>0</td>\n",
       "      <td>0</td>\n",
       "      <td>0</td>\n",
       "      <td>0</td>\n",
       "      <td>...</td>\n",
       "      <td>0</td>\n",
       "      <td>0</td>\n",
       "      <td>0</td>\n",
       "      <td>0</td>\n",
       "      <td>0</td>\n",
       "      <td>0</td>\n",
       "      <td>0</td>\n",
       "      <td>0</td>\n",
       "      <td>0</td>\n",
       "      <td>0</td>\n",
       "      <td>0</td>\n",
       "      <td>0</td>\n",
       "      <td>0</td>\n",
       "      <td>0</td>\n",
       "      <td>0</td>\n",
       "      <td>0</td>\n",
       "      <td>0</td>\n",
       "      <td>0</td>\n",
       "      <td>0</td>\n",
       "      <td>0</td>\n",
       "      <td>0</td>\n",
       "      <td>0</td>\n",
       "      <td>0</td>\n",
       "      <td>0</td>\n",
       "      <td>0</td>\n",
       "      <td>0</td>\n",
       "      <td>0</td>\n",
       "      <td>0</td>\n",
       "      <td>0</td>\n",
       "      <td>0</td>\n",
       "      <td>0</td>\n",
       "      <td>0</td>\n",
       "      <td>0</td>\n",
       "      <td>0</td>\n",
       "      <td>0</td>\n",
       "      <td>0</td>\n",
       "      <td>0</td>\n",
       "      <td>0</td>\n",
       "      <td>0</td>\n",
       "      <td>0</td>\n",
       "    </tr>\n",
       "  </tbody>\n",
       "</table>\n",
       "<p>40000 rows × 197 columns</p>\n",
       "</div>"
      ],
      "text/plain": [
       "       PriceNoTax  YeraNum  ...  Seller_Cat_274  Seller_Cat_275\n",
       "0         32000.0        1  ...               0               0\n",
       "1          7700.0        1  ...               0               1\n",
       "2          7500.0        1  ...               0               0\n",
       "3         25190.0        1  ...               0               0\n",
       "4         33000.0        1  ...               0               1\n",
       "...           ...      ...  ...             ...             ...\n",
       "39995     32800.0        3  ...               0               0\n",
       "39996     32900.0        3  ...               0               0\n",
       "39997     32900.0        3  ...               0               0\n",
       "39998     32900.0        3  ...               0               0\n",
       "39999     32900.0        3  ...               0               0\n",
       "\n",
       "[40000 rows x 197 columns]"
      ]
     },
     "execution_count": 16,
     "metadata": {
      "tags": []
     },
     "output_type": "execute_result"
    }
   ],
   "source": [
    "X"
   ]
  },
  {
   "cell_type": "code",
   "execution_count": null,
   "metadata": {
    "id": "kAcQrN1e609t",
    "pycharm": {
     "name": "#%%\n"
    }
   },
   "outputs": [],
   "source": [
    "X_train, X_test, y_train, y_test = model_selection.train_test_split(X, y, test_size=0.2, shuffle=False)\n",
    "xgb_train = xgb.DMatrix(X_train, label=y_train)\n",
    "xgb_test = xgb.DMatrix(X_test, label=y_test)\n",
    "xgb_hold= xgb.DMatrix(hold_test, label=hold_label)"
   ]
  },
  {
   "cell_type": "code",
   "execution_count": null,
   "metadata": {
    "id": "ZTaUKnZO_61O",
    "pycharm": {
     "name": "#%%\n"
    }
   },
   "outputs": [],
   "source": [
    "params = {'max_depth': 50, \n",
    "          'eta': 0.45, \n",
    "          'objective': 'reg:squarederror', \n",
    "          \"subsample\": 1,\n",
    "          'min_child_weight' : 1,\n",
    "          'tree_method' : 'hist'\n",
    "          }"
   ]
  },
  {
   "cell_type": "code",
   "execution_count": null,
   "metadata": {
    "id": "J2QPUCXEAJKQ",
    "pycharm": {
     "name": "#%%\n"
    }
   },
   "outputs": [],
   "source": [
    "model_train = xgb.train(params, xgb_train, 2000, evals = [(xgb_test, \"test\")], verbose_eval=100)"
   ]
  },
  {
   "cell_type": "code",
   "execution_count": null,
   "metadata": {
    "id": "n1QhIZkyTwlm",
    "pycharm": {
     "name": "#%%\n"
    }
   },
   "outputs": [],
   "source": [
    "train_data, test_data = model_selection.train_test_split(train, train_size=0.8)\n",
    "test_labels=test_data.pop ('Discount').values\n",
    "train_labels=train_data.pop ('Discount').values"
   ]
  },
  {
   "cell_type": "code",
   "execution_count": null,
   "metadata": {
    "id": "-7gbrI6JuZQW",
    "pycharm": {
     "name": "#%%\n"
    }
   },
   "outputs": [],
   "source": [
    "myXGB=xgb.XGBRegressor (learning_rate=0.03, verbose=1, n_estimators=1500, min_child_weight=2, n_jobs=3, objective='reg:squarederror', booster='gbtree', tree_method='hist', max_depth=50)\n",
    "myXGB.fit (train_data, train_labels)\n",
    "a=myXGB.predict (test_data)\n",
    "mae=metrics.mean_absolute_error (test_labels, a)\n",
    "        "
   ]
  },
  {
   "cell_type": "code",
   "execution_count": null,
   "metadata": {
    "id": "_bDmtdliCuei",
    "pycharm": {
     "name": "#%%\n"
    }
   },
   "outputs": [],
   "source": [
    "a=model_train.predict (xgb_hold)\n",
    "mae=metrics.mean_absolute_error (hold_label, a)"
   ]
  },
  {
   "cell_type": "code",
   "execution_count": null,
   "metadata": {
    "colab": {
     "base_uri": "https://localhost:8080/"
    },
    "id": "Fw-D41c4uzeS",
    "outputId": "6cfc3360-a0f2-459f-b752-a358ae0671dd",
    "pycharm": {
     "name": "#%%\n"
    }
   },
   "outputs": [
    {
     "name": "stdout",
     "output_type": "stream",
     "text": [
      "mae 0.17241318842367598 share 79.12794853466762\n"
     ]
    }
   ],
   "source": [
    "print ('mae', mae, 'share', len(list_d)/len(diff)*100 )"
   ]
  },
  {
   "cell_type": "code",
   "execution_count": null,
   "metadata": {
    "id": "1UyUa9q4MuS5",
    "pycharm": {
     "name": "#%%\n"
    }
   },
   "outputs": [],
   "source": [
    "X"
   ]
  },
  {
   "cell_type": "code",
   "execution_count": null,
   "metadata": {
    "colab": {
     "base_uri": "https://localhost:8080/"
    },
    "id": "uvsuKXBDo576",
    "outputId": "036ee056-7266-4de3-b426-5f1dc8c77371",
    "pycharm": {
     "name": "#%%\n"
    }
   },
   "outputs": [
    {
     "data": {
      "text/plain": [
       "array([-8.61384567, -8.01047952, -8.01047952])"
      ]
     },
     "execution_count": 16,
     "metadata": {
      "tags": []
     },
     "output_type": "execute_result"
    }
   ],
   "source": [
    "myscorer = metrics.make_scorer(my_custom_loss_func, greater_is_better=False)\n",
    "cvs=model_selection.cross_val_score (myXGB, train_data, train_labels, scoring=myscorer, cv=3)\n",
    "cvs"
   ]
  },
  {
   "cell_type": "code",
   "execution_count": null,
   "metadata": {
    "id": "aLmrWuI-3SZg",
    "pycharm": {
     "name": "#%%\n"
    }
   },
   "outputs": [],
   "source": [
    "diff=list(hold_label- a)\n",
    "list_d = [x for x in diff if x <-0.05 or x > 0.05]"
   ]
  },
  {
   "cell_type": "code",
   "execution_count": null,
   "metadata": {
    "colab": {
     "base_uri": "https://localhost:8080/"
    },
    "id": "mAXW1sZhTgZv",
    "outputId": "7c13130e-d4d1-46ea-97b6-40571f7ac319",
    "pycharm": {
     "name": "#%%\n"
    }
   },
   "outputs": [
    {
     "data": {
      "text/plain": [
       "455"
      ]
     },
     "execution_count": 19,
     "metadata": {
      "tags": []
     },
     "output_type": "execute_result"
    }
   ],
   "source": [
    "len(list_d)"
   ]
  },
  {
   "cell_type": "code",
   "execution_count": null,
   "metadata": {
    "colab": {
     "base_uri": "https://localhost:8080/"
    },
    "id": "mSqtj4nRc1lH",
    "outputId": "30010e84-b247-4710-a6e3-423e8905161f",
    "pycharm": {
     "name": "#%%\n"
    }
   },
   "outputs": [
    {
     "data": {
      "text/plain": [
       "0.9769958378682042"
      ]
     },
     "execution_count": 18,
     "metadata": {
      "tags": []
     },
     "output_type": "execute_result"
    }
   ],
   "source": [
    "metrics.r2_score (a, y_test)"
   ]
  },
  {
   "cell_type": "code",
   "execution_count": null,
   "metadata": {
    "colab": {
     "base_uri": "https://localhost:8080/",
     "height": 520
    },
    "id": "xPtMrfr6A3KU",
    "outputId": "3d5079b7-1ea3-4e93-8cf3-d5c5f0352b04",
    "pycharm": {
     "name": "#%%\n"
    }
   },
   "outputs": [
    {
     "data": {
      "image/png": "[encoded data removed]",
      "text/plain": [
       "<Figure size 576x597.6 with 2 Axes>"
      ]
     },
     "metadata": {
      "needs_background": "light",
      "tags": []
     },
     "output_type": "display_data"
    }
   ],
   "source": [
    "fts=shap.TreeExplainer (model_train).shap_values(X)\n",
    "shap.summary_plot(fts, X) "
   ]
  },
  {
   "cell_type": "code",
   "execution_count": null,
   "metadata": {
    "id": "IsFQm7Z3YVeR",
    "pycharm": {
     "name": "#%%\n"
    }
   },
   "outputs": [],
   "source": [
    "pd.DataFrame(diff*100).plot(kind='hist')"
   ]
  },
  {
   "cell_type": "code",
   "execution_count": null,
   "metadata": {
    "id": "sqLrID-yeNqj",
    "pycharm": {
     "name": "#%%\n"
    }
   },
   "outputs": [],
   "source": [
    "fg"
   ]
  },
  {
   "cell_type": "code",
   "execution_count": null,
   "metadata": {
    "colab": {
     "base_uri": "https://localhost:8080/",
     "height": 180
    },
    "id": "PyvngcH0YolH",
    "outputId": "c672f9c1-4de1-44c9-d464-8eb111c879ef",
    "pycharm": {
     "name": "#%%\n"
    }
   },
   "outputs": [
    {
     "ename": "NameError",
     "evalue": "ignored",
     "output_type": "error",
     "traceback": [
      "\u001B[0;31m---------------------------------------------------------------------------\u001B[0m",
      "\u001B[0;31mNameError\u001B[0m                                 Traceback (most recent call last)",
      "\u001B[0;32m<ipython-input-23-771e6844c13c>\u001B[0m in \u001B[0;36m<module>\u001B[0;34m()\u001B[0m\n\u001B[0;32m----> 1\u001B[0;31m xgb.plot_importance (myXGB, ax=None, height=0.6, xlim=None, ylim=None, title='Feature importance', xlabel='F score', ylabel='Features',  \n\u001B[0m\u001B[1;32m      2\u001B[0m                      importance_type='weight',  max_num_features=20, grid=True, show_values=False)\n",
      "\u001B[0;31mNameError\u001B[0m: name 'myXGB' is not defined"
     ]
    }
   ],
   "source": [
    "xgb.plot_importance (myXGB, ax=None, height=0.6, xlim=None, ylim=None, title='Feature importance', xlabel='F score', ylabel='Features',  \n",
    "                     importance_type='weight',  max_num_features=20, grid=True, show_values=False)"
   ]
  },
  {
   "cell_type": "code",
   "execution_count": null,
   "metadata": {
    "id": "knW_bvcQYTl0",
    "pycharm": {
     "name": "#%%\n"
    }
   },
   "outputs": [],
   "source": [
    "fg"
   ]
  },
  {
   "cell_type": "code",
   "execution_count": null,
   "metadata": {
    "id": "JVg_qA5zcLQl",
    "pycharm": {
     "name": "#%%\n"
    }
   },
   "outputs": [],
   "source": [
    "pred=pd.DataFrame(a)\n",
    "pred"
   ]
  },
  {
   "cell_type": "code",
   "execution_count": null,
   "metadata": {
    "id": "dltZlcGTgkrc",
    "pycharm": {
     "name": "#%%\n"
    }
   },
   "outputs": [],
   "source": [
    "y=pd.DataFrame(test_labels)\n",
    "y"
   ]
  },
  {
   "cell_type": "code",
   "execution_count": null,
   "metadata": {
    "id": "pvWU54cAjXgt",
    "pycharm": {
     "name": "#%%\n"
    }
   },
   "outputs": [],
   "source": [
    "test=test_data.values"
   ]
  },
  {
   "cell_type": "code",
   "execution_count": null,
   "metadata": {
    "id": "oCdb_peQlSsB",
    "pycharm": {
     "name": "#%%\n"
    }
   },
   "outputs": [],
   "source": [
    "cols=test_data.columns.to_list()"
   ]
  },
  {
   "cell_type": "code",
   "execution_count": null,
   "metadata": {
    "id": "3yyDaZJvlZwo",
    "pycharm": {
     "name": "#%%\n"
    }
   },
   "outputs": [],
   "source": [
    "cols.append ('Pred')"
   ]
  },
  {
   "cell_type": "code",
   "execution_count": null,
   "metadata": {
    "id": "t85MJSqOg2u8",
    "pycharm": {
     "name": "#%%\n"
    }
   },
   "outputs": [],
   "source": [
    "res1=pd.concat([pd.DataFrame(test), res], axis=1, join='inner',  )\n",
    "res1.set_axis(cols, axis=1, inplace=True)"
   ]
  },
  {
   "cell_type": "code",
   "execution_count": null,
   "metadata": {
    "id": "U8rJ4HNmnB-F",
    "pycharm": {
     "name": "#%%\n"
    }
   },
   "outputs": [],
   "source": [
    "res1.set_axis(cols, axis=1, inplace=True)"
   ]
  },
  {
   "cell_type": "code",
   "execution_count": null,
   "metadata": {
    "id": "ThTbfRTbnDta",
    "pycharm": {
     "name": "#%%\n"
    }
   },
   "outputs": [],
   "source": [
    "res1"
   ]
  },
  {
   "cell_type": "code",
   "execution_count": null,
   "metadata": {
    "id": "JzBYdWvCTsYd",
    "pycharm": {
     "name": "#%%\n"
    }
   },
   "outputs": [],
   "source": [
    "pd.DataFrame(diff).plot(kind='hist', bins=40)"
   ]
  },
  {
   "cell_type": "code",
   "execution_count": null,
   "metadata": {
    "id": "Z_Yuc4Sk3oYR",
    "pycharm": {
     "name": "#%%\n"
    }
   },
   "outputs": [],
   "source": [
    "sns.histplot (diff, stat='density')"
   ]
  },
  {
   "cell_type": "code",
   "execution_count": null,
   "metadata": {
    "id": "rJUZQyOBv2WV",
    "pycharm": {
     "name": "#%%\n"
    }
   },
   "outputs": [],
   "source": [
    "xgb.plot_importance (myXGB, ax=None, height=0.6, xlim=None, ylim=None, title='Feature importance', xlabel='F score', ylabel='Features',  \n",
    "                     importance_type='weight',  max_num_features=20, grid=True, show_values=False)"
   ]
  },
  {
   "cell_type": "code",
   "execution_count": null,
   "metadata": {
    "id": "hKoPztFRTC6u",
    "pycharm": {
     "name": "#%%\n"
    }
   },
   "outputs": [],
   "source": [
    "with pd.ExcelWriter('/content/drive/MyDrive/Colab Notebooks/!Samples/New_set_0906_with_SC.xlsx') as writer:\n",
    "    pd.DataFrame (data).to_excel(writer)"
   ]
  },
  {
   "cell_type": "markdown",
   "metadata": {
    "id": "oWXXZohD_19F",
    "pycharm": {
     "name": "#%% md\n"
    }
   },
   "source": [
    "А теперь про итоги экспериментов с сужением базы, наиболее оптимальный вариант: это сужение по двум признакам: бюджет и количество конструкций у селлера. Если из датасета выбрать только селлеров у которых свыше 900 конструкций и с оборотами более 10 млн, то алгоритм дает среднее абсолютное отклонение около 1%, при этом доля прогнозов с отклонением не более 5% от образца, составялет около 95%. Этот сегмент составляет около половины всего датасета (14 856 объектов из 28 954)  "
   ]
  },
  {
   "cell_type": "code",
   "execution_count": null,
   "metadata": {
    "id": "iNnAnIOOeuM3",
    "pycharm": {
     "name": "#%%\n"
    }
   },
   "outputs": [],
   "source": [
    "standard = preprocessing.StandardScaler().fit(train_data)\n",
    "\n",
    "X_train_normalized = standard.transform(train_data)\n",
    "X_val_normalized = standard.transform(test_data)\n",
    "\n",
    "pc_train = decomposition.PCA(n_components=50).fit(X_train_normalized)\n",
    "\n",
    "plt.figure(figsize=(8, 6))\n",
    "plt.xlabel('n components')\n",
    "plt.ylabel('Explained Variance')\n",
    "plt.title('PCA Explained Variance')\n",
    "plt.plot(range(pc_train.n_components_), pc_train.explained_variance_ratio_);"
   ]
  },
  {
   "cell_type": "code",
   "execution_count": null,
   "metadata": {
    "id": "gba_z_uTevda",
    "pycharm": {
     "name": "#%%\n"
    }
   },
   "outputs": [],
   "source": [
    "label = train_labels.tolist()\n",
    "colors = ['red','black']\n",
    "\n",
    "fig = plt.figure(figsize=(8,8))\n",
    "plt.scatter(pc_train.transform(X_train_normalized)[:, 0], pc_train.transform(X_train_normalized)[:, 1], c=label, cmap=matplotlib.colors.ListedColormap(colors))\n",
    "\n",
    "cb = plt.colorbar()\n",
    "loc = np.arange(0,max(label),max(label)/float(len(colors)))\n",
    "cb.set_ticks(loc)\n",
    "cb.set_ticklabels([0, 1])"
   ]
  },
  {
   "cell_type": "code",
   "execution_count": null,
   "metadata": {
    "id": "BGL95z3CfnRV",
    "pycharm": {
     "name": "#%%\n"
    }
   },
   "outputs": [],
   "source": [
    "with pd.ExcelWriter('/content/drive/MyDrive/Colab Notebooks/!Samples/New_DataSet_0906_prep_2.xlsx') as writer:\n",
    "   pd.DataFrame (data).to_excel(writer)"
   ]
  }
 ],
 "metadata": {
  "colab": {
   "collapsed_sections": [],
   "name": "ООН_тесты _extrapol.ipynb",
   "provenance": []
  },
  "kernelspec": {
   "display_name": "Python 3 (ipykernel)",
   "language": "python",
   "name": "python3"
  },
  "language_info": {
   "codemirror_mode": {
    "name": "ipython",
    "version": 3
   },
   "file_extension": ".py",
   "mimetype": "text/x-python",
   "name": "python",
   "nbconvert_exporter": "python",
   "pygments_lexer": "ipython3",
   "version": "3.8.10"
  },
  "varInspector": {
   "cols": {
    "lenName": 16,
    "lenType": 16,
    "lenVar": 40
   },
   "kernels_config": {
    "python": {
     "delete_cmd_postfix": "",
     "delete_cmd_prefix": "del ",
     "library": "var_list.py",
     "varRefreshCmd": "print(var_dic_list())"
    },
    "r": {
     "delete_cmd_postfix": ") ",
     "delete_cmd_prefix": "rm(",
     "library": "var_list.r",
     "varRefreshCmd": "cat(var_dic_list()) "
    }
   },
   "types_to_exclude": [
    "module",
    "function",
    "builtin_function_or_method",
    "instance",
    "_Feature"
   ],
   "window_display": false
  }
 },
 "nbformat": 4,
 "nbformat_minor": 1
}