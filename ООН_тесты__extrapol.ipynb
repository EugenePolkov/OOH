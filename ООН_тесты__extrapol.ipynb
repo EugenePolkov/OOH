{
  "nbformat": 4,
  "nbformat_minor": 0,
  "metadata": {
    "colab": {
      "name": "ООН_тесты _extrapol.ipynb",
      "provenance": [],
      "collapsed_sections": []
    },
    "kernelspec": {
      "display_name": "Python 3",
      "language": "python",
      "name": "python3"
    },
    "language_info": {
      "codemirror_mode": {
        "name": "ipython",
        "version": 3
      },
      "file_extension": ".py",
      "mimetype": "text/x-python",
      "name": "python",
      "nbconvert_exporter": "python",
      "pygments_lexer": "ipython3",
      "version": "3.8.5"
    }
  },
  "cells": [
    {
      "cell_type": "code",
      "metadata": {
        "id": "9tf7f2ZUncoK"
      },
      "source": [
        "import pandas as pd\n",
        "import numpy as np\n",
        "import matplotlib\n",
        "from matplotlib import pyplot as plt\n",
        "from sklearn import model_selection, datasets, metrics, tree, ensemble, preprocessing, utils, neighbors, decomposition\n",
        "import xgboost as xgb\n",
        "import seaborn as sns\n",
        "import scipy.stats as ss"
      ],
      "execution_count": null,
      "outputs": []
    },
    {
      "cell_type": "code",
      "metadata": {
        "id": "830wXP2y7Eq0"
      },
      "source": [
        "#pip install shap"
      ],
      "execution_count": null,
      "outputs": []
    },
    {
      "cell_type": "code",
      "metadata": {
        "id": "3Xe_lWodJ84e"
      },
      "source": [
        "def index(self, value):\n",
        "    return np.where(self == value)"
      ],
      "execution_count": null,
      "outputs": []
    },
    {
      "cell_type": "code",
      "metadata": {
        "id": "eDTecbNUJ9cM"
      },
      "source": [
        "def my_custom_loss_func(y_true, y_pred):\n",
        "    diff=list(y_true-y_pred)\n",
        "    list_d = [x for x in diff if x <-0.05 or x > 0.05]\n",
        "    return len(list_d)/len(diff)*100"
      ],
      "execution_count": null,
      "outputs": []
    },
    {
      "cell_type": "code",
      "metadata": {
        "id": "g4qC_IlTuAYV"
      },
      "source": [
        "data=pd.read_excel('/content/drive/MyDrive/Colab Notebooks/!Samples/Common_fullset_prep_for NN_2.xlsx')"
      ],
      "execution_count": null,
      "outputs": []
    },
    {
      "cell_type": "code",
      "metadata": {
        "id": "EXaJ2CN-5yOh",
        "colab": {
          "base_uri": "https://localhost:8080/"
        },
        "outputId": "39fc8a35-4a8e-4358-ebba-c599b21363ae"
      },
      "source": [
        "data.info()"
      ],
      "execution_count": null,
      "outputs": [
        {
          "output_type": "stream",
          "text": [
            "<class 'pandas.core.frame.DataFrame'>\n",
            "RangeIndex: 43011 entries, 0 to 43010\n",
            "Data columns (total 19 columns):\n",
            " #   Column       Non-Null Count  Dtype  \n",
            "---  ------       --------------  -----  \n",
            " 0   Object_UID   43011 non-null  object \n",
            " 1   PriceNoTax   43011 non-null  float64\n",
            " 2   GRP          43011 non-null  float64\n",
            " 3   Latitude     42823 non-null  float64\n",
            " 4   Longitude    42827 non-null  float64\n",
            " 5   Population   43000 non-null  float64\n",
            " 6   Size         33110 non-null  float64\n",
            " 7   YearNum      43011 non-null  int64  \n",
            " 8   Month_Id     43011 non-null  int64  \n",
            " 9   BrandR1      42798 non-null  float64\n",
            " 10  Seazon       43011 non-null  int64  \n",
            " 11  ConstrGroup  43011 non-null  int64  \n",
            " 12  ExpoType     43011 non-null  int64  \n",
            " 13  CityType     43011 non-null  int64  \n",
            " 14  OperatorR1   43011 non-null  int64  \n",
            " 15  OperatorR2   43011 non-null  int64  \n",
            " 16  Budget       43011 non-null  int64  \n",
            " 17  AgentName    43011 non-null  object \n",
            " 18  Dis          43011 non-null  float64\n",
            "dtypes: float64(8), int64(9), object(2)\n",
            "memory usage: 6.2+ MB\n"
          ],
          "name": "stdout"
        }
      ]
    },
    {
      "cell_type": "code",
      "metadata": {
        "id": "QU6F9zuGbEG1"
      },
      "source": [
        "data['BrandR1']=data['BrandR1'].fillna(1)"
      ],
      "execution_count": null,
      "outputs": []
    },
    {
      "cell_type": "code",
      "metadata": {
        "id": "KdkEOhDffspG"
      },
      "source": [
        "data['Latitude']=data['Latitude'].fillna(data['Latitude'].mean())\n",
        "data['Longitude']=data['Longitude'].fillna(data['Longitude'].mean())\n",
        "data['Population']=data['Population'].fillna(1196680)"
      ],
      "execution_count": null,
      "outputs": []
    },
    {
      "cell_type": "code",
      "metadata": {
        "id": "5yhxb1s9g2YC"
      },
      "source": [
        "data['DateStart'] = pd.to_datetime(data.DateStart)"
      ],
      "execution_count": null,
      "outputs": []
    },
    {
      "cell_type": "code",
      "metadata": {
        "id": "d6kKS6pHbVlm"
      },
      "source": [
        "data=data.drop(['ML_Object_UID', 'sdelka_id', 'ID','Summ_Plan_SMI', 'Unnamed: 0', 'Summ_Fact_SMI', \n",
        "                'Summ2PayOperNoTax', 'LN', 'City_Lat', 'City_Lng', 'City_Cat', 'AgentName', 'DateStart'], axis=1)"
      ],
      "execution_count": null,
      "outputs": []
    },
    {
      "cell_type": "code",
      "metadata": {
        "id": "PDinM0E5wlDH"
      },
      "source": [
        "data=data.drop(['ML_Object_UID','DateStart', 'LN', 'AgentName'], axis=1)"
      ],
      "execution_count": null,
      "outputs": []
    },
    {
      "cell_type": "code",
      "metadata": {
        "id": "AWHk1i1WDNZi"
      },
      "source": [
        "data['City_Cat']=8\n",
        "data['Seller_Cat']=275"
      ],
      "execution_count": null,
      "outputs": []
    },
    {
      "cell_type": "code",
      "metadata": {
        "colab": {
          "base_uri": "https://localhost:8080/"
        },
        "id": "h4CupRGBH9ig",
        "outputId": "db56de2b-87c0-446f-8cb5-60d42c889dd8"
      },
      "source": [
        "data['Latitude'].mean()"
      ],
      "execution_count": null,
      "outputs": [
        {
          "output_type": "execute_result",
          "data": {
            "text/plain": [
              "54.7812561855116"
            ]
          },
          "metadata": {
            "tags": []
          },
          "execution_count": 12
        }
      ]
    },
    {
      "cell_type": "code",
      "metadata": {
        "id": "mBp1pNJFIazN"
      },
      "source": [
        "data.info()"
      ],
      "execution_count": null,
      "outputs": []
    },
    {
      "cell_type": "code",
      "metadata": {
        "id": "TB2-mot_DipL"
      },
      "source": [
        "data.sort_values ('DateStart', inplace=True)"
      ],
      "execution_count": null,
      "outputs": []
    },
    {
      "cell_type": "code",
      "metadata": {
        "colab": {
          "base_uri": "https://localhost:8080/",
          "height": 439
        },
        "id": "zXoonBq9ivZ9",
        "outputId": "8fd50b4a-f9ec-4fad-cadc-4c25cf74e4f9"
      },
      "source": [
        "data"
      ],
      "execution_count": null,
      "outputs": [
        {
          "output_type": "execute_result",
          "data": {
            "text/html": [
              "<div>\n",
              "<style scoped>\n",
              "    .dataframe tbody tr th:only-of-type {\n",
              "        vertical-align: middle;\n",
              "    }\n",
              "\n",
              "    .dataframe tbody tr th {\n",
              "        vertical-align: top;\n",
              "    }\n",
              "\n",
              "    .dataframe thead th {\n",
              "        text-align: right;\n",
              "    }\n",
              "</style>\n",
              "<table border=\"1\" class=\"dataframe\">\n",
              "  <thead>\n",
              "    <tr style=\"text-align: right;\">\n",
              "      <th></th>\n",
              "      <th>PriceNoTax</th>\n",
              "      <th>Discount</th>\n",
              "      <th>YeraNum</th>\n",
              "      <th>Month_ID</th>\n",
              "      <th>BrandR1</th>\n",
              "      <th>ConstrGroup</th>\n",
              "      <th>ExpositionType</th>\n",
              "      <th>CityType</th>\n",
              "      <th>OperatorR1</th>\n",
              "      <th>OperatorR2</th>\n",
              "      <th>BudgetClass</th>\n",
              "      <th>GRP</th>\n",
              "      <th>Latitude</th>\n",
              "      <th>Longitude</th>\n",
              "      <th>Population</th>\n",
              "      <th>Square</th>\n",
              "      <th>City_Cat</th>\n",
              "      <th>Seller_Cat</th>\n",
              "    </tr>\n",
              "  </thead>\n",
              "  <tbody>\n",
              "    <tr>\n",
              "      <th>0</th>\n",
              "      <td>35000.00</td>\n",
              "      <td>0.171429</td>\n",
              "      <td>1</td>\n",
              "      <td>0</td>\n",
              "      <td>1</td>\n",
              "      <td>2</td>\n",
              "      <td>0</td>\n",
              "      <td>2</td>\n",
              "      <td>0</td>\n",
              "      <td>2</td>\n",
              "      <td>5</td>\n",
              "      <td>5.398128</td>\n",
              "      <td>61.249594</td>\n",
              "      <td>73.439155</td>\n",
              "      <td>380632</td>\n",
              "      <td>18.00</td>\n",
              "      <td>8</td>\n",
              "      <td>56</td>\n",
              "    </tr>\n",
              "    <tr>\n",
              "      <th>1</th>\n",
              "      <td>23500.00</td>\n",
              "      <td>0.659574</td>\n",
              "      <td>1</td>\n",
              "      <td>0</td>\n",
              "      <td>1</td>\n",
              "      <td>2</td>\n",
              "      <td>0</td>\n",
              "      <td>4</td>\n",
              "      <td>0</td>\n",
              "      <td>1</td>\n",
              "      <td>5</td>\n",
              "      <td>2.475000</td>\n",
              "      <td>55.037888</td>\n",
              "      <td>73.308052</td>\n",
              "      <td>1154507</td>\n",
              "      <td>18.00</td>\n",
              "      <td>8</td>\n",
              "      <td>236</td>\n",
              "    </tr>\n",
              "    <tr>\n",
              "      <th>2</th>\n",
              "      <td>18333.33</td>\n",
              "      <td>0.345454</td>\n",
              "      <td>1</td>\n",
              "      <td>0</td>\n",
              "      <td>3</td>\n",
              "      <td>1</td>\n",
              "      <td>2</td>\n",
              "      <td>4</td>\n",
              "      <td>0</td>\n",
              "      <td>2</td>\n",
              "      <td>5</td>\n",
              "      <td>1.612208</td>\n",
              "      <td>56.819555</td>\n",
              "      <td>60.540267</td>\n",
              "      <td>1493749</td>\n",
              "      <td>9.99</td>\n",
              "      <td>3</td>\n",
              "      <td>262</td>\n",
              "    </tr>\n",
              "    <tr>\n",
              "      <th>3</th>\n",
              "      <td>9900.00</td>\n",
              "      <td>-0.124242</td>\n",
              "      <td>1</td>\n",
              "      <td>0</td>\n",
              "      <td>1</td>\n",
              "      <td>0</td>\n",
              "      <td>0</td>\n",
              "      <td>4</td>\n",
              "      <td>2</td>\n",
              "      <td>2</td>\n",
              "      <td>5</td>\n",
              "      <td>1.160000</td>\n",
              "      <td>55.783811</td>\n",
              "      <td>49.149794</td>\n",
              "      <td>1257391</td>\n",
              "      <td>4.20</td>\n",
              "      <td>8</td>\n",
              "      <td>222</td>\n",
              "    </tr>\n",
              "    <tr>\n",
              "      <th>4</th>\n",
              "      <td>9900.00</td>\n",
              "      <td>-0.124242</td>\n",
              "      <td>1</td>\n",
              "      <td>0</td>\n",
              "      <td>1</td>\n",
              "      <td>0</td>\n",
              "      <td>0</td>\n",
              "      <td>4</td>\n",
              "      <td>2</td>\n",
              "      <td>2</td>\n",
              "      <td>5</td>\n",
              "      <td>1.160000</td>\n",
              "      <td>55.783811</td>\n",
              "      <td>49.149794</td>\n",
              "      <td>1257391</td>\n",
              "      <td>4.20</td>\n",
              "      <td>8</td>\n",
              "      <td>222</td>\n",
              "    </tr>\n",
              "    <tr>\n",
              "      <th>...</th>\n",
              "      <td>...</td>\n",
              "      <td>...</td>\n",
              "      <td>...</td>\n",
              "      <td>...</td>\n",
              "      <td>...</td>\n",
              "      <td>...</td>\n",
              "      <td>...</td>\n",
              "      <td>...</td>\n",
              "      <td>...</td>\n",
              "      <td>...</td>\n",
              "      <td>...</td>\n",
              "      <td>...</td>\n",
              "      <td>...</td>\n",
              "      <td>...</td>\n",
              "      <td>...</td>\n",
              "      <td>...</td>\n",
              "      <td>...</td>\n",
              "      <td>...</td>\n",
              "    </tr>\n",
              "    <tr>\n",
              "      <th>42793</th>\n",
              "      <td>23000.00</td>\n",
              "      <td>0.400000</td>\n",
              "      <td>3</td>\n",
              "      <td>5</td>\n",
              "      <td>1</td>\n",
              "      <td>2</td>\n",
              "      <td>0</td>\n",
              "      <td>3</td>\n",
              "      <td>2</td>\n",
              "      <td>4</td>\n",
              "      <td>3</td>\n",
              "      <td>2.760000</td>\n",
              "      <td>53.334602</td>\n",
              "      <td>83.669099</td>\n",
              "      <td>632391</td>\n",
              "      <td>18.00</td>\n",
              "      <td>8</td>\n",
              "      <td>115</td>\n",
              "    </tr>\n",
              "    <tr>\n",
              "      <th>42794</th>\n",
              "      <td>23000.00</td>\n",
              "      <td>0.400000</td>\n",
              "      <td>3</td>\n",
              "      <td>5</td>\n",
              "      <td>1</td>\n",
              "      <td>2</td>\n",
              "      <td>0</td>\n",
              "      <td>3</td>\n",
              "      <td>2</td>\n",
              "      <td>4</td>\n",
              "      <td>3</td>\n",
              "      <td>2.760000</td>\n",
              "      <td>53.334602</td>\n",
              "      <td>83.669099</td>\n",
              "      <td>632391</td>\n",
              "      <td>18.00</td>\n",
              "      <td>8</td>\n",
              "      <td>115</td>\n",
              "    </tr>\n",
              "    <tr>\n",
              "      <th>42795</th>\n",
              "      <td>23000.00</td>\n",
              "      <td>0.400000</td>\n",
              "      <td>3</td>\n",
              "      <td>5</td>\n",
              "      <td>1</td>\n",
              "      <td>2</td>\n",
              "      <td>0</td>\n",
              "      <td>3</td>\n",
              "      <td>2</td>\n",
              "      <td>4</td>\n",
              "      <td>3</td>\n",
              "      <td>2.760000</td>\n",
              "      <td>53.334602</td>\n",
              "      <td>83.669099</td>\n",
              "      <td>632391</td>\n",
              "      <td>18.00</td>\n",
              "      <td>8</td>\n",
              "      <td>115</td>\n",
              "    </tr>\n",
              "    <tr>\n",
              "      <th>42796</th>\n",
              "      <td>23000.00</td>\n",
              "      <td>0.400000</td>\n",
              "      <td>3</td>\n",
              "      <td>5</td>\n",
              "      <td>1</td>\n",
              "      <td>2</td>\n",
              "      <td>0</td>\n",
              "      <td>3</td>\n",
              "      <td>2</td>\n",
              "      <td>4</td>\n",
              "      <td>3</td>\n",
              "      <td>2.760000</td>\n",
              "      <td>53.334602</td>\n",
              "      <td>83.669099</td>\n",
              "      <td>632391</td>\n",
              "      <td>18.00</td>\n",
              "      <td>8</td>\n",
              "      <td>115</td>\n",
              "    </tr>\n",
              "    <tr>\n",
              "      <th>42797</th>\n",
              "      <td>23000.00</td>\n",
              "      <td>0.400000</td>\n",
              "      <td>3</td>\n",
              "      <td>5</td>\n",
              "      <td>1</td>\n",
              "      <td>2</td>\n",
              "      <td>0</td>\n",
              "      <td>3</td>\n",
              "      <td>2</td>\n",
              "      <td>4</td>\n",
              "      <td>3</td>\n",
              "      <td>2.760000</td>\n",
              "      <td>53.334602</td>\n",
              "      <td>83.669099</td>\n",
              "      <td>632391</td>\n",
              "      <td>18.00</td>\n",
              "      <td>8</td>\n",
              "      <td>115</td>\n",
              "    </tr>\n",
              "  </tbody>\n",
              "</table>\n",
              "<p>42798 rows × 18 columns</p>\n",
              "</div>"
            ],
            "text/plain": [
              "       PriceNoTax  Discount  YeraNum  ...  Square  City_Cat  Seller_Cat\n",
              "0        35000.00  0.171429        1  ...   18.00         8          56\n",
              "1        23500.00  0.659574        1  ...   18.00         8         236\n",
              "2        18333.33  0.345454        1  ...    9.99         3         262\n",
              "3         9900.00 -0.124242        1  ...    4.20         8         222\n",
              "4         9900.00 -0.124242        1  ...    4.20         8         222\n",
              "...           ...       ...      ...  ...     ...       ...         ...\n",
              "42793    23000.00  0.400000        3  ...   18.00         8         115\n",
              "42794    23000.00  0.400000        3  ...   18.00         8         115\n",
              "42795    23000.00  0.400000        3  ...   18.00         8         115\n",
              "42796    23000.00  0.400000        3  ...   18.00         8         115\n",
              "42797    23000.00  0.400000        3  ...   18.00         8         115\n",
              "\n",
              "[42798 rows x 18 columns]"
            ]
          },
          "metadata": {
            "tags": []
          },
          "execution_count": 25
        }
      ]
    },
    {
      "cell_type": "code",
      "metadata": {
        "id": "nQ_rIPs742BD"
      },
      "source": [
        "dict_ag=pd.read_excel ('/content/drive/MyDrive/Colab Notebooks/!Samples/Owners_main_100.xls')"
      ],
      "execution_count": null,
      "outputs": []
    },
    {
      "cell_type": "code",
      "metadata": {
        "id": "RIREEkOHR3pc",
        "colab": {
          "base_uri": "https://localhost:8080/"
        },
        "outputId": "57d33c2c-6b8a-4ae8-8e97-baf4659cd013"
      },
      "source": [
        "dict_ag.iloc [223,:]"
      ],
      "execution_count": null,
      "outputs": [
        {
          "output_type": "execute_result",
          "data": {
            "text/plain": [
              "Ag    росбизнесцентр\n",
              "n                224\n",
              "Name: 223, dtype: object"
            ]
          },
          "metadata": {
            "tags": []
          },
          "execution_count": 8
        }
      ]
    },
    {
      "cell_type": "code",
      "metadata": {
        "id": "DxwVLa_JcFOj"
      },
      "source": [
        "dct=dict_ag.values"
      ],
      "execution_count": null,
      "outputs": []
    },
    {
      "cell_type": "code",
      "metadata": {
        "id": "LtI18bm37epW"
      },
      "source": [
        "data['Lng']=data['Lng'].fillna(44.53)"
      ],
      "execution_count": null,
      "outputs": []
    },
    {
      "cell_type": "code",
      "metadata": {
        "id": "wfEMMmDRAfyH",
        "colab": {
          "base_uri": "https://localhost:8080/"
        },
        "outputId": "84eddb16-b361-44cb-9ff5-e30ffa643daf"
      },
      "source": [
        "data.iat[0,21]"
      ],
      "execution_count": null,
      "outputs": [
        {
          "output_type": "execute_result",
          "data": {
            "text/plain": [
              "275"
            ]
          },
          "metadata": {
            "tags": []
          },
          "execution_count": 18
        }
      ]
    },
    {
      "cell_type": "code",
      "metadata": {
        "colab": {
          "base_uri": "https://localhost:8080/",
          "height": 35
        },
        "id": "wMxQiF5LEyRo",
        "outputId": "f6f9357f-9e26-4b03-aaf8-0a54bdc37ed5"
      },
      "source": [
        "dct[114][0]"
      ],
      "execution_count": null,
      "outputs": [
        {
          "output_type": "execute_result",
          "data": {
            "application/vnd.google.colaboratory.intrinsic+json": {
              "type": "string"
            },
            "text/plain": [
              "'дизайнмастер'"
            ]
          },
          "metadata": {
            "tags": []
          },
          "execution_count": 22
        }
      ]
    },
    {
      "cell_type": "code",
      "metadata": {
        "id": "7c7mi6LQFhXD"
      },
      "source": [
        "data['Seller_Cat']=275"
      ],
      "execution_count": null,
      "outputs": []
    },
    {
      "cell_type": "code",
      "metadata": {
        "id": "mQxp-GdlHu2Q"
      },
      "source": [
        "#Матчинг UID с базой гео, заполнение трэйндатасета\n",
        "for i in range (0, len (data)):\n",
        "      ag=data.iat[i,18]\n",
        "      if np.where (dct==ag)[0].size!=0:\n",
        "            idx=index(dct, ag)[0][0] \n",
        "            aname=dct[idx][1]\n",
        "            data.iat[i,21]=aname"
      ],
      "execution_count": null,
      "outputs": []
    },
    {
      "cell_type": "code",
      "metadata": {
        "id": "TG6C42mSuJz8"
      },
      "source": [
        "#train=data.drop(['Size', 'Lat', 'Long', 'Cat'], axis=1)"
      ],
      "execution_count": null,
      "outputs": []
    },
    {
      "cell_type": "code",
      "metadata": {
        "id": "Xk1cOe2rXhjo"
      },
      "source": [
        "train=data"
      ],
      "execution_count": null,
      "outputs": []
    },
    {
      "cell_type": "code",
      "metadata": {
        "colab": {
          "base_uri": "https://localhost:8080/"
        },
        "id": "V2j1St9p6SBv",
        "outputId": "ed8d579e-8aaf-4721-e1de-c1c5ffe90ddc"
      },
      "source": [
        "train.info()"
      ],
      "execution_count": null,
      "outputs": [
        {
          "output_type": "stream",
          "text": [
            "<class 'pandas.core.frame.DataFrame'>\n",
            "RangeIndex: 42798 entries, 0 to 42797\n",
            "Data columns (total 19 columns):\n",
            " #   Column          Non-Null Count  Dtype         \n",
            "---  ------          --------------  -----         \n",
            " 0   Unnamed: 0      42798 non-null  int64         \n",
            " 1   DateStart       42798 non-null  datetime64[ns]\n",
            " 2   PriceNoTax      42798 non-null  float64       \n",
            " 3   Discount        42798 non-null  float64       \n",
            " 4   YeraNum         42798 non-null  int64         \n",
            " 5   Month_ID        42798 non-null  int64         \n",
            " 6   BrandR1         42798 non-null  int64         \n",
            " 7   SeazonClass     42798 non-null  int64         \n",
            " 8   ConstrGroup     42798 non-null  int64         \n",
            " 9   ExpositionType  42798 non-null  int64         \n",
            " 10  CityType        42798 non-null  int64         \n",
            " 11  OperatorR1      42798 non-null  int64         \n",
            " 12  OperatorR2      42798 non-null  int64         \n",
            " 13  BudgetClass     42798 non-null  int64         \n",
            " 14  GRP             42798 non-null  float64       \n",
            " 15  Latitude        42798 non-null  float64       \n",
            " 16  Longitude       42798 non-null  float64       \n",
            " 17  Population      42798 non-null  int64         \n",
            " 18  Seller_Cat      42798 non-null  int64         \n",
            "dtypes: datetime64[ns](1), float64(5), int64(13)\n",
            "memory usage: 6.2 MB\n"
          ],
          "name": "stdout"
        }
      ]
    },
    {
      "cell_type": "code",
      "metadata": {
        "colab": {
          "base_uri": "https://localhost:8080/"
        },
        "id": "xJIcLXUWatcI",
        "outputId": "8a16f58d-8107-4040-f9e6-d20ec5654ce5"
      },
      "source": [
        "cols=train.columns.to_list()\n",
        "cols"
      ],
      "execution_count": null,
      "outputs": [
        {
          "output_type": "execute_result",
          "data": {
            "text/plain": [
              "['PriceNoTax',\n",
              " 'Discount',\n",
              " 'GRP',\n",
              " 'YearNum',\n",
              " 'Month_Id',\n",
              " 'BrandR1',\n",
              " 'Seazon',\n",
              " 'ConstrGroup',\n",
              " 'ExpoType',\n",
              " 'CityType',\n",
              " 'OperatorR1',\n",
              " 'OperatorR2',\n",
              " 'Budget',\n",
              " 'Lat',\n",
              " 'Lng',\n",
              " 'ID',\n",
              " 'Sqr',\n",
              " 'Seller']"
            ]
          },
          "metadata": {
            "tags": []
          },
          "execution_count": 7
        }
      ]
    },
    {
      "cell_type": "code",
      "metadata": {
        "id": "3f8GNIAJazW8"
      },
      "source": [
        "col_cat=[ 'BrandR1', \n",
        " 'OperatorR1',\n",
        " 'Seazon',\n",
        " 'ExpoType',\n",
        " 'CityType',\n",
        " 'Budget',\n",
        " 'Cat']"
      ],
      "execution_count": null,
      "outputs": []
    },
    {
      "cell_type": "code",
      "metadata": {
        "id": "mOOrwjGlJ4f3"
      },
      "source": [
        "train=pd.get_dummies (train, columns=['Seller_Cat'])"
      ],
      "execution_count": null,
      "outputs": []
    },
    {
      "cell_type": "code",
      "metadata": {
        "id": "hq_sn873CXtY",
        "colab": {
          "base_uri": "https://localhost:8080/",
          "height": 439
        },
        "outputId": "af060702-8714-4d68-a9a2-a5704cfbc9b1"
      },
      "source": [
        "train"
      ],
      "execution_count": null,
      "outputs": [
        {
          "output_type": "execute_result",
          "data": {
            "text/html": [
              "<div>\n",
              "<style scoped>\n",
              "    .dataframe tbody tr th:only-of-type {\n",
              "        vertical-align: middle;\n",
              "    }\n",
              "\n",
              "    .dataframe tbody tr th {\n",
              "        vertical-align: top;\n",
              "    }\n",
              "\n",
              "    .dataframe thead th {\n",
              "        text-align: right;\n",
              "    }\n",
              "</style>\n",
              "<table border=\"1\" class=\"dataframe\">\n",
              "  <thead>\n",
              "    <tr style=\"text-align: right;\">\n",
              "      <th></th>\n",
              "      <th>PriceNoTax</th>\n",
              "      <th>Discount</th>\n",
              "      <th>YeraNum</th>\n",
              "      <th>Month_ID</th>\n",
              "      <th>BrandR1</th>\n",
              "      <th>ConstrGroup</th>\n",
              "      <th>ExpositionType</th>\n",
              "      <th>CityType</th>\n",
              "      <th>OperatorR1</th>\n",
              "      <th>OperatorR2</th>\n",
              "      <th>BudgetClass</th>\n",
              "      <th>GRP</th>\n",
              "      <th>Latitude</th>\n",
              "      <th>Longitude</th>\n",
              "      <th>Population</th>\n",
              "      <th>Square</th>\n",
              "      <th>City_Cat</th>\n",
              "      <th>Seller_Cat</th>\n",
              "    </tr>\n",
              "  </thead>\n",
              "  <tbody>\n",
              "    <tr>\n",
              "      <th>0</th>\n",
              "      <td>35000.00</td>\n",
              "      <td>0.171429</td>\n",
              "      <td>1</td>\n",
              "      <td>0</td>\n",
              "      <td>1</td>\n",
              "      <td>2</td>\n",
              "      <td>0</td>\n",
              "      <td>2</td>\n",
              "      <td>0</td>\n",
              "      <td>2</td>\n",
              "      <td>5</td>\n",
              "      <td>5.398128</td>\n",
              "      <td>61.249594</td>\n",
              "      <td>73.439155</td>\n",
              "      <td>380632</td>\n",
              "      <td>18.00</td>\n",
              "      <td>8</td>\n",
              "      <td>56</td>\n",
              "    </tr>\n",
              "    <tr>\n",
              "      <th>1</th>\n",
              "      <td>23500.00</td>\n",
              "      <td>0.659574</td>\n",
              "      <td>1</td>\n",
              "      <td>0</td>\n",
              "      <td>1</td>\n",
              "      <td>2</td>\n",
              "      <td>0</td>\n",
              "      <td>4</td>\n",
              "      <td>0</td>\n",
              "      <td>1</td>\n",
              "      <td>5</td>\n",
              "      <td>2.475000</td>\n",
              "      <td>55.037888</td>\n",
              "      <td>73.308052</td>\n",
              "      <td>1154507</td>\n",
              "      <td>18.00</td>\n",
              "      <td>8</td>\n",
              "      <td>236</td>\n",
              "    </tr>\n",
              "    <tr>\n",
              "      <th>2</th>\n",
              "      <td>18333.33</td>\n",
              "      <td>0.345454</td>\n",
              "      <td>1</td>\n",
              "      <td>0</td>\n",
              "      <td>3</td>\n",
              "      <td>1</td>\n",
              "      <td>2</td>\n",
              "      <td>4</td>\n",
              "      <td>0</td>\n",
              "      <td>2</td>\n",
              "      <td>5</td>\n",
              "      <td>1.612208</td>\n",
              "      <td>56.819555</td>\n",
              "      <td>60.540267</td>\n",
              "      <td>1493749</td>\n",
              "      <td>9.99</td>\n",
              "      <td>3</td>\n",
              "      <td>262</td>\n",
              "    </tr>\n",
              "    <tr>\n",
              "      <th>3</th>\n",
              "      <td>9900.00</td>\n",
              "      <td>-0.124242</td>\n",
              "      <td>1</td>\n",
              "      <td>0</td>\n",
              "      <td>1</td>\n",
              "      <td>0</td>\n",
              "      <td>0</td>\n",
              "      <td>4</td>\n",
              "      <td>2</td>\n",
              "      <td>2</td>\n",
              "      <td>5</td>\n",
              "      <td>1.160000</td>\n",
              "      <td>55.783811</td>\n",
              "      <td>49.149794</td>\n",
              "      <td>1257391</td>\n",
              "      <td>4.20</td>\n",
              "      <td>8</td>\n",
              "      <td>222</td>\n",
              "    </tr>\n",
              "    <tr>\n",
              "      <th>4</th>\n",
              "      <td>9900.00</td>\n",
              "      <td>-0.124242</td>\n",
              "      <td>1</td>\n",
              "      <td>0</td>\n",
              "      <td>1</td>\n",
              "      <td>0</td>\n",
              "      <td>0</td>\n",
              "      <td>4</td>\n",
              "      <td>2</td>\n",
              "      <td>2</td>\n",
              "      <td>5</td>\n",
              "      <td>1.160000</td>\n",
              "      <td>55.783811</td>\n",
              "      <td>49.149794</td>\n",
              "      <td>1257391</td>\n",
              "      <td>4.20</td>\n",
              "      <td>8</td>\n",
              "      <td>222</td>\n",
              "    </tr>\n",
              "    <tr>\n",
              "      <th>...</th>\n",
              "      <td>...</td>\n",
              "      <td>...</td>\n",
              "      <td>...</td>\n",
              "      <td>...</td>\n",
              "      <td>...</td>\n",
              "      <td>...</td>\n",
              "      <td>...</td>\n",
              "      <td>...</td>\n",
              "      <td>...</td>\n",
              "      <td>...</td>\n",
              "      <td>...</td>\n",
              "      <td>...</td>\n",
              "      <td>...</td>\n",
              "      <td>...</td>\n",
              "      <td>...</td>\n",
              "      <td>...</td>\n",
              "      <td>...</td>\n",
              "      <td>...</td>\n",
              "    </tr>\n",
              "    <tr>\n",
              "      <th>42793</th>\n",
              "      <td>23000.00</td>\n",
              "      <td>0.400000</td>\n",
              "      <td>3</td>\n",
              "      <td>5</td>\n",
              "      <td>1</td>\n",
              "      <td>2</td>\n",
              "      <td>0</td>\n",
              "      <td>3</td>\n",
              "      <td>2</td>\n",
              "      <td>4</td>\n",
              "      <td>3</td>\n",
              "      <td>2.760000</td>\n",
              "      <td>53.334602</td>\n",
              "      <td>83.669099</td>\n",
              "      <td>632391</td>\n",
              "      <td>18.00</td>\n",
              "      <td>8</td>\n",
              "      <td>115</td>\n",
              "    </tr>\n",
              "    <tr>\n",
              "      <th>42794</th>\n",
              "      <td>23000.00</td>\n",
              "      <td>0.400000</td>\n",
              "      <td>3</td>\n",
              "      <td>5</td>\n",
              "      <td>1</td>\n",
              "      <td>2</td>\n",
              "      <td>0</td>\n",
              "      <td>3</td>\n",
              "      <td>2</td>\n",
              "      <td>4</td>\n",
              "      <td>3</td>\n",
              "      <td>2.760000</td>\n",
              "      <td>53.334602</td>\n",
              "      <td>83.669099</td>\n",
              "      <td>632391</td>\n",
              "      <td>18.00</td>\n",
              "      <td>8</td>\n",
              "      <td>115</td>\n",
              "    </tr>\n",
              "    <tr>\n",
              "      <th>42795</th>\n",
              "      <td>23000.00</td>\n",
              "      <td>0.400000</td>\n",
              "      <td>3</td>\n",
              "      <td>5</td>\n",
              "      <td>1</td>\n",
              "      <td>2</td>\n",
              "      <td>0</td>\n",
              "      <td>3</td>\n",
              "      <td>2</td>\n",
              "      <td>4</td>\n",
              "      <td>3</td>\n",
              "      <td>2.760000</td>\n",
              "      <td>53.334602</td>\n",
              "      <td>83.669099</td>\n",
              "      <td>632391</td>\n",
              "      <td>18.00</td>\n",
              "      <td>8</td>\n",
              "      <td>115</td>\n",
              "    </tr>\n",
              "    <tr>\n",
              "      <th>42796</th>\n",
              "      <td>23000.00</td>\n",
              "      <td>0.400000</td>\n",
              "      <td>3</td>\n",
              "      <td>5</td>\n",
              "      <td>1</td>\n",
              "      <td>2</td>\n",
              "      <td>0</td>\n",
              "      <td>3</td>\n",
              "      <td>2</td>\n",
              "      <td>4</td>\n",
              "      <td>3</td>\n",
              "      <td>2.760000</td>\n",
              "      <td>53.334602</td>\n",
              "      <td>83.669099</td>\n",
              "      <td>632391</td>\n",
              "      <td>18.00</td>\n",
              "      <td>8</td>\n",
              "      <td>115</td>\n",
              "    </tr>\n",
              "    <tr>\n",
              "      <th>42797</th>\n",
              "      <td>23000.00</td>\n",
              "      <td>0.400000</td>\n",
              "      <td>3</td>\n",
              "      <td>5</td>\n",
              "      <td>1</td>\n",
              "      <td>2</td>\n",
              "      <td>0</td>\n",
              "      <td>3</td>\n",
              "      <td>2</td>\n",
              "      <td>4</td>\n",
              "      <td>3</td>\n",
              "      <td>2.760000</td>\n",
              "      <td>53.334602</td>\n",
              "      <td>83.669099</td>\n",
              "      <td>632391</td>\n",
              "      <td>18.00</td>\n",
              "      <td>8</td>\n",
              "      <td>115</td>\n",
              "    </tr>\n",
              "  </tbody>\n",
              "</table>\n",
              "<p>42798 rows × 18 columns</p>\n",
              "</div>"
            ],
            "text/plain": [
              "       PriceNoTax  Discount  YeraNum  ...  Square  City_Cat  Seller_Cat\n",
              "0        35000.00  0.171429        1  ...   18.00         8          56\n",
              "1        23500.00  0.659574        1  ...   18.00         8         236\n",
              "2        18333.33  0.345454        1  ...    9.99         3         262\n",
              "3         9900.00 -0.124242        1  ...    4.20         8         222\n",
              "4         9900.00 -0.124242        1  ...    4.20         8         222\n",
              "...           ...       ...      ...  ...     ...       ...         ...\n",
              "42793    23000.00  0.400000        3  ...   18.00         8         115\n",
              "42794    23000.00  0.400000        3  ...   18.00         8         115\n",
              "42795    23000.00  0.400000        3  ...   18.00         8         115\n",
              "42796    23000.00  0.400000        3  ...   18.00         8         115\n",
              "42797    23000.00  0.400000        3  ...   18.00         8         115\n",
              "\n",
              "[42798 rows x 18 columns]"
            ]
          },
          "metadata": {
            "tags": []
          },
          "execution_count": 27
        }
      ]
    },
    {
      "cell_type": "code",
      "metadata": {
        "id": "_ioZZA4QkBcF"
      },
      "source": [
        "hold=train.iloc[40000:,:]"
      ],
      "execution_count": null,
      "outputs": []
    },
    {
      "cell_type": "code",
      "metadata": {
        "id": "U3acDyWElrg0"
      },
      "source": [
        "train_data=train.iloc[:40000,:]"
      ],
      "execution_count": null,
      "outputs": []
    },
    {
      "cell_type": "code",
      "metadata": {
        "colab": {
          "base_uri": "https://localhost:8080/",
          "height": 419
        },
        "id": "SAkEUiRimNGJ",
        "outputId": "de54be6f-15c8-4658-8049-5caf12a1eaf5"
      },
      "source": [
        "train_data"
      ],
      "execution_count": null,
      "outputs": [
        {
          "output_type": "execute_result",
          "data": {
            "text/html": [
              "<div>\n",
              "<style scoped>\n",
              "    .dataframe tbody tr th:only-of-type {\n",
              "        vertical-align: middle;\n",
              "    }\n",
              "\n",
              "    .dataframe tbody tr th {\n",
              "        vertical-align: top;\n",
              "    }\n",
              "\n",
              "    .dataframe thead th {\n",
              "        text-align: right;\n",
              "    }\n",
              "</style>\n",
              "<table border=\"1\" class=\"dataframe\">\n",
              "  <thead>\n",
              "    <tr style=\"text-align: right;\">\n",
              "      <th></th>\n",
              "      <th>PriceNoTax</th>\n",
              "      <th>Discount</th>\n",
              "      <th>YeraNum</th>\n",
              "      <th>Month_ID</th>\n",
              "      <th>BrandR1</th>\n",
              "      <th>SeazonClass</th>\n",
              "      <th>ConstrGroup</th>\n",
              "      <th>ExpositionType</th>\n",
              "      <th>CityType</th>\n",
              "      <th>OperatorR1</th>\n",
              "      <th>OperatorR2</th>\n",
              "      <th>BudgetClass</th>\n",
              "      <th>GRP</th>\n",
              "      <th>Latitude</th>\n",
              "      <th>Longitude</th>\n",
              "      <th>Population</th>\n",
              "      <th>Seller_Cat</th>\n",
              "    </tr>\n",
              "  </thead>\n",
              "  <tbody>\n",
              "    <tr>\n",
              "      <th>0</th>\n",
              "      <td>32000.0</td>\n",
              "      <td>0.249062</td>\n",
              "      <td>1</td>\n",
              "      <td>0</td>\n",
              "      <td>1</td>\n",
              "      <td>0</td>\n",
              "      <td>2</td>\n",
              "      <td>0</td>\n",
              "      <td>4</td>\n",
              "      <td>2</td>\n",
              "      <td>4</td>\n",
              "      <td>5</td>\n",
              "      <td>2.070000</td>\n",
              "      <td>54.989864</td>\n",
              "      <td>82.913353</td>\n",
              "      <td>1625631</td>\n",
              "      <td>115</td>\n",
              "    </tr>\n",
              "    <tr>\n",
              "      <th>1</th>\n",
              "      <td>7700.0</td>\n",
              "      <td>0.376623</td>\n",
              "      <td>1</td>\n",
              "      <td>0</td>\n",
              "      <td>3</td>\n",
              "      <td>0</td>\n",
              "      <td>2</td>\n",
              "      <td>0</td>\n",
              "      <td>1</td>\n",
              "      <td>0</td>\n",
              "      <td>1</td>\n",
              "      <td>5</td>\n",
              "      <td>16.569302</td>\n",
              "      <td>56.994742</td>\n",
              "      <td>61.468938</td>\n",
              "      <td>62908</td>\n",
              "      <td>275</td>\n",
              "    </tr>\n",
              "    <tr>\n",
              "      <th>2</th>\n",
              "      <td>7500.0</td>\n",
              "      <td>0.333333</td>\n",
              "      <td>1</td>\n",
              "      <td>0</td>\n",
              "      <td>3</td>\n",
              "      <td>0</td>\n",
              "      <td>0</td>\n",
              "      <td>0</td>\n",
              "      <td>4</td>\n",
              "      <td>0</td>\n",
              "      <td>2</td>\n",
              "      <td>5</td>\n",
              "      <td>1.870000</td>\n",
              "      <td>56.835452</td>\n",
              "      <td>60.622364</td>\n",
              "      <td>1493749</td>\n",
              "      <td>262</td>\n",
              "    </tr>\n",
              "    <tr>\n",
              "      <th>3</th>\n",
              "      <td>25190.0</td>\n",
              "      <td>0.702263</td>\n",
              "      <td>1</td>\n",
              "      <td>0</td>\n",
              "      <td>1</td>\n",
              "      <td>0</td>\n",
              "      <td>2</td>\n",
              "      <td>0</td>\n",
              "      <td>4</td>\n",
              "      <td>2</td>\n",
              "      <td>4</td>\n",
              "      <td>5</td>\n",
              "      <td>1.920000</td>\n",
              "      <td>54.998824</td>\n",
              "      <td>73.277923</td>\n",
              "      <td>1154507</td>\n",
              "      <td>115</td>\n",
              "    </tr>\n",
              "    <tr>\n",
              "      <th>4</th>\n",
              "      <td>33000.0</td>\n",
              "      <td>0.250000</td>\n",
              "      <td>1</td>\n",
              "      <td>0</td>\n",
              "      <td>3</td>\n",
              "      <td>0</td>\n",
              "      <td>2</td>\n",
              "      <td>0</td>\n",
              "      <td>4</td>\n",
              "      <td>0</td>\n",
              "      <td>1</td>\n",
              "      <td>5</td>\n",
              "      <td>2.421667</td>\n",
              "      <td>56.830672</td>\n",
              "      <td>60.670603</td>\n",
              "      <td>1493749</td>\n",
              "      <td>275</td>\n",
              "    </tr>\n",
              "    <tr>\n",
              "      <th>...</th>\n",
              "      <td>...</td>\n",
              "      <td>...</td>\n",
              "      <td>...</td>\n",
              "      <td>...</td>\n",
              "      <td>...</td>\n",
              "      <td>...</td>\n",
              "      <td>...</td>\n",
              "      <td>...</td>\n",
              "      <td>...</td>\n",
              "      <td>...</td>\n",
              "      <td>...</td>\n",
              "      <td>...</td>\n",
              "      <td>...</td>\n",
              "      <td>...</td>\n",
              "      <td>...</td>\n",
              "      <td>...</td>\n",
              "      <td>...</td>\n",
              "    </tr>\n",
              "    <tr>\n",
              "      <th>39995</th>\n",
              "      <td>32800.0</td>\n",
              "      <td>0.451220</td>\n",
              "      <td>3</td>\n",
              "      <td>3</td>\n",
              "      <td>1</td>\n",
              "      <td>1</td>\n",
              "      <td>2</td>\n",
              "      <td>0</td>\n",
              "      <td>2</td>\n",
              "      <td>0</td>\n",
              "      <td>2</td>\n",
              "      <td>1</td>\n",
              "      <td>8.548470</td>\n",
              "      <td>64.564203</td>\n",
              "      <td>39.783300</td>\n",
              "      <td>181990</td>\n",
              "      <td>178</td>\n",
              "    </tr>\n",
              "    <tr>\n",
              "      <th>39996</th>\n",
              "      <td>32900.0</td>\n",
              "      <td>0.600608</td>\n",
              "      <td>3</td>\n",
              "      <td>3</td>\n",
              "      <td>1</td>\n",
              "      <td>1</td>\n",
              "      <td>2</td>\n",
              "      <td>0</td>\n",
              "      <td>4</td>\n",
              "      <td>2</td>\n",
              "      <td>2</td>\n",
              "      <td>3</td>\n",
              "      <td>1.030000</td>\n",
              "      <td>58.005581</td>\n",
              "      <td>56.121909</td>\n",
              "      <td>1055397</td>\n",
              "      <td>222</td>\n",
              "    </tr>\n",
              "    <tr>\n",
              "      <th>39997</th>\n",
              "      <td>32900.0</td>\n",
              "      <td>0.600608</td>\n",
              "      <td>3</td>\n",
              "      <td>3</td>\n",
              "      <td>1</td>\n",
              "      <td>1</td>\n",
              "      <td>2</td>\n",
              "      <td>0</td>\n",
              "      <td>4</td>\n",
              "      <td>2</td>\n",
              "      <td>2</td>\n",
              "      <td>3</td>\n",
              "      <td>1.030000</td>\n",
              "      <td>58.005581</td>\n",
              "      <td>56.121909</td>\n",
              "      <td>1055397</td>\n",
              "      <td>222</td>\n",
              "    </tr>\n",
              "    <tr>\n",
              "      <th>39998</th>\n",
              "      <td>32900.0</td>\n",
              "      <td>0.600608</td>\n",
              "      <td>3</td>\n",
              "      <td>3</td>\n",
              "      <td>1</td>\n",
              "      <td>1</td>\n",
              "      <td>2</td>\n",
              "      <td>0</td>\n",
              "      <td>4</td>\n",
              "      <td>2</td>\n",
              "      <td>2</td>\n",
              "      <td>3</td>\n",
              "      <td>1.030000</td>\n",
              "      <td>58.005581</td>\n",
              "      <td>56.121909</td>\n",
              "      <td>1055397</td>\n",
              "      <td>222</td>\n",
              "    </tr>\n",
              "    <tr>\n",
              "      <th>39999</th>\n",
              "      <td>32900.0</td>\n",
              "      <td>0.600608</td>\n",
              "      <td>3</td>\n",
              "      <td>3</td>\n",
              "      <td>1</td>\n",
              "      <td>1</td>\n",
              "      <td>2</td>\n",
              "      <td>0</td>\n",
              "      <td>4</td>\n",
              "      <td>2</td>\n",
              "      <td>2</td>\n",
              "      <td>3</td>\n",
              "      <td>1.030000</td>\n",
              "      <td>58.005581</td>\n",
              "      <td>56.121909</td>\n",
              "      <td>1055397</td>\n",
              "      <td>222</td>\n",
              "    </tr>\n",
              "  </tbody>\n",
              "</table>\n",
              "<p>40000 rows × 17 columns</p>\n",
              "</div>"
            ],
            "text/plain": [
              "       PriceNoTax  Discount  YeraNum  ...  Longitude  Population  Seller_Cat\n",
              "0         32000.0  0.249062        1  ...  82.913353     1625631         115\n",
              "1          7700.0  0.376623        1  ...  61.468938       62908         275\n",
              "2          7500.0  0.333333        1  ...  60.622364     1493749         262\n",
              "3         25190.0  0.702263        1  ...  73.277923     1154507         115\n",
              "4         33000.0  0.250000        1  ...  60.670603     1493749         275\n",
              "...           ...       ...      ...  ...        ...         ...         ...\n",
              "39995     32800.0  0.451220        3  ...  39.783300      181990         178\n",
              "39996     32900.0  0.600608        3  ...  56.121909     1055397         222\n",
              "39997     32900.0  0.600608        3  ...  56.121909     1055397         222\n",
              "39998     32900.0  0.600608        3  ...  56.121909     1055397         222\n",
              "39999     32900.0  0.600608        3  ...  56.121909     1055397         222\n",
              "\n",
              "[40000 rows x 17 columns]"
            ]
          },
          "metadata": {
            "tags": []
          },
          "execution_count": 14
        }
      ]
    },
    {
      "cell_type": "code",
      "metadata": {
        "id": "d6uQecKS6vlb"
      },
      "source": [
        "X=train_data.drop('Discount', axis=1)\n",
        "y=train_data.pop('Discount')\n"
      ],
      "execution_count": null,
      "outputs": []
    },
    {
      "cell_type": "code",
      "metadata": {
        "id": "rxIq_wEhnLj6"
      },
      "source": [
        "hold_test=hold.drop('Discount', axis=1)\n",
        "hold_label=hold.pop('Discount')"
      ],
      "execution_count": null,
      "outputs": []
    },
    {
      "cell_type": "code",
      "metadata": {
        "colab": {
          "base_uri": "https://localhost:8080/"
        },
        "id": "GJ-812NYmi5E",
        "outputId": "0efae3d3-b965-47ef-eedb-497f0d5384b9"
      },
      "source": [
        "hold_label"
      ],
      "execution_count": null,
      "outputs": [
        {
          "output_type": "execute_result",
          "data": {
            "text/plain": [
              "37513    0.409974\n",
              "783      0.600608\n",
              "782      0.600608\n",
              "781      0.600608\n",
              "37519    0.350000\n",
              "           ...   \n",
              "5169     0.400000\n",
              "5168     0.400000\n",
              "5167     0.384615\n",
              "19819    0.100000\n",
              "11635    0.400000\n",
              "Name: Discount, Length: 2798, dtype: float64"
            ]
          },
          "metadata": {
            "tags": []
          },
          "execution_count": 47
        }
      ]
    },
    {
      "cell_type": "code",
      "metadata": {
        "colab": {
          "base_uri": "https://localhost:8080/"
        },
        "id": "mBaxlVfFlAVH",
        "outputId": "87785122-399b-4f77-cc5f-232b3b2a8870"
      },
      "source": [
        "train.iat[42797,1]"
      ],
      "execution_count": null,
      "outputs": [
        {
          "output_type": "execute_result",
          "data": {
            "text/plain": [
              "23000.0"
            ]
          },
          "metadata": {
            "tags": []
          },
          "execution_count": 27
        }
      ]
    },
    {
      "cell_type": "code",
      "metadata": {
        "id": "d_Serf2DSmTu"
      },
      "source": [
        "train=pd.get_dummies (train, columns=col_cat)"
      ],
      "execution_count": null,
      "outputs": []
    },
    {
      "cell_type": "code",
      "metadata": {
        "id": "KnaWyfL8v-M2"
      },
      "source": [
        ""
      ],
      "execution_count": null,
      "outputs": []
    },
    {
      "cell_type": "code",
      "metadata": {
        "id": "T7ZZGXU7Syzr"
      },
      "source": [
        "data.info()"
      ],
      "execution_count": null,
      "outputs": []
    },
    {
      "cell_type": "code",
      "metadata": {
        "id": "ErNVBvZwBz34"
      },
      "source": [
        "X"
      ],
      "execution_count": null,
      "outputs": []
    },
    {
      "cell_type": "code",
      "metadata": {
        "id": "QXfVMefCuMaS"
      },
      "source": [
        "#train=train.drop(['CityType', 'OperatorR1'], axis=1)"
      ],
      "execution_count": null,
      "outputs": []
    },
    {
      "cell_type": "code",
      "metadata": {
        "id": "xdZICc7ZCbTQ",
        "colab": {
          "base_uri": "https://localhost:8080/",
          "height": 439
        },
        "outputId": "cf00bb3a-812d-4fe2-f436-a9cc9466f136"
      },
      "source": [
        "X"
      ],
      "execution_count": null,
      "outputs": [
        {
          "output_type": "execute_result",
          "data": {
            "text/html": [
              "<div>\n",
              "<style scoped>\n",
              "    .dataframe tbody tr th:only-of-type {\n",
              "        vertical-align: middle;\n",
              "    }\n",
              "\n",
              "    .dataframe tbody tr th {\n",
              "        vertical-align: top;\n",
              "    }\n",
              "\n",
              "    .dataframe thead th {\n",
              "        text-align: right;\n",
              "    }\n",
              "</style>\n",
              "<table border=\"1\" class=\"dataframe\">\n",
              "  <thead>\n",
              "    <tr style=\"text-align: right;\">\n",
              "      <th></th>\n",
              "      <th>PriceNoTax</th>\n",
              "      <th>YeraNum</th>\n",
              "      <th>Month_ID</th>\n",
              "      <th>BrandR1</th>\n",
              "      <th>SeazonClass</th>\n",
              "      <th>ConstrGroup</th>\n",
              "      <th>ExpositionType</th>\n",
              "      <th>CityType</th>\n",
              "      <th>OperatorR1</th>\n",
              "      <th>OperatorR2</th>\n",
              "      <th>BudgetClass</th>\n",
              "      <th>GRP</th>\n",
              "      <th>Latitude</th>\n",
              "      <th>Longitude</th>\n",
              "      <th>Population</th>\n",
              "      <th>Seller_Cat_1</th>\n",
              "      <th>Seller_Cat_2</th>\n",
              "      <th>Seller_Cat_8</th>\n",
              "      <th>Seller_Cat_9</th>\n",
              "      <th>Seller_Cat_13</th>\n",
              "      <th>Seller_Cat_15</th>\n",
              "      <th>Seller_Cat_17</th>\n",
              "      <th>Seller_Cat_18</th>\n",
              "      <th>Seller_Cat_19</th>\n",
              "      <th>Seller_Cat_20</th>\n",
              "      <th>Seller_Cat_21</th>\n",
              "      <th>Seller_Cat_22</th>\n",
              "      <th>Seller_Cat_24</th>\n",
              "      <th>Seller_Cat_27</th>\n",
              "      <th>Seller_Cat_29</th>\n",
              "      <th>Seller_Cat_30</th>\n",
              "      <th>Seller_Cat_31</th>\n",
              "      <th>Seller_Cat_36</th>\n",
              "      <th>Seller_Cat_39</th>\n",
              "      <th>Seller_Cat_40</th>\n",
              "      <th>Seller_Cat_42</th>\n",
              "      <th>Seller_Cat_44</th>\n",
              "      <th>Seller_Cat_46</th>\n",
              "      <th>Seller_Cat_47</th>\n",
              "      <th>Seller_Cat_48</th>\n",
              "      <th>...</th>\n",
              "      <th>Seller_Cat_223</th>\n",
              "      <th>Seller_Cat_224</th>\n",
              "      <th>Seller_Cat_225</th>\n",
              "      <th>Seller_Cat_226</th>\n",
              "      <th>Seller_Cat_227</th>\n",
              "      <th>Seller_Cat_228</th>\n",
              "      <th>Seller_Cat_230</th>\n",
              "      <th>Seller_Cat_231</th>\n",
              "      <th>Seller_Cat_233</th>\n",
              "      <th>Seller_Cat_235</th>\n",
              "      <th>Seller_Cat_236</th>\n",
              "      <th>Seller_Cat_237</th>\n",
              "      <th>Seller_Cat_238</th>\n",
              "      <th>Seller_Cat_240</th>\n",
              "      <th>Seller_Cat_242</th>\n",
              "      <th>Seller_Cat_245</th>\n",
              "      <th>Seller_Cat_246</th>\n",
              "      <th>Seller_Cat_247</th>\n",
              "      <th>Seller_Cat_248</th>\n",
              "      <th>Seller_Cat_249</th>\n",
              "      <th>Seller_Cat_250</th>\n",
              "      <th>Seller_Cat_251</th>\n",
              "      <th>Seller_Cat_252</th>\n",
              "      <th>Seller_Cat_254</th>\n",
              "      <th>Seller_Cat_255</th>\n",
              "      <th>Seller_Cat_256</th>\n",
              "      <th>Seller_Cat_257</th>\n",
              "      <th>Seller_Cat_259</th>\n",
              "      <th>Seller_Cat_261</th>\n",
              "      <th>Seller_Cat_262</th>\n",
              "      <th>Seller_Cat_263</th>\n",
              "      <th>Seller_Cat_264</th>\n",
              "      <th>Seller_Cat_265</th>\n",
              "      <th>Seller_Cat_266</th>\n",
              "      <th>Seller_Cat_267</th>\n",
              "      <th>Seller_Cat_268</th>\n",
              "      <th>Seller_Cat_270</th>\n",
              "      <th>Seller_Cat_272</th>\n",
              "      <th>Seller_Cat_274</th>\n",
              "      <th>Seller_Cat_275</th>\n",
              "    </tr>\n",
              "  </thead>\n",
              "  <tbody>\n",
              "    <tr>\n",
              "      <th>0</th>\n",
              "      <td>32000.0</td>\n",
              "      <td>1</td>\n",
              "      <td>0</td>\n",
              "      <td>1</td>\n",
              "      <td>0</td>\n",
              "      <td>2</td>\n",
              "      <td>0</td>\n",
              "      <td>4</td>\n",
              "      <td>2</td>\n",
              "      <td>4</td>\n",
              "      <td>5</td>\n",
              "      <td>2.070000</td>\n",
              "      <td>54.989864</td>\n",
              "      <td>82.913353</td>\n",
              "      <td>1625631</td>\n",
              "      <td>0</td>\n",
              "      <td>0</td>\n",
              "      <td>0</td>\n",
              "      <td>0</td>\n",
              "      <td>0</td>\n",
              "      <td>0</td>\n",
              "      <td>0</td>\n",
              "      <td>0</td>\n",
              "      <td>0</td>\n",
              "      <td>0</td>\n",
              "      <td>0</td>\n",
              "      <td>0</td>\n",
              "      <td>0</td>\n",
              "      <td>0</td>\n",
              "      <td>0</td>\n",
              "      <td>0</td>\n",
              "      <td>0</td>\n",
              "      <td>0</td>\n",
              "      <td>0</td>\n",
              "      <td>0</td>\n",
              "      <td>0</td>\n",
              "      <td>0</td>\n",
              "      <td>0</td>\n",
              "      <td>0</td>\n",
              "      <td>0</td>\n",
              "      <td>...</td>\n",
              "      <td>0</td>\n",
              "      <td>0</td>\n",
              "      <td>0</td>\n",
              "      <td>0</td>\n",
              "      <td>0</td>\n",
              "      <td>0</td>\n",
              "      <td>0</td>\n",
              "      <td>0</td>\n",
              "      <td>0</td>\n",
              "      <td>0</td>\n",
              "      <td>0</td>\n",
              "      <td>0</td>\n",
              "      <td>0</td>\n",
              "      <td>0</td>\n",
              "      <td>0</td>\n",
              "      <td>0</td>\n",
              "      <td>0</td>\n",
              "      <td>0</td>\n",
              "      <td>0</td>\n",
              "      <td>0</td>\n",
              "      <td>0</td>\n",
              "      <td>0</td>\n",
              "      <td>0</td>\n",
              "      <td>0</td>\n",
              "      <td>0</td>\n",
              "      <td>0</td>\n",
              "      <td>0</td>\n",
              "      <td>0</td>\n",
              "      <td>0</td>\n",
              "      <td>0</td>\n",
              "      <td>0</td>\n",
              "      <td>0</td>\n",
              "      <td>0</td>\n",
              "      <td>0</td>\n",
              "      <td>0</td>\n",
              "      <td>0</td>\n",
              "      <td>0</td>\n",
              "      <td>0</td>\n",
              "      <td>0</td>\n",
              "      <td>0</td>\n",
              "    </tr>\n",
              "    <tr>\n",
              "      <th>1</th>\n",
              "      <td>7700.0</td>\n",
              "      <td>1</td>\n",
              "      <td>0</td>\n",
              "      <td>3</td>\n",
              "      <td>0</td>\n",
              "      <td>2</td>\n",
              "      <td>0</td>\n",
              "      <td>1</td>\n",
              "      <td>0</td>\n",
              "      <td>1</td>\n",
              "      <td>5</td>\n",
              "      <td>16.569302</td>\n",
              "      <td>56.994742</td>\n",
              "      <td>61.468938</td>\n",
              "      <td>62908</td>\n",
              "      <td>0</td>\n",
              "      <td>0</td>\n",
              "      <td>0</td>\n",
              "      <td>0</td>\n",
              "      <td>0</td>\n",
              "      <td>0</td>\n",
              "      <td>0</td>\n",
              "      <td>0</td>\n",
              "      <td>0</td>\n",
              "      <td>0</td>\n",
              "      <td>0</td>\n",
              "      <td>0</td>\n",
              "      <td>0</td>\n",
              "      <td>0</td>\n",
              "      <td>0</td>\n",
              "      <td>0</td>\n",
              "      <td>0</td>\n",
              "      <td>0</td>\n",
              "      <td>0</td>\n",
              "      <td>0</td>\n",
              "      <td>0</td>\n",
              "      <td>0</td>\n",
              "      <td>0</td>\n",
              "      <td>0</td>\n",
              "      <td>0</td>\n",
              "      <td>...</td>\n",
              "      <td>0</td>\n",
              "      <td>0</td>\n",
              "      <td>0</td>\n",
              "      <td>0</td>\n",
              "      <td>0</td>\n",
              "      <td>0</td>\n",
              "      <td>0</td>\n",
              "      <td>0</td>\n",
              "      <td>0</td>\n",
              "      <td>0</td>\n",
              "      <td>0</td>\n",
              "      <td>0</td>\n",
              "      <td>0</td>\n",
              "      <td>0</td>\n",
              "      <td>0</td>\n",
              "      <td>0</td>\n",
              "      <td>0</td>\n",
              "      <td>0</td>\n",
              "      <td>0</td>\n",
              "      <td>0</td>\n",
              "      <td>0</td>\n",
              "      <td>0</td>\n",
              "      <td>0</td>\n",
              "      <td>0</td>\n",
              "      <td>0</td>\n",
              "      <td>0</td>\n",
              "      <td>0</td>\n",
              "      <td>0</td>\n",
              "      <td>0</td>\n",
              "      <td>0</td>\n",
              "      <td>0</td>\n",
              "      <td>0</td>\n",
              "      <td>0</td>\n",
              "      <td>0</td>\n",
              "      <td>0</td>\n",
              "      <td>0</td>\n",
              "      <td>0</td>\n",
              "      <td>0</td>\n",
              "      <td>0</td>\n",
              "      <td>1</td>\n",
              "    </tr>\n",
              "    <tr>\n",
              "      <th>2</th>\n",
              "      <td>7500.0</td>\n",
              "      <td>1</td>\n",
              "      <td>0</td>\n",
              "      <td>3</td>\n",
              "      <td>0</td>\n",
              "      <td>0</td>\n",
              "      <td>0</td>\n",
              "      <td>4</td>\n",
              "      <td>0</td>\n",
              "      <td>2</td>\n",
              "      <td>5</td>\n",
              "      <td>1.870000</td>\n",
              "      <td>56.835452</td>\n",
              "      <td>60.622364</td>\n",
              "      <td>1493749</td>\n",
              "      <td>0</td>\n",
              "      <td>0</td>\n",
              "      <td>0</td>\n",
              "      <td>0</td>\n",
              "      <td>0</td>\n",
              "      <td>0</td>\n",
              "      <td>0</td>\n",
              "      <td>0</td>\n",
              "      <td>0</td>\n",
              "      <td>0</td>\n",
              "      <td>0</td>\n",
              "      <td>0</td>\n",
              "      <td>0</td>\n",
              "      <td>0</td>\n",
              "      <td>0</td>\n",
              "      <td>0</td>\n",
              "      <td>0</td>\n",
              "      <td>0</td>\n",
              "      <td>0</td>\n",
              "      <td>0</td>\n",
              "      <td>0</td>\n",
              "      <td>0</td>\n",
              "      <td>0</td>\n",
              "      <td>0</td>\n",
              "      <td>0</td>\n",
              "      <td>...</td>\n",
              "      <td>0</td>\n",
              "      <td>0</td>\n",
              "      <td>0</td>\n",
              "      <td>0</td>\n",
              "      <td>0</td>\n",
              "      <td>0</td>\n",
              "      <td>0</td>\n",
              "      <td>0</td>\n",
              "      <td>0</td>\n",
              "      <td>0</td>\n",
              "      <td>0</td>\n",
              "      <td>0</td>\n",
              "      <td>0</td>\n",
              "      <td>0</td>\n",
              "      <td>0</td>\n",
              "      <td>0</td>\n",
              "      <td>0</td>\n",
              "      <td>0</td>\n",
              "      <td>0</td>\n",
              "      <td>0</td>\n",
              "      <td>0</td>\n",
              "      <td>0</td>\n",
              "      <td>0</td>\n",
              "      <td>0</td>\n",
              "      <td>0</td>\n",
              "      <td>0</td>\n",
              "      <td>0</td>\n",
              "      <td>0</td>\n",
              "      <td>0</td>\n",
              "      <td>1</td>\n",
              "      <td>0</td>\n",
              "      <td>0</td>\n",
              "      <td>0</td>\n",
              "      <td>0</td>\n",
              "      <td>0</td>\n",
              "      <td>0</td>\n",
              "      <td>0</td>\n",
              "      <td>0</td>\n",
              "      <td>0</td>\n",
              "      <td>0</td>\n",
              "    </tr>\n",
              "    <tr>\n",
              "      <th>3</th>\n",
              "      <td>25190.0</td>\n",
              "      <td>1</td>\n",
              "      <td>0</td>\n",
              "      <td>1</td>\n",
              "      <td>0</td>\n",
              "      <td>2</td>\n",
              "      <td>0</td>\n",
              "      <td>4</td>\n",
              "      <td>2</td>\n",
              "      <td>4</td>\n",
              "      <td>5</td>\n",
              "      <td>1.920000</td>\n",
              "      <td>54.998824</td>\n",
              "      <td>73.277923</td>\n",
              "      <td>1154507</td>\n",
              "      <td>0</td>\n",
              "      <td>0</td>\n",
              "      <td>0</td>\n",
              "      <td>0</td>\n",
              "      <td>0</td>\n",
              "      <td>0</td>\n",
              "      <td>0</td>\n",
              "      <td>0</td>\n",
              "      <td>0</td>\n",
              "      <td>0</td>\n",
              "      <td>0</td>\n",
              "      <td>0</td>\n",
              "      <td>0</td>\n",
              "      <td>0</td>\n",
              "      <td>0</td>\n",
              "      <td>0</td>\n",
              "      <td>0</td>\n",
              "      <td>0</td>\n",
              "      <td>0</td>\n",
              "      <td>0</td>\n",
              "      <td>0</td>\n",
              "      <td>0</td>\n",
              "      <td>0</td>\n",
              "      <td>0</td>\n",
              "      <td>0</td>\n",
              "      <td>...</td>\n",
              "      <td>0</td>\n",
              "      <td>0</td>\n",
              "      <td>0</td>\n",
              "      <td>0</td>\n",
              "      <td>0</td>\n",
              "      <td>0</td>\n",
              "      <td>0</td>\n",
              "      <td>0</td>\n",
              "      <td>0</td>\n",
              "      <td>0</td>\n",
              "      <td>0</td>\n",
              "      <td>0</td>\n",
              "      <td>0</td>\n",
              "      <td>0</td>\n",
              "      <td>0</td>\n",
              "      <td>0</td>\n",
              "      <td>0</td>\n",
              "      <td>0</td>\n",
              "      <td>0</td>\n",
              "      <td>0</td>\n",
              "      <td>0</td>\n",
              "      <td>0</td>\n",
              "      <td>0</td>\n",
              "      <td>0</td>\n",
              "      <td>0</td>\n",
              "      <td>0</td>\n",
              "      <td>0</td>\n",
              "      <td>0</td>\n",
              "      <td>0</td>\n",
              "      <td>0</td>\n",
              "      <td>0</td>\n",
              "      <td>0</td>\n",
              "      <td>0</td>\n",
              "      <td>0</td>\n",
              "      <td>0</td>\n",
              "      <td>0</td>\n",
              "      <td>0</td>\n",
              "      <td>0</td>\n",
              "      <td>0</td>\n",
              "      <td>0</td>\n",
              "    </tr>\n",
              "    <tr>\n",
              "      <th>4</th>\n",
              "      <td>33000.0</td>\n",
              "      <td>1</td>\n",
              "      <td>0</td>\n",
              "      <td>3</td>\n",
              "      <td>0</td>\n",
              "      <td>2</td>\n",
              "      <td>0</td>\n",
              "      <td>4</td>\n",
              "      <td>0</td>\n",
              "      <td>1</td>\n",
              "      <td>5</td>\n",
              "      <td>2.421667</td>\n",
              "      <td>56.830672</td>\n",
              "      <td>60.670603</td>\n",
              "      <td>1493749</td>\n",
              "      <td>0</td>\n",
              "      <td>0</td>\n",
              "      <td>0</td>\n",
              "      <td>0</td>\n",
              "      <td>0</td>\n",
              "      <td>0</td>\n",
              "      <td>0</td>\n",
              "      <td>0</td>\n",
              "      <td>0</td>\n",
              "      <td>0</td>\n",
              "      <td>0</td>\n",
              "      <td>0</td>\n",
              "      <td>0</td>\n",
              "      <td>0</td>\n",
              "      <td>0</td>\n",
              "      <td>0</td>\n",
              "      <td>0</td>\n",
              "      <td>0</td>\n",
              "      <td>0</td>\n",
              "      <td>0</td>\n",
              "      <td>0</td>\n",
              "      <td>0</td>\n",
              "      <td>0</td>\n",
              "      <td>0</td>\n",
              "      <td>0</td>\n",
              "      <td>...</td>\n",
              "      <td>0</td>\n",
              "      <td>0</td>\n",
              "      <td>0</td>\n",
              "      <td>0</td>\n",
              "      <td>0</td>\n",
              "      <td>0</td>\n",
              "      <td>0</td>\n",
              "      <td>0</td>\n",
              "      <td>0</td>\n",
              "      <td>0</td>\n",
              "      <td>0</td>\n",
              "      <td>0</td>\n",
              "      <td>0</td>\n",
              "      <td>0</td>\n",
              "      <td>0</td>\n",
              "      <td>0</td>\n",
              "      <td>0</td>\n",
              "      <td>0</td>\n",
              "      <td>0</td>\n",
              "      <td>0</td>\n",
              "      <td>0</td>\n",
              "      <td>0</td>\n",
              "      <td>0</td>\n",
              "      <td>0</td>\n",
              "      <td>0</td>\n",
              "      <td>0</td>\n",
              "      <td>0</td>\n",
              "      <td>0</td>\n",
              "      <td>0</td>\n",
              "      <td>0</td>\n",
              "      <td>0</td>\n",
              "      <td>0</td>\n",
              "      <td>0</td>\n",
              "      <td>0</td>\n",
              "      <td>0</td>\n",
              "      <td>0</td>\n",
              "      <td>0</td>\n",
              "      <td>0</td>\n",
              "      <td>0</td>\n",
              "      <td>1</td>\n",
              "    </tr>\n",
              "    <tr>\n",
              "      <th>...</th>\n",
              "      <td>...</td>\n",
              "      <td>...</td>\n",
              "      <td>...</td>\n",
              "      <td>...</td>\n",
              "      <td>...</td>\n",
              "      <td>...</td>\n",
              "      <td>...</td>\n",
              "      <td>...</td>\n",
              "      <td>...</td>\n",
              "      <td>...</td>\n",
              "      <td>...</td>\n",
              "      <td>...</td>\n",
              "      <td>...</td>\n",
              "      <td>...</td>\n",
              "      <td>...</td>\n",
              "      <td>...</td>\n",
              "      <td>...</td>\n",
              "      <td>...</td>\n",
              "      <td>...</td>\n",
              "      <td>...</td>\n",
              "      <td>...</td>\n",
              "      <td>...</td>\n",
              "      <td>...</td>\n",
              "      <td>...</td>\n",
              "      <td>...</td>\n",
              "      <td>...</td>\n",
              "      <td>...</td>\n",
              "      <td>...</td>\n",
              "      <td>...</td>\n",
              "      <td>...</td>\n",
              "      <td>...</td>\n",
              "      <td>...</td>\n",
              "      <td>...</td>\n",
              "      <td>...</td>\n",
              "      <td>...</td>\n",
              "      <td>...</td>\n",
              "      <td>...</td>\n",
              "      <td>...</td>\n",
              "      <td>...</td>\n",
              "      <td>...</td>\n",
              "      <td>...</td>\n",
              "      <td>...</td>\n",
              "      <td>...</td>\n",
              "      <td>...</td>\n",
              "      <td>...</td>\n",
              "      <td>...</td>\n",
              "      <td>...</td>\n",
              "      <td>...</td>\n",
              "      <td>...</td>\n",
              "      <td>...</td>\n",
              "      <td>...</td>\n",
              "      <td>...</td>\n",
              "      <td>...</td>\n",
              "      <td>...</td>\n",
              "      <td>...</td>\n",
              "      <td>...</td>\n",
              "      <td>...</td>\n",
              "      <td>...</td>\n",
              "      <td>...</td>\n",
              "      <td>...</td>\n",
              "      <td>...</td>\n",
              "      <td>...</td>\n",
              "      <td>...</td>\n",
              "      <td>...</td>\n",
              "      <td>...</td>\n",
              "      <td>...</td>\n",
              "      <td>...</td>\n",
              "      <td>...</td>\n",
              "      <td>...</td>\n",
              "      <td>...</td>\n",
              "      <td>...</td>\n",
              "      <td>...</td>\n",
              "      <td>...</td>\n",
              "      <td>...</td>\n",
              "      <td>...</td>\n",
              "      <td>...</td>\n",
              "      <td>...</td>\n",
              "      <td>...</td>\n",
              "      <td>...</td>\n",
              "      <td>...</td>\n",
              "      <td>...</td>\n",
              "    </tr>\n",
              "    <tr>\n",
              "      <th>39995</th>\n",
              "      <td>32800.0</td>\n",
              "      <td>3</td>\n",
              "      <td>3</td>\n",
              "      <td>1</td>\n",
              "      <td>1</td>\n",
              "      <td>2</td>\n",
              "      <td>0</td>\n",
              "      <td>2</td>\n",
              "      <td>0</td>\n",
              "      <td>2</td>\n",
              "      <td>1</td>\n",
              "      <td>8.548470</td>\n",
              "      <td>64.564203</td>\n",
              "      <td>39.783300</td>\n",
              "      <td>181990</td>\n",
              "      <td>0</td>\n",
              "      <td>0</td>\n",
              "      <td>0</td>\n",
              "      <td>0</td>\n",
              "      <td>0</td>\n",
              "      <td>0</td>\n",
              "      <td>0</td>\n",
              "      <td>0</td>\n",
              "      <td>0</td>\n",
              "      <td>0</td>\n",
              "      <td>0</td>\n",
              "      <td>0</td>\n",
              "      <td>0</td>\n",
              "      <td>0</td>\n",
              "      <td>0</td>\n",
              "      <td>0</td>\n",
              "      <td>0</td>\n",
              "      <td>0</td>\n",
              "      <td>0</td>\n",
              "      <td>0</td>\n",
              "      <td>0</td>\n",
              "      <td>0</td>\n",
              "      <td>0</td>\n",
              "      <td>0</td>\n",
              "      <td>0</td>\n",
              "      <td>...</td>\n",
              "      <td>0</td>\n",
              "      <td>0</td>\n",
              "      <td>0</td>\n",
              "      <td>0</td>\n",
              "      <td>0</td>\n",
              "      <td>0</td>\n",
              "      <td>0</td>\n",
              "      <td>0</td>\n",
              "      <td>0</td>\n",
              "      <td>0</td>\n",
              "      <td>0</td>\n",
              "      <td>0</td>\n",
              "      <td>0</td>\n",
              "      <td>0</td>\n",
              "      <td>0</td>\n",
              "      <td>0</td>\n",
              "      <td>0</td>\n",
              "      <td>0</td>\n",
              "      <td>0</td>\n",
              "      <td>0</td>\n",
              "      <td>0</td>\n",
              "      <td>0</td>\n",
              "      <td>0</td>\n",
              "      <td>0</td>\n",
              "      <td>0</td>\n",
              "      <td>0</td>\n",
              "      <td>0</td>\n",
              "      <td>0</td>\n",
              "      <td>0</td>\n",
              "      <td>0</td>\n",
              "      <td>0</td>\n",
              "      <td>0</td>\n",
              "      <td>0</td>\n",
              "      <td>0</td>\n",
              "      <td>0</td>\n",
              "      <td>0</td>\n",
              "      <td>0</td>\n",
              "      <td>0</td>\n",
              "      <td>0</td>\n",
              "      <td>0</td>\n",
              "    </tr>\n",
              "    <tr>\n",
              "      <th>39996</th>\n",
              "      <td>32900.0</td>\n",
              "      <td>3</td>\n",
              "      <td>3</td>\n",
              "      <td>1</td>\n",
              "      <td>1</td>\n",
              "      <td>2</td>\n",
              "      <td>0</td>\n",
              "      <td>4</td>\n",
              "      <td>2</td>\n",
              "      <td>2</td>\n",
              "      <td>3</td>\n",
              "      <td>1.030000</td>\n",
              "      <td>58.005581</td>\n",
              "      <td>56.121909</td>\n",
              "      <td>1055397</td>\n",
              "      <td>0</td>\n",
              "      <td>0</td>\n",
              "      <td>0</td>\n",
              "      <td>0</td>\n",
              "      <td>0</td>\n",
              "      <td>0</td>\n",
              "      <td>0</td>\n",
              "      <td>0</td>\n",
              "      <td>0</td>\n",
              "      <td>0</td>\n",
              "      <td>0</td>\n",
              "      <td>0</td>\n",
              "      <td>0</td>\n",
              "      <td>0</td>\n",
              "      <td>0</td>\n",
              "      <td>0</td>\n",
              "      <td>0</td>\n",
              "      <td>0</td>\n",
              "      <td>0</td>\n",
              "      <td>0</td>\n",
              "      <td>0</td>\n",
              "      <td>0</td>\n",
              "      <td>0</td>\n",
              "      <td>0</td>\n",
              "      <td>0</td>\n",
              "      <td>...</td>\n",
              "      <td>0</td>\n",
              "      <td>0</td>\n",
              "      <td>0</td>\n",
              "      <td>0</td>\n",
              "      <td>0</td>\n",
              "      <td>0</td>\n",
              "      <td>0</td>\n",
              "      <td>0</td>\n",
              "      <td>0</td>\n",
              "      <td>0</td>\n",
              "      <td>0</td>\n",
              "      <td>0</td>\n",
              "      <td>0</td>\n",
              "      <td>0</td>\n",
              "      <td>0</td>\n",
              "      <td>0</td>\n",
              "      <td>0</td>\n",
              "      <td>0</td>\n",
              "      <td>0</td>\n",
              "      <td>0</td>\n",
              "      <td>0</td>\n",
              "      <td>0</td>\n",
              "      <td>0</td>\n",
              "      <td>0</td>\n",
              "      <td>0</td>\n",
              "      <td>0</td>\n",
              "      <td>0</td>\n",
              "      <td>0</td>\n",
              "      <td>0</td>\n",
              "      <td>0</td>\n",
              "      <td>0</td>\n",
              "      <td>0</td>\n",
              "      <td>0</td>\n",
              "      <td>0</td>\n",
              "      <td>0</td>\n",
              "      <td>0</td>\n",
              "      <td>0</td>\n",
              "      <td>0</td>\n",
              "      <td>0</td>\n",
              "      <td>0</td>\n",
              "    </tr>\n",
              "    <tr>\n",
              "      <th>39997</th>\n",
              "      <td>32900.0</td>\n",
              "      <td>3</td>\n",
              "      <td>3</td>\n",
              "      <td>1</td>\n",
              "      <td>1</td>\n",
              "      <td>2</td>\n",
              "      <td>0</td>\n",
              "      <td>4</td>\n",
              "      <td>2</td>\n",
              "      <td>2</td>\n",
              "      <td>3</td>\n",
              "      <td>1.030000</td>\n",
              "      <td>58.005581</td>\n",
              "      <td>56.121909</td>\n",
              "      <td>1055397</td>\n",
              "      <td>0</td>\n",
              "      <td>0</td>\n",
              "      <td>0</td>\n",
              "      <td>0</td>\n",
              "      <td>0</td>\n",
              "      <td>0</td>\n",
              "      <td>0</td>\n",
              "      <td>0</td>\n",
              "      <td>0</td>\n",
              "      <td>0</td>\n",
              "      <td>0</td>\n",
              "      <td>0</td>\n",
              "      <td>0</td>\n",
              "      <td>0</td>\n",
              "      <td>0</td>\n",
              "      <td>0</td>\n",
              "      <td>0</td>\n",
              "      <td>0</td>\n",
              "      <td>0</td>\n",
              "      <td>0</td>\n",
              "      <td>0</td>\n",
              "      <td>0</td>\n",
              "      <td>0</td>\n",
              "      <td>0</td>\n",
              "      <td>0</td>\n",
              "      <td>...</td>\n",
              "      <td>0</td>\n",
              "      <td>0</td>\n",
              "      <td>0</td>\n",
              "      <td>0</td>\n",
              "      <td>0</td>\n",
              "      <td>0</td>\n",
              "      <td>0</td>\n",
              "      <td>0</td>\n",
              "      <td>0</td>\n",
              "      <td>0</td>\n",
              "      <td>0</td>\n",
              "      <td>0</td>\n",
              "      <td>0</td>\n",
              "      <td>0</td>\n",
              "      <td>0</td>\n",
              "      <td>0</td>\n",
              "      <td>0</td>\n",
              "      <td>0</td>\n",
              "      <td>0</td>\n",
              "      <td>0</td>\n",
              "      <td>0</td>\n",
              "      <td>0</td>\n",
              "      <td>0</td>\n",
              "      <td>0</td>\n",
              "      <td>0</td>\n",
              "      <td>0</td>\n",
              "      <td>0</td>\n",
              "      <td>0</td>\n",
              "      <td>0</td>\n",
              "      <td>0</td>\n",
              "      <td>0</td>\n",
              "      <td>0</td>\n",
              "      <td>0</td>\n",
              "      <td>0</td>\n",
              "      <td>0</td>\n",
              "      <td>0</td>\n",
              "      <td>0</td>\n",
              "      <td>0</td>\n",
              "      <td>0</td>\n",
              "      <td>0</td>\n",
              "    </tr>\n",
              "    <tr>\n",
              "      <th>39998</th>\n",
              "      <td>32900.0</td>\n",
              "      <td>3</td>\n",
              "      <td>3</td>\n",
              "      <td>1</td>\n",
              "      <td>1</td>\n",
              "      <td>2</td>\n",
              "      <td>0</td>\n",
              "      <td>4</td>\n",
              "      <td>2</td>\n",
              "      <td>2</td>\n",
              "      <td>3</td>\n",
              "      <td>1.030000</td>\n",
              "      <td>58.005581</td>\n",
              "      <td>56.121909</td>\n",
              "      <td>1055397</td>\n",
              "      <td>0</td>\n",
              "      <td>0</td>\n",
              "      <td>0</td>\n",
              "      <td>0</td>\n",
              "      <td>0</td>\n",
              "      <td>0</td>\n",
              "      <td>0</td>\n",
              "      <td>0</td>\n",
              "      <td>0</td>\n",
              "      <td>0</td>\n",
              "      <td>0</td>\n",
              "      <td>0</td>\n",
              "      <td>0</td>\n",
              "      <td>0</td>\n",
              "      <td>0</td>\n",
              "      <td>0</td>\n",
              "      <td>0</td>\n",
              "      <td>0</td>\n",
              "      <td>0</td>\n",
              "      <td>0</td>\n",
              "      <td>0</td>\n",
              "      <td>0</td>\n",
              "      <td>0</td>\n",
              "      <td>0</td>\n",
              "      <td>0</td>\n",
              "      <td>...</td>\n",
              "      <td>0</td>\n",
              "      <td>0</td>\n",
              "      <td>0</td>\n",
              "      <td>0</td>\n",
              "      <td>0</td>\n",
              "      <td>0</td>\n",
              "      <td>0</td>\n",
              "      <td>0</td>\n",
              "      <td>0</td>\n",
              "      <td>0</td>\n",
              "      <td>0</td>\n",
              "      <td>0</td>\n",
              "      <td>0</td>\n",
              "      <td>0</td>\n",
              "      <td>0</td>\n",
              "      <td>0</td>\n",
              "      <td>0</td>\n",
              "      <td>0</td>\n",
              "      <td>0</td>\n",
              "      <td>0</td>\n",
              "      <td>0</td>\n",
              "      <td>0</td>\n",
              "      <td>0</td>\n",
              "      <td>0</td>\n",
              "      <td>0</td>\n",
              "      <td>0</td>\n",
              "      <td>0</td>\n",
              "      <td>0</td>\n",
              "      <td>0</td>\n",
              "      <td>0</td>\n",
              "      <td>0</td>\n",
              "      <td>0</td>\n",
              "      <td>0</td>\n",
              "      <td>0</td>\n",
              "      <td>0</td>\n",
              "      <td>0</td>\n",
              "      <td>0</td>\n",
              "      <td>0</td>\n",
              "      <td>0</td>\n",
              "      <td>0</td>\n",
              "    </tr>\n",
              "    <tr>\n",
              "      <th>39999</th>\n",
              "      <td>32900.0</td>\n",
              "      <td>3</td>\n",
              "      <td>3</td>\n",
              "      <td>1</td>\n",
              "      <td>1</td>\n",
              "      <td>2</td>\n",
              "      <td>0</td>\n",
              "      <td>4</td>\n",
              "      <td>2</td>\n",
              "      <td>2</td>\n",
              "      <td>3</td>\n",
              "      <td>1.030000</td>\n",
              "      <td>58.005581</td>\n",
              "      <td>56.121909</td>\n",
              "      <td>1055397</td>\n",
              "      <td>0</td>\n",
              "      <td>0</td>\n",
              "      <td>0</td>\n",
              "      <td>0</td>\n",
              "      <td>0</td>\n",
              "      <td>0</td>\n",
              "      <td>0</td>\n",
              "      <td>0</td>\n",
              "      <td>0</td>\n",
              "      <td>0</td>\n",
              "      <td>0</td>\n",
              "      <td>0</td>\n",
              "      <td>0</td>\n",
              "      <td>0</td>\n",
              "      <td>0</td>\n",
              "      <td>0</td>\n",
              "      <td>0</td>\n",
              "      <td>0</td>\n",
              "      <td>0</td>\n",
              "      <td>0</td>\n",
              "      <td>0</td>\n",
              "      <td>0</td>\n",
              "      <td>0</td>\n",
              "      <td>0</td>\n",
              "      <td>0</td>\n",
              "      <td>...</td>\n",
              "      <td>0</td>\n",
              "      <td>0</td>\n",
              "      <td>0</td>\n",
              "      <td>0</td>\n",
              "      <td>0</td>\n",
              "      <td>0</td>\n",
              "      <td>0</td>\n",
              "      <td>0</td>\n",
              "      <td>0</td>\n",
              "      <td>0</td>\n",
              "      <td>0</td>\n",
              "      <td>0</td>\n",
              "      <td>0</td>\n",
              "      <td>0</td>\n",
              "      <td>0</td>\n",
              "      <td>0</td>\n",
              "      <td>0</td>\n",
              "      <td>0</td>\n",
              "      <td>0</td>\n",
              "      <td>0</td>\n",
              "      <td>0</td>\n",
              "      <td>0</td>\n",
              "      <td>0</td>\n",
              "      <td>0</td>\n",
              "      <td>0</td>\n",
              "      <td>0</td>\n",
              "      <td>0</td>\n",
              "      <td>0</td>\n",
              "      <td>0</td>\n",
              "      <td>0</td>\n",
              "      <td>0</td>\n",
              "      <td>0</td>\n",
              "      <td>0</td>\n",
              "      <td>0</td>\n",
              "      <td>0</td>\n",
              "      <td>0</td>\n",
              "      <td>0</td>\n",
              "      <td>0</td>\n",
              "      <td>0</td>\n",
              "      <td>0</td>\n",
              "    </tr>\n",
              "  </tbody>\n",
              "</table>\n",
              "<p>40000 rows × 197 columns</p>\n",
              "</div>"
            ],
            "text/plain": [
              "       PriceNoTax  YeraNum  ...  Seller_Cat_274  Seller_Cat_275\n",
              "0         32000.0        1  ...               0               0\n",
              "1          7700.0        1  ...               0               1\n",
              "2          7500.0        1  ...               0               0\n",
              "3         25190.0        1  ...               0               0\n",
              "4         33000.0        1  ...               0               1\n",
              "...           ...      ...  ...             ...             ...\n",
              "39995     32800.0        3  ...               0               0\n",
              "39996     32900.0        3  ...               0               0\n",
              "39997     32900.0        3  ...               0               0\n",
              "39998     32900.0        3  ...               0               0\n",
              "39999     32900.0        3  ...               0               0\n",
              "\n",
              "[40000 rows x 197 columns]"
            ]
          },
          "metadata": {
            "tags": []
          },
          "execution_count": 16
        }
      ]
    },
    {
      "cell_type": "code",
      "metadata": {
        "id": "kAcQrN1e609t"
      },
      "source": [
        "X_train, X_test, y_train, y_test = model_selection.train_test_split(X, y, test_size=0.2, shuffle=False)\n",
        "xgb_train = xgb.DMatrix(X_train, label=y_train)\n",
        "xgb_test = xgb.DMatrix(X_test, label=y_test)\n",
        "xgb_hold= xgb.DMatrix(hold_test, label=hold_label)"
      ],
      "execution_count": null,
      "outputs": []
    },
    {
      "cell_type": "code",
      "metadata": {
        "id": "ZTaUKnZO_61O"
      },
      "source": [
        "params = {'max_depth': 50, \n",
        "          'eta': 0.45, \n",
        "          'objective': 'reg:squarederror', \n",
        "          \"subsample\": 1,\n",
        "          'min_child_weight' : 1,\n",
        "          'tree_method' : 'hist'\n",
        "          }"
      ],
      "execution_count": null,
      "outputs": []
    },
    {
      "cell_type": "code",
      "metadata": {
        "id": "J2QPUCXEAJKQ"
      },
      "source": [
        "model_train = xgb.train(params, xgb_train, 2000, evals = [(xgb_test, \"test\")], verbose_eval=100)"
      ],
      "execution_count": null,
      "outputs": []
    },
    {
      "cell_type": "code",
      "metadata": {
        "id": "n1QhIZkyTwlm"
      },
      "source": [
        "train_data, test_data = model_selection.train_test_split(train, train_size=0.8)\n",
        "test_labels=test_data.pop ('Discount').values\n",
        "train_labels=train_data.pop ('Discount').values"
      ],
      "execution_count": null,
      "outputs": []
    },
    {
      "cell_type": "code",
      "metadata": {
        "id": "-7gbrI6JuZQW"
      },
      "source": [
        "myXGB=xgb.XGBRegressor (learning_rate=0.03, verbose=1, n_estimators=1500, min_child_weight=2, n_jobs=3, objective='reg:squarederror', booster='gbtree', tree_method='hist', max_depth=50)\n",
        "myXGB.fit (train_data, train_labels)\n",
        "a=myXGB.predict (test_data)\n",
        "mae=metrics.mean_absolute_error (test_labels, a)\n",
        "        "
      ],
      "execution_count": null,
      "outputs": []
    },
    {
      "cell_type": "code",
      "metadata": {
        "id": "_bDmtdliCuei"
      },
      "source": [
        "a=model_train.predict (xgb_hold)\n",
        "mae=metrics.mean_absolute_error (hold_label, a)"
      ],
      "execution_count": null,
      "outputs": []
    },
    {
      "cell_type": "code",
      "metadata": {
        "colab": {
          "base_uri": "https://localhost:8080/"
        },
        "id": "Fw-D41c4uzeS",
        "outputId": "6cfc3360-a0f2-459f-b752-a358ae0671dd"
      },
      "source": [
        "print ('mae', mae, 'share', len(list_d)/len(diff)*100 )"
      ],
      "execution_count": null,
      "outputs": [
        {
          "output_type": "stream",
          "text": [
            "mae 0.17241318842367598 share 79.12794853466762\n"
          ],
          "name": "stdout"
        }
      ]
    },
    {
      "cell_type": "code",
      "metadata": {
        "id": "1UyUa9q4MuS5"
      },
      "source": [
        "X"
      ],
      "execution_count": null,
      "outputs": []
    },
    {
      "cell_type": "code",
      "metadata": {
        "colab": {
          "base_uri": "https://localhost:8080/"
        },
        "id": "uvsuKXBDo576",
        "outputId": "036ee056-7266-4de3-b426-5f1dc8c77371"
      },
      "source": [
        "myscorer = metrics.make_scorer(my_custom_loss_func, greater_is_better=False)\n",
        "cvs=model_selection.cross_val_score (myXGB, train_data, train_labels, scoring=myscorer, cv=3)\n",
        "cvs"
      ],
      "execution_count": null,
      "outputs": [
        {
          "output_type": "execute_result",
          "data": {
            "text/plain": [
              "array([-8.61384567, -8.01047952, -8.01047952])"
            ]
          },
          "metadata": {
            "tags": []
          },
          "execution_count": 16
        }
      ]
    },
    {
      "cell_type": "code",
      "metadata": {
        "id": "aLmrWuI-3SZg"
      },
      "source": [
        "diff=list(hold_label- a)\n",
        "list_d = [x for x in diff if x <-0.05 or x > 0.05]"
      ],
      "execution_count": null,
      "outputs": []
    },
    {
      "cell_type": "code",
      "metadata": {
        "colab": {
          "base_uri": "https://localhost:8080/"
        },
        "id": "mAXW1sZhTgZv",
        "outputId": "7c13130e-d4d1-46ea-97b6-40571f7ac319"
      },
      "source": [
        "len(list_d)"
      ],
      "execution_count": null,
      "outputs": [
        {
          "output_type": "execute_result",
          "data": {
            "text/plain": [
              "455"
            ]
          },
          "metadata": {
            "tags": []
          },
          "execution_count": 19
        }
      ]
    },
    {
      "cell_type": "code",
      "metadata": {
        "id": "mSqtj4nRc1lH",
        "colab": {
          "base_uri": "https://localhost:8080/"
        },
        "outputId": "30010e84-b247-4710-a6e3-423e8905161f"
      },
      "source": [
        "metrics.r2_score (a, y_test)"
      ],
      "execution_count": null,
      "outputs": [
        {
          "output_type": "execute_result",
          "data": {
            "text/plain": [
              "0.9769958378682042"
            ]
          },
          "metadata": {
            "tags": []
          },
          "execution_count": 18
        }
      ]
    },
    {
      "cell_type": "code",
      "metadata": {
        "id": "xPtMrfr6A3KU",
        "colab": {
          "base_uri": "https://localhost:8080/",
          "height": 520
        },
        "outputId": "3d5079b7-1ea3-4e93-8cf3-d5c5f0352b04"
      },
      "source": [
        "fts=shap.TreeExplainer (model_train).shap_values(X)\n",
        "shap.summary_plot(fts, X) "
      ],
      "execution_count": null,
      "outputs": [
        {
          "output_type": "display_data",
          "data": {
            "image/png": "[encoded data removed]",
            "text/plain": [
              "<Figure size 576x597.6 with 2 Axes>"
            ]
          },
          "metadata": {
            "tags": [],
            "needs_background": "light"
          }
        }
      ]
    },
    {
      "cell_type": "code",
      "metadata": {
        "id": "IsFQm7Z3YVeR"
      },
      "source": [
        "pd.DataFrame(diff*100).plot(kind='hist')"
      ],
      "execution_count": null,
      "outputs": []
    },
    {
      "cell_type": "code",
      "metadata": {
        "id": "sqLrID-yeNqj"
      },
      "source": [
        "fg"
      ],
      "execution_count": null,
      "outputs": []
    },
    {
      "cell_type": "code",
      "metadata": {
        "id": "PyvngcH0YolH",
        "colab": {
          "base_uri": "https://localhost:8080/",
          "height": 180
        },
        "outputId": "c672f9c1-4de1-44c9-d464-8eb111c879ef"
      },
      "source": [
        "xgb.plot_importance (myXGB, ax=None, height=0.6, xlim=None, ylim=None, title='Feature importance', xlabel='F score', ylabel='Features',  \n",
        "                     importance_type='weight',  max_num_features=20, grid=True, show_values=False)"
      ],
      "execution_count": null,
      "outputs": [
        {
          "output_type": "error",
          "ename": "NameError",
          "evalue": "ignored",
          "traceback": [
            "\u001b[0;31m---------------------------------------------------------------------------\u001b[0m",
            "\u001b[0;31mNameError\u001b[0m                                 Traceback (most recent call last)",
            "\u001b[0;32m<ipython-input-23-771e6844c13c>\u001b[0m in \u001b[0;36m<module>\u001b[0;34m()\u001b[0m\n\u001b[0;32m----> 1\u001b[0;31m xgb.plot_importance (myXGB, ax=None, height=0.6, xlim=None, ylim=None, title='Feature importance', xlabel='F score', ylabel='Features',  \n\u001b[0m\u001b[1;32m      2\u001b[0m                      importance_type='weight',  max_num_features=20, grid=True, show_values=False)\n",
            "\u001b[0;31mNameError\u001b[0m: name 'myXGB' is not defined"
          ]
        }
      ]
    },
    {
      "cell_type": "code",
      "metadata": {
        "id": "knW_bvcQYTl0"
      },
      "source": [
        "fg"
      ],
      "execution_count": null,
      "outputs": []
    },
    {
      "cell_type": "code",
      "metadata": {
        "id": "JVg_qA5zcLQl"
      },
      "source": [
        "pred=pd.DataFrame(a)\n",
        "pred"
      ],
      "execution_count": null,
      "outputs": []
    },
    {
      "cell_type": "code",
      "metadata": {
        "id": "dltZlcGTgkrc"
      },
      "source": [
        "y=pd.DataFrame(test_labels)\n",
        "y"
      ],
      "execution_count": null,
      "outputs": []
    },
    {
      "cell_type": "code",
      "metadata": {
        "id": "pvWU54cAjXgt"
      },
      "source": [
        "test=test_data.values"
      ],
      "execution_count": null,
      "outputs": []
    },
    {
      "cell_type": "code",
      "metadata": {
        "id": "oCdb_peQlSsB"
      },
      "source": [
        "cols=test_data.columns.to_list()"
      ],
      "execution_count": null,
      "outputs": []
    },
    {
      "cell_type": "code",
      "metadata": {
        "id": "3yyDaZJvlZwo"
      },
      "source": [
        "cols.append ('Pred')"
      ],
      "execution_count": null,
      "outputs": []
    },
    {
      "cell_type": "code",
      "metadata": {
        "id": "t85MJSqOg2u8"
      },
      "source": [
        "res1=pd.concat([pd.DataFrame(test), res], axis=1, join='inner',  )\n",
        "res1.set_axis(cols, axis=1, inplace=True)"
      ],
      "execution_count": null,
      "outputs": []
    },
    {
      "cell_type": "code",
      "metadata": {
        "id": "U8rJ4HNmnB-F"
      },
      "source": [
        "res1.set_axis(cols, axis=1, inplace=True)"
      ],
      "execution_count": null,
      "outputs": []
    },
    {
      "cell_type": "code",
      "metadata": {
        "id": "ThTbfRTbnDta"
      },
      "source": [
        "res1"
      ],
      "execution_count": null,
      "outputs": []
    },
    {
      "cell_type": "code",
      "metadata": {
        "id": "JzBYdWvCTsYd"
      },
      "source": [
        "pd.DataFrame(diff).plot(kind='hist', bins=40)"
      ],
      "execution_count": null,
      "outputs": []
    },
    {
      "cell_type": "code",
      "metadata": {
        "id": "Z_Yuc4Sk3oYR"
      },
      "source": [
        "sns.histplot (diff, stat='density')"
      ],
      "execution_count": null,
      "outputs": []
    },
    {
      "cell_type": "code",
      "metadata": {
        "id": "rJUZQyOBv2WV"
      },
      "source": [
        "xgb.plot_importance (myXGB, ax=None, height=0.6, xlim=None, ylim=None, title='Feature importance', xlabel='F score', ylabel='Features',  \n",
        "                     importance_type='weight',  max_num_features=20, grid=True, show_values=False)"
      ],
      "execution_count": null,
      "outputs": []
    },
    {
      "cell_type": "code",
      "metadata": {
        "id": "hKoPztFRTC6u"
      },
      "source": [
        "with pd.ExcelWriter('/content/drive/MyDrive/Colab Notebooks/!Samples/New_set_0906_with_SC.xlsx') as writer:\n",
        "    pd.DataFrame (data).to_excel(writer)"
      ],
      "execution_count": null,
      "outputs": []
    },
    {
      "cell_type": "markdown",
      "metadata": {
        "id": "oWXXZohD_19F"
      },
      "source": [
        "А теперь про итоги экспериментов с сужением базы, наиболее оптимальный вариант: это сужение по двум признакам: бюджет и количество конструкций у селлера. Если из датасета выбрать только селлеров у которых свыше 900 конструкций и с оборотами более 10 млн, то алгоритм дает среднее абсолютное отклонение около 1%, при этом доля прогнозов с отклонением не более 5% от образца, составялет около 95%. Этот сегмент составляет около половины всего датасета (14 856 объектов из 28 954)  "
      ]
    },
    {
      "cell_type": "code",
      "metadata": {
        "id": "iNnAnIOOeuM3"
      },
      "source": [
        "standard = preprocessing.StandardScaler().fit(train_data)\n",
        "\n",
        "X_train_normalized = standard.transform(train_data)\n",
        "X_val_normalized = standard.transform(test_data)\n",
        "\n",
        "pc_train = decomposition.PCA(n_components=50).fit(X_train_normalized)\n",
        "\n",
        "plt.figure(figsize=(8, 6))\n",
        "plt.xlabel('n components')\n",
        "plt.ylabel('Explained Variance')\n",
        "plt.title('PCA Explained Variance')\n",
        "plt.plot(range(pc_train.n_components_), pc_train.explained_variance_ratio_);"
      ],
      "execution_count": null,
      "outputs": []
    },
    {
      "cell_type": "code",
      "metadata": {
        "id": "gba_z_uTevda"
      },
      "source": [
        "label = train_labels.tolist()\n",
        "colors = ['red','black']\n",
        "\n",
        "fig = plt.figure(figsize=(8,8))\n",
        "plt.scatter(pc_train.transform(X_train_normalized)[:, 0], pc_train.transform(X_train_normalized)[:, 1], c=label, cmap=matplotlib.colors.ListedColormap(colors))\n",
        "\n",
        "cb = plt.colorbar()\n",
        "loc = np.arange(0,max(label),max(label)/float(len(colors)))\n",
        "cb.set_ticks(loc)\n",
        "cb.set_ticklabels([0, 1])"
      ],
      "execution_count": null,
      "outputs": []
    },
    {
      "cell_type": "code",
      "metadata": {
        "id": "BGL95z3CfnRV"
      },
      "source": [
        "with pd.ExcelWriter('/content/drive/MyDrive/Colab Notebooks/!Samples/New_DataSet_0906_prep_2.xlsx') as writer:\n",
        "   pd.DataFrame (data).to_excel(writer)"
      ],
      "execution_count": null,
      "outputs": []
    }
  ]
}